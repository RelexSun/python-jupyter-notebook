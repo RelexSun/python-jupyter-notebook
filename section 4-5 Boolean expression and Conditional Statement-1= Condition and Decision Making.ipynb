{
 "cells": [
  {
   "cell_type": "code",
   "execution_count": 20,
   "id": "c122d416",
   "metadata": {},
   "outputs": [
    {
     "name": "stdout",
     "output_type": "stream",
     "text": [
      "enter num: 3\n",
      "True\n"
     ]
    }
   ],
   "source": [
    "num = int(input('enter num: '))\n",
    "# if num % 2 != 0:\n",
    "#     print('is this number odd? true')\n",
    "# else:\n",
    "#     print('is this number odd? false')\n",
    "print(num % 2 != 0)"
   ]
  },
  {
   "cell_type": "code",
   "execution_count": 18,
   "id": "002e3c30",
   "metadata": {},
   "outputs": [
    {
     "name": "stdout",
     "output_type": "stream",
     "text": [
      "enter the num: 90\n",
      "False\n"
     ]
    }
   ],
   "source": [
    "num = int(input('enter the num: '))\n",
    "# i = (num % 2 == 0) and (num > 0 and num <= 10)\n",
    "# print(i)\n",
    "print((num % 2 == 0) and (num > 0 and num <= 10))"
   ]
  },
  {
   "cell_type": "code",
   "execution_count": 25,
   "id": "cdb30699",
   "metadata": {},
   "outputs": [
    {
     "name": "stdout",
     "output_type": "stream",
     "text": [
      "enter the year: 2023\n",
      "False\n"
     ]
    }
   ],
   "source": [
    "num = int(input('enter the year: '))\n",
    "print((num % 4 == 0) and (num % 100 == 0) or (num % 400 == 0))"
   ]
  },
  {
   "cell_type": "code",
   "execution_count": 29,
   "id": "c346a08d",
   "metadata": {},
   "outputs": [
    {
     "name": "stdout",
     "output_type": "stream",
     "text": [
      "enter three-digit integer: 100\n",
      "False\n"
     ]
    }
   ],
   "source": [
    "num = int(input('enter three-digit integer: '))\n",
    "print((num % 3 == 0) and (num > 100 and num <=999))"
   ]
  },
  {
   "cell_type": "code",
   "execution_count": 31,
   "id": "db1e0a60",
   "metadata": {},
   "outputs": [
    {
     "name": "stdout",
     "output_type": "stream",
     "text": [
      "enter game score: 1001\n",
      "ur a pro\n"
     ]
    }
   ],
   "source": [
    "score = int(input('enter game score: '))\n",
    "if score > 1000:\n",
    "    print('ur a pro')\n",
    "else:\n",
    "    print(score)"
   ]
  },
  {
   "cell_type": "code",
   "execution_count": 37,
   "id": "4e83a919",
   "metadata": {},
   "outputs": [
    {
     "name": "stdout",
     "output_type": "stream",
     "text": [
      "enter integer: -10\n",
      "-10\n"
     ]
    }
   ],
   "source": [
    "num = int(input('enter integer: '))\n",
    "print(num)\n",
    "if num > 0 and (num >= -100 and num <= 100):\n",
    "    print('num is a natural number.')"
   ]
  },
  {
   "cell_type": "code",
   "execution_count": 43,
   "id": "efd3fff9",
   "metadata": {},
   "outputs": [
    {
     "name": "stdout",
     "output_type": "stream",
     "text": [
      "enter your age: 18\n",
      "Youth\n"
     ]
    }
   ],
   "source": [
    "age = int(input('enter your age: '))\n",
    "if age <= 9:\n",
    "    print('Kid')\n",
    "if age <= 19 and age >= 10:\n",
    "    print('Youth')\n",
    "if age >= 20:\n",
    "    print('adult')"
   ]
  },
  {
   "cell_type": "code",
   "execution_count": null,
   "id": "b6d455fd",
   "metadata": {},
   "outputs": [],
   "source": []
  }
 ],
 "metadata": {
  "kernelspec": {
   "display_name": "Python 3 (ipykernel)",
   "language": "python",
   "name": "python3"
  },
  "language_info": {
   "codemirror_mode": {
    "name": "ipython",
    "version": 3
   },
   "file_extension": ".py",
   "mimetype": "text/x-python",
   "name": "python",
   "nbconvert_exporter": "python",
   "pygments_lexer": "ipython3",
   "version": "3.10.9"
  }
 },
 "nbformat": 4,
 "nbformat_minor": 5
}
