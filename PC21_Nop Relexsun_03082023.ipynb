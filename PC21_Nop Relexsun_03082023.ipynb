{
 "cells": [
  {
   "cell_type": "markdown",
   "id": "c3dc8719",
   "metadata": {},
   "source": [
    "# 71"
   ]
  },
  {
   "cell_type": "code",
   "execution_count": 2,
   "id": "fde441d4",
   "metadata": {},
   "outputs": [
    {
     "name": "stdout",
     "output_type": "stream",
     "text": [
      "51 100\n",
      "3775\n"
     ]
    }
   ],
   "source": [
    "while True :\n",
    "    a, b = input().split()\n",
    "    a, b = int(a), int(b)\n",
    "    if (1<=a<=100 and a<=b) and (1<=b<=100 and a<=b) :\n",
    "        break\n",
    "        \n",
    "print(sum(range(a, b + 1)))"
   ]
  },
  {
   "cell_type": "markdown",
   "id": "172711fa",
   "metadata": {},
   "source": [
    "# 72"
   ]
  },
  {
   "cell_type": "code",
   "execution_count": 6,
   "id": "efb29d93",
   "metadata": {},
   "outputs": [
    {
     "name": "stdout",
     "output_type": "stream",
     "text": [
      "11\n",
      "1 3 5 7 9 11 "
     ]
    }
   ],
   "source": [
    "while True :\n",
    "    n = int(input())\n",
    "    if 1<=n<=100 :\n",
    "        break\n",
    "        \n",
    "for i in range(1, n + 1, 2) :\n",
    "    print(i, end = \" \")"
   ]
  },
  {
   "cell_type": "markdown",
   "id": "159423b4",
   "metadata": {},
   "source": [
    "# 73"
   ]
  },
  {
   "cell_type": "code",
   "execution_count": 7,
   "id": "47603920",
   "metadata": {},
   "outputs": [
    {
     "name": "stdout",
     "output_type": "stream",
     "text": [
      "12\n",
      "6\n"
     ]
    }
   ],
   "source": [
    "while True :\n",
    "    n = int(input())\n",
    "    if 1<=n<=100 :\n",
    "        break\n",
    "count = 0\n",
    "for i in range(1, n + 1) :\n",
    "    if n % i == 0 :\n",
    "        count += 1\n",
    "print(count)"
   ]
  },
  {
   "cell_type": "markdown",
   "id": "ef96c8d1",
   "metadata": {},
   "source": [
    "# 74"
   ]
  },
  {
   "cell_type": "code",
   "execution_count": 14,
   "id": "a593b8d9",
   "metadata": {},
   "outputs": [
    {
     "name": "stdout",
     "output_type": "stream",
     "text": [
      "10\n",
      "23\n"
     ]
    }
   ],
   "source": [
    "while True :\n",
    "    n = int(input())\n",
    "    if 1<=n<=100 :\n",
    "        break\n",
    "llist = []\n",
    "for i in range(1, n) :\n",
    "    if i % 3 == 0 or i % 5 == 0 :\n",
    "        llist.append(i)\n",
    "print(sum(llist))"
   ]
  },
  {
   "cell_type": "markdown",
   "id": "2e3345c1",
   "metadata": {},
   "source": [
    "# 75"
   ]
  },
  {
   "cell_type": "code",
   "execution_count": 15,
   "id": "27da39b6",
   "metadata": {},
   "outputs": [
    {
     "name": "stdout",
     "output_type": "stream",
     "text": [
      "12\n",
      "28\n"
     ]
    }
   ],
   "source": [
    "while True :\n",
    "    n = int(input())\n",
    "    if 1<=n<=pow(10, 6) :\n",
    "        break\n",
    "llist = []\n",
    "for i in range(1, n + 1) :\n",
    "    if n % i == 0 :\n",
    "        llist.append(i)\n",
    "print(sum(llist))"
   ]
  },
  {
   "cell_type": "markdown",
   "id": "4ae0a9f3",
   "metadata": {},
   "source": [
    "# 76"
   ]
  },
  {
   "cell_type": "code",
   "execution_count": 18,
   "id": "0ce2d2ab",
   "metadata": {},
   "outputs": [
    {
     "name": "stdout",
     "output_type": "stream",
     "text": [
      "14\n",
      "3\n"
     ]
    }
   ],
   "source": [
    "while True :\n",
    "    n = int(input())\n",
    "    if 1<=n<=pow(20, 9) :\n",
    "        break\n",
    "\n",
    "count = 0\n",
    "for i in range(1, n) :\n",
    "    if i % 4 == 0 :\n",
    "        count += 1\n",
    "print(count)"
   ]
  },
  {
   "cell_type": "markdown",
   "id": "611811b1",
   "metadata": {},
   "source": [
    "# 77"
   ]
  },
  {
   "cell_type": "code",
   "execution_count": 24,
   "id": "4338c798",
   "metadata": {},
   "outputs": [
    {
     "name": "stdout",
     "output_type": "stream",
     "text": [
      "6\n",
      "PERFECT\n"
     ]
    }
   ],
   "source": [
    "while True :\n",
    "    n = int(input())\n",
    "    if 1<=n<=pow(10, 4) :\n",
    "        break\n",
    "llist = []\n",
    "for i in range(1, n) :\n",
    "    if n % i == 0 :\n",
    "        llist.append(i)\n",
    "\n",
    "if sum(llist) == n :\n",
    "    print('PERFECT')\n",
    "elif sum(llist) < n :\n",
    "    print('DEFICIENT')\n",
    "elif sum(llist) > n :\n",
    "    print('ABUNDANT')\n",
    "\n",
    "\n",
    "        "
   ]
  },
  {
   "cell_type": "markdown",
   "id": "9fd39691",
   "metadata": {},
   "source": [
    "# 78"
   ]
  },
  {
   "cell_type": "code",
   "execution_count": 1,
   "id": "d442c1e8",
   "metadata": {},
   "outputs": [
    {
     "name": "stdout",
     "output_type": "stream",
     "text": [
      "#\n",
      "##\n",
      "###\n",
      "####\n",
      "#####\n"
     ]
    }
   ],
   "source": [
    "for i in range(1, 6) :\n",
    "    print(\"#\" * i)"
   ]
  },
  {
   "cell_type": "markdown",
   "id": "b5b10b85",
   "metadata": {},
   "source": [
    "# 79"
   ]
  },
  {
   "cell_type": "code",
   "execution_count": 25,
   "id": "de1c0534",
   "metadata": {},
   "outputs": [
    {
     "name": "stdout",
     "output_type": "stream",
     "text": [
      "#####\n",
      "####\n",
      "###\n",
      "##\n",
      "#\n"
     ]
    }
   ],
   "source": [
    "for i in range(5, 0, -1) :\n",
    "    print(\"#\" * i)"
   ]
  },
  {
   "cell_type": "markdown",
   "id": "6335e77e",
   "metadata": {},
   "source": [
    "# 80"
   ]
  },
  {
   "cell_type": "code",
   "execution_count": 36,
   "id": "f6fdb368",
   "metadata": {},
   "outputs": [
    {
     "name": "stdout",
     "output_type": "stream",
     "text": [
      "     #\n",
      "    ##\n",
      "   ###\n",
      "  ####\n",
      " #####\n"
     ]
    }
   ],
   "source": [
    "for i in range(1, 6) :\n",
    "    j = \" \" * (6-i)\n",
    "    k = \"#\" * i\n",
    "    print(j + k)"
   ]
  },
  {
   "cell_type": "markdown",
   "id": "ac2b668e",
   "metadata": {},
   "source": [
    "# 81"
   ]
  },
  {
   "cell_type": "code",
   "execution_count": 37,
   "id": "0aa17461",
   "metadata": {},
   "outputs": [
    {
     "name": "stdout",
     "output_type": "stream",
     "text": [
      " #####\n",
      "  ####\n",
      "   ###\n",
      "    ##\n",
      "     #\n"
     ]
    }
   ],
   "source": [
    "for i in range(5, 0, -1) :\n",
    "    j = \" \" * (6-i)\n",
    "    k = \"#\" * i\n",
    "    print(j + k)"
   ]
  },
  {
   "cell_type": "markdown",
   "id": "d4d35435",
   "metadata": {},
   "source": [
    "# 82"
   ]
  },
  {
   "cell_type": "code",
   "execution_count": 39,
   "id": "4a697769",
   "metadata": {},
   "outputs": [
    {
     "name": "stdout",
     "output_type": "stream",
     "text": [
      "     #\n",
      "    ###\n",
      "   #####\n",
      "  #######\n",
      " #########\n"
     ]
    }
   ],
   "source": [
    "for i in range(1, 6) :\n",
    "    j = \" \" * (6 - i)\n",
    "    k = \"#\" * (2 * i -1)\n",
    "    print(j + k)"
   ]
  },
  {
   "cell_type": "markdown",
   "id": "a613fe68",
   "metadata": {},
   "source": [
    "# 83"
   ]
  },
  {
   "cell_type": "code",
   "execution_count": 40,
   "id": "983478af",
   "metadata": {},
   "outputs": [
    {
     "name": "stdout",
     "output_type": "stream",
     "text": [
      " #########\n",
      "  #######\n",
      "   #####\n",
      "    ###\n",
      "     #\n"
     ]
    }
   ],
   "source": [
    "for i in range(5, 0, -1) :\n",
    "    j = \" \" * (6 - i)\n",
    "    k = \"#\" * (2 * i -1)\n",
    "    print(j + k)"
   ]
  },
  {
   "cell_type": "markdown",
   "id": "bc3e77c3",
   "metadata": {},
   "source": [
    "# 84"
   ]
  },
  {
   "cell_type": "code",
   "execution_count": 43,
   "id": "394147b3",
   "metadata": {},
   "outputs": [
    {
     "name": "stdout",
     "output_type": "stream",
     "text": [
      "20\n",
      "1 1 3\n",
      "2 2 2\n",
      "3 3 1\n",
      "6 1 1\n",
      "4\n"
     ]
    }
   ],
   "source": [
    "while True :\n",
    "    G = int(input())\n",
    "    if 1<=G<=50 :\n",
    "        break\n",
    "        \n",
    "count = 0\n",
    "for i in range(1, 10) :\n",
    "    for j in range(1, 10) :\n",
    "        for k in range(1, 10) :\n",
    "            if i * 2 + j * 3 + k * 5 == G :\n",
    "                count += 1\n",
    "                print(i, j, k)\n",
    "print(count)"
   ]
  },
  {
   "cell_type": "markdown",
   "id": "e9c29551",
   "metadata": {},
   "source": [
    "# 85"
   ]
  },
  {
   "cell_type": "code",
   "execution_count": 140,
   "id": "0924364a",
   "metadata": {},
   "outputs": [
    {
     "name": "stdout",
     "output_type": "stream",
     "text": [
      "10\n",
      "1                  1\n",
      "12                21\n",
      "123              321\n",
      "1234            4321\n",
      "12345          54321\n",
      "123456        654321\n",
      "1234567      7654321\n",
      "12345678    87654321\n",
      "123456789  987654321\n",
      "12345678910987654321\n",
      "123456789  987654321\n",
      "12345678    87654321\n",
      "1234567      7654321\n",
      "123456        654321\n",
      "12345          54321\n",
      "1234            4321\n",
      "123              321\n",
      "12                21\n",
      "1                  1\n"
     ]
    }
   ],
   "source": [
    "while True :\n",
    "    n = int(input())\n",
    "    if 1<=n<=10 :\n",
    "        break\n",
    "        \n",
    "for i in range(1, n + 1) :\n",
    "    s = 1\n",
    "    k = 1\n",
    "    for j in range(1, i + 1) :\n",
    "        print(s, end ='')\n",
    "        s += 1\n",
    "        k += 1\n",
    "    if n >= 10 :\n",
    "        space = 2 * (n - i) + 1\n",
    "    else :\n",
    "        space = 2 * (n - i)\n",
    "    for j in range(2, space + 1) :\n",
    "        print(\" \", end ='')\n",
    "    k -= 0\n",
    "    for j in range(1, i + 1) :\n",
    "        k -= 1\n",
    "        if k < n :\n",
    "            print(k, end ='')\n",
    "        \n",
    "    print()\n",
    "    \n",
    "for i in range(n - 1, 0, -1) :\n",
    "    s = 1\n",
    "    k = 1\n",
    "    for j in range(1, i + 1) :\n",
    "        print(s, end ='')\n",
    "        s += 1\n",
    "        k += 1\n",
    "    if n >= 10 :\n",
    "        space = 2 * (n - i) + 1\n",
    "    else :\n",
    "        space = 2 * (n - i)\n",
    "    for j in range(2, space + 1) :\n",
    "        print(\" \", end ='')\n",
    "    k -= 0\n",
    "    for j in range(1, i + 1) :\n",
    "        k -= 1\n",
    "        if k < n :\n",
    "            print(k, end ='')\n",
    "        \n",
    "    print()"
   ]
  },
  {
   "cell_type": "markdown",
   "id": "da9a71a3",
   "metadata": {},
   "source": [
    "# 86"
   ]
  },
  {
   "cell_type": "code",
   "execution_count": 147,
   "id": "501bf9f8",
   "metadata": {},
   "outputs": [
    {
     "name": "stdout",
     "output_type": "stream",
     "text": [
      "1250\n",
      "8750\n",
      "7500\n",
      "6250\n",
      "5000\n",
      "3750\n",
      "2500\n",
      "1250\n",
      "0\n",
      "8\n"
     ]
    }
   ],
   "source": [
    "while True :\n",
    "    a = int(input())\n",
    "    if 1<=a<=pow(10, 4) :\n",
    "        break\n",
    "\n",
    "sumA = 10000\n",
    "count = 0\n",
    "while sumA > 0 :\n",
    "    sumA -= a\n",
    "    count += 1\n",
    "    print(sumA)\n",
    "\n",
    "print(count)\n",
    "    \n",
    "    "
   ]
  },
  {
   "cell_type": "markdown",
   "id": "58364bf0",
   "metadata": {},
   "source": [
    "# 87"
   ]
  },
  {
   "cell_type": "code",
   "execution_count": 2,
   "id": "911c72bf",
   "metadata": {},
   "outputs": [
    {
     "name": "stdout",
     "output_type": "stream",
     "text": [
      "150 50 1000 100\n",
      "450\n"
     ]
    }
   ],
   "source": [
    "while True :\n",
    "    a, b, c, d = input().split()\n",
    "    a, b, c, d = int(a), int(b), int(c), int(d)\n",
    "    if (a and b and c and d) <= pow(10, 4) :\n",
    "        break\n",
    "        \n",
    "while True :\n",
    "    a += b\n",
    "    c -= d\n",
    "    if a >= c :\n",
    "        break\n",
    "    \n",
    "print(a)"
   ]
  },
  {
   "cell_type": "markdown",
   "id": "0e422664",
   "metadata": {},
   "source": [
    "# 88"
   ]
  },
  {
   "cell_type": "code",
   "execution_count": 3,
   "id": "e1e67747",
   "metadata": {},
   "outputs": [
    {
     "name": "stdout",
     "output_type": "stream",
     "text": [
      "5 3\n",
      "7\n"
     ]
    }
   ],
   "source": [
    "while True :\n",
    "    bottles, exchange = input().split()\n",
    "    bottles, exchange = int(bottles), int(exchange)    \n",
    "    if 1<=bottles<=pow(10, 9) and exchange > 1 :\n",
    "        break\n",
    "\n",
    "\n",
    "# count = bottles\n",
    "# while True :\n",
    "#     bottles = bottles - exchange + 1\n",
    "#     count += 1\n",
    "#     if bottles <= exchange :\n",
    "#         break\n",
    "# print(count)\n",
    "count = 0\n",
    "total = bottles\n",
    "while bottles > 0 :\n",
    "    bottles = bottles - exchange\n",
    "    count += 1\n",
    "    \n",
    "print(total + count)"
   ]
  },
  {
   "cell_type": "markdown",
   "id": "41bd860d",
   "metadata": {},
   "source": [
    "# 89"
   ]
  },
  {
   "cell_type": "code",
   "execution_count": 3,
   "id": "9962ba28",
   "metadata": {},
   "outputs": [
    {
     "name": "stdout",
     "output_type": "stream",
     "text": [
      "8\n",
      "0\n"
     ]
    }
   ],
   "source": [
    "while True :\n",
    "    n = int(input())\n",
    "    if 1 <= n <= pow(10, 4) :\n",
    "        break\n",
    "\n",
    "coins = []\n",
    "sumA = 0\n",
    "for i in range(1, n + 1) :\n",
    "    sumA += i\n",
    "    \n",
    "    if sumA == n :\n",
    "        for j in range(1, i + 1) :\n",
    "            coins.append(j**2)\n",
    "            \n",
    "\n",
    "print(sum(coins))        \n",
    "\n",
    "        \n"
   ]
  },
  {
   "cell_type": "markdown",
   "id": "75777cb1",
   "metadata": {},
   "source": [
    "# 90"
   ]
  },
  {
   "cell_type": "code",
   "execution_count": 44,
   "id": "77037927",
   "metadata": {},
   "outputs": [
    {
     "name": "stdout",
     "output_type": "stream",
     "text": [
      "4\n",
      "30\n"
     ]
    }
   ],
   "source": [
    "while True :\n",
    "    n = int(input())\n",
    "    if 1 <= n <= 100 :\n",
    "        break\n",
    "\n",
    "sumA = []\n",
    "for i in range(1, n + 1) :\n",
    "    sumA.append(i**2)\n",
    "print(sum(sumA))"
   ]
  },
  {
   "cell_type": "markdown",
   "id": "f7f08ab7",
   "metadata": {},
   "source": [
    "# 91"
   ]
  },
  {
   "cell_type": "code",
   "execution_count": 6,
   "id": "ebb9e972",
   "metadata": {},
   "outputs": [
    {
     "name": "stdout",
     "output_type": "stream",
     "text": [
      "5\n",
      "55\n"
     ]
    }
   ],
   "source": [
    "n = int(input())\n",
    "\n",
    "sumA = []\n",
    "\n",
    "for i in range(1, n + 1) :\n",
    "    sumA.append(i**2)\n",
    "print(sum(sumA))"
   ]
  },
  {
   "cell_type": "markdown",
   "id": "a6d44fad",
   "metadata": {},
   "source": [
    "# 92"
   ]
  },
  {
   "cell_type": "code",
   "execution_count": 56,
   "id": "7e749ed5",
   "metadata": {},
   "outputs": [
    {
     "name": "stdout",
     "output_type": "stream",
     "text": [
      "50 60\n",
      "-1\n"
     ]
    }
   ],
   "source": [
    "while True :\n",
    "    a, b = input().split()\n",
    "    a, b = int(a), int(b)\n",
    "    if 1 <= a <= b <= 10000 :\n",
    "        break\n",
    "count = 0\n",
    "sumA = []\n",
    "for i in range(a, b + 1) :\n",
    "    if i**2 == b :\n",
    "        count += 1\n",
    "    if i**2 <= b :\n",
    "        sumA.append(i**2)\n",
    "\n",
    "\n",
    "if count > 0 :\n",
    "    print(sum(sumA))\n",
    "    print(count)\n",
    "    \n",
    "else :\n",
    "    print('-1')\n",
    "\n",
    "\n",
    "    \n"
   ]
  },
  {
   "cell_type": "markdown",
   "id": "48d1c9b9",
   "metadata": {},
   "source": [
    "# 93"
   ]
  },
  {
   "cell_type": "code",
   "execution_count": 6,
   "id": "31a6c42d",
   "metadata": {},
   "outputs": [
    {
     "name": "stdout",
     "output_type": "stream",
     "text": [
      "5\n",
      "2\n"
     ]
    }
   ],
   "source": [
    "n = int(input())\n",
    "count = 0\n",
    "for i in range(1, n + 1) :\n",
    "    if i % 2 == 0 :\n",
    "        count += 1\n",
    "print(count)"
   ]
  },
  {
   "cell_type": "markdown",
   "id": "0a2822f3",
   "metadata": {},
   "source": [
    "# 94"
   ]
  },
  {
   "cell_type": "code",
   "execution_count": 9,
   "id": "aa51272b",
   "metadata": {},
   "outputs": [
    {
     "name": "stdout",
     "output_type": "stream",
     "text": [
      "25\n",
      "5\n"
     ]
    }
   ],
   "source": [
    "import math as m\n",
    "while True :\n",
    "    n = int(input())\n",
    "    if 1 <= n <= pow(20, 9) :\n",
    "        break\n",
    "        \n",
    "print(\"{:.0f}\".format(m.sqrt(n)))"
   ]
  },
  {
   "cell_type": "markdown",
   "id": "27032b42",
   "metadata": {},
   "source": [
    "# 95"
   ]
  },
  {
   "cell_type": "code",
   "execution_count": 103,
   "id": "dedc66b7",
   "metadata": {},
   "outputs": [
    {
     "name": "stdout",
     "output_type": "stream",
     "text": [
      "120\n",
      "Normal Number\n"
     ]
    }
   ],
   "source": [
    "n = int(input())\n",
    "org = n\n",
    "reverse_n = 0\n",
    "while n > 0 :\n",
    "    reverse_n = reverse_n * 10 + n % 10\n",
    "    n //= 10\n",
    "    \n",
    "if org == reverse_n :\n",
    "    print(\"Palindrome Number\")\n",
    "else :\n",
    "    print('Normal Number')"
   ]
  },
  {
   "cell_type": "markdown",
   "id": "661572ab",
   "metadata": {},
   "source": [
    "# 96"
   ]
  },
  {
   "cell_type": "code",
   "execution_count": 16,
   "id": "dff807e3",
   "metadata": {},
   "outputs": [
    {
     "name": "stdout",
     "output_type": "stream",
     "text": [
      "2 3 5 7 11 \n",
      "13 17 19 23 29 \n",
      "31 37 41 43 47 \n",
      "53 59 61 67 71 \n",
      "73 79 83 89 97 \n"
     ]
    }
   ],
   "source": [
    "llist = []\n",
    "\n",
    "for i in range(1, 101) :\n",
    "    count = 0\n",
    "    for j in range(1, 101) :\n",
    "        if i % j == 0 :\n",
    "            count += 1\n",
    "            \n",
    "    if count == 2 :\n",
    "        llist.append(i)\n",
    "            \n",
    "\n",
    "align = 5\n",
    "for i in range(1, 6) :\n",
    "    print(*llist[align - 5:align], end = \" \")\n",
    "    align += 5\n",
    "   \n",
    "    print()\n",
    "  "
   ]
  },
  {
   "cell_type": "markdown",
   "id": "5030a1ad",
   "metadata": {},
   "source": [
    "# 97"
   ]
  },
  {
   "cell_type": "code",
   "execution_count": null,
   "id": "8e30ca8a",
   "metadata": {},
   "outputs": [],
   "source": [
    "llist = []\n",
    "\n",
    "for i in range(1, 101) :\n",
    "    if i % 2 == 0 :\n",
    "        llist.append(i)\n",
    "\n",
    "n_list = []\n",
    "sumA = 0\n",
    "while True :\n",
    "    for i in llist :\n",
    "        sumA += i\n",
    "        n_list.append(i)\n",
    "    if sumA < 60 :\n",
    "        print(sumA)\n",
    "        break\n",
    "    \n",
    "print(n_list)\n",
    "        \n",
    "    \n",
    "    "
   ]
  },
  {
   "cell_type": "markdown",
   "id": "f3627f86",
   "metadata": {},
   "source": [
    "# 98"
   ]
  },
  {
   "cell_type": "code",
   "execution_count": 10,
   "id": "70e035f6",
   "metadata": {},
   "outputs": [
    {
     "name": "stdout",
     "output_type": "stream",
     "text": [
      "1 2\n",
      "2 3\n",
      "3 4\n",
      "4 5\n",
      "0 0\n",
      "9\n"
     ]
    }
   ],
   "source": [
    "llist = []\n",
    "while True :\n",
    "    a, b = input().split()\n",
    "    a, b = int(a), int(b)\n",
    "    \n",
    "    \n",
    "    if 1 <= a <= b <= 10000 :\n",
    "        c = a + b\n",
    "        llist.append(c)\n",
    "        \n",
    "    elif a == 0 and b == 0 :\n",
    "        break\n",
    "    \n",
    "print(max(llist))  \n",
    "\n",
    "\n",
    "    "
   ]
  },
  {
   "cell_type": "markdown",
   "id": "ccd9a577",
   "metadata": {},
   "source": [
    "# 99"
   ]
  },
  {
   "cell_type": "code",
   "execution_count": 19,
   "id": "cf96d096",
   "metadata": {},
   "outputs": [
    {
     "name": "stdout",
     "output_type": "stream",
     "text": [
      "1 2 3 5 7 11 13 17 19 23 25 29 31 35 37 41 43 47 49 53 55 59 61 65 67 71 73 77 79 83 85 89 91 95 97\n"
     ]
    }
   ],
   "source": [
    "count = 0\n",
    "lst = [2, 3]\n",
    "for i in range(1, 100) :\n",
    "    if i % 2 == 0 or i % 3 == 0 :\n",
    "        continue\n",
    "    lst.append(i)\n",
    "    count += 1\n",
    "    if count == 10 :\n",
    "        count = 0 \n",
    "print(*sorted(lst))"
   ]
  },
  {
   "cell_type": "markdown",
   "id": "f25dba3c",
   "metadata": {},
   "source": [
    "# 100"
   ]
  },
  {
   "cell_type": "code",
   "execution_count": 33,
   "id": "93ee88d1",
   "metadata": {},
   "outputs": [
    {
     "name": "stdout",
     "output_type": "stream",
     "text": [
      "5 3\n",
      "6 2\n",
      "7 2\n",
      "5 3\n",
      "5 4\n",
      "0 4\n",
      "0 6\n",
      "0 0\n",
      "5\n"
     ]
    }
   ],
   "source": [
    "llist = []\n",
    "count = 0\n",
    "while True :\n",
    "    a, b = input().split()\n",
    "    a, b = int(a), int(b)\n",
    "    \n",
    "    \n",
    "    if 1 <= a <= 10 or 1 <= b <= 10  :\n",
    "        c = a + b\n",
    "        \n",
    "        llist.append(c)\n",
    "            \n",
    "    elif (a == 0 and b == 0) or (a > 10 and b > 10) :\n",
    "        break\n",
    "\n",
    "for i in llist :\n",
    "    if i >= 8 :\n",
    "        count += 1\n",
    "print(count)"
   ]
  },
  {
   "cell_type": "markdown",
   "id": "4f629f0b",
   "metadata": {},
   "source": [
    "# 101"
   ]
  },
  {
   "cell_type": "code",
   "execution_count": 35,
   "id": "04cceac1",
   "metadata": {},
   "outputs": [
    {
     "name": "stdout",
     "output_type": "stream",
     "text": [
      "70\n"
     ]
    }
   ],
   "source": [
    "llist = [4, 7, 6, 8, 11, -3, 8, 11, 5, 13]\n",
    "\n",
    "print(sum(llist))"
   ]
  },
  {
   "cell_type": "markdown",
   "id": "cb2e683e",
   "metadata": {},
   "source": [
    "# 102"
   ]
  },
  {
   "cell_type": "code",
   "execution_count": 37,
   "id": "a7da8d78",
   "metadata": {},
   "outputs": [
    {
     "name": "stdout",
     "output_type": "stream",
     "text": [
      "20\n"
     ]
    }
   ],
   "source": [
    "llist = [5, 7, 13, 11, 6, 10, 45, 11, 4, 9]\n",
    "sumA = 0\n",
    "for i in llist :\n",
    "    if i % 2 == 0 :\n",
    "        sumA += i\n",
    "print(sumA)"
   ]
  },
  {
   "cell_type": "markdown",
   "id": "837f6947",
   "metadata": {},
   "source": [
    "# 103"
   ]
  },
  {
   "cell_type": "code",
   "execution_count": null,
   "id": "85da4282",
   "metadata": {},
   "outputs": [
    {
     "ename": "",
     "evalue": "",
     "output_type": "error",
     "traceback": [
      "\u001b[1;31mRunning cells with '/usr/local/bin/python3' requires the ipykernel package.\n",
      "\u001b[1;31mRun the following command to install 'ipykernel' into the Python environment. \n",
      "\u001b[1;31mCommand: '/usr/local/bin/python3 -m pip install ipykernel -U --user --force-reinstall'"
     ]
    }
   ],
   "source": [
    "n = input().split()\n",
    "k = n[0]\n",
    "q = n[1]\n",
    "r = n[2]\n",
    "b = n[3]\n",
    "kn = n[4]\n",
    "p = n[5]\n",
    "\n",
    "for i in n :\n",
    "    i = int(i)\n",
    "    \n",
    "    \n",
    "    \n"
   ]
  },
  {
   "cell_type": "markdown",
   "id": "da7e5b1e",
   "metadata": {},
   "source": [
    "# 104"
   ]
  },
  {
   "cell_type": "code",
   "execution_count": 66,
   "id": "24aac15e",
   "metadata": {},
   "outputs": [
    {
     "name": "stdout",
     "output_type": "stream",
     "text": [
      "123 234 345\n",
      "9929790\n",
      "9\n",
      "9\n",
      "2\n",
      "9\n",
      "7\n",
      "9\n",
      "0\n"
     ]
    }
   ],
   "source": [
    "a, b, c = input().split()\n",
    "a, b, c = int(a), int(b), int(c)\n",
    "total = a * b * c\n",
    "print(total)\n",
    "\n",
    "total = list(str(total))\n",
    "\n",
    "for i in total :\n",
    "    if i "
   ]
  },
  {
   "cell_type": "markdown",
   "id": "1f0a21cf",
   "metadata": {},
   "source": [
    "# 105"
   ]
  },
  {
   "cell_type": "code",
   "execution_count": 47,
   "id": "63fbc758",
   "metadata": {},
   "outputs": [
    {
     "name": "stdout",
     "output_type": "stream",
     "text": [
      "2500\n"
     ]
    }
   ],
   "source": [
    "llist = tuple(list(range(1, 100, 2)))\n",
    "print(sum(llist))\n"
   ]
  },
  {
   "cell_type": "markdown",
   "id": "76669ec0",
   "metadata": {},
   "source": [
    "# 106"
   ]
  },
  {
   "cell_type": "code",
   "execution_count": 58,
   "id": "c0c97a43",
   "metadata": {},
   "outputs": [
    {
     "name": "stdout",
     "output_type": "stream",
     "text": [
      "[2, 3, 4, 5, 6, 7, 8, 9, 10, 1]\n"
     ]
    }
   ],
   "source": [
    "llist = [1, 2, 3, 4, 5, 6, 7, 8, 9, 10]\n",
    "llist = llist[1:] + llist[:1]\n",
    "print(llist)"
   ]
  },
  {
   "cell_type": "markdown",
   "id": "fc08fe2f",
   "metadata": {},
   "source": [
    "# 107"
   ]
  },
  {
   "cell_type": "code",
   "execution_count": 57,
   "id": "753bbf7c",
   "metadata": {},
   "outputs": [
    {
     "name": "stdout",
     "output_type": "stream",
     "text": [
      "[10, 1, 2, 3, 4, 5, 6, 7, 8, 9]\n"
     ]
    }
   ],
   "source": [
    "llist = [1, 2, 3, 4, 5, 6, 7, 8, 9, 10]\n",
    "llist = llist[-1:] + llist[:-1]\n",
    "print(llist)"
   ]
  },
  {
   "cell_type": "markdown",
   "id": "054c0d25",
   "metadata": {},
   "source": [
    "# 108"
   ]
  },
  {
   "cell_type": "code",
   "execution_count": 61,
   "id": "eaf506a7",
   "metadata": {},
   "outputs": [
    {
     "name": "stdout",
     "output_type": "stream",
     "text": [
      "20211224\n",
      "2021Y 12M 24D\n"
     ]
    }
   ],
   "source": [
    "n = input()\n",
    "\n",
    "print(\"{}Y {}M {}D\".format(n[:4], n[4:6], n[6:]))"
   ]
  },
  {
   "cell_type": "markdown",
   "id": "4b0d5535",
   "metadata": {},
   "source": [
    "# 109"
   ]
  },
  {
   "cell_type": "code",
   "execution_count": 3,
   "id": "fbb525c9",
   "metadata": {},
   "outputs": [
    {
     "name": "stdout",
     "output_type": "stream",
     "text": [
      "4 2\n",
      "0 0 0 0\n",
      "0\n"
     ]
    }
   ],
   "source": []
  },
  {
   "cell_type": "markdown",
   "id": "da3f8836",
   "metadata": {},
   "source": [
    "# 110"
   ]
  },
  {
   "cell_type": "code",
   "execution_count": 4,
   "id": "1f677bf0",
   "metadata": {},
   "outputs": [
    {
     "name": "stdout",
     "output_type": "stream",
     "text": [
      "10\n",
      "3\n",
      "4\n",
      "6\n",
      "2\n",
      "28\n"
     ]
    }
   ],
   "source": []
  },
  {
   "cell_type": "markdown",
   "id": "bbe84a36",
   "metadata": {},
   "source": [
    "# 111"
   ]
  },
  {
   "cell_type": "code",
   "execution_count": 96,
   "id": "da4df274",
   "metadata": {},
   "outputs": [
    {
     "name": "stdout",
     "output_type": "stream",
     "text": [
      "6\n",
      "5 2 4 1 7 5\n",
      "5\n"
     ]
    }
   ],
   "source": [
    "a = int(input())\n",
    "while True :\n",
    "    n = input().split()\n",
    "    if len(n) == a :\n",
    "        break\n",
    "count = 0\n",
    "for i in n :\n",
    "    i = int(i)\n",
    "    if i - 4 != 0 :\n",
    "        count += 1\n",
    "print(count)"
   ]
  },
  {
   "cell_type": "markdown",
   "id": "7e170400",
   "metadata": {},
   "source": [
    "# 112"
   ]
  },
  {
   "cell_type": "code",
   "execution_count": 6,
   "id": "8292d996",
   "metadata": {},
   "outputs": [
    {
     "name": "stdout",
     "output_type": "stream",
     "text": [
      "5\n",
      "1 3 3 4 5\n",
      "1 5 3 7 9 "
     ]
    }
   ],
   "source": [
    "a = int(input())\n",
    "llist = []\n",
    "while True :\n",
    "    n = input().split()\n",
    "    llist.append(n)\n",
    "    if len(n) == a :\n",
    "        break\n",
    "\n",
    "for i in llist :\n",
    "    "
   ]
  },
  {
   "cell_type": "markdown",
   "id": "bc4cd327",
   "metadata": {},
   "source": [
    "# 113"
   ]
  },
  {
   "cell_type": "code",
   "execution_count": 7,
   "id": "c1671a92",
   "metadata": {},
   "outputs": [
    {
     "name": "stdout",
     "output_type": "stream",
     "text": [
      "1 4 3 2 9 7 18 22 0\n",
      "3\n"
     ]
    }
   ],
   "source": []
  },
  {
   "cell_type": "markdown",
   "id": "d0cc2e2d",
   "metadata": {},
   "source": [
    "# 114"
   ]
  },
  {
   "cell_type": "code",
   "execution_count": 8,
   "id": "6d6960c1",
   "metadata": {},
   "outputs": [
    {
     "name": "stdout",
     "output_type": "stream",
     "text": [
      "24 2\n",
      "1 1\n",
      "1 2\n",
      "2 1\n",
      "2 2\n",
      "3 1\n",
      "3 2\n",
      "4 1\n",
      "4 2\n",
      "6 1\n",
      "6 2\n",
      "8 1\n",
      "8 2\n",
      "12 1\n",
      "12 2\n",
      "24 1\n",
      "24 2\n"
     ]
    }
   ],
   "source": []
  },
  {
   "cell_type": "markdown",
   "id": "f84decb2",
   "metadata": {},
   "source": [
    "# 115"
   ]
  },
  {
   "cell_type": "code",
   "execution_count": 9,
   "id": "fec3d2bc",
   "metadata": {},
   "outputs": [
    {
     "name": "stdout",
     "output_type": "stream",
     "text": [
      "123 45\n",
      "54\n"
     ]
    }
   ],
   "source": []
  },
  {
   "cell_type": "markdown",
   "id": "07e45c11",
   "metadata": {},
   "source": [
    "# 116"
   ]
  },
  {
   "cell_type": "code",
   "execution_count": 10,
   "id": "5674ae51",
   "metadata": {},
   "outputs": [
    {
     "name": "stdout",
     "output_type": "stream",
     "text": [
      "77\n",
      "-99\n",
      "98\n"
     ]
    }
   ],
   "source": []
  },
  {
   "cell_type": "markdown",
   "id": "2b082f78",
   "metadata": {},
   "source": [
    "# 117"
   ]
  },
  {
   "cell_type": "code",
   "execution_count": 11,
   "id": "cf7647d9",
   "metadata": {},
   "outputs": [
    {
     "name": "stdout",
     "output_type": "stream",
     "text": [
      "10\n",
      "20\n",
      "30\n",
      "40\n",
      "50\n",
      "60\n",
      "70\n",
      "80\n",
      "90\n",
      "90\n",
      "9\n"
     ]
    }
   ],
   "source": []
  },
  {
   "cell_type": "markdown",
   "id": "b9ba696b",
   "metadata": {},
   "source": [
    "# 118"
   ]
  },
  {
   "cell_type": "code",
   "execution_count": 12,
   "id": "a85c5dcf",
   "metadata": {},
   "outputs": [
    {
     "name": "stdout",
     "output_type": "stream",
     "text": [
      "4 4 3 3\n",
      "5 4 3 5\n",
      "5 5 2 4\n",
      "5 5 5 1\n",
      "4 4 4 4\n",
      "2 17\n"
     ]
    }
   ],
   "source": []
  },
  {
   "cell_type": "markdown",
   "id": "709d72d9",
   "metadata": {},
   "source": [
    "# 119"
   ]
  },
  {
   "cell_type": "code",
   "execution_count": 13,
   "id": "2862801e",
   "metadata": {},
   "outputs": [
    {
     "name": "stdout",
     "output_type": "stream",
     "text": [
      "5\n",
      "512\n",
      "532\n",
      "532\n",
      "585\n",
      "599\n",
      "532\n"
     ]
    }
   ],
   "source": []
  },
  {
   "cell_type": "markdown",
   "id": "958804b1",
   "metadata": {},
   "source": [
    "# 120"
   ]
  },
  {
   "cell_type": "code",
   "execution_count": 14,
   "id": "d0a11526",
   "metadata": {},
   "outputs": [
    {
     "name": "stdout",
     "output_type": "stream",
     "text": [
      "3\n",
      "3\n",
      "2 -1 1\n",
      "9\n"
     ]
    }
   ],
   "source": []
  },
  {
   "cell_type": "markdown",
   "id": "16509d22",
   "metadata": {},
   "source": [
    "# 121"
   ]
  },
  {
   "cell_type": "code",
   "execution_count": 15,
   "id": "6df311ae",
   "metadata": {},
   "outputs": [
    {
     "name": "stdout",
     "output_type": "stream",
     "text": [
      "3 2 3\n",
      "5\n"
     ]
    }
   ],
   "source": []
  },
  {
   "cell_type": "markdown",
   "id": "c0b29afa",
   "metadata": {},
   "source": [
    "# 122"
   ]
  },
  {
   "cell_type": "code",
   "execution_count": 16,
   "id": "427706e2",
   "metadata": {},
   "outputs": [
    {
     "name": "stdout",
     "output_type": "stream",
     "text": [
      "100\n",
      "3\n",
      "5 75 25\n",
      "2 3\n"
     ]
    }
   ],
   "source": []
  },
  {
   "cell_type": "markdown",
   "id": "74997182",
   "metadata": {},
   "source": [
    "# 123"
   ]
  },
  {
   "cell_type": "code",
   "execution_count": 97,
   "id": "68d17ae9",
   "metadata": {},
   "outputs": [
    {
     "name": "stdout",
     "output_type": "stream",
     "text": [
      "2\n",
      "60 1\n",
      "30 5\n",
      "[60, 30]\n",
      "[0, 1, 5]\n",
      "180\n"
     ]
    }
   ],
   "source": [
    "n = int(input())\n",
    "count = 0\n",
    "speed = []\n",
    "elapse = [0]\n",
    "while True :\n",
    "    a, b = input().split()\n",
    "    a, b = int(a), int(b)\n",
    "    speed.append(a)\n",
    "    elapse.append(b)\n",
    "    count += 1\n",
    "    if count == n :\n",
    "        break\n",
    "sumA = 0        \n",
    "for i in range(n) :\n",
    "    sumA += speed[i] * (elapse[i + 1] - elapse[i])\n",
    "\n",
    "print(sumA)"
   ]
  },
  {
   "cell_type": "markdown",
   "id": "3f4f815b",
   "metadata": {},
   "source": [
    "# 124"
   ]
  },
  {
   "cell_type": "code",
   "execution_count": 83,
   "id": "07778bb5",
   "metadata": {
    "scrolled": false
   },
   "outputs": [
    {
     "name": "stdout",
     "output_type": "stream",
     "text": [
      "3\n",
      "1\n",
      "4\n",
      "6\n",
      "5\n",
      "7\n",
      "9\n",
      "10\n",
      "11\n",
      "12\n",
      "13\n",
      "14\n",
      "15\n",
      "16\n",
      "17\n",
      "18\n",
      "19\n",
      "20\n",
      "21\n",
      "22\n",
      "23\n",
      "24\n",
      "25\n",
      "26\n",
      "27\n",
      "28\n",
      "29\n",
      "30\n",
      "[2, 8]\n",
      "2\n",
      "8\n"
     ]
    }
   ],
   "source": [
    "count = 0\n",
    "llist = []\n",
    "\n",
    "while True :\n",
    "    n = int(input())\n",
    "    count += 1\n",
    "    llist.append(n)\n",
    "    if count == 28 :\n",
    "        break\n",
    "llist.sort()\n",
    "\n",
    "\n",
    "n_list = []\n",
    "for i in range(1, 31) :\n",
    "    n_list.append(i)\n",
    "    for j in llist :\n",
    "        if i == j :\n",
    "            n_list.remove(j)\n",
    "\n",
    "print(n_list)\n",
    "for i in n_list :\n",
    "    print(i)"
   ]
  },
  {
   "cell_type": "markdown",
   "id": "7ccf6ae2",
   "metadata": {},
   "source": [
    "# 125"
   ]
  },
  {
   "cell_type": "code",
   "execution_count": 19,
   "id": "761922bc",
   "metadata": {},
   "outputs": [
    {
     "name": "stdout",
     "output_type": "stream",
     "text": [
      "42\n",
      "84\n",
      "252\n",
      "420\n",
      "840\n",
      "126\n",
      "42\n",
      "84\n",
      "420\n",
      "126\n",
      "1\n"
     ]
    }
   ],
   "source": []
  },
  {
   "cell_type": "markdown",
   "id": "187ef710",
   "metadata": {},
   "source": [
    "# 126"
   ]
  },
  {
   "cell_type": "code",
   "execution_count": 20,
   "id": "b087c2a3",
   "metadata": {},
   "outputs": [
    {
     "name": "stdout",
     "output_type": "stream",
     "text": [
      "30 3\n",
      "1 3\n",
      "3 7\n",
      "1 4\n",
      "13\n"
     ]
    }
   ],
   "source": []
  },
  {
   "cell_type": "markdown",
   "id": "6b78fd03",
   "metadata": {},
   "source": [
    "# 127"
   ]
  },
  {
   "cell_type": "code",
   "execution_count": 21,
   "id": "9e9eac0e",
   "metadata": {},
   "outputs": [
    {
     "name": "stdout",
     "output_type": "stream",
     "text": [
      "4 5\n",
      "0 1 2\n",
      "0 2 4\n",
      "1 2 3\n",
      "1\n",
      "0 2 4\n",
      "1 1 4\n",
      "2\n"
     ]
    }
   ],
   "source": []
  },
  {
   "cell_type": "markdown",
   "id": "66316569",
   "metadata": {},
   "source": [
    "# 128"
   ]
  },
  {
   "cell_type": "code",
   "execution_count": 22,
   "id": "b50355ed",
   "metadata": {},
   "outputs": [
    {
     "name": "stdout",
     "output_type": "stream",
     "text": [
      "13\n",
      "2\n",
      "10\n",
      "1\n",
      "2\n",
      "1\n"
     ]
    }
   ],
   "source": []
  },
  {
   "cell_type": "markdown",
   "id": "91369459",
   "metadata": {},
   "source": [
    "# 129"
   ]
  },
  {
   "cell_type": "code",
   "execution_count": 23,
   "id": "a42ec326",
   "metadata": {},
   "outputs": [
    {
     "name": "stdout",
     "output_type": "stream",
     "text": [
      "5 2\n",
      "1 2\n",
      "4 5\n",
      "2\n"
     ]
    }
   ],
   "source": []
  },
  {
   "cell_type": "markdown",
   "id": "af2b1528",
   "metadata": {},
   "source": [
    "# 130"
   ]
  },
  {
   "cell_type": "code",
   "execution_count": 25,
   "id": "e9c1b63e",
   "metadata": {},
   "outputs": [
    {
     "name": "stdout",
     "output_type": "stream",
     "text": [
      "10 8 6\n",
      "15 30\n",
      "25 50\n",
      "70 80\n",
      "480\n"
     ]
    }
   ],
   "source": []
  },
  {
   "cell_type": "markdown",
   "id": "ffa55afd",
   "metadata": {},
   "source": [
    "# 131"
   ]
  },
  {
   "cell_type": "code",
   "execution_count": 26,
   "id": "1f86d41f",
   "metadata": {},
   "outputs": [
    {
     "name": "stdout",
     "output_type": "stream",
     "text": [
      "3\n",
      "5 9\n",
      "1 10\n",
      "3 8\n",
      "350\n",
      "550\n",
      "330\n"
     ]
    }
   ],
   "source": []
  },
  {
   "cell_type": "markdown",
   "id": "99cb710d",
   "metadata": {},
   "source": [
    "# 132"
   ]
  },
  {
   "cell_type": "code",
   "execution_count": 27,
   "id": "ad4836ee",
   "metadata": {},
   "outputs": [
    {
     "name": "stdout",
     "output_type": "stream",
     "text": [
      "4 2\n",
      "5\n",
      "8\n",
      "12\n",
      "6\n",
      "1 3\n",
      "2 4\n",
      "25\n",
      "26\n"
     ]
    }
   ],
   "source": []
  },
  {
   "cell_type": "markdown",
   "id": "2894b775",
   "metadata": {},
   "source": [
    "# 133"
   ]
  },
  {
   "cell_type": "code",
   "execution_count": 28,
   "id": "bae15f2f",
   "metadata": {},
   "outputs": [
    {
     "name": "stdout",
     "output_type": "stream",
     "text": [
      "5 3\n",
      "2\n",
      "5\n",
      "-4\n",
      "10\n",
      "3\n",
      "11\n"
     ]
    }
   ],
   "source": []
  },
  {
   "cell_type": "markdown",
   "id": "a676fe09",
   "metadata": {},
   "source": [
    "# 134"
   ]
  },
  {
   "cell_type": "code",
   "execution_count": 29,
   "id": "6eca9836",
   "metadata": {},
   "outputs": [
    {
     "name": "stdout",
     "output_type": "stream",
     "text": [
      "4\n",
      "+\n",
      "5\n",
      "*\n",
      "9\n",
      "81\n"
     ]
    }
   ],
   "source": []
  },
  {
   "cell_type": "markdown",
   "id": "ad85236f",
   "metadata": {},
   "source": [
    "# 135"
   ]
  },
  {
   "cell_type": "code",
   "execution_count": 30,
   "id": "48b4a2d9",
   "metadata": {},
   "outputs": [
    {
     "name": "stdout",
     "output_type": "stream",
     "text": [
      "13 5 3 2 1\n",
      "u\n",
      "f\n",
      "u\n",
      "d\n",
      "f\n",
      "3\n"
     ]
    }
   ],
   "source": []
  },
  {
   "cell_type": "markdown",
   "id": "203d52fe",
   "metadata": {},
   "source": [
    "# 136"
   ]
  },
  {
   "cell_type": "code",
   "execution_count": 31,
   "id": "e464f94e",
   "metadata": {},
   "outputs": [
    {
     "name": "stdout",
     "output_type": "stream",
     "text": [
      "1 3 3 1 1 1 7 7 7 7\n",
      "7\n",
      "4\n"
     ]
    }
   ],
   "source": []
  },
  {
   "cell_type": "markdown",
   "id": "7b16dd5d",
   "metadata": {},
   "source": [
    "# 137"
   ]
  },
  {
   "cell_type": "code",
   "execution_count": 32,
   "id": "da988e85",
   "metadata": {},
   "outputs": [
    {
     "name": "stdout",
     "output_type": "stream",
     "text": [
      "6\n",
      "1 0 0 1 1 1\n",
      "2\n"
     ]
    }
   ],
   "source": []
  },
  {
   "cell_type": "markdown",
   "id": "0c5528c9",
   "metadata": {},
   "source": [
    "# 138"
   ]
  },
  {
   "cell_type": "code",
   "execution_count": 33,
   "id": "8e7c1fa4",
   "metadata": {},
   "outputs": [
    {
     "name": "stdout",
     "output_type": "stream",
     "text": [
      "8 1 7 2 6 3 5 4\n",
      "mixed\n"
     ]
    }
   ],
   "source": []
  },
  {
   "cell_type": "markdown",
   "id": "40a7d7ca",
   "metadata": {},
   "source": [
    "# 139"
   ]
  },
  {
   "cell_type": "code",
   "execution_count": 34,
   "id": "4f3b4145",
   "metadata": {},
   "outputs": [
    {
     "name": "stdout",
     "output_type": "stream",
     "text": [
      "6\n",
      "C\n",
      "C\n",
      "P\n",
      "C\n",
      "Z\n",
      "Z\n",
      "5\n"
     ]
    }
   ],
   "source": []
  },
  {
   "cell_type": "markdown",
   "id": "00d3e469",
   "metadata": {},
   "source": [
    "# 140"
   ]
  },
  {
   "cell_type": "code",
   "execution_count": 35,
   "id": "c1dab4ff",
   "metadata": {},
   "outputs": [
    {
     "name": "stdout",
     "output_type": "stream",
     "text": [
      "7\n",
      "0 0\n",
      "1 0\n",
      "1 1\n",
      "0 0\n",
      "0 0\n",
      "0 0\n",
      "0 1\n",
      "6\n"
     ]
    }
   ],
   "source": []
  }
 ],
 "metadata": {
  "kernelspec": {
   "display_name": "Python 3 (ipykernel)",
   "language": "python",
   "name": "python3"
  },
  "language_info": {
   "codemirror_mode": {
    "name": "ipython",
    "version": 3
   },
   "file_extension": ".py",
   "mimetype": "text/x-python",
   "name": "python",
   "nbconvert_exporter": "python",
   "pygments_lexer": "ipython3",
   "version": "3.10.9"
  }
 },
 "nbformat": 4,
 "nbformat_minor": 5
}
