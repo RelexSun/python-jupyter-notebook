{
 "cells": [
  {
   "cell_type": "markdown",
   "id": "9c726829",
   "metadata": {},
   "source": [
    "# 1.Tuple\n",
    "\n",
    "### 1.1 Immutable attribute, mutable attribute\n",
    "\n",
    "> - A <strong>Tuple</strong> is very similar to a list. However, the contents of a tuple cannot be changed once they are specified, making it a representative immutable date type.\n",
    "> - Since the contents of a tuple cannot be changed once they are determined, tuples have a simple structure and faster acccess speed compared to lists. Therefore, these two date types are selected and used depending on the purpose.\n",
    "\n",
    " |  | Python Data types |  |\n",
    " |:-------------------------|:------------------|:-----------------------|\n",
    " | Immutable attrubutes | An immutable object cannot be changed after it is created | Ex: int, float, str, tuple |\n",
    " | Mutable attributes | A mutable attributes can be changed after it is created | Ex: list, set, dictionary, |"
   ]
  },
  {
   "cell_type": "markdown",
   "id": "e83bce72",
   "metadata": {},
   "source": [
    "### 1.2  Immutable data type, which cannot be modified once created: Tuple \n",
    "\n",
    "- Let's create a simple tuple as follows.\n"
   ]
  },
  {
   "cell_type": "markdown",
   "id": "b8509979",
   "metadata": {},
   "source": [
    "<p style='color:green'>Tuple for storing colors</p>"
   ]
  },
  {
   "cell_type": "code",
   "execution_count": 1,
   "id": "7596ad46",
   "metadata": {},
   "outputs": [
    {
     "data": {
      "text/plain": [
       "('red', 'green', 'blue')"
      ]
     },
     "execution_count": 1,
     "metadata": {},
     "output_type": "execute_result"
    }
   ],
   "source": [
    "colors = ('red', 'green', 'blue')\n",
    "colors"
   ]
  },
  {
   "cell_type": "markdown",
   "id": "c67a0b0f",
   "metadata": {},
   "source": [
    "<p style='color:green'>Tuple for storing integer sequence</p>"
   ]
  },
  {
   "cell_type": "code",
   "execution_count": 2,
   "id": "9013638d",
   "metadata": {},
   "outputs": [
    {
     "data": {
      "text/plain": [
       "(1, 2, 3, 4, 5)"
      ]
     },
     "execution_count": 2,
     "metadata": {},
     "output_type": "execute_result"
    }
   ],
   "source": [
    "numbers = (1, 2, 3, 4, 5)\n",
    "numbers"
   ]
  },
  {
   "cell_type": "markdown",
   "id": "194c8fd0",
   "metadata": {},
   "source": [
    "<p><mark style='background-color:yellow'>A Tuple is an immutable date type. Therefore, be careful when trying to modify the elements of a tuple, as it will result in an error</mark></p>"
   ]
  },
  {
   "cell_type": "code",
   "execution_count": 3,
   "id": "c2575991",
   "metadata": {},
   "outputs": [
    {
     "ename": "TypeError",
     "evalue": "'tuple' object does not support item assignment",
     "output_type": "error",
     "traceback": [
      "\u001b[0;31m---------------------------------------------------------------------------\u001b[0m",
      "\u001b[0;31mTypeError\u001b[0m                                 Traceback (most recent call last)",
      "Cell \u001b[0;32mIn[3], line 2\u001b[0m\n\u001b[1;32m      1\u001b[0m t1 \u001b[38;5;241m=\u001b[39m (\u001b[38;5;241m1\u001b[39m, \u001b[38;5;241m2\u001b[39m, \u001b[38;5;241m3\u001b[39m, \u001b[38;5;241m4\u001b[39m, \u001b[38;5;241m5\u001b[39m)\n\u001b[0;32m----> 2\u001b[0m t1[\u001b[38;5;241m0\u001b[39m] \u001b[38;5;241m=\u001b[39m \u001b[38;5;241m100\u001b[39m\n",
      "\u001b[0;31mTypeError\u001b[0m: 'tuple' object does not support item assignment"
     ]
    }
   ],
   "source": [
    "t1 = (1, 2, 3, 4, 5)\n",
    "t1[0] = 100"
   ]
  },
  {
   "cell_type": "markdown",
   "id": "0063299d",
   "metadata": {},
   "source": [
    "- The most important characteristic of a tuple is that <strong>\"its values do not change\".</strong>\n",
    "- If you try to change the element of a tuple as in the following code, a TypeError will occur.\n",
    "- Note that the same error occurs when using del t1[0] to delete the value of an element."
   ]
  },
  {
   "cell_type": "markdown",
   "id": "7a349209",
   "metadata": {},
   "source": [
    "### 1.3 Defining a tuple\n",
    "\n",
    "- Let's learn various ways to create tuples.\n",
    "\n",
    "> | Defining tuple |||\n",
    "  |:-------------------------|:------------------|:----------------------------|\n",
    "  | Creating an empty tuple | tuple0 = tuple() | must use empty parentheses |\n",
    "  | Creating a tuple with a single element | tuple1 = (1,) | must use comma |\n",
    "  | Creating a basic tuple using parentheses | tuple2 = (1,2,3,4) |  |\n",
    "  | Creating a simple tuple using only commas without parentheses | tuple3 = 1,2,3,4 | |\n",
    "  | Creating a tuple from list | n_list = [1,2,3,4] tuple4= tuple(n_list) | |\n",
    "  "
   ]
  },
  {
   "cell_type": "markdown",
   "id": "4774693d",
   "metadata": {},
   "source": [
    "### 1.4 Precautions when defining a tuple: integer type and tuple type varibles\n",
    "\n",
    "- When creating a tuple with only one element, if you assign it as tup = (100,) it will be treated as tup = 100, and tup will become an integer, not a tuple.\n",
    "- Therefore, if you want to use tup as a tuple, you must insert a comma, such as tup = (100,)."
   ]
  },
  {
   "cell_type": "code",
   "execution_count": 7,
   "id": "580e4c78",
   "metadata": {},
   "outputs": [
    {
     "name": "stdout",
     "output_type": "stream",
     "text": [
      "(100,)\n",
      "<class 'tuple'>\n"
     ]
    }
   ],
   "source": [
    "tup = (100,)\n",
    "print(tup)\n",
    "print(type(tup))"
   ]
  },
  {
   "cell_type": "code",
   "execution_count": 8,
   "id": "c93cde0d",
   "metadata": {},
   "outputs": [
    {
     "name": "stdout",
     "output_type": "stream",
     "text": [
      "100\n",
      "<class 'int'>\n"
     ]
    }
   ],
   "source": [
    "tup = (100)\n",
    "print(tup)\n",
    "print(type(tup))"
   ]
  },
  {
   "cell_type": "markdown",
   "id": "fbd84e00",
   "metadata": {},
   "source": [
    "### 1.5 Packing, unpacking\n",
    "\n",
    "> - <mark>Packing:</mark> Putting multiple values into a single varible.\n",
    "> - <mark>Unpacking:</mark> If there is a packed varible, it means extracting multiple values from it."
   ]
  },
  {
   "cell_type": "code",
   "execution_count": 9,
   "id": "207844c6",
   "metadata": {},
   "outputs": [
    {
     "data": {
      "text/plain": [
       "1"
      ]
     },
     "execution_count": 9,
     "metadata": {},
     "output_type": "execute_result"
    }
   ],
   "source": [
    "#Packing\n",
    "\n",
    "a = (1,2)\n",
    "a[0]\n"
   ]
  },
  {
   "cell_type": "code",
   "execution_count": 11,
   "id": "8b3fe313",
   "metadata": {},
   "outputs": [
    {
     "data": {
      "text/plain": [
       "2"
      ]
     },
     "execution_count": 11,
     "metadata": {},
     "output_type": "execute_result"
    }
   ],
   "source": [
    "a[1]"
   ]
  },
  {
   "cell_type": "code",
   "execution_count": 12,
   "id": "373a55ef",
   "metadata": {},
   "outputs": [
    {
     "data": {
      "text/plain": [
       "3"
      ]
     },
     "execution_count": 12,
     "metadata": {},
     "output_type": "execute_result"
    }
   ],
   "source": [
    "#Unpacking\n",
    "\n",
    "c = (3, 4)\n",
    "x, y = c\n",
    "x"
   ]
  },
  {
   "cell_type": "code",
   "execution_count": 13,
   "id": "c40a4b93",
   "metadata": {},
   "outputs": [
    {
     "data": {
      "text/plain": [
       "4"
      ]
     },
     "execution_count": 13,
     "metadata": {},
     "output_type": "execute_result"
    }
   ],
   "source": [
    "y"
   ]
  },
  {
   "cell_type": "markdown",
   "id": "96d84a18",
   "metadata": {},
   "source": [
    "### 1.6 Tuple sorting methods\n",
    "\n",
    "> - Since tuples are immutable, the sort method cannot be used to change their elements. \n",
    "> - Therefore, when sorting the elements of a tuple, you can convert the tuple to a list and then use the sort method to sort the numbers."
   ]
  },
  {
   "cell_type": "code",
   "execution_count": 14,
   "id": "6cce6dbd",
   "metadata": {},
   "outputs": [
    {
     "name": "stdout",
     "output_type": "stream",
     "text": [
      "[1, 2, 2, 3, 3, 3, 4, 5, 7, 9, 9]\n"
     ]
    }
   ],
   "source": [
    "tup = (1, 2, 5, 4, 3, 2, 9, 3, 7, 3, 9)\n",
    "temp = list(tup)\n",
    "temp.sort()\n",
    "print(temp)"
   ]
  },
  {
   "cell_type": "markdown",
   "id": "d9380f69",
   "metadata": {},
   "source": [
    "# 2.1 range function and sequence types"
   ]
  },
  {
   "cell_type": "code",
   "execution_count": 15,
   "id": "94903e50",
   "metadata": {},
   "outputs": [
    {
     "name": "stdout",
     "output_type": "stream",
     "text": [
      "even_list =  [2, 4, 6, 8, 10]\n"
     ]
    }
   ],
   "source": [
    "even_list = list(range(2, 11, 2))\n",
    "print('even_list = ', even_list)"
   ]
  },
  {
   "cell_type": "markdown",
   "id": "250563cf",
   "metadata": {},
   "source": [
    "> - We created a list called 'even_list' that contains even numbers from 1 to 10 (including 10), and then printed the list using the print function.\n",
    "> - We converted the <mark>sequence generated by the range function</mark> into a list using the list function.\n",
    "> - Since the last argument of the range function is 2, it increments by 2 from 2 to 10.\n",
    "Therefore, it contains the elements 2, 4, 6, 8, 10."
   ]
  },
  {
   "cell_type": "markdown",
   "id": "a4ccde15",
   "metadata": {},
   "source": [
    "- By converting range into a list, you can easily create lists of various numbers."
   ]
  },
  {
   "cell_type": "code",
   "execution_count": 16,
   "id": "54fa0826",
   "metadata": {},
   "outputs": [
    {
     "data": {
      "text/plain": [
       "[0, 1, 2, 3, 4, 5, 6, 7, 8, 9]"
      ]
     },
     "execution_count": 16,
     "metadata": {},
     "output_type": "execute_result"
    }
   ],
   "source": [
    "list(range(10))"
   ]
  },
  {
   "cell_type": "code",
   "execution_count": 17,
   "id": "59b8f726",
   "metadata": {},
   "outputs": [
    {
     "data": {
      "text/plain": [
       "[2, 3, 4, 5, 6, 7, 8, 9]"
      ]
     },
     "execution_count": 17,
     "metadata": {},
     "output_type": "execute_result"
    }
   ],
   "source": [
    "list(range(2, 10))"
   ]
  },
  {
   "cell_type": "code",
   "execution_count": 18,
   "id": "47648440",
   "metadata": {},
   "outputs": [
    {
     "data": {
      "text/plain": [
       "[2, 5, 8]"
      ]
     },
     "execution_count": 18,
     "metadata": {},
     "output_type": "execute_result"
    }
   ],
   "source": [
    "list(range(2, 10, 3))"
   ]
  },
  {
   "cell_type": "markdown",
   "id": "ee290744",
   "metadata": {},
   "source": [
    "### 2.2 What is a sequence data type?\n",
    "\n",
    "> - If we examine the lists, tuples, ranges, and strings we have use so far, they have something in common. These data structures store multiple values in a consecutive(sequence) manner.\n",
    "> - In Python, data type that have values arranged in a consecutive manner, such as lists, tuples, ranges, and strings, is called sequence type.\n",
    "> - The each value contained in the sequence type is called an element."
   ]
  },
  {
   "cell_type": "markdown",
   "id": "5eb11a90",
   "metadata": {},
   "source": [
    "- Examples of sequence types\n",
    "> - String data type\n",
    "> - List data type\n",
    "> - Range data type"
   ]
  },
  {
   "cell_type": "markdown",
   "id": "57fb41b7",
   "metadata": {},
   "source": [
    "### 2.3 Index and Indexing \n",
    "\n",
    "- Let's learn about index commonly used in sequence types.\n",
    "\n",
    "#### Index \n",
    "\n",
    "> - It refers to the number that points to the value of an element in a list or sequence. \n",
    "> - The index of a list with n elements increases from 0 to n-1.\n",
    "\n",
    "- The index of a sequence type always starts from 0.\n"
   ]
  },
  {
   "cell_type": "markdown",
   "id": "69bdb5ed",
   "metadata": {},
   "source": [
    " Referencing element values through <mark>list</mark> indexing "
   ]
  },
  {
   "cell_type": "code",
   "execution_count": 19,
   "id": "e32cb3bd",
   "metadata": {},
   "outputs": [],
   "source": [
    "list1 = [11, 11, 11, 22, 33, 44]"
   ]
  },
  {
   "cell_type": "code",
   "execution_count": 21,
   "id": "eec838dd",
   "metadata": {},
   "outputs": [
    {
     "data": {
      "text/plain": [
       "11"
      ]
     },
     "execution_count": 21,
     "metadata": {},
     "output_type": "execute_result"
    }
   ],
   "source": [
    "list1[0]"
   ]
  },
  {
   "cell_type": "code",
   "execution_count": 22,
   "id": "6bdb3358",
   "metadata": {},
   "outputs": [
    {
     "data": {
      "text/plain": [
       "11"
      ]
     },
     "execution_count": 22,
     "metadata": {},
     "output_type": "execute_result"
    }
   ],
   "source": [
    "list1[2]"
   ]
  },
  {
   "cell_type": "markdown",
   "id": "20d2d5ed",
   "metadata": {},
   "source": [
    "Referencing element values through <mark style='background-color:yellow'>string</mark> indexing "
   ]
  },
  {
   "cell_type": "code",
   "execution_count": 23,
   "id": "a6041902",
   "metadata": {},
   "outputs": [],
   "source": [
    "str1 = 'hello world'"
   ]
  },
  {
   "cell_type": "code",
   "execution_count": 24,
   "id": "d2dde2e2",
   "metadata": {},
   "outputs": [
    {
     "data": {
      "text/plain": [
       "'l'"
      ]
     },
     "execution_count": 24,
     "metadata": {},
     "output_type": "execute_result"
    }
   ],
   "source": [
    "str1[2]"
   ]
  },
  {
   "cell_type": "code",
   "execution_count": 25,
   "id": "fb760749",
   "metadata": {},
   "outputs": [
    {
     "data": {
      "text/plain": [
       "'o'"
      ]
     },
     "execution_count": 25,
     "metadata": {},
     "output_type": "execute_result"
    }
   ],
   "source": [
    "str1[7]"
   ]
  },
  {
   "cell_type": "markdown",
   "id": "ed2843f7",
   "metadata": {},
   "source": [
    "Referencing element values through <mark style='background-color:yellow'>tuple</mark> indexing "
   ]
  },
  {
   "cell_type": "code",
   "execution_count": 26,
   "id": "03f16a32",
   "metadata": {},
   "outputs": [],
   "source": [
    "tup1 = (1, 1, 1, 2, 3, 3, 4)"
   ]
  },
  {
   "cell_type": "code",
   "execution_count": 28,
   "id": "0a85f821",
   "metadata": {},
   "outputs": [
    {
     "data": {
      "text/plain": [
       "2"
      ]
     },
     "execution_count": 28,
     "metadata": {},
     "output_type": "execute_result"
    }
   ],
   "source": [
    "tup1[3]"
   ]
  },
  {
   "cell_type": "markdown",
   "id": "33d61148",
   "metadata": {},
   "source": [
    "Referencing element values through <mark style='background-color:yellow'>range</mark> indexing "
   ]
  },
  {
   "cell_type": "code",
   "execution_count": 29,
   "id": "14b59de7",
   "metadata": {},
   "outputs": [],
   "source": [
    "ran = range(0, 5, 1)"
   ]
  },
  {
   "cell_type": "code",
   "execution_count": 31,
   "id": "fa888d66",
   "metadata": {},
   "outputs": [
    {
     "data": {
      "text/plain": [
       "4"
      ]
     },
     "execution_count": 31,
     "metadata": {},
     "output_type": "execute_result"
    }
   ],
   "source": [
    "ran[4]"
   ]
  },
  {
   "cell_type": "code",
   "execution_count": 33,
   "id": "14b80044",
   "metadata": {},
   "outputs": [
    {
     "data": {
      "text/plain": [
       "[0, 1, 2, 3, 4]"
      ]
     },
     "execution_count": 33,
     "metadata": {},
     "output_type": "execute_result"
    }
   ],
   "source": [
    "list(ran)"
   ]
  },
  {
   "cell_type": "markdown",
   "id": "f5b47b4e",
   "metadata": {},
   "source": [
    "### 2.4 Slicing\n",
    "\n",
    " - Generally, slicing of sequence types specifies the start index and the stop index.\n",
    " - All sequence types use the same slicing method, following the rules below.\n",
    "\n"
   ]
  },
  {
   "cell_type": "code",
   "execution_count": 10,
   "id": "5fe12841",
   "metadata": {},
   "outputs": [
    {
     "name": "stdout",
     "output_type": "stream",
     "text": [
      "0\t1\t2\t3\t4\t5\t6\t7\t"
     ]
    }
   ],
   "source": [
    "n_list = [10, 20, 30, 40, 50, 60, 70, 80]\n",
    "\n",
    "for i in range(len(n_list)) :\n",
    "    print(i, end = '\\t')\n",
    "    "
   ]
  },
  {
   "cell_type": "markdown",
   "id": "23190b71",
   "metadata": {},
   "source": [
    "slicing from index 1 till end"
   ]
  },
  {
   "cell_type": "code",
   "execution_count": 14,
   "id": "0ec0bf97",
   "metadata": {},
   "outputs": [
    {
     "data": {
      "text/plain": [
       "[20, 30, 40, 50, 60, 70, 80]"
      ]
     },
     "execution_count": 14,
     "metadata": {},
     "output_type": "execute_result"
    }
   ],
   "source": [
    "n_list[1:]"
   ]
  },
  {
   "cell_type": "markdown",
   "id": "65b33fd3",
   "metadata": {},
   "source": [
    "[start : stop : step]"
   ]
  },
  {
   "cell_type": "code",
   "execution_count": 16,
   "id": "f53c6a03",
   "metadata": {},
   "outputs": [
    {
     "data": {
      "text/plain": [
       "[20, 30, 40, 50]"
      ]
     },
     "execution_count": 16,
     "metadata": {},
     "output_type": "execute_result"
    }
   ],
   "source": [
    "n_list[1:5]"
   ]
  },
  {
   "cell_type": "markdown",
   "id": "4c6309b9",
   "metadata": {},
   "source": [
    "### 2.5 Negative indexing\n",
    "\n",
    " - Negative indexing is possible for sequence data types.\n",
    " - The rule for negative indexing is that the index of the last element is -1, and the preceding elements are assigned -2,-3, and so on."
   ]
  },
  {
   "cell_type": "code",
   "execution_count": 18,
   "id": "37eeeeb6",
   "metadata": {},
   "outputs": [
    {
     "name": "stdout",
     "output_type": "stream",
     "text": [
      "g\n"
     ]
    }
   ],
   "source": [
    "str1 = 'abcdefg'\n",
    "print(str1[-1])"
   ]
  },
  {
   "cell_type": "code",
   "execution_count": 20,
   "id": "35fcc98f",
   "metadata": {},
   "outputs": [
    {
     "name": "stdout",
     "output_type": "stream",
     "text": [
      "a\n"
     ]
    }
   ],
   "source": [
    "str1 = 'abcdefg'\n",
    "print(str1[-7])"
   ]
  },
  {
   "cell_type": "code",
   "execution_count": 22,
   "id": "f2496e24",
   "metadata": {},
   "outputs": [
    {
     "name": "stdout",
     "output_type": "stream",
     "text": [
      "77\n"
     ]
    }
   ],
   "source": [
    "tup1 = (11, 22, 33, 44, 55, 66, 77)\n",
    "print(tup1[-1])"
   ]
  },
  {
   "cell_type": "code",
   "execution_count": 26,
   "id": "4a89702e",
   "metadata": {},
   "outputs": [
    {
     "name": "stdout",
     "output_type": "stream",
     "text": [
      "22\n"
     ]
    }
   ],
   "source": [
    "print(tup1[-6])"
   ]
  },
  {
   "cell_type": "code",
   "execution_count": 28,
   "id": "8e4dfd73",
   "metadata": {},
   "outputs": [
    {
     "name": "stdout",
     "output_type": "stream",
     "text": [
      "1\n"
     ]
    }
   ],
   "source": [
    "ran = range(1, 7)\n",
    "print(ran[-6])"
   ]
  },
  {
   "cell_type": "code",
   "execution_count": 30,
   "id": "c372501f",
   "metadata": {},
   "outputs": [
    {
     "name": "stdout",
     "output_type": "stream",
     "text": [
      "6\n"
     ]
    }
   ],
   "source": [
    "print(ran[-1])"
   ]
  },
  {
   "cell_type": "markdown",
   "id": "7803c757",
   "metadata": {},
   "source": [
    "### 2.6 Slicing using negative indexing\n",
    "\n",
    "- Let's learn about slicing using negative indexing\n",
    "- When using the range of negative indexes as [-7:-2], the [20, 30, 40, 50, 60] elements are included."
   ]
  },
  {
   "cell_type": "code",
   "execution_count": 32,
   "id": "6f035798",
   "metadata": {},
   "outputs": [
    {
     "data": {
      "text/plain": [
       "[20, 30, 40, 50, 60]"
      ]
     },
     "execution_count": 32,
     "metadata": {},
     "output_type": "execute_result"
    }
   ],
   "source": [
    "num_list = [10, 20, 30, 40, 50, 60, 70, 80]\n",
    "num_list[-7:-2]"
   ]
  },
  {
   "cell_type": "code",
   "execution_count": 34,
   "id": "996b3a9f",
   "metadata": {},
   "outputs": [
    {
     "data": {
      "text/plain": [
       "[10, 20, 30, 40, 50, 60]"
      ]
     },
     "execution_count": 34,
     "metadata": {},
     "output_type": "execute_result"
    }
   ],
   "source": [
    "num_list[:-2]"
   ]
  },
  {
   "cell_type": "markdown",
   "id": "32bc7db9",
   "metadata": {},
   "source": [
    "### 2.7 Membership operator for specific element search: in, not in\n",
    "\n",
    "- The membership operator 'in', 'not in', is operator that return True or False.\n",
    "- They are used to check if a specific element is present inside data structures such as strings, lists, and tuples.\n",
    "\n",
    "> - 'in' operator: Returns True if the member is present, and False if it is not.\n",
    "> - 'not in' operator: Returns False if the member is present, and True if it is not."
   ]
  },
  {
   "cell_type": "markdown",
   "id": "0246e584",
   "metadata": {},
   "source": [
    "- In the following example, since 10 is in list1, '10 in list1' returns True, and '10 not in list1' returns False.\n"
   ]
  },
  {
   "cell_type": "code",
   "execution_count": 36,
   "id": "a674361c",
   "metadata": {},
   "outputs": [
    {
     "data": {
      "text/plain": [
       "True"
      ]
     },
     "execution_count": 36,
     "metadata": {},
     "output_type": "execute_result"
    }
   ],
   "source": [
    "list1 = [10, 20, 30, 40]\n",
    "10 in list1"
   ]
  },
  {
   "cell_type": "code",
   "execution_count": 38,
   "id": "0f860bec",
   "metadata": {},
   "outputs": [
    {
     "data": {
      "text/plain": [
       "False"
      ]
     },
     "execution_count": 38,
     "metadata": {},
     "output_type": "execute_result"
    }
   ],
   "source": [
    "10 not in list1"
   ]
  },
  {
   "cell_type": "code",
   "execution_count": 40,
   "id": "cd7ce044",
   "metadata": {},
   "outputs": [
    {
     "data": {
      "text/plain": [
       "True"
      ]
     },
     "execution_count": 40,
     "metadata": {},
     "output_type": "execute_result"
    }
   ],
   "source": [
    "tup = (1, 2, 3, 4)\n",
    "3 in tup"
   ]
  },
  {
   "cell_type": "code",
   "execution_count": 42,
   "id": "cfd99da9",
   "metadata": {},
   "outputs": [
    {
     "data": {
      "text/plain": [
       "False"
      ]
     },
     "execution_count": 42,
     "metadata": {},
     "output_type": "execute_result"
    }
   ],
   "source": [
    "11 in range(10)"
   ]
  },
  {
   "cell_type": "code",
   "execution_count": 44,
   "id": "d071b3c3",
   "metadata": {},
   "outputs": [
    {
     "data": {
      "text/plain": [
       "True"
      ]
     },
     "execution_count": 44,
     "metadata": {},
     "output_type": "execute_result"
    }
   ],
   "source": [
    "'a' in 'abcde'"
   ]
  },
  {
   "cell_type": "markdown",
   "id": "76d45dc0",
   "metadata": {},
   "source": [
    "### 2.8 len function\n",
    "\n",
    "- By substracting 1 from the length obtained using the len function, we can access the last index.\n",
    "- Let's create a list called nations with the elements 'Korea', 'China', 'Russia', 'Malaysia', and use the index len(nations)-1 to print the last element of the list."
   ]
  },
  {
   "cell_type": "code",
   "execution_count": 47,
   "id": "23a5fcc5",
   "metadata": {},
   "outputs": [
    {
     "name": "stdout",
     "output_type": "stream",
     "text": [
      "Last element of nations Malaysia\n"
     ]
    }
   ],
   "source": [
    "nations = ['Korea', 'China', 'Russia', 'Malaysia']\n",
    "print('Last element of nations', nations[len(nations)-1])"
   ]
  },
  {
   "cell_type": "markdown",
   "id": "41951746",
   "metadata": {},
   "source": [
    "### 2.9 Count method for determining the number of specific elements in a sequence\n",
    "\n",
    " - Let's explore the count method, which counts the number of specific elements in a sequence.\n",
    " > The count method returns the number of occurrences of elements whithin a sequence data type."
   ]
  },
  {
   "cell_type": "markdown",
   "id": "1061c045",
   "metadata": {},
   "source": [
    "- Let's compare the results of len and count for a range data type called ran.\n",
    "\n",
    "\n",
    "> <mark>Line 2</mark>\n",
    "   > - ran contains elements 0,1,2,3,4, so the count is 5.\n",
    "   > - <strong>When we use the len function to count the elements, it returns 5. (5 elements but 4 index)</strong>\n",
    "    \n",
    "> <mark>Line 3</mark>\n",
    "   > - On the other hand, let's use the count method to find out how many times 2 appears in the ran varibe.\n",
    "   > - Since 2 appears only once, it returns 1.\n"
   ]
  },
  {
   "cell_type": "code",
   "execution_count": 56,
   "id": "6c602419",
   "metadata": {},
   "outputs": [
    {
     "name": "stdout",
     "output_type": "stream",
     "text": [
      "5\n",
      "1\n",
      "[0, 1, 2, 3, 4]\n"
     ]
    }
   ],
   "source": [
    "ran = range(0, 5, 1)\n",
    "print(len(ran))\n",
    "print(ran.count(2))\n",
    "print(list(range(0, 5, 1)))"
   ]
  },
  {
   "cell_type": "code",
   "execution_count": 59,
   "id": "f0e40abf",
   "metadata": {},
   "outputs": [
    {
     "name": "stdout",
     "output_type": "stream",
     "text": [
      "3\n"
     ]
    }
   ],
   "source": [
    "list1 = [11, 11, 11, 22, 33, 44]\n",
    "print(list1.count(11))"
   ]
  },
  {
   "cell_type": "code",
   "execution_count": 61,
   "id": "fc7a6c8d",
   "metadata": {},
   "outputs": [
    {
     "name": "stdout",
     "output_type": "stream",
     "text": [
      "3\n"
     ]
    }
   ],
   "source": [
    "str1 = 'hello world'\n",
    "print(str1.count('l'))"
   ]
  },
  {
   "cell_type": "markdown",
   "id": "e002a26a",
   "metadata": {},
   "source": [
    "# 3. Precaution when using sequence data types\n",
    "\n",
    "### 3.1 Concatenation operator for sequence data types\n",
    "\n",
    "- Sequence data types can be concatenated using the concatenation opertaor (+)\n",
    "> - However, the <strong>range</strong> data type cannot be concatenated using the + oprator"
   ]
  },
  {
   "cell_type": "code",
   "execution_count": 90,
   "id": "289ffd77",
   "metadata": {},
   "outputs": [
    {
     "name": "stdout",
     "output_type": "stream",
     "text": [
      "[11, 22, 33, 44]\n",
      "[55, 66]\n",
      "[11, 22, 33, 44, 55, 66]\n"
     ]
    }
   ],
   "source": [
    "list1 = [11, 22, 33, 44]\n",
    "list2 = [55, 66]\n",
    "print(list1)\n",
    "print(list2)\n",
    "print(list1 + list2)"
   ]
  },
  {
   "cell_type": "code",
   "execution_count": 65,
   "id": "b44068b6",
   "metadata": {},
   "outputs": [
    {
     "name": "stdout",
     "output_type": "stream",
     "text": [
      "(11, 22, 33, 44)\n",
      "(11, 22, 33, 44, 55, 66)\n"
     ]
    }
   ],
   "source": [
    "tup1 = (11, 22, 33, 44)\n",
    "tup2 = (55, 66)\n",
    "print(tup1)\n",
    "print(tup1 + tup2)"
   ]
  },
  {
   "cell_type": "code",
   "execution_count": 69,
   "id": "3fd5d906",
   "metadata": {},
   "outputs": [
    {
     "name": "stdout",
     "output_type": "stream",
     "text": [
      "helloworld\n"
     ]
    }
   ],
   "source": [
    "str1 = 'hello'\n",
    "str2 = 'world'\n",
    "print(str1 + str2)"
   ]
  },
  {
   "cell_type": "code",
   "execution_count": 75,
   "id": "21632e19",
   "metadata": {},
   "outputs": [
    {
     "ename": "TypeError",
     "evalue": "unsupported operand type(s) for +: 'range' and 'range'",
     "output_type": "error",
     "traceback": [
      "\u001b[0;31m---------------------------------------------------------------------------\u001b[0m",
      "\u001b[0;31mTypeError\u001b[0m                                 Traceback (most recent call last)",
      "Cell \u001b[0;32mIn[75], line 1\u001b[0m\n\u001b[0;32m----> 1\u001b[0m \u001b[38;5;28;43mrange\u001b[39;49m\u001b[43m(\u001b[49m\u001b[38;5;241;43m10\u001b[39;49m\u001b[43m)\u001b[49m\u001b[43m \u001b[49m\u001b[38;5;241;43m+\u001b[39;49m\u001b[43m \u001b[49m\u001b[38;5;28;43mrange\u001b[39;49m\u001b[43m(\u001b[49m\u001b[38;5;241;43m1\u001b[39;49m\u001b[43m,\u001b[49m\u001b[43m \u001b[49m\u001b[38;5;241;43m10\u001b[39;49m\u001b[43m)\u001b[49m\n",
      "\u001b[0;31mTypeError\u001b[0m: unsupported operand type(s) for +: 'range' and 'range'"
     ]
    }
   ],
   "source": [
    "range(10) + range(1, 10)"
   ]
  },
  {
   "cell_type": "markdown",
   "id": "163457e8",
   "metadata": {},
   "source": [
    "- In such cases, range can be converted to a list or tuple and then concatenated."
   ]
  },
  {
   "cell_type": "code",
   "execution_count": 73,
   "id": "8f087101",
   "metadata": {},
   "outputs": [
    {
     "data": {
      "text/plain": [
       "[0, 1, 2, 3, 4, 5, 6, 7, 8, 9, 10, 11, 12, 13, 14, 15, 16, 17, 18, 19]"
      ]
     },
     "execution_count": 73,
     "metadata": {},
     "output_type": "execute_result"
    }
   ],
   "source": [
    "list(range(10)) + list(range(10, 20))"
   ]
  },
  {
   "cell_type": "code",
   "execution_count": 76,
   "id": "c49ad814",
   "metadata": {},
   "outputs": [
    {
     "data": {
      "text/plain": [
       "(0, 1, 2, 3, 4, 5, 6, 7, 8, 9, 10, 11, 12, 13, 14, 15, 16, 17, 18, 19)"
      ]
     },
     "execution_count": 76,
     "metadata": {},
     "output_type": "execute_result"
    }
   ],
   "source": [
    "tuple(range(10)) + tuple(range(10, 20))"
   ]
  },
  {
   "cell_type": "markdown",
   "id": "93c422bc",
   "metadata": {},
   "source": [
    "### 3.2 Operator that duplicate sequence types\n",
    "\n",
    "- Sequence data types can also use the repetition operator, which repeats the elements of the data types.\n",
    "    - The syntax is 'sequence type *Integer'.\n",
    "    - However, range cannot use the *Operator."
   ]
  },
  {
   "cell_type": "code",
   "execution_count": 78,
   "id": "755b1f07",
   "metadata": {},
   "outputs": [
    {
     "name": "stdout",
     "output_type": "stream",
     "text": [
      "[11, 22, 33, 44, 11, 22, 33, 44]\n"
     ]
    }
   ],
   "source": [
    "list1 = [11, 22, 33, 44] * 2\n",
    "print(list1)"
   ]
  },
  {
   "cell_type": "code",
   "execution_count": 80,
   "id": "ad2380d7",
   "metadata": {},
   "outputs": [
    {
     "name": "stdout",
     "output_type": "stream",
     "text": [
      "(1, 2, 3, 4, 1, 2, 3, 4)\n"
     ]
    }
   ],
   "source": [
    "tup1 = (1,2,3,4)\n",
    "print(tup1 * 2)"
   ]
  },
  {
   "cell_type": "code",
   "execution_count": 83,
   "id": "fda239ee",
   "metadata": {},
   "outputs": [
    {
     "name": "stdout",
     "output_type": "stream",
     "text": [
      "hellohellohello\n"
     ]
    }
   ],
   "source": [
    "str2 = 'hello'\n",
    "print(str2 * 3)"
   ]
  },
  {
   "cell_type": "code",
   "execution_count": 85,
   "id": "b038c1f5",
   "metadata": {},
   "outputs": [
    {
     "ename": "TypeError",
     "evalue": "unsupported operand type(s) for *: 'range' and 'int'",
     "output_type": "error",
     "traceback": [
      "\u001b[0;31m---------------------------------------------------------------------------\u001b[0m",
      "\u001b[0;31mTypeError\u001b[0m                                 Traceback (most recent call last)",
      "Cell \u001b[0;32mIn[85], line 1\u001b[0m\n\u001b[0;32m----> 1\u001b[0m \u001b[38;5;28;43mrange\u001b[39;49m\u001b[43m(\u001b[49m\u001b[38;5;241;43m10\u001b[39;49m\u001b[43m)\u001b[49m\u001b[43m \u001b[49m\u001b[38;5;241;43m*\u001b[39;49m\u001b[43m \u001b[49m\u001b[38;5;241;43m3\u001b[39;49m\n",
      "\u001b[0;31mTypeError\u001b[0m: unsupported operand type(s) for *: 'range' and 'int'"
     ]
    }
   ],
   "source": [
    "range(10) * 3"
   ]
  },
  {
   "cell_type": "markdown",
   "id": "1e08d34c",
   "metadata": {},
   "source": [
    "<mark style='background-color:yellow'>But we can use operator on range function only if convert range function into a list.</mark>"
   ]
  },
  {
   "cell_type": "code",
   "execution_count": 87,
   "id": "b92514ee",
   "metadata": {},
   "outputs": [
    {
     "name": "stdout",
     "output_type": "stream",
     "text": [
      "[0, 1, 2, 3, 4, 0, 1, 2, 3, 4, 0, 1, 2, 3, 4]\n"
     ]
    }
   ],
   "source": [
    "ran = list(range(5)) * 3\n",
    "print(ran)"
   ]
  },
  {
   "cell_type": "code",
   "execution_count": 89,
   "id": "c77adcb4",
   "metadata": {},
   "outputs": [
    {
     "name": "stdout",
     "output_type": "stream",
     "text": [
      "(0, 1, 2, 3, 4, 0, 1, 2, 3, 4, 0, 1, 2, 3, 4)\n"
     ]
    }
   ],
   "source": [
    "ran = tuple(range(5)) * 3\n",
    "print(ran)"
   ]
  },
  {
   "cell_type": "markdown",
   "id": "b769b920",
   "metadata": {},
   "source": [
    "<mark style='background-color:yellow'>If you use the duplication operator on two lists, an error will occur</mark>"
   ]
  },
  {
   "cell_type": "code",
   "execution_count": 92,
   "id": "4a196a4f",
   "metadata": {},
   "outputs": [
    {
     "ename": "TypeError",
     "evalue": "can't multiply sequence by non-int of type 'list'",
     "output_type": "error",
     "traceback": [
      "\u001b[0;31m---------------------------------------------------------------------------\u001b[0m",
      "\u001b[0;31mTypeError\u001b[0m                                 Traceback (most recent call last)",
      "Cell \u001b[0;32mIn[92], line 3\u001b[0m\n\u001b[1;32m      1\u001b[0m list1 \u001b[38;5;241m=\u001b[39m [\u001b[38;5;241m11\u001b[39m, \u001b[38;5;241m22\u001b[39m, \u001b[38;5;241m33\u001b[39m, \u001b[38;5;241m44\u001b[39m]\n\u001b[1;32m      2\u001b[0m list2 \u001b[38;5;241m=\u001b[39m [\u001b[38;5;241m55\u001b[39m, \u001b[38;5;241m66\u001b[39m]\n\u001b[0;32m----> 3\u001b[0m \u001b[38;5;28mprint\u001b[39m(\u001b[43mlist1\u001b[49m\u001b[43m \u001b[49m\u001b[38;5;241;43m*\u001b[39;49m\u001b[43m \u001b[49m\u001b[43mlist2\u001b[49m)\n",
      "\u001b[0;31mTypeError\u001b[0m: can't multiply sequence by non-int of type 'list'"
     ]
    }
   ],
   "source": [
    "list1 = [11, 22, 33, 44]\n",
    "list2 = [55, 66]\n",
    "print(list1 * list2)"
   ]
  },
  {
   "cell_type": "markdown",
   "id": "284d5801",
   "metadata": {},
   "source": [
    "### 3.3 Comparison operator\n",
    "\n",
    "- Comparison of \"greater than\" or \"less than\" for sequence data types is determined by comparing the elements of the two sequence data types."
   ]
  },
  {
   "cell_type": "code",
   "execution_count": 93,
   "id": "1bf7ac98",
   "metadata": {},
   "outputs": [],
   "source": [
    "a = ('A', 'B', 'C')\n",
    "b = ('A', 'B', 'D')"
   ]
  },
  {
   "cell_type": "code",
   "execution_count": 95,
   "id": "e4759843",
   "metadata": {},
   "outputs": [
    {
     "data": {
      "text/plain": [
       "False"
      ]
     },
     "execution_count": 95,
     "metadata": {},
     "output_type": "execute_result"
    }
   ],
   "source": [
    "a > b"
   ]
  },
  {
   "cell_type": "code",
   "execution_count": 96,
   "id": "9f043b0d",
   "metadata": {},
   "outputs": [
    {
     "data": {
      "text/plain": [
       "True"
      ]
     },
     "execution_count": 96,
     "metadata": {},
     "output_type": "execute_result"
    }
   ],
   "source": [
    "a < b"
   ]
  },
  {
   "cell_type": "code",
   "execution_count": 100,
   "id": "6bfcbf03",
   "metadata": {},
   "outputs": [
    {
     "data": {
      "text/plain": [
       "67"
      ]
     },
     "execution_count": 100,
     "metadata": {},
     "output_type": "execute_result"
    }
   ],
   "source": [
    "ord('C') #code value of c is 67\n"
   ]
  },
  {
   "cell_type": "code",
   "execution_count": 102,
   "id": "bdfc1fe1",
   "metadata": {},
   "outputs": [
    {
     "data": {
      "text/plain": [
       "68"
      ]
     },
     "execution_count": 102,
     "metadata": {},
     "output_type": "execute_result"
    }
   ],
   "source": [
    "ord('D') #code value of D is 68"
   ]
  },
  {
   "cell_type": "markdown",
   "id": "278e08a3",
   "metadata": {},
   "source": [
    "Therefore a > b is false."
   ]
  },
  {
   "cell_type": "markdown",
   "id": "747e0647",
   "metadata": {},
   "source": [
    "- The ord function is a build-in function in python that converts a character to its corresponding Unicode value.\n",
    "- In other words, it returns the Unicode code point value of the given character."
   ]
  },
  {
   "cell_type": "code",
   "execution_count": 103,
   "id": "424bf9d7",
   "metadata": {},
   "outputs": [],
   "source": [
    "a = ['A', 'B', 'C']\n",
    "b = ['A', 'B', 'D']"
   ]
  },
  {
   "cell_type": "code",
   "execution_count": 105,
   "id": "8442a6cd",
   "metadata": {},
   "outputs": [
    {
     "data": {
      "text/plain": [
       "False"
      ]
     },
     "execution_count": 105,
     "metadata": {},
     "output_type": "execute_result"
    }
   ],
   "source": [
    "a > b"
   ]
  },
  {
   "cell_type": "code",
   "execution_count": 107,
   "id": "33fbeb4d",
   "metadata": {},
   "outputs": [
    {
     "data": {
      "text/plain": [
       "True"
      ]
     },
     "execution_count": 107,
     "metadata": {},
     "output_type": "execute_result"
    }
   ],
   "source": [
    "a < b"
   ]
  },
  {
   "cell_type": "code",
   "execution_count": 108,
   "id": "c39c1d6a",
   "metadata": {},
   "outputs": [],
   "source": [
    "a = 'ABC'\n",
    "b = 'ABD'"
   ]
  },
  {
   "cell_type": "code",
   "execution_count": 110,
   "id": "e8b60e4b",
   "metadata": {},
   "outputs": [
    {
     "data": {
      "text/plain": [
       "False"
      ]
     },
     "execution_count": 110,
     "metadata": {},
     "output_type": "execute_result"
    }
   ],
   "source": [
    "a > b"
   ]
  },
  {
   "cell_type": "code",
   "execution_count": 112,
   "id": "52fda060",
   "metadata": {},
   "outputs": [
    {
     "data": {
      "text/plain": [
       "True"
      ]
     },
     "execution_count": 112,
     "metadata": {},
     "output_type": "execute_result"
    }
   ],
   "source": [
    "a < b"
   ]
  },
  {
   "cell_type": "markdown",
   "id": "c5753093",
   "metadata": {},
   "source": [
    "- An error occurs when preforming comparison operations on range types."
   ]
  },
  {
   "cell_type": "code",
   "execution_count": 114,
   "id": "cadcefad",
   "metadata": {},
   "outputs": [],
   "source": [
    "a = range(0, 5)\n",
    "b = range(0, 5)"
   ]
  },
  {
   "cell_type": "code",
   "execution_count": 116,
   "id": "147e12bc",
   "metadata": {},
   "outputs": [
    {
     "ename": "TypeError",
     "evalue": "'>' not supported between instances of 'range' and 'range'",
     "output_type": "error",
     "traceback": [
      "\u001b[0;31m---------------------------------------------------------------------------\u001b[0m",
      "\u001b[0;31mTypeError\u001b[0m                                 Traceback (most recent call last)",
      "Cell \u001b[0;32mIn[116], line 1\u001b[0m\n\u001b[0;32m----> 1\u001b[0m \u001b[43ma\u001b[49m\u001b[43m \u001b[49m\u001b[38;5;241;43m>\u001b[39;49m\u001b[43m \u001b[49m\u001b[43mb\u001b[49m\n",
      "\u001b[0;31mTypeError\u001b[0m: '>' not supported between instances of 'range' and 'range'"
     ]
    }
   ],
   "source": [
    "a > b"
   ]
  },
  {
   "cell_type": "markdown",
   "id": "57060278",
   "metadata": {},
   "source": [
    "# 4.1 What are immutable data types?\n",
    "\n",
    "- Immutable data types refer to data types that cannot be changed after they are created.\n",
    "- In other words, they cannot be modified internally. They can <strong>only be reassigned.</strong>\n",
    "- <strong>Tuples</strong> are a representative example. Tuples cannot modify their internal elements. A new value must be assigned."
   ]
  },
  {
   "cell_type": "markdown",
   "id": "21bae471",
   "metadata": {},
   "source": [
    "### 4.2 Immutable data types and the 'is' operator\n",
    "\n",
    "- This code determines whether two varibles with the same value are the same object using the is operator.\n",
    "> - We learned that the is operator returns True if the two objects on both sides are the same, and False otherwise.\n",
    "\n",
    "- Let's compare the results of code that checks two varibles with the same elements in a list using the is operator and code that check two varibles with the same elements in a string using th is operator."
   ]
  },
  {
   "cell_type": "markdown",
   "id": "beee7e3e",
   "metadata": {},
   "source": [
    "- First, the results of the code that checks two varibles with the same elements in a <strong>list</strong> using the is operator are as follows."
   ]
  },
  {
   "cell_type": "code",
   "execution_count": 123,
   "id": "08aa17fc",
   "metadata": {},
   "outputs": [
    {
     "name": "stdout",
     "output_type": "stream",
     "text": [
      "It's the same.\n",
      "It's different object.\n"
     ]
    }
   ],
   "source": [
    "list1 = [10, 20, 30]\n",
    "list2 = [10, 20, 30]\n",
    "if list1 == list2 :\n",
    "    print(\"It's the same.\")\n",
    "    if list1 is list2 :\n",
    "        print(\"It's the same object.\")\n",
    "    else :\n",
    "        print(\"It's different object.\")\n",
    "else :\n",
    "    print(\"It's different.\")"
   ]
  },
  {
   "cell_type": "markdown",
   "id": "ebe047e7",
   "metadata": {},
   "source": [
    "- Since the list[10, 20, 30] is stored in different memory locations, the id values of list1 and list2 are different.\n",
    "- The 'is' operator compares id values, so it returns False.\n",
    "\n",
    "- Since the string 'ABC' has the same storage location, the id values of string1 and string2 are the same.\n",
    "- The 'is' operator compares id values, so it returns True."
   ]
  },
  {
   "cell_type": "code",
   "execution_count": 124,
   "id": "a4dcffc4",
   "metadata": {},
   "outputs": [
    {
     "name": "stdout",
     "output_type": "stream",
     "text": [
      "4464447552 vs 4464454336\n",
      "4413638448 vs 4413638448\n"
     ]
    }
   ],
   "source": [
    "print(id(list1), 'vs', id(list2)) #different id\n",
    "print(id(str1), 'vs', id(str2)) #the same id"
   ]
  },
  {
   "cell_type": "markdown",
   "id": "80dab27c",
   "metadata": {},
   "source": [
    "- For the 'str' data types, a table is used to store its location, and if the same string is assigned, it refers to the same location.\n",
    "- This is one of Python's optimization features, which reduces memory usage and improves performance for small-sized repeated strings."
   ]
  },
  {
   "cell_type": "markdown",
   "id": "18351313",
   "metadata": {},
   "source": [
    "- The varible name we use is essentially a reference to an object.\n",
    "- In the following code, the object with value of 100 is accessed through a varible named 'n'."
   ]
  },
  {
   "cell_type": "code",
   "execution_count": 126,
   "id": "a7c49121",
   "metadata": {},
   "outputs": [
    {
     "data": {
      "text/plain": [
       "4336848208"
      ]
     },
     "execution_count": 126,
     "metadata": {},
     "output_type": "execute_result"
    }
   ],
   "source": [
    "n = 100\n",
    "id(100)"
   ]
  },
  {
   "cell_type": "code",
   "execution_count": 128,
   "id": "1a11665a",
   "metadata": {},
   "outputs": [
    {
     "data": {
      "text/plain": [
       "4336848208"
      ]
     },
     "execution_count": 128,
     "metadata": {},
     "output_type": "execute_result"
    }
   ],
   "source": [
    "id(n)"
   ]
  },
  {
   "cell_type": "markdown",
   "id": "ded64e4a",
   "metadata": {},
   "source": [
    "- When there is a numeric type with a value of 100 and it is referenced by 'n', it is possible to access 100 through the varible 'n'."
   ]
  },
  {
   "cell_type": "code",
   "execution_count": 130,
   "id": "bd5a87e6",
   "metadata": {},
   "outputs": [
    {
     "data": {
      "text/plain": [
       "4336848208"
      ]
     },
     "execution_count": 130,
     "metadata": {},
     "output_type": "execute_result"
    }
   ],
   "source": [
    "n = 100\n",
    "m = n\n",
    "id(n)"
   ]
  },
  {
   "cell_type": "code",
   "execution_count": 132,
   "id": "526f6795",
   "metadata": {},
   "outputs": [
    {
     "data": {
      "text/plain": [
       "4336848208"
      ]
     },
     "execution_count": 132,
     "metadata": {},
     "output_type": "execute_result"
    }
   ],
   "source": [
    "id(m)"
   ]
  },
  {
   "cell_type": "markdown",
   "id": "ee29ed30",
   "metadata": {},
   "source": [
    "- Integer, float, string, boolean, and tuple are immutable data types.\n",
    "- Therefore, if their values are the same, they refer to the same storage location.\n",
    "- This is done to efficiently use memory."
   ]
  },
  {
   "cell_type": "code",
   "execution_count": 134,
   "id": "2023c00a",
   "metadata": {},
   "outputs": [
    {
     "name": "stdout",
     "output_type": "stream",
     "text": [
      "4336848208\n",
      "4336848208\n"
     ]
    }
   ],
   "source": [
    "n = 100\n",
    "m = 100\n",
    "print(id(n))\n",
    "print(id(m))"
   ]
  },
  {
   "cell_type": "markdown",
   "id": "c60b4644",
   "metadata": {},
   "source": [
    "- When a different value is assigned, the storage location changes, so it becomes a different object."
   ]
  },
  {
   "cell_type": "code",
   "execution_count": 136,
   "id": "531bae9a",
   "metadata": {},
   "outputs": [
    {
     "data": {
      "text/plain": [
       "4336848208"
      ]
     },
     "execution_count": 136,
     "metadata": {},
     "output_type": "execute_result"
    }
   ],
   "source": [
    "n = 100\n",
    "m = n\n",
    "m = 200\n",
    "id(n)"
   ]
  },
  {
   "cell_type": "code",
   "execution_count": 138,
   "id": "43c5d97b",
   "metadata": {},
   "outputs": [
    {
     "data": {
      "text/plain": [
       "4336851408"
      ]
     },
     "execution_count": 138,
     "metadata": {},
     "output_type": "execute_result"
    }
   ],
   "source": [
    "id(m)"
   ]
  },
  {
   "cell_type": "markdown",
   "id": "f556cb9e",
   "metadata": {},
   "source": [
    "- Also, by assigning n = n + 1, the newly assigned n and the previous n refer to different objects.\n",
    "- At this point, the value '100' becomes garbage, which is no longer used.\n",
    "- Garbage refers to objects that exist in memory but no longer have any references to access them.\n",
    "- Since there are no varibles referencing this object anymore, it causes memory waste."
   ]
  },
  {
   "cell_type": "code",
   "execution_count": 140,
   "id": "8e15d30a",
   "metadata": {},
   "outputs": [
    {
     "data": {
      "text/plain": [
       "4336848208"
      ]
     },
     "execution_count": 140,
     "metadata": {},
     "output_type": "execute_result"
    }
   ],
   "source": [
    "n = 100\n",
    "id(n)"
   ]
  },
  {
   "cell_type": "code",
   "execution_count": 141,
   "id": "fa7bcc2a",
   "metadata": {},
   "outputs": [
    {
     "data": {
      "text/plain": [
       "4336848240"
      ]
     },
     "execution_count": 141,
     "metadata": {},
     "output_type": "execute_result"
    }
   ],
   "source": [
    "n = n + 1\n",
    "id(n)"
   ]
  },
  {
   "cell_type": "markdown",
   "id": "e9c5cb4c",
   "metadata": {},
   "source": [
    "Therefore, periodic garbage memory cleanup is necessary, and this memory management procedure is called <mark style=\"background-color:yellow\">garbage collection</mark>"
   ]
  },
  {
   "cell_type": "markdown",
   "id": "5b13e008",
   "metadata": {},
   "source": [
    "# 10.2 Paper coding"
   ]
  },
  {
   "cell_type": "code",
   "execution_count": 143,
   "id": "2f8881e2",
   "metadata": {},
   "outputs": [
    {
     "name": "stdout",
     "output_type": "stream",
     "text": [
      "True\n",
      "False\n",
      "True\n",
      "('a', 'b', 'c', 'd', 'e')\n",
      "[('a', 'b', 'c', 'd', 'e')]\n",
      "('a', 'b', 'c')\n"
     ]
    }
   ],
   "source": [
    "#Q1\n",
    "\n",
    "t1 = 'a', 'b', 'c'\n",
    "t2 = ('a', 'b', 'c')\n",
    "t3 = ('d', 'e')\n",
    "\n",
    "print(t1 == t2)\n",
    "\n",
    "print(t1 > t3)\n",
    "\n",
    "print(t1 < t3)\n",
    "\n",
    "print(t2 + t3)\n",
    "\n",
    "print([ t2 + t3 ])\n",
    "\n",
    "print(t1)\n"
   ]
  },
  {
   "cell_type": "code",
   "execution_count": 1,
   "id": "a4efaa5c",
   "metadata": {},
   "outputs": [
    {
     "name": "stdout",
     "output_type": "stream",
     "text": [
      "In the last 10 days, there are 3 days that sales lower than the last previous day\n"
     ]
    }
   ],
   "source": [
    "#Q2\n",
    "\n",
    "record = (100, 121, 120, 130, 140, 120, 122, 123, 190, 125)\n",
    "count = 0\n",
    "for i in range(len(record) - 1) :\n",
    "    if record[i] > record[i + 1] :\n",
    "        count += 1\n",
    "print(f\"In the last 10 days, there are {count} days that sales lower than the last previous day\")"
   ]
  },
  {
   "cell_type": "markdown",
   "id": "95903867",
   "metadata": {},
   "source": [
    "# 10.4 Let's code"
   ]
  },
  {
   "cell_type": "markdown",
   "id": "f5fe4b5d",
   "metadata": {},
   "source": [
    "## <mark>Mission</mark>\n",
    "\n",
    "### Aging Rate Calculator"
   ]
  },
  {
   "cell_type": "code",
   "execution_count": 25,
   "id": "19ce408e",
   "metadata": {},
   "outputs": [
    {
     "name": "stdout",
     "output_type": "stream",
     "text": [
      "0.165 0.003\n"
     ]
    }
   ],
   "source": [
    "population_A = (100, 150, 230, 120, 180, 100, 140, 95, 81, 21, 4)\n",
    "population_B = (300, 420, 530, 420, 400, 300, 40, 5, 1, 1, 1)\n",
    "\n",
    "sumA = sum(population_A)\n",
    "sumB = sum(population_B)\n",
    "\n",
    "oldA = sum(population_A[7:])/sumA\n",
    "oldB = sum(population_B[7:])/sumB\n",
    "\n",
    "print(\"{:5.3f} {:5.3f}\".format(oldA, oldB))\n",
    "\n"
   ]
  }
 ],
 "metadata": {
  "kernelspec": {
   "display_name": "Python 3 (ipykernel)",
   "language": "python",
   "name": "python3"
  },
  "language_info": {
   "codemirror_mode": {
    "name": "ipython",
    "version": 3
   },
   "file_extension": ".py",
   "mimetype": "text/x-python",
   "name": "python",
   "nbconvert_exporter": "python",
   "pygments_lexer": "ipython3",
   "version": "3.10.9"
  }
 },
 "nbformat": 4,
 "nbformat_minor": 5
}
