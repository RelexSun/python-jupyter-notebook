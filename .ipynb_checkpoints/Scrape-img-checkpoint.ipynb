{
 "cells": [
  {
   "cell_type": "code",
   "execution_count": 4,
   "id": "9e2fe67b-6ffe-467d-9ec2-1d6d1dfa0ae0",
   "metadata": {},
   "outputs": [],
   "source": [
    "import requests\n",
    "from bs4 import BeautifulSoup\n",
    "from urllib.parse import urljoin\n",
    "\n",
    "def scrape_images(url, save_path='./images/'):\n",
    "    # Send a GET request to the URL\n",
    "    response = requests.get(url)\n",
    "    \n",
    "    # Check if the request was successful (status code 200)\n",
    "    if response.status_code == 200:\n",
    "        # Parse the HTML content of the page\n",
    "        soup = BeautifulSoup(response.content, 'html.parser')\n",
    "        \n",
    "        # Find all image tags\n",
    "        img_tags = soup.find_all('img')\n",
    "        \n",
    "        # Download and save each image\n",
    "        for img_tag in img_tags:\n",
    "            print(\"Entering loop\")\n",
    "            img_url = img_tag['src']\n",
    "            print(f\"Image URL: {img_url}\")\n",
    "            img_url = urljoin(url, img_url)  # Make sure the URL is absolute\n",
    "            img_data = requests.get(img_url).content\n",
    "            img_name = img_url.split('/')[-1]\n",
    "            with open(save_path + img_name, 'wb') as f:\n",
    "                f.write(img_data)\n",
    "            print(f\"Downloaded: {img_name}\")\n",
    "\n",
    "    else:\n",
    "        print(f\"Failed to retrieve the page. Status code: {response.status_code}\")\n",
    "\n",
    "if __name__ == \"__main__\":\n",
    "    # Replace 'https://example.com' with the URL of the website you want to scrape\n",
    "    target_url = 'https://www.payway.com.kh'\n",
    "    \n",
    "    # Create a directory to save the images\n",
    "    save_directory = '/Users/relexsun/Desktop/images'\n",
    "    \n",
    "    # Call the function to scrape images\n",
    "    scrape_images(target_url, save_directory)\n"
   ]
  }
 ],
 "metadata": {
  "kernelspec": {
   "display_name": "Python 3 (ipykernel)",
   "language": "python",
   "name": "python3"
  },
  "language_info": {
   "codemirror_mode": {
    "name": "ipython",
    "version": 3
   },
   "file_extension": ".py",
   "mimetype": "text/x-python",
   "name": "python",
   "nbconvert_exporter": "python",
   "pygments_lexer": "ipython3",
   "version": "3.11.5"
  }
 },
 "nbformat": 4,
 "nbformat_minor": 5
}
