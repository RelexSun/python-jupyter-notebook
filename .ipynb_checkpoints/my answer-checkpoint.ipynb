{
 "cells": [
  {
   "cell_type": "markdown",
   "id": "623198d9",
   "metadata": {},
   "source": [
    "# 1. Sequential Programming Plan\n",
    "## 1.1. Output a self-introduction letter"
   ]
  },
  {
   "cell_type": "code",
   "execution_count": null,
   "id": "0531d62c",
   "metadata": {},
   "outputs": [],
   "source": []
  },
  {
   "cell_type": "markdown",
   "id": "860e40af",
   "metadata": {},
   "source": [
    "## 1.2. Flowchart of Finding Accomodation"
   ]
  },
  {
   "cell_type": "code",
   "execution_count": null,
   "id": "72dffa7e",
   "metadata": {},
   "outputs": [],
   "source": []
  },
  {
   "cell_type": "markdown",
   "id": "60469afc",
   "metadata": {},
   "source": [
    "## 1.3. Code 7 `print` statement to product the following output:\n",
    "```\n",
    "    *\n",
    "   ***\n",
    "  *****\n",
    "*********\n",
    "  *****\n",
    "   ***\n",
    "    *\n",
    "```"
   ]
  },
  {
   "cell_type": "code",
   "execution_count": 9,
   "id": "52342d52",
   "metadata": {},
   "outputs": [
    {
     "name": "stdout",
     "output_type": "stream",
     "text": [
      "    *\n",
      "   ***\n",
      "  *****\n",
      " *******\n",
      "*********\n"
     ]
    }
   ],
   "source": [
    "for i in range(1, 6) :\n",
    "    spaces = \" \" * (5 - i)\n",
    "    stars = \"*\" * (2 * i - 1)\n",
    "    print(spaces + stars)"
   ]
  },
  {
   "cell_type": "markdown",
   "id": "7f7b4a64",
   "metadata": {},
   "source": [
    "## 1.4.🔥 Create a flowchart to factorize 18, 39, 63, 126, 792"
   ]
  },
  {
   "cell_type": "code",
   "execution_count": null,
   "id": "d5786505",
   "metadata": {},
   "outputs": [],
   "source": []
  },
  {
   "cell_type": "markdown",
   "id": "50e408c2",
   "metadata": {},
   "source": [
    "# 2. Variables, Data Types, Operators\n",
    "## 2.1. Use `int` to add string '50' with number 50 to output 100.\n",
    "Then use `str` to output '5050'"
   ]
  },
  {
   "cell_type": "code",
   "execution_count": 2,
   "id": "12af6c77",
   "metadata": {},
   "outputs": [
    {
     "name": "stdout",
     "output_type": "stream",
     "text": [
      "100\n"
     ]
    }
   ],
   "source": [
    "print(int('50') + 50)"
   ]
  },
  {
   "cell_type": "markdown",
   "id": "fe904edf",
   "metadata": {},
   "source": [
    "## 2.2. You have one instance of '1' and three instances of '0'. Output number 1000.\n",
    "Use `int` only once"
   ]
  },
  {
   "cell_type": "code",
   "execution_count": 4,
   "id": "2c4dfedc",
   "metadata": {},
   "outputs": [
    {
     "name": "stdout",
     "output_type": "stream",
     "text": [
      "1000\n"
     ]
    }
   ],
   "source": [
    "print(int('1' + '0' + '0' + '0'))"
   ]
  },
  {
   "cell_type": "markdown",
   "id": "7d88d676",
   "metadata": {},
   "source": [
    "## 2.3. Print the circumference and area of circle"
   ]
  },
  {
   "cell_type": "code",
   "execution_count": 5,
   "id": "f57d2ee8",
   "metadata": {},
   "outputs": [
    {
     "name": "stdout",
     "output_type": "stream",
     "text": [
      "enter radius: 4\n",
      "circumference of the circle: 25.12 \n",
      "area of the circle: 50.24\n"
     ]
    }
   ],
   "source": [
    "pi = 3.14\n",
    "r = int(input('enter radius: '))\n",
    "\n",
    "c = 2 * pi * r\n",
    "a = pi * pow(r, 2)\n",
    "print(\"circumference of the circle: {} \\narea of the circle: {}\".format(c, a))"
   ]
  },
  {
   "cell_type": "markdown",
   "id": "8089bebd",
   "metadata": {},
   "source": [
    "## 2.4. Using integer and * operator to output factorial of 5 and 10 like below\n",
    "Output:   \n",
    "Calculate the factorial.   \n",
    "5! = 120\n",
    "\n",
    "Calculate the factorial.   \n",
    "10! = 3628800"
   ]
  },
  {
   "cell_type": "code",
   "execution_count": 5,
   "id": "e465758e",
   "metadata": {},
   "outputs": [
    {
     "name": "stdout",
     "output_type": "stream",
     "text": [
      "enter integer: 10\n",
      "10! = 3628800\n"
     ]
    }
   ],
   "source": [
    "n = int(input('enter integer: '))\n",
    "result = 1\n",
    "for i in range(1, n + 1) :\n",
    "    result *= i\n",
    "\n",
    "print(\"{}! = {}\".format(n, result))\n",
    "\n",
    "# n = 10\n",
    "# factorial = 1 * 2 * n * (n-1) * (n-2) * (n-3) * (n-4) * (n-5) * (n-6) * (n-7)\n",
    "# print(str(n) + '! = ' + str(factorial))"
   ]
  },
  {
   "cell_type": "markdown",
   "id": "038fba76",
   "metadata": {},
   "source": [
    "# 3. String input output, Built-in Functions, Module"
   ]
  },
  {
   "cell_type": "markdown",
   "id": "8f011278",
   "metadata": {},
   "source": [
    "## 3.1. Assign 30 and 60 to variable `width` and `height` respectively. Calculate area of rectangle then output\n",
    "Area of the rectangle: 1800"
   ]
  },
  {
   "cell_type": "code",
   "execution_count": 8,
   "id": "11581f96",
   "metadata": {},
   "outputs": [
    {
     "name": "stdout",
     "output_type": "stream",
     "text": [
      "enter width: 30\n",
      "enter height: 60\n",
      "Area of a rectangle:  1800\n"
     ]
    }
   ],
   "source": [
    "# w = 30\n",
    "# h = 60\n",
    "\n",
    "# rec_area = w * h\n",
    "# print(\"Area of a rectangle: \",rec_area)\n",
    "\n",
    "w = int(input('enter width: '))\n",
    "h = int(input('enter height: '))\n",
    "\n",
    "print(\"Area of a rectangle: \", w * h)"
   ]
  },
  {
   "cell_type": "markdown",
   "id": "a6d4002c",
   "metadata": {},
   "source": [
    "## 3.2. Calculate the length of hypotenuse\n",
    "- First line should prompt for the base.  \n",
    "- Second line should prompt for the height.   \n",
    "- 3rd line is the output\n"
   ]
  },
  {
   "cell_type": "code",
   "execution_count": 5,
   "id": "95bf7a2c",
   "metadata": {},
   "outputs": [
    {
     "name": "stdout",
     "output_type": "stream",
     "text": [
      "enter base: 3\n",
      "enter height: 4\n",
      "5.0\n"
     ]
    }
   ],
   "source": [
    "\n",
    "base = int(input('enter base: '))\n",
    "height = int(input('enter height: '))\n",
    "hypotenuse_length = pow((pow(base,2) + pow(height,2)), 1/2)\n",
    "print(hypotenuse_length)\n",
    "\n",
    "# from math import sqrt\n",
    "\n",
    "# base = int(input('enter base: '))\n",
    "# height = int(input('enter height: '))\n",
    "\n",
    "# hypotenuse_length = sqrt(pow(base,2) + pow(height,2)) \n",
    "\n",
    "# print(hypotenuse_length)"
   ]
  },
  {
   "cell_type": "markdown",
   "id": "fb54d291",
   "metadata": {},
   "source": [
    "## 3.3. BMI Calculator\n",
    "- Obtain user's name, height and weight\n",
    "- Unit of BMI is Kg/m^2"
   ]
  },
  {
   "cell_type": "code",
   "execution_count": 10,
   "id": "44a292ac",
   "metadata": {},
   "outputs": [
    {
     "name": "stdout",
     "output_type": "stream",
     "text": [
      "Enter name: sun\n",
      "Enter height in cm: 175\n",
      "Enter weight in kg: 72\n",
      "your BMI: 23.51\n"
     ]
    }
   ],
   "source": [
    "name = input('Enter name: ')\n",
    "height = int(input('Enter height in cm: '))\n",
    "weight = int(input('Enter weight in kg: '))\n",
    "height_m = height / 100\n",
    "\n",
    "BMI = weight/pow(height_m, 2)\n",
    "print(\"your BMI: {:.2f}\".format(BMI))"
   ]
  },
  {
   "cell_type": "markdown",
   "id": "e08b8e8c",
   "metadata": {},
   "source": [
    "## 3.4.🔥 Change calculator\n",
    "- The coins for change are only 500 and 100\n",
    "- Input the money\n",
    "- Input the price of goods\n",
    "- Calculate the changes"
   ]
  },
  {
   "cell_type": "code",
   "execution_count": 13,
   "id": "45954a7e",
   "metadata": {},
   "outputs": [
    {
     "name": "stdout",
     "output_type": "stream",
     "text": [
      "enter the amount of money: 1000\n",
      "enter the price of goods: 200\n",
      "the changes is:  800\n",
      "the changes in coin of 500 is: 1\n",
      "the changes in coin of 100 is: 3\n"
     ]
    }
   ],
   "source": [
    "money = int(input('enter the amount of money: '))\n",
    "price = int(input('enter the price of goods: '))\n",
    "changes = money - price\n",
    "\n",
    "change_coin1 = changes // 500\n",
    "\n",
    "change_coin2 = (changes // 100) - (change_coin1 * 5)\n",
    "\n",
    "\n",
    "print('the changes is: ', changes)\n",
    "print('the changes in coin of 500 is: {}'.format(change_coin1) )\n",
    "print('the changes in coin of 100 is: {}'.format(change_coin2))"
   ]
  },
  {
   "cell_type": "code",
   "execution_count": 12,
   "id": "1e24a7d7",
   "metadata": {},
   "outputs": [
    {
     "name": "stdout",
     "output_type": "stream",
     "text": [
      "enter the amount of money: 1000\n",
      "enter the price of goods: 200\n",
      "the changes is:  300\n",
      "the changes in coin of 500 is: 1\n",
      "the changes in coin of 100 is: 3\n"
     ]
    }
   ],
   "source": [
    "money = int(input('enter the amount of money: '))\n",
    "price = int(input('enter the price of goods: '))\n",
    "changes = money - price\n",
    "coin1 = changes // 500\n",
    "changes = changes % 500\n",
    "coin2 = changes // 100\n",
    "\n",
    "\n",
    "print('the changes is: ', changes)\n",
    "print('the changes in coin of 500 is: {}'.format(coin1) )\n",
    "print('the changes in coin of 100 is: {}'.format(coin2))"
   ]
  },
  {
   "cell_type": "markdown",
   "id": "49133f40",
   "metadata": {},
   "source": [
    "## 3.5. Get radius from user and calculate the circumference and area of a circle\n",
    "- use PI = 3.141592\n",
    "- Output Sample:\n",
    "    - Enter the radius of a circle: 11\n",
    "    - Circumference of the circle:....., Area:...."
   ]
  },
  {
   "cell_type": "code",
   "execution_count": 12,
   "id": "c5bd4673",
   "metadata": {},
   "outputs": [
    {
     "name": "stdout",
     "output_type": "stream",
     "text": [
      "Enter the radius: 11\n",
      "circumference: 69.115024 \n",
      "area: 380.132632\n"
     ]
    }
   ],
   "source": [
    "r = int(input('Enter the radius: '))\n",
    "pi = 3.141592\n",
    "c = 2 * pi * r\n",
    "a = pi * pow(r, 2)\n",
    "print('circumference: {} \\narea: {}'.format(c, a))"
   ]
  },
  {
   "cell_type": "markdown",
   "id": "cb3e8e40",
   "metadata": {},
   "source": [
    "## 3.6. Display squared result in table of the value from 2 to 6\n",
    "Output:   \n",
    "```\n",
    "a    n    a**n\n",
    "2    2    4\n",
    "3    2    9\n",
    "4    2    16\n",
    "5    2    25\n",
    "6    2    36\n",
    "```"
   ]
  },
  {
   "cell_type": "code",
   "execution_count": 28,
   "id": "f405482d",
   "metadata": {},
   "outputs": [
    {
     "name": "stdout",
     "output_type": "stream",
     "text": [
      "a       n       a**n   \n",
      "2\t2\t4\n",
      "3\t2\t9\n",
      "4\t2\t16\n",
      "5\t2\t25\n",
      "6\t2\t36\n"
     ]
    }
   ],
   "source": [
    "print(\"{:7} {:7} {:7}\".format(\"a\", \"n\", \"a**n\"))\n",
    "for i in range(2, 7) :\n",
    "    print(i, end = \"\\t\")\n",
    "    print('2', end = \"\\t\")\n",
    "    print(pow(i, 2))\n",
    "    \n"
   ]
  },
  {
   "cell_type": "markdown",
   "id": "41642919",
   "metadata": {},
   "source": [
    "# 4. Boolean Expression\n",
    "## 4.1. Leap Year\n",
    "Output Sample:\n",
    "```\n",
    "Enter the year: 2023\n",
    "False\n",
    "```"
   ]
  },
  {
   "cell_type": "code",
   "execution_count": 37,
   "id": "07d291bb",
   "metadata": {},
   "outputs": [
    {
     "name": "stdout",
     "output_type": "stream",
     "text": [
      "Enter the year: 2024\n",
      "True\n"
     ]
    }
   ],
   "source": [
    "n = int(input('Enter the year: '))\n",
    "print((n % 4 == 0 or n % 400 == 0) and not (n % 100 == 0)) \n"
   ]
  },
  {
   "cell_type": "markdown",
   "id": "29fe9aba",
   "metadata": {},
   "source": [
    "## 4.2. Input from users, print True if input is odd and False otherwise\n",
    "Output:\n",
    "```\n",
    "Enter an integer: 20\n",
    "Is this number odd? False\n",
    "```"
   ]
  },
  {
   "cell_type": "code",
   "execution_count": 42,
   "id": "b7e3b49c",
   "metadata": {},
   "outputs": [
    {
     "name": "stdout",
     "output_type": "stream",
     "text": [
      "Enter an integer: 1\n",
      "is this number odd? True\n"
     ]
    }
   ],
   "source": [
    "n = int(input('Enter an integer: '))\n",
    "print('is this number odd?', (n % 2 == 1))"
   ]
  },
  {
   "cell_type": "markdown",
   "id": "14aa93b5",
   "metadata": {},
   "source": [
    "## 4.3. Input from users, print True is input is even number within range 0 to 10\n",
    "Output:\n",
    "```\n",
    "Enter an integer: 12\n",
    "Is the entered integer an even number within the range 0 to 10? False\n",
    "```"
   ]
  },
  {
   "cell_type": "code",
   "execution_count": 50,
   "id": "45d104b4",
   "metadata": {},
   "outputs": [
    {
     "name": "stdout",
     "output_type": "stream",
     "text": [
      "Enter an integer: 12\n",
      "Is the entered integer an even number       \\ within the range 0 to 10? False\n"
     ]
    }
   ],
   "source": [
    "n = int(input('Enter an integer: '))\n",
    "print(\"Is the entered integer an even number within the range 0 to 10?\", (n >= 0 and n <= 10))"
   ]
  },
  {
   "cell_type": "markdown",
   "id": "a07ee4d7",
   "metadata": {},
   "source": [
    "## 4.4. Get input of 3digit integer from user. If the hundreds digit is 3, print True\n",
    "Output:\n",
    "```\n",
    "Please enter a three-digit integer: 321\n",
    "True\n",
    "```"
   ]
  },
  {
   "cell_type": "code",
   "execution_count": 7,
   "id": "4a06b4e6",
   "metadata": {},
   "outputs": [
    {
     "name": "stdout",
     "output_type": "stream",
     "text": [
      "Enter an integer: 200\n",
      "Please enter a three-digit integer:  False\n"
     ]
    }
   ],
   "source": [
    "n = int(input('Enter an integer: '))\n",
    "print(\"Please enter a three-digit integer: \", (n >= 300 and n < 400) )"
   ]
  },
  {
   "cell_type": "markdown",
   "id": "0e71cd54",
   "metadata": {},
   "source": [
    "## 4.5. Input an integer, print True if it is a multiple of 5\n",
    "Output:\n",
    "```\n",
    "Enter an integer: 125\n",
    "True\n",
    "```"
   ]
  },
  {
   "cell_type": "code",
   "execution_count": 53,
   "id": "2af29f66",
   "metadata": {},
   "outputs": [
    {
     "name": "stdout",
     "output_type": "stream",
     "text": [
      "Enter an integer: 25\n",
      "True\n"
     ]
    }
   ],
   "source": [
    "n = int(input('Enter an integer: '))\n",
    "print(n % 5 == 0)"
   ]
  },
  {
   "cell_type": "markdown",
   "id": "02ed51c1",
   "metadata": {},
   "source": [
    "# 5. Conditional-1"
   ]
  },
  {
   "cell_type": "markdown",
   "id": "cc96dc58",
   "metadata": {},
   "source": [
    "## 5.1. Lottery simulation with 3 integers\n",
    "- Winning numbers are 2, 3, 9\n",
    "- User's input is 3 digit separated by spaces\n",
    "- Print 'You won the lottery' if user correctly guesses the 3 numbers in any order\n",
    "\n",
    "Output:\n",
    "```\n",
    "Please enter 3 lottery numbers : 2 9 3\n",
    "You won the lottery\n",
    "```"
   ]
  },
  {
   "cell_type": "code",
   "execution_count": 4,
   "id": "1da62e0f",
   "metadata": {},
   "outputs": [
    {
     "name": "stdout",
     "output_type": "stream",
     "text": [
      "enter numbers: 2 3 9\n",
      "YOU LOSE\n"
     ]
    }
   ],
   "source": [
    "n = input('enter numbers: ')\n",
    "if n == '2 3 9' :\n",
    "    print('YOU WON')\n",
    "else :\n",
    "    print('YOU LOSE')"
   ]
  },
  {
   "cell_type": "markdown",
   "id": "4288ce2b",
   "metadata": {},
   "source": [
    "## 5.2. Get input from user and check if it is a multiple of both 3 and 5\n",
    "Output:\n",
    "```\n",
    "Enter integer: 30\n",
    "True\n",
    "```"
   ]
  },
  {
   "cell_type": "code",
   "execution_count": 10,
   "id": "bfcd29b4",
   "metadata": {},
   "outputs": [
    {
     "name": "stdout",
     "output_type": "stream",
     "text": [
      "Enter integer: 30\n",
      "True\n"
     ]
    }
   ],
   "source": [
    "n = int(input('Enter integer: '))\n",
    "print(n % 3 == 0 and n % 5 == 0)"
   ]
  },
  {
   "cell_type": "markdown",
   "id": "40998318",
   "metadata": {},
   "source": [
    "## 5.3. print 'You are a pro.' if game_score input is 1000 or more\n",
    "Output:\n",
    "```\n",
    "Enter game score: 1500\n",
    "You are a pro.\n",
    "```"
   ]
  },
  {
   "cell_type": "code",
   "execution_count": 13,
   "id": "2c0e5ea2",
   "metadata": {},
   "outputs": [
    {
     "name": "stdout",
     "output_type": "stream",
     "text": [
      "Enter game score: 200\n",
      "Noob\n"
     ]
    }
   ],
   "source": [
    "n = int(input('Enter game score: '))\n",
    "if n >= 1000 :\n",
    "    print('you are a pro.')\n",
    "else :\n",
    "    print('Noob')"
   ]
  },
  {
   "cell_type": "markdown",
   "id": "76cf47fa",
   "metadata": {},
   "source": [
    "## 5.4. Get an integer input x between -100 and 100 and then:\n",
    "1. Print x on screen\n",
    "2. If x is a positive integer, print '... is a natural number' Otherwise, only print x as it is.\n",
    "\n",
    "Output:\n",
    "```\n",
    "Enter integer: 50\n",
    "\n",
    "x = 50\n",
    "50 is a natural number.\n",
    "```"
   ]
  },
  {
   "cell_type": "code",
   "execution_count": 14,
   "id": "43ffc563",
   "metadata": {},
   "outputs": [
    {
     "name": "stdout",
     "output_type": "stream",
     "text": [
      "Enter integer: 40\n",
      "40 is a natural number.\n"
     ]
    }
   ],
   "source": [
    "n = int(input('Enter integer: '))\n",
    "if n > 0 :\n",
    "    print(n, 'is a natural number.')\n",
    "else :\n",
    "    print(n)"
   ]
  },
  {
   "cell_type": "markdown",
   "id": "4fa339b5",
   "metadata": {},
   "source": [
    "## 5.5. Get age input from user and:\n",
    "- print 'Adult' if the age is 20 or above\n",
    "- print 'Youth' if the age is 10 or above but less than 20\n",
    "- print 'Kid' if the age is below 10\n",
    "**Note**: Use `if` only."
   ]
  },
  {
   "cell_type": "code",
   "execution_count": 27,
   "id": "a7ad035b",
   "metadata": {},
   "outputs": [
    {
     "name": "stdout",
     "output_type": "stream",
     "text": [
      "Enter age: 19\n",
      "Youth\n"
     ]
    }
   ],
   "source": [
    "n = int(input('Enter age: '))\n",
    "\n",
    "if n >= 20 :\n",
    "    print('Adult')\n",
    "if n > 10 and n < 20 :\n",
    "    print('Youth')\n",
    "if n <= 10 and n > 0:\n",
    "    print('kid')"
   ]
  },
  {
   "cell_type": "markdown",
   "id": "8d5e88d9",
   "metadata": {},
   "source": [
    "## 5.6. Get age and height inputs from user\n",
    "Print 'You can enter.' if the age is 65 years old or younger and height is 110 cm or above.\n",
    "\n",
    "Output:\n",
    "```\n",
    "Enter your age: 20\n",
    "Enter your height (in cm): 180\n",
    "\n",
    "You can enter.\n",
    "```"
   ]
  },
  {
   "cell_type": "code",
   "execution_count": 29,
   "id": "dcb17920",
   "metadata": {},
   "outputs": [
    {
     "name": "stdout",
     "output_type": "stream",
     "text": [
      "Enter age: 20\n",
      "Enter heightin cm: 180\n",
      "You can enter\n"
     ]
    }
   ],
   "source": [
    "n = int(input('Enter age: '))\n",
    "x = int(input('Enter heightin cm: '))\n",
    "if n < 65 and x >= 110 :\n",
    "    print('You can enter')"
   ]
  },
  {
   "cell_type": "markdown",
   "id": "c06435ee",
   "metadata": {},
   "source": [
    "# 6. Conditional-2\n",
    "## 6.1. Odd or even number\n",
    "- Get user input as integer\n",
    "- If the number is negative. print '...is a negative number'\n",
    "- If the number is not negative. print '...is not a negative number'. Then decide if it is 'odd' or 'even'\n",
    "\n",
    "Output:\n",
    "```\n",
    "Enter an int: 100\n",
    "100 is not a negative number.\n",
    "Even\n",
    "```"
   ]
  },
  {
   "cell_type": "code",
   "execution_count": 40,
   "id": "ab601e8f",
   "metadata": {},
   "outputs": [
    {
     "name": "stdout",
     "output_type": "stream",
     "text": [
      "Enter integer: 22\n",
      "22 is a positive number.\n",
      "even\n"
     ]
    }
   ],
   "source": [
    "n = int(input('Enter integer: '))\n",
    "\n",
    "if n >= 0 :\n",
    "    print(n, 'is a positive number.')\n",
    "else :\n",
    "    print(n, 'is a negative number.')\n",
    "    \n",
    "if n % 2 == 0 :\n",
    "    print('even')\n",
    "else :\n",
    "    print('odd')"
   ]
  },
  {
   "cell_type": "markdown",
   "id": "73db7b66",
   "metadata": {},
   "source": [
    "## 6.2. Get input and determine of it is positive, negative or zero\n",
    "Output:\n",
    "```\n",
    "Enter a number: 0\n",
    "It is zero\n",
    "```"
   ]
  },
  {
   "cell_type": "code",
   "execution_count": 47,
   "id": "9aeecb0e",
   "metadata": {},
   "outputs": [
    {
     "name": "stdout",
     "output_type": "stream",
     "text": [
      "Enter integer: 0\n",
      "it is zero\n"
     ]
    }
   ],
   "source": [
    "n = int(input('Enter integer: '))\n",
    "if n % 2 == 0 and n > 0:\n",
    "    print('even')\n",
    "elif n % 2 == 1 and n > 0:\n",
    "    print('odd')\n",
    "else :\n",
    "    print('it is zero')"
   ]
  },
  {
   "cell_type": "markdown",
   "id": "17b57fb6",
   "metadata": {},
   "source": [
    "## 6.3.🔥 Automatic menu ordering system\n",
    "- Print the menu\n",
    "- Let user choose an item\n",
    "- Let user input number of the chosen item\n",
    "- Print total amount\n",
    "- Let user input money\n",
    "- If money is not enough, print 'Not enough money'\n",
    "- Otherwise, print the input money and the change\n",
    "\n",
    "Output:\n",
    "```\n",
    "##############################\n",
    "It's David's fruit shop.\n",
    "1: Apple( Price: 5,000 won)\n",
    "2: Grape( Price: 6,000 won)\n",
    "3: Melon( Price: 8,000 won)\n",
    "4: Orange( Price: 2,000 won)\n",
    "##############################\n",
    "Enter number of the items (1 to 4): 1\n",
    "Enter the number of items: 2\n",
    "\n",
    "The fruit you chose is: Apple\n",
    "The price of: 5000\n",
    "Total price: 10000\n",
    "\n",
    "Please input the money: 12000\n",
    "Got 12000 won. The change is 2000 won.\n",
    "```"
   ]
  },
  {
   "cell_type": "code",
   "execution_count": 1,
   "id": "684003d6",
   "metadata": {},
   "outputs": [
    {
     "name": "stdout",
     "output_type": "stream",
     "text": [
      "####################\n",
      "It's David's fruit shop.\n",
      "1: Apple( Price: 5,000 won)\n",
      "2: Grape( Price: 6,000 won)\n",
      "3: Melon( Price: 8,000 won)\n",
      "4: Orange( Price: 2,000 won)\n",
      "####################\n",
      "Enter number of the items (1 to 4):1\n",
      "enter the number of items 3\n",
      "The fruit you chose is: Apple \n",
      "The price of: 5000 \n",
      "Total price: 15000\n"
     ]
    }
   ],
   "source": [
    "print('#' * 20)\n",
    "print(\"It's David's fruit shop.\")\n",
    "print(\"1: Apple( Price: 5,000 won)\")\n",
    "print(\"2: Grape( Price: 6,000 won)\")\n",
    "print(\"3: Melon( Price: 8,000 won)\")\n",
    "print(\"4: Orange( Price: 2,000 won)\")\n",
    "print('#' * 20)\n",
    "n = input('Enter number of the items (1 to 4):')\n",
    "x = int(input('enter the number of items '))\n",
    "\n",
    "price1 = 5000\n",
    "price2 = 6000\n",
    "price3 = 8000\n",
    "price4 = 2000\n",
    "\n",
    "\n",
    "\n",
    "if n == '1' :\n",
    "    print('The fruit you chose is: Apple \\nThe price of: {} \\nTotal price: {}'.format(price1, price1 * x))\n",
    "elif n == '2' :\n",
    "    print('The fruit you chose is: Grape \\nThe price of: {} \\nTotal price: {}'.format(price2, price2 * x))    \n",
    "elif n == '3' :\n",
    "    print('The fruit you chose is: Melon \\nThe price of: {} \\nTotal price: {}'.format(price3, price3 * x))   \n",
    "elif n == '4' :\n",
    "    print('The fruit you chose is: Orange \\nThe price of: {} \\nTotal price: {}'.format(price4, price4 * x))   \n",
    "      \n",
    "    \n",
    "    \n",
    "    \n",
    "    \n",
    "    \n",
    "    "
   ]
  },
  {
   "cell_type": "markdown",
   "id": "6c62ecf9",
   "metadata": {},
   "source": [
    "## 6.4.🔥 GPA calculator\n",
    "- Get user input score and print their grade accordingly\n",
    "- if 90 and above, print 'A'\n",
    "- if below 90 and above 80, print 'B'\n",
    "- if below 80 and above 70, print 'C'\n",
    "- if below 70 and above 60, print 'D'\n",
    "- if below 60, print 'F'\n",
    "\n",
    "Output:\n",
    "```\n",
    "Enter your grade: 88\n",
    "Grade: B\n",
    "```"
   ]
  },
  {
   "cell_type": "code",
   "execution_count": 11,
   "id": "31016e6e",
   "metadata": {},
   "outputs": [
    {
     "name": "stdout",
     "output_type": "stream",
     "text": [
      "enter your grade: 45\n",
      "F 🤣🫵🏿, bro was a try hard and still got an F \n",
      "💀💀💀💀\n"
     ]
    }
   ],
   "source": [
    "n = int(input(\"enter your grade: \"))\n",
    "\n",
    "if n >= 90 :\n",
    "    print('Your grade is A')\n",
    "elif n < 90 and n >= 80 :\n",
    "    print('Your grade is B')\n",
    "elif n < 80 and n >= 70 :\n",
    "    print('Your grade is c')\n",
    "elif n < 70 and n >= 60 :\n",
    "    print('Your grade is d')\n",
    "elif n < 60 :\n",
    "    print('F 🤣🫵🏿, bro was a try hard and still got an F ')\n",
    "    print(\"💀\" * 4)"
   ]
  },
  {
   "cell_type": "markdown",
   "id": "d6e7db95",
   "metadata": {},
   "source": [
    "## 6.5. Get user input as single alphabet character\n",
    "- if input is 'a, e, i, o or u' print 'It is a vowel'\n",
    "- Otherwise, print 'It is a consonant.'\n",
    "\n",
    "Output:\n",
    "```\n",
    "Enter the alphabet: k\n",
    "k is a consonant\n",
    "```"
   ]
  },
  {
   "cell_type": "code",
   "execution_count": 7,
   "id": "3ae1ce47",
   "metadata": {},
   "outputs": [
    {
     "name": "stdout",
     "output_type": "stream",
     "text": [
      "enter a character: 4\n",
      "error\n"
     ]
    }
   ],
   "source": [
    "n = input('enter a character: ')\n",
    "vowel = ['a', 'e', 'i', 'o', 'u']\n",
    "if n in vowel :\n",
    "    print(n, 'is a vowel.')\n",
    "elif n.isdigit() :\n",
    "    print('error')\n",
    "elif n not in vowel :\n",
    "    print(n, 'is a constant')"
   ]
  },
  {
   "cell_type": "markdown",
   "id": "4f08cabb",
   "metadata": {},
   "source": [
    "## 6.6. check if a is a multiple of b\n",
    "Get user inputs as `a` and `b` (separated by space)\n",
    "\n",
    "Output:\n",
    "```\n",
    "Write 2 integers: 30 3\n",
    "\n",
    "30 is a multiple of 3\n",
    "```"
   ]
  },
  {
   "cell_type": "code",
   "execution_count": 18,
   "id": "10e653f5",
   "metadata": {},
   "outputs": [
    {
     "name": "stdout",
     "output_type": "stream",
     "text": [
      "enter two integers: 30 3\n",
      "30 is a multiple of 3\n"
     ]
    }
   ],
   "source": [
    "x, n = input('enter two integers: ').split()\n",
    "x = int(x)\n",
    "n = int(n)\n",
    "\n",
    "if x % n == 0 :\n",
    "    print(x, 'is a multiple of', n)\n",
    "else :\n",
    "    print(x, 'is not a multiple of', n)"
   ]
  },
  {
   "cell_type": "markdown",
   "id": "d4510163",
   "metadata": {},
   "source": [
    "## 6.7. Penalty shootout:\n",
    "- Draw the flowchart FIRST 🔥\n",
    "- Cannot use `list` data type\n",
    "- Computer will be the goal keeper\n",
    "- Print 'GOAL!' if user score the goal\n",
    "- Else, print 'No goal'\n",
    "\n",
    "Output:\n",
    "```\n",
    "Where do you want to shoot? (left, center, right): right\n",
    "\n",
    "No goal\n",
    "Defense position of computer: right\n",
    "```"
   ]
  },
  {
   "cell_type": "code",
   "execution_count": 29,
   "id": "74b8070c",
   "metadata": {},
   "outputs": [
    {
     "name": "stdout",
     "output_type": "stream",
     "text": [
      "Enter a shot: Center\n",
      "No goal\n",
      "Center\n"
     ]
    }
   ],
   "source": [
    "import random as r\n",
    "\n",
    "n = r.randint(1, 3)\n",
    "\n",
    "if n == 1 :\n",
    "    n = 'Left'\n",
    "elif n == 2 :\n",
    "    n = 'Right'\n",
    "elif n == 3 :\n",
    "    n = 'Center'\n",
    "\n",
    "a = input('Enter a shot: ')\n",
    "if a == n :\n",
    "    print('No goal')\n",
    "elif a != n :\n",
    "    print('GOAL!')\n",
    "\n",
    "print(n)"
   ]
  },
  {
   "cell_type": "markdown",
   "id": "851a6378",
   "metadata": {},
   "source": [
    "## 6.8. Perform addition, subtraction, multiplication and division\n",
    "Output1:\n",
    "```\n",
    "1) addition, 2) subtraction, 3) multiplication, 4) division\n",
    "Please enter the number corresponding to the operation: 1\n",
    "please enter two numbers for the operation:\n",
    "10\n",
    "20\n",
    "\n",
    "10 + 20 = 30\n",
    "```\n",
    "\n",
    "Output2:\n",
    "```\n",
    "1) addition, 2) subtraction, 3) multiplication, 4) division\n",
    "Please enter the number corresponding to the operation: 5\n",
    "\n",
    "Invalid input.\n",
    "```"
   ]
  },
  {
   "cell_type": "code",
   "execution_count": 42,
   "id": "9756f733",
   "metadata": {},
   "outputs": [
    {
     "name": "stdout",
     "output_type": "stream",
     "text": [
      "Enter operation: 1\n",
      "Enter two integer for operation: 10 20\n",
      "10 \n",
      "20\n",
      "10 + 20 = 30\n"
     ]
    }
   ],
   "source": [
    "op_list = [1, 2, 3, 4]\n",
    "\n",
    "o = int(input('Enter operation: '))\n",
    "x, y = input('Enter two integer for operation: ').split()\n",
    "x, y = int(x), int(y)\n",
    "if o in op_list and o == 1 :\n",
    "    result = x + y\n",
    "    op = '+'\n",
    "elif o in op_list and o == 2 :\n",
    "    result = x - y\n",
    "    op = '-'\n",
    "elif o in op_list and o == 3 :\n",
    "    result = x * y\n",
    "    op = '*'\n",
    "elif o in op_list and o == 4 :\n",
    "    result = x / y\n",
    "    op = '/'\n",
    "    \n",
    "    \n",
    "print('{} \\n{}'.format(x, y))\n",
    "print('{} {} {} = {}'.format(x, op, y, result))"
   ]
  },
  {
   "cell_type": "markdown",
   "id": "2fc04f74",
   "metadata": {},
   "source": [
    "## 6.9. Determine which quadrant the point belongs to\n",
    "The quadrants are defined as below:\n",
    "```\n",
    "            y\n",
    "2 quadrant  | 1 quadrant\n",
    "____________|____________x\n",
    "            |\n",
    "3 quadrant  | 4 quadrant\n",
    "```\n",
    "\n",
    "Output:\n",
    "```\n",
    "Enter x,y coordinates: -5 6\n",
    "\n",
    "In the 2nd quadrant\n",
    "```"
   ]
  },
  {
   "cell_type": "code",
   "execution_count": 43,
   "id": "ea897b56",
   "metadata": {},
   "outputs": [
    {
     "name": "stdout",
     "output_type": "stream",
     "text": [
      "Enter two coordinates: -2 2\n",
      "In the 2nd quadrant.\n"
     ]
    }
   ],
   "source": [
    "x, y = input('Enter two coordinates: ').split()\n",
    "x, y = int(x), int(y)\n",
    "\n",
    "if x > 0 and y > 0 :\n",
    "    print('In the 1st quadrant.')\n",
    "elif x < 0 and y > 0 :\n",
    "    print('In the 2nd quadrant.')\n",
    "elif x < 0 and y < 0 :\n",
    "    print('In the 3rd quadrant.')\n",
    "elif x > 0 and y < 0 :\n",
    "    print('In the 4th quadrant.')"
   ]
  },
  {
   "cell_type": "markdown",
   "id": "1d1e1a89",
   "metadata": {},
   "source": [
    "## 6.10. Menu ordering program\n",
    "- Present the user with menu options and let them choose one\n",
    "- If an alphabet that's not in the menu is entered, output 'Please enter the menu again.' and prompt for input again.\n",
    "\n",
    "Output:\n",
    "```\n",
    "Welcome to Yummy restaurant. Here is the menu.\n",
    "- Burger(enter 'b')\n",
    "- Chicken(enter 'c')\n",
    "- Pizza(enter 'p')\n",
    "\n",
    "Choose a menu : p\n",
    "\n",
    "You chose pizza.\n",
    "```"
   ]
  },
  {
   "cell_type": "code",
   "execution_count": 1,
   "id": "b5e64b18",
   "metadata": {},
   "outputs": [
    {
     "name": "stdout",
     "output_type": "stream",
     "text": [
      "Welcome to Yummy restaurant. Here is the menu.\n",
      "- Burger(enter 'b')\n",
      "- Chicken(enter 'c')\n",
      "- Pizza(enter 'p')\n",
      "choose a menu: p\n",
      "you chose Pizza\n"
     ]
    }
   ],
   "source": [
    "menu = ['b', 'c', 'p']\n",
    "print(\"\"\"Welcome to Yummy restaurant. Here is the menu.\n",
    "- Burger(enter 'b')\n",
    "- Chicken(enter 'c')\n",
    "- Pizza(enter 'p')\"\"\")\n",
    "\n",
    "n = input('choose a menu: ')\n",
    "\n",
    "\n",
    "if n == 'b' and n in menu :\n",
    "    print('you chose Burger')\n",
    "if n == 'c' and n in menu :\n",
    "    print('you chose Chicken')\n",
    "if n == 'p' and n in menu :\n",
    "    print('you chose Pizza')"
   ]
  },
  {
   "cell_type": "markdown",
   "id": "c53a68ea",
   "metadata": {},
   "source": [
    "# 7. List data type"
   ]
  },
  {
   "cell_type": "code",
   "execution_count": null,
   "id": "1c86591b",
   "metadata": {},
   "outputs": [],
   "source": []
  },
  {
   "cell_type": "markdown",
   "id": "3635e220",
   "metadata": {},
   "source": [
    "## 7.1. Create a list called prime_list that contains prime numbers from 2 to 10.\n",
    "Print the first element of this list using list indexing.   \n",
    "Output:\n",
    "```\n",
    "1st element of prime_list: 2\n",
    "```"
   ]
  },
  {
   "cell_type": "code",
   "execution_count": 8,
   "id": "9e5bd1c4",
   "metadata": {},
   "outputs": [
    {
     "name": "stdout",
     "output_type": "stream",
     "text": [
      "1st element of prime_list:  2\n"
     ]
    }
   ],
   "source": [
    "Prime_numbers = [2,3,5,7]\n",
    "\n",
    "print('1st element of prime_list: ', Prime_numbers[0] )"
   ]
  },
  {
   "cell_type": "markdown",
   "id": "44dd31e0",
   "metadata": {},
   "source": [
    "## 7.2. Create prime_list again.\n",
    "Use `append` method to add 11. Print the list before and after adding.   \n",
    "Output:\n",
    "```\n",
    "Prime numbers: [2,3,5,7]\n",
    "prime numbers after addition: [2,3,5,7,11]\n",
    "```"
   ]
  },
  {
   "cell_type": "code",
   "execution_count": 15,
   "id": "91ed18e8",
   "metadata": {},
   "outputs": [
    {
     "data": {
      "text/plain": [
       "[2, 3, 5, 7, 11]"
      ]
     },
     "execution_count": 15,
     "metadata": {},
     "output_type": "execute_result"
    }
   ],
   "source": [
    "Prime_numbers = [2,3,5,7]\n",
    "Prime_numbers.append(11)\n",
    "Prime_numbers"
   ]
  },
  {
   "cell_type": "markdown",
   "id": "ea35f42f",
   "metadata": {},
   "source": [
    "## 7.3. Use nested for loop to multiply each element of list1 with each of list2\n",
    "Output:\n",
    "```\n",
    "list1 = [3,5,7]\n",
    "list2 = [2,3,4,5,6]\n",
    "\n",
    "3 * 2 = 6\n",
    "3 * 3 = 9\n",
    "3 * 4 = 12\n",
    "3 * 5 = 15\n",
    "3 * 6 = 18\n",
    "\n",
    "5 * 2 = 10\n",
    "5 * 3 = 15\n",
    "5 * 4 = 20\n",
    "5 * 5 = 25\n",
    "5 * 6 = 30\n",
    "\n",
    "7 * 2 = 14\n",
    "7 * 3 = 21\n",
    "7 * 4 = 28\n",
    "7 * 5 = 35\n",
    "7 * 6 = 42\n",
    "```"
   ]
  },
  {
   "cell_type": "code",
   "execution_count": 17,
   "id": "de0d065a",
   "metadata": {},
   "outputs": [
    {
     "name": "stdout",
     "output_type": "stream",
     "text": [
      "3 * 2 = 6\n",
      "3 * 3 = 9\n",
      "3 * 4 = 12\n",
      "3 * 5 = 15\n",
      "3 * 6 = 18\n",
      "\n",
      "5 * 2 = 10\n",
      "5 * 3 = 15\n",
      "5 * 4 = 20\n",
      "5 * 5 = 25\n",
      "5 * 6 = 30\n",
      "\n",
      "7 * 2 = 14\n",
      "7 * 3 = 21\n",
      "7 * 4 = 28\n",
      "7 * 5 = 35\n",
      "7 * 6 = 42\n",
      "\n"
     ]
    }
   ],
   "source": [
    "list1 = [3,5,7]\n",
    "list2 = [2,3,4,5,6]\n",
    "\n",
    "for i in list1 :\n",
    "    for j in list2 :\n",
    "        print(\"{} * {} = {}\".format(i, j, i * j))\n",
    "    print()"
   ]
  },
  {
   "cell_type": "markdown",
   "id": "eebeda34",
   "metadata": {},
   "source": [
    "## 7.4. Average age of 4 people\n",
    "- Draw flow chart first 🔥\n",
    "- Create a list containing info of a person in the order of name, age, gender, height and weight:\n",
    "![image.png](https://raw.githubusercontent.com/anb-hq/python-lessons-anb-prime/main/assets/person-db.png?token=GHSAT0AAAAAACFRF7IKIHUZTH37WN4YHSWCZGAVGPQ)\n",
    "\n",
    "Output:\n",
    "```\n",
    "Average age is 26.75.\n",
    "```\n"
   ]
  },
  {
   "cell_type": "code",
   "execution_count": 62,
   "id": "f558d39f",
   "metadata": {},
   "outputs": [
    {
     "name": "stdout",
     "output_type": "stream",
     "text": [
      "Average age is  26.75\n"
     ]
    }
   ],
   "source": [
    "person = ['david', 20, 1, 180.0, 100.0, \n",
    "          'john', 25, 1, 170.0, 70.0,\n",
    "         'jane', 22, 0, 169.0, 60.0,\n",
    "         'peter', 40, 1, 150.0, 50.0]\n",
    "\n",
    "aveage = sum(person[1::5]) / (len(person) / 5)\n",
    "print('Average age is ', aveage)\n",
    "\n",
    "\n",
    "\n"
   ]
  },
  {
   "cell_type": "markdown",
   "id": "7f24a301",
   "metadata": {},
   "source": [
    "## 7.5. Find the shortest string\n",
    "- Define s_list = ['abc', 'bcd', 'bcdefg', 'abba', 'cddc', 'opq']\n",
    "- Without using `min` or `sort` method, output the shortest string.\n",
    "- Use loop.\n",
    "\n",
    "Output:\n",
    "```\n",
    "The shortest string: abc\n",
    "```"
   ]
  },
  {
   "cell_type": "code",
   "execution_count": 42,
   "id": "dd39e240",
   "metadata": {},
   "outputs": [
    {
     "name": "stdout",
     "output_type": "stream",
     "text": [
      "abc\n"
     ]
    }
   ],
   "source": [
    "s_list = ['abc', 'bcd', 'bcdefg', 'abba', 'cddc', 'opq']\n",
    "shortest = s_list[0]\n",
    "\n",
    "for i in range(len(s_list)) :\n",
    "    if len(shortest) > len(s_list[i]) :\n",
    "        shortest = s_list[i]\n",
    "        \n",
    "print(shortest)"
   ]
  },
  {
   "cell_type": "markdown",
   "id": "5b5f6147",
   "metadata": {},
   "source": [
    "## 7.6. Now output the longest string\n",
    "Output:\n",
    "```\n",
    "The longest string: bcdefg\n",
    "```"
   ]
  },
  {
   "cell_type": "code",
   "execution_count": 44,
   "id": "adcc32c0",
   "metadata": {},
   "outputs": [
    {
     "name": "stdout",
     "output_type": "stream",
     "text": [
      "bcdefg\n"
     ]
    }
   ],
   "source": [
    "s_list = ['abc', 'bcd', 'bcdefg', 'abba', 'cddc', 'opq']\n",
    "longest = s_list[0]\n",
    "\n",
    "for i in range(len(s_list)) :\n",
    "    if len(longest) < len(s_list[i]) :\n",
    "        longest = s_list[i]\n",
    "        \n",
    "print(longest)"
   ]
  },
  {
   "cell_type": "markdown",
   "id": "6cfb40b9",
   "metadata": {},
   "source": [
    "## 7.7. Now output 3 shortest strings\n",
    "- Hint: use `sort(key=len)` method\n",
    "\n",
    "Output:\n",
    "```\n",
    "The shortest strings: 'abc', 'bcd', 'opq'\n",
    "```"
   ]
  },
  {
   "cell_type": "code",
   "execution_count": 54,
   "id": "a0348726",
   "metadata": {},
   "outputs": [
    {
     "name": "stdout",
     "output_type": "stream",
     "text": [
      "['abc', 'bcd', 'opq']\n"
     ]
    }
   ],
   "source": [
    "s_list = ['abc', 'bcd', 'bcdefg', 'abba', 'cddc', 'opq']\n",
    "shortest = s_list[0]\n",
    "llist = []\n",
    "for i in range(len(s_list)) :\n",
    "    if len(shortest) == len(s_list[i]) :\n",
    "        llist.append(s_list[i])        \n",
    "\n",
    "print(llist)\n"
   ]
  },
  {
   "cell_type": "markdown",
   "id": "ce4ea1bf",
   "metadata": {},
   "source": [
    "# 8. loop-1: `for` loop\n",
    "## 8.1. Calculate the factorial based on user input\n",
    "Output:\n",
    "```\n",
    "Enter a number: 5\n",
    "5! = 120\n",
    "```"
   ]
  },
  {
   "cell_type": "code",
   "execution_count": 83,
   "id": "68f6b5fb",
   "metadata": {},
   "outputs": [
    {
     "name": "stdout",
     "output_type": "stream",
     "text": [
      "Enter a number: 5\n",
      "5! = 120\n"
     ]
    }
   ],
   "source": [
    "n = int(input(\"Enter a number: \"))\n",
    "fac = 1\n",
    "for i in range(1, n + 1) :\n",
    "    fac = fac * i\n",
    "\n",
    "\n",
    "print(\"{}! = {}\".format(n, fac))\n"
   ]
  },
  {
   "cell_type": "markdown",
   "id": "59d72f06",
   "metadata": {},
   "source": [
    "## 8.2. Print all bts members using `for` loop\n",
    "- Create a list bts = ['V', 'J-Hope', 'RM', 'Jungkook', 'Jin', 'Jimin', 'Suga']\n",
    "- Use for loop and print all of them\n",
    "\n"
   ]
  },
  {
   "cell_type": "code",
   "execution_count": 84,
   "id": "8e971976",
   "metadata": {},
   "outputs": [
    {
     "name": "stdout",
     "output_type": "stream",
     "text": [
      "V\n",
      "J-Hope\n",
      "RM\n",
      "Jungkook\n",
      "Jin\n",
      "Jimin\n",
      "Suga\n"
     ]
    }
   ],
   "source": [
    "bts = ['V', 'J-Hope', 'RM', 'Jungkook', 'Jin', 'Jimin', 'Suga']\n",
    "\n",
    "for i in bts :\n",
    "    print(i)"
   ]
  },
  {
   "cell_type": "markdown",
   "id": "3c3888f8",
   "metadata": {},
   "source": [
    "## 8.3. Sum of number from 1 to 100\n",
    "- DO NOT use `sum` function\n",
    "- Use `for` loop\n",
    "\n",
    "Output:\n",
    "```\n",
    "Sum of integers from 1 to 100: 5050\n",
    "```"
   ]
  },
  {
   "cell_type": "code",
   "execution_count": 91,
   "id": "aebcc95a",
   "metadata": {},
   "outputs": [
    {
     "name": "stdout",
     "output_type": "stream",
     "text": [
      "5050\n"
     ]
    }
   ],
   "source": [
    "summ = 0\n",
    "for i in range(1, 101) :\n",
    "    summ += i\n",
    "    \n",
    "print(summ)"
   ]
  },
  {
   "cell_type": "markdown",
   "id": "1755fb31",
   "metadata": {},
   "source": [
    "## 8.4. Print sum of even numbers from 1 to 100\n",
    "- Use `range` function\n",
    "\n",
    "Output:\n",
    "```\n",
    "Sum of even numbers from 1 to 100: 2550\n",
    "```"
   ]
  },
  {
   "cell_type": "code",
   "execution_count": 94,
   "id": "10606e17",
   "metadata": {},
   "outputs": [
    {
     "name": "stdout",
     "output_type": "stream",
     "text": [
      "2550\n"
     ]
    }
   ],
   "source": [
    "summ = 0 \n",
    "for i in range(2, 101, 2) :\n",
    "    summ += i\n",
    "print(summ)\n",
    "\n",
    "# summ = 0\n",
    "# for i in range(1, 101) :\n",
    "#     if i % 2 == 0 :\n",
    "#         summ += i\n",
    "# print(summ)"
   ]
  },
  {
   "cell_type": "markdown",
   "id": "182ec4c0",
   "metadata": {},
   "source": [
    "## 8.5. Print sum of odd numbers from 1 to 100\n",
    "Output:\n",
    "```\n",
    "Sum of odd numbers from 1 to 100: 2500\n",
    "```"
   ]
  },
  {
   "cell_type": "code",
   "execution_count": 95,
   "id": "c2406a7d",
   "metadata": {},
   "outputs": [
    {
     "name": "stdout",
     "output_type": "stream",
     "text": [
      "2500\n"
     ]
    }
   ],
   "source": [
    "summ = 0\n",
    "for i in range(1, 101, 2) :\n",
    "    summ += i\n",
    "print(summ)"
   ]
  },
  {
   "cell_type": "markdown",
   "id": "dd0dee34",
   "metadata": {},
   "source": [
    "## 8.6. Sandwich combination\n",
    "- Draw the flow chart 🔥\n",
    "- The available data are as follow:\n",
    "![image.png](https://raw.githubusercontent.com/anb-hq/python-lessons-anb-prime/main/assets/breads.png?token=GHSAT0AAAAAACFRF7ILXYB4WZD5FAE6WM5UZGAVJIQ)\n",
    "\n",
    "Output:\n",
    "```\n",
    "Possible combinations of David's sandwich shop:\n",
    "Rye bread + Meatball + Lettuce + Mayonnaise\n",
    "Rye bread + Meatball + Lettuce + Honey mustard\n",
    ".....\n",
    "```"
   ]
  },
  {
   "cell_type": "code",
   "execution_count": 98,
   "id": "e3e1e161",
   "metadata": {},
   "outputs": [
    {
     "name": "stdout",
     "output_type": "stream",
     "text": [
      "Rye bread + Meatball + Lettuce + Mayonnaise\n",
      "Rye bread + Meatball + Lettuce + Honey mustard\n",
      "Rye bread + Meatball + Lettuce + Chili sauce\n",
      "Rye bread + Meatball + Tomato + Mayonnaise\n",
      "Rye bread + Meatball + Tomato + Honey mustard\n",
      "Rye bread + Meatball + Tomato + Chili sauce\n",
      "Rye bread + Meatball + Cucumber + Mayonnaise\n",
      "Rye bread + Meatball + Cucumber + Honey mustard\n",
      "Rye bread + Meatball + Cucumber + Chili sauce\n",
      "Rye bread + Sausage + Lettuce + Mayonnaise\n",
      "Rye bread + Sausage + Lettuce + Honey mustard\n",
      "Rye bread + Sausage + Lettuce + Chili sauce\n",
      "Rye bread + Sausage + Tomato + Mayonnaise\n",
      "Rye bread + Sausage + Tomato + Honey mustard\n",
      "Rye bread + Sausage + Tomato + Chili sauce\n",
      "Rye bread + Sausage + Cucumber + Mayonnaise\n",
      "Rye bread + Sausage + Cucumber + Honey mustard\n",
      "Rye bread + Sausage + Cucumber + Chili sauce\n",
      "Rye bread + Chicken breast + Lettuce + Mayonnaise\n",
      "Rye bread + Chicken breast + Lettuce + Honey mustard\n",
      "Rye bread + Chicken breast + Lettuce + Chili sauce\n",
      "Rye bread + Chicken breast + Tomato + Mayonnaise\n",
      "Rye bread + Chicken breast + Tomato + Honey mustard\n",
      "Rye bread + Chicken breast + Tomato + Chili sauce\n",
      "Rye bread + Chicken breast + Cucumber + Mayonnaise\n",
      "Rye bread + Chicken breast + Cucumber + Honey mustard\n",
      "Rye bread + Chicken breast + Cucumber + Chili sauce\n",
      "Wheat + Meatball + Lettuce + Mayonnaise\n",
      "Wheat + Meatball + Lettuce + Honey mustard\n",
      "Wheat + Meatball + Lettuce + Chili sauce\n",
      "Wheat + Meatball + Tomato + Mayonnaise\n",
      "Wheat + Meatball + Tomato + Honey mustard\n",
      "Wheat + Meatball + Tomato + Chili sauce\n",
      "Wheat + Meatball + Cucumber + Mayonnaise\n",
      "Wheat + Meatball + Cucumber + Honey mustard\n",
      "Wheat + Meatball + Cucumber + Chili sauce\n",
      "Wheat + Sausage + Lettuce + Mayonnaise\n",
      "Wheat + Sausage + Lettuce + Honey mustard\n",
      "Wheat + Sausage + Lettuce + Chili sauce\n",
      "Wheat + Sausage + Tomato + Mayonnaise\n",
      "Wheat + Sausage + Tomato + Honey mustard\n",
      "Wheat + Sausage + Tomato + Chili sauce\n",
      "Wheat + Sausage + Cucumber + Mayonnaise\n",
      "Wheat + Sausage + Cucumber + Honey mustard\n",
      "Wheat + Sausage + Cucumber + Chili sauce\n",
      "Wheat + Chicken breast + Lettuce + Mayonnaise\n",
      "Wheat + Chicken breast + Lettuce + Honey mustard\n",
      "Wheat + Chicken breast + Lettuce + Chili sauce\n",
      "Wheat + Chicken breast + Tomato + Mayonnaise\n",
      "Wheat + Chicken breast + Tomato + Honey mustard\n",
      "Wheat + Chicken breast + Tomato + Chili sauce\n",
      "Wheat + Chicken breast + Cucumber + Mayonnaise\n",
      "Wheat + Chicken breast + Cucumber + Honey mustard\n",
      "Wheat + Chicken breast + Cucumber + Chili sauce\n",
      "White + Meatball + Lettuce + Mayonnaise\n",
      "White + Meatball + Lettuce + Honey mustard\n",
      "White + Meatball + Lettuce + Chili sauce\n",
      "White + Meatball + Tomato + Mayonnaise\n",
      "White + Meatball + Tomato + Honey mustard\n",
      "White + Meatball + Tomato + Chili sauce\n",
      "White + Meatball + Cucumber + Mayonnaise\n",
      "White + Meatball + Cucumber + Honey mustard\n",
      "White + Meatball + Cucumber + Chili sauce\n",
      "White + Sausage + Lettuce + Mayonnaise\n",
      "White + Sausage + Lettuce + Honey mustard\n",
      "White + Sausage + Lettuce + Chili sauce\n",
      "White + Sausage + Tomato + Mayonnaise\n",
      "White + Sausage + Tomato + Honey mustard\n",
      "White + Sausage + Tomato + Chili sauce\n",
      "White + Sausage + Cucumber + Mayonnaise\n",
      "White + Sausage + Cucumber + Honey mustard\n",
      "White + Sausage + Cucumber + Chili sauce\n",
      "White + Chicken breast + Lettuce + Mayonnaise\n",
      "White + Chicken breast + Lettuce + Honey mustard\n",
      "White + Chicken breast + Lettuce + Chili sauce\n",
      "White + Chicken breast + Tomato + Mayonnaise\n",
      "White + Chicken breast + Tomato + Honey mustard\n",
      "White + Chicken breast + Tomato + Chili sauce\n",
      "White + Chicken breast + Cucumber + Mayonnaise\n",
      "White + Chicken breast + Cucumber + Honey mustard\n",
      "White + Chicken breast + Cucumber + Chili sauce\n"
     ]
    }
   ],
   "source": [
    "bread = ['Rye bread', 'Wheat', 'White']\n",
    "meat = ['Meatball', 'Sausage', 'Chicken breast']\n",
    "vegi = ['Lettuce', 'Tomato', 'Cucumber']\n",
    "sauce = ['Mayonnaise', 'Honey mustard', 'Chili sauce']\n",
    "\n",
    "for i in bread :\n",
    "    for j in meat :\n",
    "        for k in vegi :\n",
    "            for l in sauce :\n",
    "                print(\"{} + {} + {} + {}\".format(i, j, k, l))\n"
   ]
  },
  {
   "cell_type": "markdown",
   "id": "74bf0557",
   "metadata": {},
   "source": [
    "## 8.7.🔥 Snake matrix hehe\n",
    "Output:\n",
    "```\n",
    "Enter n: 4\n",
    "\n",
    "1  2  3  4\n",
    "8  7  6  5\n",
    "9  10 11 12\n",
    "16 15 14 13\n",
    "```"
   ]
  },
  {
   "cell_type": "code",
   "execution_count": 145,
   "id": "de5ba385",
   "metadata": {},
   "outputs": [
    {
     "name": "stdout",
     "output_type": "stream",
     "text": [
      "Enter seats: 5\n",
      "1\t2\t3\t4\t5\t\n",
      "10\t9\t8\t7\t6\t\n",
      "11\t12\t13\t14\t15\t\n",
      "20\t19\t18\t17\t16\t\n",
      "21\t22\t23\t24\t25\t\n"
     ]
    }
   ],
   "source": [
    "n = int(input('Enter seats: '))\n",
    "count = 1\n",
    "for i in range(1, n + 1) :\n",
    "    if i % 2 == 1 :\n",
    "        for j in range(1, n + 1) :\n",
    "            print(count, end=\"\\t\")\n",
    "            count += 1\n",
    "    else :\n",
    "        for j in range(n, 0, -1) :\n",
    "            print(count + j -1, end=\"\\t\")\n",
    "        count += n\n",
    "    print()"
   ]
  },
  {
   "cell_type": "markdown",
   "id": "91a75909",
   "metadata": {},
   "source": [
    "# 9. Loop-2: `while` loop\n",
    "## 9.1. Prompt user input again and again until the condition is satisfied:\n",
    "- Given a list of ['rock', 'paper', 'scissors']\n",
    "- If the user input something different from these elements in the list, ask them to prompt again\n",
    "- If the user input correctly, exit the program\n",
    "\n",
    "Output:\n",
    "```\n",
    "Choose between rock, paper, scissors: ggwp\n",
    "Choose between rock, paper, scissors: blah\n",
    "Choose between rock, paper, scissors: rock\n",
    "Ok good. Bye!\n",
    "```"
   ]
  },
  {
   "cell_type": "code",
   "execution_count": 146,
   "id": "5dbc222d",
   "metadata": {},
   "outputs": [
    {
     "name": "stdout",
     "output_type": "stream",
     "text": [
      "Choose between rock, paper, scissors: a\n",
      "Choose between rock, paper, scissors: sdf\n",
      "Choose between rock, paper, scissors: rock\n",
      "ok good, Bye!\n"
     ]
    }
   ],
   "source": [
    "a_list = ['rock', 'paper', 'scissors']\n",
    "n = input('Choose between rock, paper, scissors: ')\n",
    "while n not in a_list :\n",
    "    n = input('Choose between rock, paper, scissors: ')\n",
    "    if n in a_list :\n",
    "        print('ok good, Bye!')\n",
    "        break"
   ]
  },
  {
   "cell_type": "markdown",
   "id": "e04804ea",
   "metadata": {},
   "source": [
    "## 9.2. Use `while` to create a multiplication table of 2\n",
    "Output:\n",
    "```\n",
    "2 * 1 = 2\n",
    "2 * 2 = 4\n",
    "2 * 3 = 6\n",
    "2 * 4 = 8\n",
    "2 * 5 = 10\n",
    "2 * 6 = 12\n",
    "2 * 7 = 14\n",
    "2 * 8 = 16\n",
    "2 * 9 = 18\n",
    "```"
   ]
  },
  {
   "cell_type": "code",
   "execution_count": 156,
   "id": "96f31b0a",
   "metadata": {},
   "outputs": [
    {
     "name": "stdout",
     "output_type": "stream",
     "text": [
      "2 * 1 = 2\n",
      "2 * 2 = 4\n",
      "2 * 3 = 6\n",
      "2 * 4 = 8\n",
      "2 * 5 = 10\n",
      "2 * 6 = 12\n",
      "2 * 7 = 14\n",
      "2 * 8 = 16\n",
      "2 * 9 = 18\n"
     ]
    }
   ],
   "source": [
    "n = 0\n",
    "while n < 9 and n >= 0 :\n",
    "    n += 1\n",
    "    print('2 * {} = {}'.format(n, n * 2))"
   ]
  },
  {
   "cell_type": "markdown",
   "id": "63bd3fb6",
   "metadata": {},
   "source": [
    "## 9.3. Create multiplication table of 1 to 9\n",
    "Output:\n",
    "```\n",
    "1 * 1 = 1\n",
    "1 * 2 = 2\n",
    "1 * 3 = 3\n",
    "1 * 4 = 4\n",
    "1 * 5 = 5\n",
    "1 * 6 = 6\n",
    "1 * 7 = 7\n",
    "1 * 8 = 8\n",
    "1 * 9 = 9\n",
    "\n",
    "2 * 1 = 2\n",
    "2 * 2 = 4\n",
    "2 * 3 = 6\n",
    "2 * 4 = 8\n",
    "2 * 5 = 10\n",
    "...\n",
    "```"
   ]
  },
  {
   "cell_type": "code",
   "execution_count": 186,
   "id": "2d915e8e",
   "metadata": {},
   "outputs": [
    {
     "name": "stdout",
     "output_type": "stream",
     "text": [
      "1 * 2 = 2\n",
      "1 * 3 = 3\n",
      "1 * 4 = 4\n",
      "1 * 5 = 5\n",
      "1 * 6 = 6\n",
      "1 * 7 = 7\n",
      "1 * 8 = 8\n",
      "1 * 9 = 9\n",
      "\n",
      "2 * 2 = 4\n",
      "2 * 3 = 6\n",
      "2 * 4 = 8\n",
      "2 * 5 = 10\n",
      "2 * 6 = 12\n",
      "2 * 7 = 14\n",
      "2 * 8 = 16\n",
      "2 * 9 = 18\n",
      "\n",
      "3 * 2 = 6\n",
      "3 * 3 = 9\n",
      "3 * 4 = 12\n",
      "3 * 5 = 15\n",
      "3 * 6 = 18\n",
      "3 * 7 = 21\n",
      "3 * 8 = 24\n",
      "3 * 9 = 27\n",
      "\n",
      "4 * 2 = 8\n",
      "4 * 3 = 12\n",
      "4 * 4 = 16\n",
      "4 * 5 = 20\n",
      "4 * 6 = 24\n",
      "4 * 7 = 28\n",
      "4 * 8 = 32\n",
      "4 * 9 = 36\n",
      "\n",
      "5 * 2 = 10\n",
      "5 * 3 = 15\n",
      "5 * 4 = 20\n",
      "5 * 5 = 25\n",
      "5 * 6 = 30\n",
      "5 * 7 = 35\n",
      "5 * 8 = 40\n",
      "5 * 9 = 45\n",
      "\n",
      "6 * 2 = 12\n",
      "6 * 3 = 18\n",
      "6 * 4 = 24\n",
      "6 * 5 = 30\n",
      "6 * 6 = 36\n",
      "6 * 7 = 42\n",
      "6 * 8 = 48\n",
      "6 * 9 = 54\n",
      "\n",
      "7 * 2 = 14\n",
      "7 * 3 = 21\n",
      "7 * 4 = 28\n",
      "7 * 5 = 35\n",
      "7 * 6 = 42\n",
      "7 * 7 = 49\n",
      "7 * 8 = 56\n",
      "7 * 9 = 63\n",
      "\n",
      "8 * 2 = 16\n",
      "8 * 3 = 24\n",
      "8 * 4 = 32\n",
      "8 * 5 = 40\n",
      "8 * 6 = 48\n",
      "8 * 7 = 56\n",
      "8 * 8 = 64\n",
      "8 * 9 = 72\n",
      "\n",
      "9 * 2 = 18\n",
      "9 * 3 = 27\n",
      "9 * 4 = 36\n",
      "9 * 5 = 45\n",
      "9 * 6 = 54\n",
      "9 * 7 = 63\n",
      "9 * 8 = 72\n",
      "9 * 9 = 81\n",
      "\n"
     ]
    }
   ],
   "source": [
    "n = 0\n",
    "i = 0\n",
    "\n",
    "while n < 9 :\n",
    "    n += 1\n",
    "    i = 1\n",
    "    while i < 9 :\n",
    "        i += 1\n",
    "        print(\"{} * {} = {}\".format(n, i, n * i))\n",
    "\n",
    "    print()"
   ]
  },
  {
   "cell_type": "markdown",
   "id": "409afa03",
   "metadata": {},
   "source": [
    "## 9.4. Snail in the well\n",
    "- Draw flow chart first 🔥\n",
    "- How many days can the snail get out of the well?\n",
    "- The well is 30 deep\n",
    "- In one day, snail can climb up 3 in the morning and slide down 2 in the afternoon\n",
    "\n",
    "Output:\n",
    "```\n",
    "day : 1 position of snail: 3m\n",
    "day : 2 position of snail: 4m\n",
    "....\n",
    "day : 28 position of snail: 30m\n",
    "\n",
    "It took 28 days to escape the well\n",
    "```"
   ]
  },
  {
   "cell_type": "code",
   "execution_count": 190,
   "id": "43fe3d3f",
   "metadata": {},
   "outputs": [
    {
     "name": "stdout",
     "output_type": "stream",
     "text": [
      "day 1 position of snail: 3m\n",
      "\n",
      "day 2 position of snail: 4m\n",
      "\n",
      "day 3 position of snail: 5m\n",
      "\n",
      "day 4 position of snail: 6m\n",
      "\n",
      "day 5 position of snail: 7m\n",
      "\n",
      "day 6 position of snail: 8m\n",
      "\n",
      "day 7 position of snail: 9m\n",
      "\n",
      "day 8 position of snail: 10m\n",
      "\n",
      "day 9 position of snail: 11m\n",
      "\n",
      "day 10 position of snail: 12m\n",
      "\n",
      "day 11 position of snail: 13m\n",
      "\n",
      "day 12 position of snail: 14m\n",
      "\n",
      "day 13 position of snail: 15m\n",
      "\n",
      "day 14 position of snail: 16m\n",
      "\n",
      "day 15 position of snail: 17m\n",
      "\n",
      "day 16 position of snail: 18m\n",
      "\n",
      "day 17 position of snail: 19m\n",
      "\n",
      "day 18 position of snail: 20m\n",
      "\n",
      "day 19 position of snail: 21m\n",
      "\n",
      "day 20 position of snail: 22m\n",
      "\n",
      "day 21 position of snail: 23m\n",
      "\n",
      "day 22 position of snail: 24m\n",
      "\n",
      "day 23 position of snail: 25m\n",
      "\n",
      "day 24 position of snail: 26m\n",
      "\n",
      "day 25 position of snail: 27m\n",
      "\n",
      "day 26 position of snail: 28m\n",
      "\n",
      "day 27 position of snail: 29m\n",
      "\n",
      "day 28 position of snail: 30m\n",
      "it took the snail 28 days to  escape\n"
     ]
    }
   ],
   "source": [
    "current_position = 0\n",
    "destination = 30\n",
    "days = 0\n",
    "move_up = 3\n",
    "move_down = 2\n",
    "\n",
    "while True :\n",
    "    current_position += move_up\n",
    "    days += 1\n",
    "    print(\"day {} position of snail: {}m\".format(days, current_position))\n",
    "    if current_position >= destination :\n",
    "        break\n",
    "    current_position -= move_down\n",
    "    print()\n",
    "print(\"it took the snail {} days to  escape\".format(days))\n",
    "    "
   ]
  },
  {
   "cell_type": "markdown",
   "id": "bbbb6ff2",
   "metadata": {},
   "source": [
    "## 9.5.🔥 Check if a number is palindrome\n",
    "Use only `while` loop\n",
    "\n",
    "Output:\n",
    "```\n",
    "Enter an integer: 135\n",
    "\n",
    "135 is not a palindrome number.\n",
    "```"
   ]
  },
  {
   "cell_type": "code",
   "execution_count": 192,
   "id": "f7439107",
   "metadata": {},
   "outputs": [
    {
     "name": "stdout",
     "output_type": "stream",
     "text": [
      "Enter an integer: 135\n"
     ]
    },
    {
     "ename": "AttributeError",
     "evalue": "'str' object has no attribute 'reverse'",
     "output_type": "error",
     "traceback": [
      "\u001b[0;31m---------------------------------------------------------------------------\u001b[0m",
      "\u001b[0;31mAttributeError\u001b[0m                            Traceback (most recent call last)",
      "Cell \u001b[0;32mIn[192], line 3\u001b[0m\n\u001b[1;32m      1\u001b[0m \u001b[38;5;28;01mwhile\u001b[39;00m \u001b[38;5;28;01mTrue\u001b[39;00m :\n\u001b[1;32m      2\u001b[0m     n \u001b[38;5;241m=\u001b[39m \u001b[38;5;28minput\u001b[39m(\u001b[38;5;124m\"\u001b[39m\u001b[38;5;124mEnter an integer: \u001b[39m\u001b[38;5;124m\"\u001b[39m)\n\u001b[0;32m----> 3\u001b[0m     \u001b[38;5;28;01mif\u001b[39;00m n \u001b[38;5;241m==\u001b[39m \u001b[43mn\u001b[49m\u001b[38;5;241;43m.\u001b[39;49m\u001b[43mreverse\u001b[49m() :\n\u001b[1;32m      4\u001b[0m         \u001b[38;5;28mprint\u001b[39m(n, \u001b[38;5;124m\"\u001b[39m\u001b[38;5;124mis a palindrome number\u001b[39m\u001b[38;5;124m\"\u001b[39m)\n\u001b[1;32m      5\u001b[0m         \u001b[38;5;28;01mbreak\u001b[39;00m\n",
      "\u001b[0;31mAttributeError\u001b[0m: 'str' object has no attribute 'reverse'"
     ]
    }
   ],
   "source": [
    "while True :\n",
    "    n = input(\"Enter an integer: \")\n",
    "    if n == n.reverse() :\n",
    "        print(n, \"is a palindrome number\")\n",
    "        break\n",
    "    else :\n",
    "        print(n, \"is not a palindrome number\")"
   ]
  },
  {
   "cell_type": "markdown",
   "id": "ea82ec93",
   "metadata": {},
   "source": [
    "## 9.6. Guess a number between 1 to 100\n",
    "- Create a random number\n",
    "- Get user input until they guess the right number.\n",
    "- Print the number of attempts\n",
    "\n",
    "Output:\n",
    "```\n",
    "Guess a number between 1 to 100.\n",
    "Enter a num: 20\n",
    "Higher\n",
    "\n",
    "Enter a num: 30\n",
    "Lower\n",
    "\n",
    "Enter a num: 22\n",
    "Congrats!\n",
    "Number of attemps = 3\n",
    "```"
   ]
  },
  {
   "cell_type": "code",
   "execution_count": null,
   "id": "3aef998a",
   "metadata": {},
   "outputs": [],
   "source": []
  },
  {
   "cell_type": "code",
   "execution_count": null,
   "id": "248e5cc7",
   "metadata": {},
   "outputs": [],
   "source": [
    "N = int(input())\n",
    "M = int(input())\n",
    "K = int(input())\n",
    "\n",
    "check = [0] * (N + 1)\n",
    "for _ in range(M) :\n",
    "    "
   ]
  },
  {
   "attachments": {
    "photo1690451823.jpeg": {
     "image/jpeg": "[encoded data removed]"
    }
   },
   "cell_type": "markdown",
   "id": "49e5e00e",
   "metadata": {},
   "source": [
    "![photo1690451823.jpeg](attachment:photo1690451823.jpeg)\n"
   ]
  }
 ],
 "metadata": {
  "kernelspec": {
   "display_name": "Python 3 (ipykernel)",
   "language": "python",
   "name": "python3"
  },
  "language_info": {
   "codemirror_mode": {
    "name": "ipython",
    "version": 3
   },
   "file_extension": ".py",
   "mimetype": "text/x-python",
   "name": "python",
   "nbconvert_exporter": "python",
   "pygments_lexer": "ipython3",
   "version": "3.10.9"
  }
 },
 "nbformat": 4,
 "nbformat_minor": 5
}
