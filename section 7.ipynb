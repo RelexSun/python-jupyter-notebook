{
 "cells": [
  {
   "cell_type": "code",
   "execution_count": 1,
   "id": "493ca214",
   "metadata": {},
   "outputs": [
    {
     "data": {
      "text/plain": [
       "['Durian']"
      ]
     },
     "execution_count": 1,
     "metadata": {},
     "output_type": "execute_result"
    }
   ],
   "source": [
    "fruit = []\n",
    "fruit.append('Durian')\n",
    "fruit"
   ]
  },
  {
   "cell_type": "code",
   "execution_count": 7,
   "id": "a999b2c8",
   "metadata": {},
   "outputs": [
    {
     "name": "stdout",
     "output_type": "stream",
     "text": [
      "3 * 2 = 6\n",
      "3 * 3 = 9\n",
      "3 * 4 = 12\n",
      "3 * 5 = 15\n",
      "3 * 6 = 18\n",
      "5 * 2 = 10\n",
      "5 * 3 = 15\n",
      "5 * 4 = 20\n",
      "5 * 5 = 25\n",
      "5 * 6 = 30\n",
      "7 * 2 = 14\n",
      "7 * 3 = 21\n",
      "7 * 4 = 28\n",
      "7 * 5 = 35\n",
      "7 * 6 = 42\n"
     ]
    }
   ],
   "source": [
    "list1 = [3, 5, 7]\n",
    "list2 = [2, 3, 4, 5, 6]\n",
    "for i in range(len(list1)):\n",
    "    for j in range(len(list2)):\n",
    "        print(f\"{list1[i]} * {list2[j]} = {list1[i] * list2[j]}\")"
   ]
  },
  {
   "cell_type": "code",
   "execution_count": 2,
   "id": "dea69ce9",
   "metadata": {},
   "outputs": [
    {
     "name": "stdout",
     "output_type": "stream",
     "text": [
      "['apple', 'banana', 'coconut']\n"
     ]
    }
   ],
   "source": [
    "fruit = ['apple', 'banana', 'coconut']\n",
    "print(fruit)"
   ]
  },
  {
   "cell_type": "code",
   "execution_count": 3,
   "id": "19a46f22",
   "metadata": {},
   "outputs": [
    {
     "data": {
      "text/plain": [
       "['apple', 'banana', 'coconut', 'Durian']"
      ]
     },
     "execution_count": 3,
     "metadata": {},
     "output_type": "execute_result"
    }
   ],
   "source": [
    "fruit = ['apple', 'banana', 'coconut']\n",
    "fruit = fruit + ['Durian']\n",
    "fruit"
   ]
  },
  {
   "cell_type": "code",
   "execution_count": 4,
   "id": "9d304ac5",
   "metadata": {},
   "outputs": [
    {
     "name": "stdout",
     "output_type": "stream",
     "text": [
      "[11, 22, 33, 44, 55, 66]\n",
      "6\n"
     ]
    }
   ],
   "source": [
    "n_list = [11, 22, 33, 44, 55, 66]\n",
    "print(n_list)\n",
    "print(len(n_list))"
   ]
  },
  {
   "cell_type": "code",
   "execution_count": 8,
   "id": "aaab80c3",
   "metadata": {},
   "outputs": [
    {
     "data": {
      "text/plain": [
       "11"
      ]
     },
     "execution_count": 8,
     "metadata": {},
     "output_type": "execute_result"
    }
   ],
   "source": [
    "n_list[0]"
   ]
  },
  {
   "cell_type": "code",
   "execution_count": 9,
   "id": "839c9037",
   "metadata": {},
   "outputs": [
    {
     "data": {
      "text/plain": [
       "44"
      ]
     },
     "execution_count": 9,
     "metadata": {},
     "output_type": "execute_result"
    }
   ],
   "source": [
    "n_list[3]"
   ]
  },
  {
   "cell_type": "code",
   "execution_count": 22,
   "id": "aa714453",
   "metadata": {},
   "outputs": [
    {
     "data": {
      "text/plain": [
       "['banana']"
      ]
     },
     "execution_count": 22,
     "metadata": {},
     "output_type": "execute_result"
    }
   ],
   "source": [
    "fruit[1 : 2]"
   ]
  },
  {
   "cell_type": "code",
   "execution_count": 23,
   "id": "e9d52279",
   "metadata": {},
   "outputs": [
    {
     "data": {
      "text/plain": [
       "['apple', 'banana', 'coconut', 'Durian']"
      ]
     },
     "execution_count": 23,
     "metadata": {},
     "output_type": "execute_result"
    }
   ],
   "source": [
    "fruit[ : ]"
   ]
  },
  {
   "cell_type": "code",
   "execution_count": 24,
   "id": "ccdbe37c",
   "metadata": {},
   "outputs": [
    {
     "data": {
      "text/plain": [
       "['banana', 'coconut', 'Durian']"
      ]
     },
     "execution_count": 24,
     "metadata": {},
     "output_type": "execute_result"
    }
   ],
   "source": [
    "fruit[1 : ]"
   ]
  },
  {
   "cell_type": "code",
   "execution_count": 25,
   "id": "a28a256f",
   "metadata": {},
   "outputs": [
    {
     "data": {
      "text/plain": [
       "['coconut']"
      ]
     },
     "execution_count": 25,
     "metadata": {},
     "output_type": "execute_result"
    }
   ],
   "source": [
    "fruit[-2 : -1]"
   ]
  },
  {
   "cell_type": "code",
   "execution_count": 36,
   "id": "0e9dd333",
   "metadata": {},
   "outputs": [
    {
     "name": "stdout",
     "output_type": "stream",
     "text": [
      "['apple', 'banana', 'coconut', 11, 22, 33, 44, 55, 66]\n"
     ]
    }
   ],
   "source": [
    "\n",
    "list_all = fruit + n_list\n",
    "print(list_all)"
   ]
  },
  {
   "cell_type": "code",
   "execution_count": 37,
   "id": "2094547b",
   "metadata": {},
   "outputs": [
    {
     "data": {
      "text/plain": [
       "False"
      ]
     },
     "execution_count": 37,
     "metadata": {},
     "output_type": "execute_result"
    }
   ],
   "source": [
    "10 in n_list"
   ]
  },
  {
   "cell_type": "code",
   "execution_count": 56,
   "id": "0a1ebe08",
   "metadata": {},
   "outputs": [
    {
     "data": {
      "text/plain": [
       "['banana', 22, 55]"
      ]
     },
     "execution_count": 56,
     "metadata": {},
     "output_type": "execute_result"
    }
   ],
   "source": [
    "haha = list_all[1::3]\n",
    "haha"
   ]
  },
  {
   "cell_type": "code",
   "execution_count": 39,
   "id": "2cedab93",
   "metadata": {},
   "outputs": [
    {
     "data": {
      "text/plain": [
       "True"
      ]
     },
     "execution_count": 39,
     "metadata": {},
     "output_type": "execute_result"
    }
   ],
   "source": [
    "22 in n_list"
   ]
  },
  {
   "cell_type": "code",
   "execution_count": 40,
   "id": "462d3454",
   "metadata": {},
   "outputs": [
    {
     "data": {
      "text/plain": [
       "False"
      ]
     },
     "execution_count": 40,
     "metadata": {},
     "output_type": "execute_result"
    }
   ],
   "source": [
    "22 not in n_list "
   ]
  },
  {
   "cell_type": "code",
   "execution_count": 44,
   "id": "bfa79f9b",
   "metadata": {},
   "outputs": [
    {
     "name": "stdout",
     "output_type": "stream",
     "text": [
      "1st element of prime_list: 2\n"
     ]
    }
   ],
   "source": [
    "prime_list = [2, 3, 4, 5, 6, 7, 8, 9, 10]\n",
    "print(f\"1st element of prime_list: {prime_list[0]}\")"
   ]
  },
  {
   "cell_type": "code",
   "execution_count": 48,
   "id": "9eaecce8",
   "metadata": {},
   "outputs": [
    {
     "name": "stdout",
     "output_type": "stream",
     "text": [
      "[2, 3, 4, 5, 6, 7, 8, 9, 10, 11, 11, 11]\n"
     ]
    }
   ],
   "source": [
    "prime_list.append(11)\n",
    "prime_list"
   ]
  },
  {
   "cell_type": "code",
   "execution_count": 52,
   "id": "1273e39f",
   "metadata": {},
   "outputs": [
    {
     "data": {
      "text/plain": [
       "[2, 3, 4, 5, 6, 7, 8, 9, 10, 11]"
      ]
     },
     "execution_count": 52,
     "metadata": {},
     "output_type": "execute_result"
    }
   ],
   "source": [
    "prime_list.remove(11)\n",
    "prime_list"
   ]
  },
  {
   "cell_type": "code",
   "execution_count": 57,
   "id": "9e4447bc",
   "metadata": {},
   "outputs": [
    {
     "name": "stdout",
     "output_type": "stream",
     "text": [
      "the average age is: 18.0\n"
     ]
    }
   ],
   "source": [
    "person1 = ['sun', 20, 1, 175, 100]\n",
    "person2 = ['haha', 16, 1, 190, 90]\n",
    "person3 = ['XD', 17, 0, 140, 80]\n",
    "person4 = ['lol', 19, 0, 150, 70]\n",
    "\n",
    "person_list = person1 + person2 + person3 + person4\n",
    "\n",
    "n_person = int(len(person_list) / 5)\n",
    "age = person_list[1::5]\n",
    "ave_sum = sum(age)\n",
    "average_age = float(ave_sum / n_person)\n",
    "print('the average age is: ' + str(average_age))"
   ]
  },
  {
   "cell_type": "code",
   "execution_count": 9,
   "id": "500cbc7a",
   "metadata": {},
   "outputs": [
    {
     "name": "stdout",
     "output_type": "stream",
     "text": [
      "4.0\n",
      "18.0\n"
     ]
    }
   ],
   "source": [
    "personal = ['sun', 20, 1, 175, 100,\n",
    "            'haha', 16, 1, 190, 90,\n",
    "            'XD', 17, 0, 140, 80,\n",
    "            'lol', 19, 0, 150, 70]\n",
    "\n",
    "n_person = len(personal) / 5\n",
    "print(n_person)\n",
    "age = personal[1::5]\n",
    "ave_age = sum(age) / n_person\n",
    "print(ave_age)"
   ]
  },
  {
   "cell_type": "code",
   "execution_count": 21,
   "id": "cd95539e",
   "metadata": {},
   "outputs": [
    {
     "name": "stdout",
     "output_type": "stream",
     "text": [
      "abc\n"
     ]
    }
   ],
   "source": [
    "s_list = ['abc', 'bcd', 'bcdefg', 'abba', 'cddc', 'opq']\n",
    "shortest = s_list[0]\n",
    "for i in range(len(s_list)):\n",
    "    if len(s_list[i]) < len(shortest) :\n",
    "        shortest = s_list[i]\n",
    "#         print(f\"{s_list[i]} < {shortest}\")\n",
    "#     else:\n",
    "#         print(f\"{s_list[i]} >= {shortest}\")\n",
    "print(shortest)"
   ]
  },
  {
   "cell_type": "code",
   "execution_count": 3,
   "id": "f5d9db79",
   "metadata": {},
   "outputs": [
    {
     "name": "stdout",
     "output_type": "stream",
     "text": [
      "opq\n",
      "o\n",
      "p\n",
      "q\n"
     ]
    }
   ],
   "source": [
    "s_list = ['abc', 'bcd', 'bcdefg', 'abba', 'cddc', 'opq']\n",
    "shortest = s_list[0]\n",
    "for i in range(len(s_list)):\n",
    "    if len(s_list[i]) <= len(shortest) :\n",
    "        shortest = s_list[i]\n",
    "print(shortest)"
   ]
  },
  {
   "cell_type": "code",
   "execution_count": 24,
   "id": "3c900b21",
   "metadata": {},
   "outputs": [
    {
     "name": "stdout",
     "output_type": "stream",
     "text": [
      "bcdefg\n"
     ]
    }
   ],
   "source": [
    "s_list = ['abc', 'bcd', 'bcdefg', 'abba', 'cddc', 'opq']\n",
    "longest = s_list[0]\n",
    "for i in range(len(s_list)):\n",
    "    if len(s_list[i]) > len(longest) :\n",
    "        longest = s_list[i]\n",
    "print(longest)"
   ]
  },
  {
   "cell_type": "code",
   "execution_count": 7,
   "id": "db58b85d",
   "metadata": {},
   "outputs": [
    {
     "name": "stdout",
     "output_type": "stream",
     "text": [
      "opq\n",
      "abc\n",
      "bcd\n",
      "opq\n"
     ]
    }
   ],
   "source": [
    "slist = ['abc', 'bcd', 'bcdefg', 'abba', 'cddc', 'opq']\n",
    "shortest = slist[0]\n",
    "for i in range(len(slist)):\n",
    "    if len(slist[i]) <= len(shortest) :\n",
    "        shortest = slist[i]\n",
    "print(shortest)\n",
    "\n",
    "# shortlist = []\n",
    "# for i in slist :\n",
    "#     if len(shortest) == len(i) :\n",
    "#          shortlist.append(i)\n",
    "# print(shortlist)\n",
    "for j in slist :\n",
    "    if len(j) == len(shortest) :\n",
    "        print(j)"
   ]
  }
 ],
 "metadata": {
  "kernelspec": {
   "display_name": "Python 3 (ipykernel)",
   "language": "python",
   "name": "python3"
  },
  "language_info": {
   "codemirror_mode": {
    "name": "ipython",
    "version": 3
   },
   "file_extension": ".py",
   "mimetype": "text/x-python",
   "name": "python",
   "nbconvert_exporter": "python",
   "pygments_lexer": "ipython3",
   "version": "3.10.9"
  }
 },
 "nbformat": 4,
 "nbformat_minor": 5
}
