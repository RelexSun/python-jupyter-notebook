{
 "cells": [
  {
   "cell_type": "markdown",
   "id": "2846fb7b-5ccb-4553-b5fe-2c5575b3352a",
   "metadata": {},
   "source": [
    "# Exercise 1"
   ]
  },
  {
   "cell_type": "code",
   "execution_count": 1,
   "id": "943602f5-eb6b-4841-95ba-c0f93e4ea67d",
   "metadata": {},
   "outputs": [
    {
     "name": "stdin",
     "output_type": "stream",
     "text": [
      "Enter mainTank:  10\n",
      "Enter secondaryTank:  2\n"
     ]
    },
    {
     "name": "stdout",
     "output_type": "stream",
     "text": [
      "Distance 120km\n"
     ]
    }
   ],
   "source": [
    "mainTank = int(input(\"Enter mainTank: \"))\n",
    "secondaryTank = int(input(\"Enter secondaryTank: \"))\n",
    "\n",
    "def howFar(mainTank, secondaryTank) :\n",
    "    distance = 0\n",
    "    while mainTank > 0 :\n",
    "        if mainTank >= 5 :\n",
    "            mainTank -= 5\n",
    "            distance += 50\n",
    "            \n",
    "            if secondaryTank > 0 :\n",
    "                mainTank += 1\n",
    "                secondaryTank -= 1\n",
    "        else :\n",
    "            distance += mainTank * 10\n",
    "            mainTank = 0\n",
    "            \n",
    "    return distance\n",
    "        \n",
    "print(f\"Distance {howFar(mainTank, secondaryTank)}km\")\n",
    "        \n",
    "    "
   ]
  },
  {
   "cell_type": "markdown",
   "id": "5a084c61-c73a-4d94-bbc3-506030f3d39c",
   "metadata": {},
   "source": [
    "# Exercise 2"
   ]
  },
  {
   "cell_type": "code",
   "execution_count": 9,
   "id": "eec3ec4e-6bd9-4cfa-bf14-8a0bdb9698c4",
   "metadata": {},
   "outputs": [
    {
     "name": "stdin",
     "output_type": "stream",
     "text": [
      "Enter numbers of customer:  3\n",
      "Enter balance also click space if there is multiple banks:  2 4 6\n",
      "Enter balance also click space if there is multiple banks:  5 2 4\n",
      "Enter balance also click space if there is multiple banks:  9 1 4\n"
     ]
    },
    {
     "name": "stdout",
     "output_type": "stream",
     "text": [
      "2\n"
     ]
    }
   ],
   "source": [
    "def whoHasTheMostMoney(balance) :\n",
    "    sum_balance = []\n",
    "    for i in balance :\n",
    "        sum_balance.append(sum(i))\n",
    "        \n",
    "    return sum_balance\n",
    "\n",
    "n = int(input(\"Enter numbers of customer: \"))\n",
    "\n",
    "balance = []\n",
    "\n",
    "for i in range(n) :\n",
    "    banks = list(map(int, input(\"Enter balance also click space if there is multiple banks: \").split()))\n",
    "    balance.append(banks)\n",
    "    \n",
    "print(sum_balance.index(max(whoHasTheMostMoney(balance))))"
   ]
  },
  {
   "cell_type": "code",
   "execution_count": null,
   "id": "d7abcbdb-2615-4f8e-b23a-e3779b566d4d",
   "metadata": {},
   "outputs": [],
   "source": []
  }
 ],
 "metadata": {
  "kernelspec": {
   "display_name": "Python 3 (ipykernel)",
   "language": "python",
   "name": "python3"
  },
  "language_info": {
   "codemirror_mode": {
    "name": "ipython",
    "version": 3
   },
   "file_extension": ".py",
   "mimetype": "text/x-python",
   "name": "python",
   "nbconvert_exporter": "python",
   "pygments_lexer": "ipython3",
   "version": "3.11.5"
  }
 },
 "nbformat": 4,
 "nbformat_minor": 5
}
