{
 "cells": [
  {
   "cell_type": "markdown",
   "id": "60e33e57",
   "metadata": {},
   "source": [
    "# 1"
   ]
  },
  {
   "cell_type": "code",
   "execution_count": 1,
   "id": "22591250",
   "metadata": {},
   "outputs": [
    {
     "name": "stdout",
     "output_type": "stream",
     "text": [
      "15\n"
     ]
    }
   ],
   "source": [
    "print(1 + 2 + 3 + 4 + 5)"
   ]
  },
  {
   "cell_type": "markdown",
   "id": "65643c0b",
   "metadata": {},
   "source": [
    "# 2"
   ]
  },
  {
   "cell_type": "code",
   "execution_count": 2,
   "id": "94363923",
   "metadata": {},
   "outputs": [
    {
     "name": "stdout",
     "output_type": "stream",
     "text": [
      "****************************************\n",
      "# # # # # # # # # # # # # # # # # # # # \n"
     ]
    }
   ],
   "source": [
    "print(\"*\" * 40)\n",
    "print(\"# \" * 20)"
   ]
  },
  {
   "cell_type": "markdown",
   "id": "3fd25a23",
   "metadata": {},
   "source": [
    "# 3"
   ]
  },
  {
   "cell_type": "code",
   "execution_count": 3,
   "id": "47173711",
   "metadata": {},
   "outputs": [
    {
     "name": "stdout",
     "output_type": "stream",
     "text": [
      "Enter two integers: 14 10\n",
      "10 14\n"
     ]
    }
   ],
   "source": [
    "a, n = input(\"Enter two integers: \").split()\n",
    "a, n = int(a), int(n)\n",
    "if n > a :\n",
    "    print(a, n)\n",
    "else :\n",
    "    print(n, a)"
   ]
  },
  {
   "cell_type": "markdown",
   "id": "cf0e3e8c",
   "metadata": {},
   "source": [
    "# 4"
   ]
  },
  {
   "cell_type": "code",
   "execution_count": 1,
   "id": "08f9cbdb",
   "metadata": {},
   "outputs": [
    {
     "name": "stdout",
     "output_type": "stream",
     "text": [
      "2 is a prime number.\n",
      "3 is a prime number.\n",
      "4 is a composite number.\n",
      "5 is a prime number.\n",
      "6 is a composite number.\n",
      "7 is a prime number.\n",
      "8 is a composite number.\n",
      "9 is a composite number.\n",
      "10 is a composite number.\n",
      "11 is a prime number.\n",
      "12 is a composite number.\n"
     ]
    }
   ],
   "source": [
    "\n",
    "for i in range(2, 13) :\n",
    "    count = 0\n",
    "    for j in range(1, i + 1) :\n",
    "        if i % j == 0 :\n",
    "            count += 1\n",
    "    \n",
    "    if count == 2 :\n",
    "        print(i, \"is a prime number.\")\n",
    "    else :\n",
    "        print(i, \"is a composite number.\")"
   ]
  },
  {
   "cell_type": "markdown",
   "id": "63e65f5d",
   "metadata": {},
   "source": [
    "# 5 🔥"
   ]
  },
  {
   "cell_type": "code",
   "execution_count": 3,
   "id": "00383d61",
   "metadata": {},
   "outputs": [
    {
     "name": "stdout",
     "output_type": "stream",
     "text": [
      "Three-digit Amstrong numbers: 153 370 371 407 "
     ]
    }
   ],
   "source": [
    "print('Three-digit Amstrong numbers: ', end = \"\")\n",
    "for i in range(100, 1000) :\n",
    "    num = list(str(i))\n",
    "    sumA = int(num[0])**3 + int(num[1])**3 + int(num[2])**3\n",
    "    if sumA == i :\n",
    "        print(i, end = \" \")\n"
   ]
  },
  {
   "cell_type": "markdown",
   "id": "88c39bf6",
   "metadata": {},
   "source": [
    "# 6"
   ]
  },
  {
   "cell_type": "code",
   "execution_count": 6,
   "id": "289fc16f",
   "metadata": {},
   "outputs": [
    {
     "name": "stdout",
     "output_type": "stream",
     "text": [
      "I like pancake.\n",
      "I like kiwi juice.\n",
      "I like espresso.\n",
      "I love pancake.\n",
      "I love kiwi juice.\n",
      "I love espresso.\n"
     ]
    }
   ],
   "source": [
    "l1 = ['I like', 'I love']\n",
    "l2 = ['Pancake', 'Kiwi Juice', 'Expresso']\n",
    "\n",
    "for i in l1 :\n",
    "    for j in l2 :\n",
    "        print(\"{} {}\".format(i, j))"
   ]
  },
  {
   "cell_type": "markdown",
   "id": "b93236ab",
   "metadata": {},
   "source": [
    "# 7 🔥"
   ]
  },
  {
   "cell_type": "code",
   "execution_count": 12,
   "id": "b3788827",
   "metadata": {},
   "outputs": [
    {
     "name": "stdout",
     "output_type": "stream",
     "text": [
      "Given list = [5, 6, 3, 9, 2, 12, 3, 8, 7]\n",
      "Result list= [5, 6, 3, 9, 2, 3, 8, 7, 12]\n"
     ]
    }
   ],
   "source": [
    "Given_list =  [5, 6, 3, 9, 2, 12, 3, 8, 7]\n",
    "print(\"Given list =\", Given_list)\n",
    "\n",
    "large_num = max(Given_list)\n",
    "\n",
    "for i in range(len(Given_list)) :\n",
    "\n",
    "    if i == Given_list.index(large_num) and i < len(Given_list) - 1 :\n",
    "        Given_list[i], Given_list[i + 1] = Given_list[i + 1], Given_list[i]\n",
    "\n",
    "print(\"Result list=\", Given_list)\n"
   ]
  },
  {
   "cell_type": "markdown",
   "id": "1d0c0099",
   "metadata": {},
   "source": [
    "# 8"
   ]
  },
  {
   "cell_type": "code",
   "execution_count": 4,
   "id": "f5fd6304",
   "metadata": {},
   "outputs": [
    {
     "name": "stdout",
     "output_type": "stream",
     "text": [
      "Student's average math score: 91.2\n"
     ]
    }
   ],
   "source": [
    "scores = (('Hyun', 88, 95, 90), ('Kang', 85, 90, 95), ('Park', 70, 90, 80), ('Hong', 90, 90, 95))\n",
    "scores_list = list(scores)\n",
    "scores_person = list(scores[0]) + list(scores[1]) + list(scores[2]) + list(scores[3])\n",
    "\n",
    "avgmath = sum(scores_person[2::4]) / (len(scores_person) / 4)\n",
    "\n",
    "print(\"Student's average math score: {:.1f}\".format(avgmath))"
   ]
  },
  {
   "cell_type": "code",
   "execution_count": null,
   "id": "5a30b990",
   "metadata": {},
   "outputs": [],
   "source": [
    "scores = (('Hyun', 88, 95, 90), ('Kang', 85, 90, 95), ('Park', 70, 90, 80), ('Hong', 90, 90, 95))\n",
    "\n",
    "\n"
   ]
  },
  {
   "cell_type": "markdown",
   "id": "c2c5562d",
   "metadata": {},
   "source": [
    "---"
   ]
  },
  {
   "cell_type": "markdown",
   "id": "f6811e6c",
   "metadata": {},
   "source": [
    "# 9"
   ]
  },
  {
   "cell_type": "code",
   "execution_count": 10,
   "id": "bd40feb0",
   "metadata": {},
   "outputs": [
    {
     "name": "stdout",
     "output_type": "stream",
     "text": [
      "The area of a circle 153.86\n",
      "The circumference of a circle 43.96\n"
     ]
    }
   ],
   "source": [
    "radius = 7\n",
    "pi = 3.14\n",
    "area = pi * pow(radius, 2)\n",
    "circum = 2 * pi * radius\n",
    "print(\"The area of a circle\", area)\n",
    "print(\"The circumference of a circle\", circum)"
   ]
  },
  {
   "cell_type": "markdown",
   "id": "300eeccc",
   "metadata": {},
   "source": [
    "# 10"
   ]
  },
  {
   "cell_type": "code",
   "execution_count": 11,
   "id": "de5fa4d2",
   "metadata": {},
   "outputs": [
    {
     "name": "stdout",
     "output_type": "stream",
     "text": [
      "100\n",
      "5050\n"
     ]
    }
   ],
   "source": [
    "print(int('50') + 50)\n",
    "print('50' + str(50))"
   ]
  },
  {
   "cell_type": "markdown",
   "id": "8a3641ce",
   "metadata": {},
   "source": [
    "# 11"
   ]
  },
  {
   "cell_type": "code",
   "execution_count": 12,
   "id": "8fc8815d",
   "metadata": {},
   "outputs": [
    {
     "data": {
      "text/plain": [
       "1000"
      ]
     },
     "execution_count": 12,
     "metadata": {},
     "output_type": "execute_result"
    }
   ],
   "source": [
    "print(int('1' + '0'+ '0'+ '0'))"
   ]
  },
  {
   "cell_type": "markdown",
   "id": "2375ae96",
   "metadata": {},
   "source": [
    "# 12"
   ]
  },
  {
   "cell_type": "code",
   "execution_count": 13,
   "id": "95d4b753",
   "metadata": {},
   "outputs": [
    {
     "name": "stdout",
     "output_type": "stream",
     "text": [
      "3\n",
      "3! = 6\n"
     ]
    }
   ],
   "source": [
    "N = 3\n",
    "factorial = 3 * 2 * 1\n",
    "print(N)\n",
    "print(str(N) + \"! = \", factorial)\n",
    "\n",
    "N = 5\n",
    "factorial = 5 * (N - 1) * (N - 2) * 2 * 1\n",
    "print(N)\n",
    "print(str(N) + \"! = \", factorial)\n",
    "\n",
    "N = 10\n",
    "factorial = 10 * (N - 1) * (N - 2) * (N - 3) * (N - 4) * (N - 5) * (N - 6) * (N - 7) * 2 * 1\n",
    "print(N)\n",
    "print(str(N) + \"! = \", factorial)\n",
    "\n",
    "# n = int(input())\n",
    "# fact = 1\n",
    "# for i in range(1, n + 1) :\n",
    "#     fact = fact * i\n",
    "# print(str(n) + 'i =', fact)"
   ]
  },
  {
   "cell_type": "markdown",
   "id": "12ce4581",
   "metadata": {},
   "source": [
    "# 13"
   ]
  },
  {
   "cell_type": "code",
   "execution_count": 14,
   "id": "e9bc89a1",
   "metadata": {},
   "outputs": [
    {
     "name": "stdout",
     "output_type": "stream",
     "text": [
      "180\n",
      "70\n",
      "21.60\n"
     ]
    }
   ],
   "source": [
    "height = input()\n",
    "weight = input()\n",
    "height, weight = int(height), int(weight)\n",
    "\n",
    "height_m = height / 100\n",
    "BMI = weight / pow(height_m, 2)\n",
    "\n",
    "print(\"{:.2f}\".format(BMI))"
   ]
  },
  {
   "cell_type": "markdown",
   "id": "2057d11f",
   "metadata": {},
   "source": [
    "# 14"
   ]
  },
  {
   "cell_type": "code",
   "execution_count": 15,
   "id": "0294390a",
   "metadata": {},
   "outputs": [
    {
     "name": "stdout",
     "output_type": "stream",
     "text": [
      "1800\n"
     ]
    }
   ],
   "source": [
    "width = 30\n",
    "height = 60\n",
    "ractangle = width * height\n",
    "print(ractangle)"
   ]
  },
  {
   "cell_type": "markdown",
   "id": "3e1b4cef",
   "metadata": {},
   "source": [
    "# 15"
   ]
  },
  {
   "cell_type": "code",
   "execution_count": 16,
   "id": "5d75d4d2",
   "metadata": {},
   "outputs": [
    {
     "name": "stdout",
     "output_type": "stream",
     "text": [
      "3\n",
      "4\n",
      "5.0\n"
     ]
    }
   ],
   "source": [
    "a = int(input())\n",
    "b = int(input())\n",
    "\n",
    "c = pow((pow(a, 2) + pow(b, 2)), 0.5)\n",
    "print(c)"
   ]
  },
  {
   "cell_type": "markdown",
   "id": "144f94f9",
   "metadata": {},
   "source": [
    "# 16"
   ]
  },
  {
   "cell_type": "code",
   "execution_count": 1,
   "id": "5cfb8106",
   "metadata": {
    "scrolled": false
   },
   "outputs": [
    {
     "name": "stdout",
     "output_type": "stream",
     "text": [
      "2\n",
      "1 * 2 = 2\n",
      "2 * 2 = 4\n",
      "3 * 2 = 6\n",
      "4 * 2 = 8\n",
      "5 * 2 = 10\n",
      "6 * 2 = 12\n",
      "7 * 2 = 14\n",
      "8 * 2 = 16\n",
      "9 * 2 = 18\n"
     ]
    }
   ],
   "source": [
    "n = int(input())\n",
    "for i in range(1, 10) :\n",
    "    print(\"{} * {} = {}\".format(i, n, pow(i, n)))"
   ]
  },
  {
   "cell_type": "markdown",
   "id": "ef8a8c4e",
   "metadata": {},
   "source": [
    "# 17"
   ]
  },
  {
   "cell_type": "code",
   "execution_count": 18,
   "id": "4cae50b7",
   "metadata": {},
   "outputs": [
    {
     "name": "stdout",
     "output_type": "stream",
     "text": [
      "Please enter the year: 2023\n",
      "False\n"
     ]
    }
   ],
   "source": [
    "n = int(input('Please enter the year: '))\n",
    "print((n % 4 == 0 and n % 100 != 0) or n % 400 == 0)"
   ]
  },
  {
   "cell_type": "markdown",
   "id": "bd0a7d27",
   "metadata": {},
   "source": [
    "# 18"
   ]
  },
  {
   "cell_type": "code",
   "execution_count": 19,
   "id": "65a0e6f6",
   "metadata": {},
   "outputs": [
    {
     "name": "stdout",
     "output_type": "stream",
     "text": [
      "21\n",
      "True\n"
     ]
    }
   ],
   "source": [
    "n = int(input())\n",
    "print(n % 2 == 1)"
   ]
  },
  {
   "cell_type": "markdown",
   "id": "dd933892",
   "metadata": {},
   "source": [
    "# 19"
   ]
  },
  {
   "cell_type": "code",
   "execution_count": 20,
   "id": "7316e754",
   "metadata": {},
   "outputs": [
    {
     "name": "stdout",
     "output_type": "stream",
     "text": [
      "12\n",
      "False\n"
     ]
    }
   ],
   "source": [
    "n = int(input())\n",
    "print(n % 2 == 1 and (n > 0 and n < 10))"
   ]
  },
  {
   "cell_type": "markdown",
   "id": "f7dbb572",
   "metadata": {},
   "source": [
    "# 20"
   ]
  },
  {
   "cell_type": "code",
   "execution_count": 21,
   "id": "1c0d0245",
   "metadata": {},
   "outputs": [
    {
     "name": "stdout",
     "output_type": "stream",
     "text": [
      "222\n",
      "False\n"
     ]
    }
   ],
   "source": [
    "n = int(input())\n",
    "print(n > 300 and n <= 399)"
   ]
  },
  {
   "cell_type": "markdown",
   "id": "4692a3df",
   "metadata": {},
   "source": [
    "# 21"
   ]
  },
  {
   "cell_type": "code",
   "execution_count": 22,
   "id": "4f46d538",
   "metadata": {},
   "outputs": [
    {
     "name": "stdout",
     "output_type": "stream",
     "text": [
      "125\n",
      "True\n"
     ]
    }
   ],
   "source": [
    "n = int(input())\n",
    "print(n % 5 == 0)"
   ]
  },
  {
   "cell_type": "markdown",
   "id": "0383593a",
   "metadata": {},
   "source": [
    "# 22"
   ]
  },
  {
   "cell_type": "code",
   "execution_count": 23,
   "id": "943b0428",
   "metadata": {},
   "outputs": [
    {
     "name": "stdout",
     "output_type": "stream",
     "text": [
      "Please enter three lottery numbers : 3 2 9\n",
      "You won the lottery!\n"
     ]
    }
   ],
   "source": [
    "n1, n2, n3 = input(\"Please enter three lottery numbers: \").split()\n",
    "n1, n2, n3 = int(n1), int(n2), int(n3)\n",
    "x1 = 2\n",
    "x2 = 3\n",
    "x3 = 9\n",
    "if (n1 == x1 or n2 == x1 or n3 == x1) and (n1 == x2 or n2 == x2 or n3 == x2) and (n1 == x3 or n2 == x3 or n3 == x3):\n",
    "    print('You won the lottery!')\n",
    "else :\n",
    "    print(\"you lose\")"
   ]
  },
  {
   "cell_type": "markdown",
   "id": "d139e05a",
   "metadata": {},
   "source": [
    "# 23"
   ]
  },
  {
   "cell_type": "code",
   "execution_count": 24,
   "id": "12dec34a",
   "metadata": {},
   "outputs": [
    {
     "name": "stdout",
     "output_type": "stream",
     "text": [
      "50\n",
      "Natural number\n"
     ]
    }
   ],
   "source": [
    "n = int(input())\n",
    "if (n <= 100 and n >= -100) and n > 0 :\n",
    "    print(\"Natural number\")\n",
    "else :\n",
    "    print(\"input number only from -100 to 100\")"
   ]
  },
  {
   "cell_type": "markdown",
   "id": "e9344a75",
   "metadata": {},
   "source": [
    "# 24"
   ]
  },
  {
   "cell_type": "code",
   "execution_count": 25,
   "id": "1fbb7950",
   "metadata": {},
   "outputs": [
    {
     "name": "stdout",
     "output_type": "stream",
     "text": [
      "8 120\n",
      "Kid\n"
     ]
    }
   ],
   "source": [
    "a, b = input().split()\n",
    "a, b = int(a), int(b)\n",
    "\n",
    "if a <= 65 and a > 20 :\n",
    "    print('Adult')\n",
    "    print(\"you can enter\")\n",
    "elif a < 20 and a >= 10 :\n",
    "    print(\"Youth\")\n",
    "elif a < 10 and a > 0 :\n",
    "    print(\"Kid\")\n",
    "    \n",
    "if b >= 110 and (a >= 10 and a <= 65):\n",
    "    print(\"you can enter\")"
   ]
  },
  {
   "cell_type": "markdown",
   "id": "2356d8b7",
   "metadata": {},
   "source": [
    "# 25"
   ]
  },
  {
   "cell_type": "code",
   "execution_count": 27,
   "id": "efb7b825",
   "metadata": {},
   "outputs": [
    {
     "name": "stdout",
     "output_type": "stream",
     "text": [
      "left\n",
      "GOAL!\n"
     ]
    }
   ],
   "source": [
    "import random as r\n",
    "random_num = r.randint(1, 3)\n",
    "if random_num == 1 :\n",
    "    com_choice = 'Left'\n",
    "elif random_num == 2 :\n",
    "    com_choice = 'Center'\n",
    "else :\n",
    "    com_choice = 'Right'\n",
    "    \n",
    "n = input()\n",
    "if n == com_choice :\n",
    "    print('No Goal.')\n",
    "else :\n",
    "    print('GOAL')\n"
   ]
  },
  {
   "cell_type": "code",
   "execution_count": 29,
   "id": "8334bdff",
   "metadata": {},
   "outputs": [
    {
     "name": "stdout",
     "output_type": "stream",
     "text": [
      "left\n",
      "No goal\n"
     ]
    }
   ],
   "source": [
    "import random as r\n",
    "random_num = r.randint(1, 3)\n",
    "if random_num == 1 :\n",
    "    com_choice = 'Left'\n",
    "elif random_num == 2 :\n",
    "    com_choice = 'Center'\n",
    "else :\n",
    "    com_choice = 'Right'\n",
    "    \n",
    "n = input()\n",
    "if n == com_choice :\n",
    "    print('No Goal.')\n",
    "else :\n",
    "    print('GOAL')"
   ]
  },
  {
   "cell_type": "markdown",
   "id": "9b351a67",
   "metadata": {},
   "source": [
    "# 26"
   ]
  },
  {
   "cell_type": "code",
   "execution_count": 30,
   "id": "8c55672d",
   "metadata": {},
   "outputs": [
    {
     "name": "stdout",
     "output_type": "stream",
     "text": [
      "a\n",
      "Vowel\n"
     ]
    }
   ],
   "source": [
    "vowel = ['a', 'e', 'i', 'o', 'u']\n",
    "\n",
    "n = input()\n",
    "if n in vowel :\n",
    "    print(\"it's a vowel\")\n",
    "elif n.isdigit() :\n",
    "    print(\"only characters\")\n",
    "else :\n",
    "    print(\"it's a constant\")"
   ]
  },
  {
   "cell_type": "markdown",
   "id": "d5ee919c",
   "metadata": {},
   "source": [
    "# 27"
   ]
  },
  {
   "cell_type": "code",
   "execution_count": 13,
   "id": "08877ba8",
   "metadata": {},
   "outputs": [
    {
     "name": "stdout",
     "output_type": "stream",
     "text": [
      "1.5 -2\n",
      "4th quadrant\n"
     ]
    }
   ],
   "source": [
    "x, y = input().split()\n",
    "x, y = float(x), float(y)\n",
    "\n",
    "if x > 0 and y > 0 :\n",
    "    print(\"1st quadrant\")\n",
    "elif x < 0 and y > 0 :\n",
    "    print(\"2nd quadrant\")\n",
    "elif x < 0 and y < 0 :\n",
    "    print(\"3rd quadrant\")\n",
    "elif x > 0 and y < 0 :\n",
    "    print(\"4th quadrant\")"
   ]
  },
  {
   "cell_type": "markdown",
   "id": "26f2e1ea",
   "metadata": {},
   "source": [
    "# 28"
   ]
  },
  {
   "cell_type": "code",
   "execution_count": 33,
   "id": "889f4ff7",
   "metadata": {},
   "outputs": [
    {
     "name": "stdout",
     "output_type": "stream",
     "text": [
      "26.75\n"
     ]
    }
   ],
   "source": [
    "person1 = ['David Doe', 20, 1, 180.0, 100.0] \n",
    "person2 = ['John Smith', 25, 1, 170.0, 70.0]\n",
    "person3 = ['Jane Carter', 22, 0, 169.0, 60.0]\n",
    "person4 = ['Peter Kelly', 40, 1, 150.0, 50.0]\n",
    "\n",
    "person = person1 + person2 + person3 + person4\n",
    "aveage = sum(person[1::5]) / (len(person) / 5)\n",
    "print('Average age is ', aveage)"
   ]
  },
  {
   "cell_type": "markdown",
   "id": "ab36aac0",
   "metadata": {},
   "source": [
    "# 29"
   ]
  },
  {
   "cell_type": "code",
   "execution_count": 34,
   "id": "38cd1fa4",
   "metadata": {},
   "outputs": [
    {
     "name": "stdout",
     "output_type": "stream",
     "text": [
      "AnB School student\n",
      "AnB\n"
     ]
    }
   ],
   "source": [
    "n = input().split(\" \")\n",
    "# s_list = list(n)\n",
    "\n",
    "short_str = n[0]\n",
    "for i in range(len(n)) :\n",
    "    if len(short_str) > len(n[i]) :\n",
    "        short_str = n[i]\n",
    "print(short_str)"
   ]
  },
  {
   "cell_type": "markdown",
   "id": "2b2583f6",
   "metadata": {},
   "source": [
    "# 30"
   ]
  },
  {
   "cell_type": "code",
   "execution_count": 35,
   "id": "3ae15848",
   "metadata": {},
   "outputs": [
    {
     "name": "stdout",
     "output_type": "stream",
     "text": [
      "abc bcd bcdefg abba cddc opq\n",
      "abc, bcd, opq\n"
     ]
    }
   ],
   "source": [
    "s_list = ['abc', 'bcd', 'bcdefg', 'abba', 'cddc', 'opq']\n",
    "\n",
    "for i in s_list :\n",
    "    print(i, end = \" \")\n",
    "print()\n",
    "\n",
    "\n",
    "short_str = s_list[0]\n",
    "for i in range(len(s_list)) :\n",
    "    \n",
    "    if len(short_str) == len(s_list[i]) :\n",
    "        print(s_list[i], end = \", \")"
   ]
  },
  {
   "cell_type": "markdown",
   "id": "23b2f40e",
   "metadata": {},
   "source": [
    "# 31"
   ]
  },
  {
   "cell_type": "code",
   "execution_count": 36,
   "id": "4cef0649",
   "metadata": {
    "scrolled": false
   },
   "outputs": [
    {
     "name": "stdout",
     "output_type": "stream",
     "text": [
      "Possible combinations of David's sandwich shops\n",
      "Rye bread + Meatball + Lettuce + Mayonnaise\n",
      "Rye bread + Meatball + Lettuce + Honey mustard\n",
      "Rye bread + Meatball + Lettuce + Chili sauce\n",
      "Rye bread + Meatball + Tomato + Mayonnaise\n",
      "Rye bread + Meatball + Tomato + Honey mustard\n",
      "Rye bread + Meatball + Tomato + Chili sauce\n",
      "Rye bread + Meatball + Cucumber + Mayonnaise\n",
      "Rye bread + Meatball + Cucumber + Honey mustard\n",
      "Rye bread + Meatball + Cucumber + Chili sauce\n",
      "Rye bread + Sausages + Lettuce + Mayonnaise\n",
      "Rye bread + Sausages + Lettuce + Honey mustard\n",
      "Rye bread + Sausages + Lettuce + Chili sauce\n",
      "Rye bread + Sausages + Tomato + Mayonnaise\n",
      "Rye bread + Sausages + Tomato + Honey mustard\n",
      "Rye bread + Sausages + Tomato + Chili sauce\n",
      "Rye bread + Sausages + Cucumber + Mayonnaise\n",
      "Rye bread + Sausages + Cucumber + Honey mustard\n",
      "Rye bread + Sausages + Cucumber + Chili sauce\n",
      "Rye bread + Chicken breast + Lettuce + Mayonnaise\n",
      "Rye bread + Chicken breast + Lettuce + Honey mustard\n",
      "Rye bread + Chicken breast + Lettuce + Chili sauce\n",
      "Rye bread + Chicken breast + Tomato + Mayonnaise\n",
      "Rye bread + Chicken breast + Tomato + Honey mustard\n",
      "Rye bread + Chicken breast + Tomato + Chili sauce\n",
      "Rye bread + Chicken breast + Cucumber + Mayonnaise\n",
      "Rye bread + Chicken breast + Cucumber + Honey mustard\n",
      "Rye bread + Chicken breast + Cucumber + Chili sauce\n",
      "Wheat + Meatball + Lettuce + Mayonnaise\n",
      "Wheat + Meatball + Lettuce + Honey mustard\n",
      "Wheat + Meatball + Lettuce + Chili sauce\n",
      "Wheat + Meatball + Tomato + Mayonnaise\n",
      "Wheat + Meatball + Tomato + Honey mustard\n",
      "Wheat + Meatball + Tomato + Chili sauce\n",
      "Wheat + Meatball + Cucumber + Mayonnaise\n",
      "Wheat + Meatball + Cucumber + Honey mustard\n",
      "Wheat + Meatball + Cucumber + Chili sauce\n",
      "Wheat + Sausages + Lettuce + Mayonnaise\n",
      "Wheat + Sausages + Lettuce + Honey mustard\n",
      "Wheat + Sausages + Lettuce + Chili sauce\n",
      "Wheat + Sausages + Tomato + Mayonnaise\n",
      "Wheat + Sausages + Tomato + Honey mustard\n",
      "Wheat + Sausages + Tomato + Chili sauce\n",
      "Wheat + Sausages + Cucumber + Mayonnaise\n",
      "Wheat + Sausages + Cucumber + Honey mustard\n",
      "Wheat + Sausages + Cucumber + Chili sauce\n",
      "Wheat + Chicken breast + Lettuce + Mayonnaise\n",
      "Wheat + Chicken breast + Lettuce + Honey mustard\n",
      "Wheat + Chicken breast + Lettuce + Chili sauce\n",
      "Wheat + Chicken breast + Tomato + Mayonnaise\n",
      "Wheat + Chicken breast + Tomato + Honey mustard\n",
      "Wheat + Chicken breast + Tomato + Chili sauce\n",
      "Wheat + Chicken breast + Cucumber + Mayonnaise\n",
      "Wheat + Chicken breast + Cucumber + Honey mustard\n",
      "Wheat + Chicken breast + Cucumber + Chili sauce\n",
      "White + Meatball + Lettuce + Mayonnaise\n",
      "White + Meatball + Lettuce + Honey mustard\n",
      "White + Meatball + Lettuce + Chili sauce\n",
      "White + Meatball + Tomato + Mayonnaise\n",
      "White + Meatball + Tomato + Honey mustard\n",
      "White + Meatball + Tomato + Chili sauce\n",
      "White + Meatball + Cucumber + Mayonnaise\n",
      "White + Meatball + Cucumber + Honey mustard\n",
      "White + Meatball + Cucumber + Chili sauce\n",
      "White + Sausages + Lettuce + Mayonnaise\n",
      "White + Sausages + Lettuce + Honey mustard\n",
      "White + Sausages + Lettuce + Chili sauce\n",
      "White + Sausages + Tomato + Mayonnaise\n",
      "White + Sausages + Tomato + Honey mustard\n",
      "White + Sausages + Tomato + Chili sauce\n",
      "White + Sausages + Cucumber + Mayonnaise\n",
      "White + Sausages + Cucumber + Honey mustard\n",
      "White + Sausages + Cucumber + Chili sauce\n",
      "White + Chicken breast + Lettuce + Mayonnaise\n",
      "White + Chicken breast + Lettuce + Honey mustard\n",
      "White + Chicken breast + Lettuce + Chili sauce\n",
      "White + Chicken breast + Tomato + Mayonnaise\n",
      "White + Chicken breast + Tomato + Honey mustard\n",
      "White + Chicken breast + Tomato + Chili sauce\n",
      "White + Chicken breast + Cucumber + Mayonnaise\n",
      "White + Chicken breast + Cucumber + Honey mustard\n",
      "White + Chicken breast + Cucumber + Chili sauce\n"
     ]
    }
   ],
   "source": [
    "bread = ['Rye bread', 'Wheat', 'White']\n",
    "meat = ['Meatball', 'Sausages', 'Chicken breast']\n",
    "vegetable = ['Lettuce', 'Tomato', 'Cucumber']\n",
    "Sauce = ['Mayonnaise', 'Honey mustard', 'Chili sauce']\n",
    "\n",
    "for i in bread :\n",
    "    for j in meat :\n",
    "        for k in vegetable :\n",
    "            for l in Sauce :\n",
    "                print(\"{} + {} + {} + {}\".format(i, j, k, l))"
   ]
  },
  {
   "cell_type": "markdown",
   "id": "329401ba",
   "metadata": {},
   "source": [
    "# 32"
   ]
  },
  {
   "cell_type": "code",
   "execution_count": 14,
   "id": "77794236",
   "metadata": {},
   "outputs": [
    {
     "name": "stdout",
     "output_type": "stream",
     "text": [
      "5\n",
      "1 2 3 4 5 \n",
      "10 9 8 7 6 \n",
      "11 12 13 14 15 \n",
      "20 19 18 17 16 \n",
      "21 22 23 24 25 \n"
     ]
    }
   ],
   "source": [
    "n = int(input())\n",
    "count = 1\n",
    "for i in range(1, n + 1) :\n",
    "\n",
    "    if i % 2 == 1 :\n",
    "        for j in range(1, n + 1) :\n",
    "            print(count, end = \" \")\n",
    "            count += 1\n",
    "    else :\n",
    "        for j in range(n, 0, -1) :\n",
    "            print(count + j - 1, end = \" \")\n",
    "        count += n \n",
    "    print()"
   ]
  },
  {
   "cell_type": "markdown",
   "id": "0d5597c6",
   "metadata": {},
   "source": [
    "# 33"
   ]
  },
  {
   "cell_type": "code",
   "execution_count": 39,
   "id": "c2094493",
   "metadata": {},
   "outputs": [
    {
     "name": "stdout",
     "output_type": "stream",
     "text": [
      "25\n",
      "Lower\n",
      "13\n",
      "Higher\n",
      "20\n",
      "Higher\n",
      "22\n",
      "Higher\n",
      "23\n",
      "Higher\n",
      "24\n",
      "Answer\n"
     ]
    }
   ],
   "source": [
    "import random as r\n",
    "random_num = r.randint(1, 101)\n",
    "\n",
    "\n",
    "while True :\n",
    "    n = int(input())\n",
    "    \n",
    "    if n == random_num :\n",
    "        print('Answer')\n",
    "        break\n",
    "    elif n < random_num :\n",
    "        print('Higher')\n",
    "    elif n > random_num :\n",
    "        print('Lower')"
   ]
  },
  {
   "cell_type": "markdown",
   "id": "23c03f79",
   "metadata": {},
   "source": [
    "# 34"
   ]
  },
  {
   "cell_type": "code",
   "execution_count": 40,
   "id": "3aaa1bf0",
   "metadata": {},
   "outputs": [
    {
     "name": "stdout",
     "output_type": "stream",
     "text": [
      "100 150 230 120 180 100 140 95 81 21 4\n",
      "300 420 530 420 300 40 5 1 1 1\n",
      "0.165 0.001\n"
     ]
    }
   ],
   "source": [
    "a = input().split()\n",
    "b = input().split()\n",
    "\n",
    "for i in range(len(a)) :\n",
    "    a[i] = int(a[i])\n",
    "for i in range(len(b)) :\n",
    "    b[i] = int(b[i])\n",
    "a, b = tuple(a), tuple(b)\n",
    "\n",
    "avgA = sum(a[7:]) / sum(a)\n",
    "avgB = sum(b[7:]) / sum(b)\n",
    "print(\"{:.3f} {:.3f}\".format(avgA, avgB))"
   ]
  },
  {
   "cell_type": "markdown",
   "id": "3d410644",
   "metadata": {},
   "source": [
    "# 35"
   ]
  },
  {
   "cell_type": "code",
   "execution_count": 41,
   "id": "e6ae61ae",
   "metadata": {},
   "outputs": [
    {
     "name": "stdout",
     "output_type": "stream",
     "text": [
      "100 121 120 130 140 120 122 123 190 125\n",
      "3\n"
     ]
    }
   ],
   "source": [
    "n = input().split()\n",
    "dec_sale = n[0]\n",
    "count = 0\n",
    "for i in range(len(n) - 1) :\n",
    "    if n[i] > n[i + 1] :\n",
    "        count += 1\n",
    "print(count)"
   ]
  },
  {
   "cell_type": "markdown",
   "id": "29fb834c",
   "metadata": {},
   "source": [
    "# 36"
   ]
  },
  {
   "cell_type": "code",
   "execution_count": 5,
   "id": "c28a7215",
   "metadata": {},
   "outputs": [
    {
     "name": "stdout",
     "output_type": "stream",
     "text": [
      "1 2 5 4 3 2 1 4 7 8 9 9 3 7 3 9\n",
      "9\n"
     ]
    }
   ],
   "source": [
    "n = input().split()\n",
    "count = 0\n",
    "value = n[0]\n",
    "for i in n :\n",
    "    if n.count(i) >= count and i > value:\n",
    "        count = n.count(i)\n",
    "        value = i\n",
    "print(value)"
   ]
  },
  {
   "cell_type": "markdown",
   "id": "bc4226ae",
   "metadata": {},
   "source": [
    "# 37"
   ]
  },
  {
   "cell_type": "code",
   "execution_count": 43,
   "id": "a0e88e3d",
   "metadata": {},
   "outputs": [
    {
     "name": "stdout",
     "output_type": "stream",
     "text": [
      "[(1,), 'abc', (1,), ('a',), ('a', 'b'), ((),)]\n"
     ]
    }
   ],
   "source": [
    "llist = [(), (1,), [], 'abc', (), (), (1,), ('a',), ('a', 'b'), ((),), '']\n",
    "n_list = []\n",
    "\n",
    "for i in llist :\n",
    "    if len(i)>0:\n",
    "        n_list.append(i)\n",
    "        \n",
    "print(n_list)"
   ]
  },
  {
   "cell_type": "markdown",
   "id": "b85f3721",
   "metadata": {},
   "source": [
    "# 38"
   ]
  },
  {
   "cell_type": "code",
   "execution_count": 44,
   "id": "7d1f91f2",
   "metadata": {},
   "outputs": [
    {
     "name": "stdout",
     "output_type": "stream",
     "text": [
      "Do you want to continue the game? (yes, no): yes\n",
      "Choose among scissors, rock, paper> si\n",
      "Choose among scissors, rock, paper> scissors\n",
      "scissors\n",
      "Do you want to continue the game? (yes, no): no\n",
      "Game Over\n"
     ]
    }
   ],
   "source": [
    "while True :\n",
    "    n = input('Do you want to continue the game? (yes, no): ')\n",
    "    if n == 'no' :\n",
    "        print('Game Over')\n",
    "        break\n",
    "    elif n == 'yes' :\n",
    "        while True :\n",
    "            a = input('Choose among scissors, rock, paper> ')\n",
    "            if a in ['scissors', 'rock', ' paper'] :\n",
    "                print(a)\n",
    "                break"
   ]
  },
  {
   "cell_type": "markdown",
   "id": "d5b27b7e",
   "metadata": {},
   "source": [
    "---"
   ]
  },
  {
   "cell_type": "markdown",
   "id": "163584c6",
   "metadata": {},
   "source": [
    "# 39"
   ]
  },
  {
   "cell_type": "code",
   "execution_count": 45,
   "id": "220e2f01",
   "metadata": {},
   "outputs": [
    {
     "name": "stdout",
     "output_type": "stream",
     "text": [
      "#\n",
      "##\n",
      "###\n",
      "####\n",
      "#####\n"
     ]
    }
   ],
   "source": [
    "print('#')\n",
    "print('##')\n",
    "print('###')\n",
    "print('####')\n",
    "print('#####')"
   ]
  },
  {
   "cell_type": "markdown",
   "id": "61dc3892",
   "metadata": {},
   "source": [
    "# 40"
   ]
  },
  {
   "cell_type": "code",
   "execution_count": 46,
   "id": "c386b02c",
   "metadata": {},
   "outputs": [
    {
     "name": "stdout",
     "output_type": "stream",
     "text": [
      "10 // 8 = 1\n",
      "10 % 8 = 2\n"
     ]
    }
   ],
   "source": [
    "print(\"10 // 8 =\", 10 // 8)\n",
    "print(\"10 % 8 =\", 10 % 8)"
   ]
  },
  {
   "cell_type": "markdown",
   "id": "eda10fd6",
   "metadata": {},
   "source": [
    "# 41"
   ]
  },
  {
   "cell_type": "code",
   "execution_count": 47,
   "id": "33fa000a",
   "metadata": {},
   "outputs": [
    {
     "name": "stdout",
     "output_type": "stream",
     "text": [
      "86\n",
      "22\n",
      "1728\n",
      "1.6875\n"
     ]
    }
   ],
   "source": [
    "print(54 + 32)\n",
    "print(54 - 32)\n",
    "print(54 * 32)\n",
    "print(54 / 32)"
   ]
  },
  {
   "cell_type": "markdown",
   "id": "35efc96c",
   "metadata": {},
   "source": [
    "# 42"
   ]
  },
  {
   "cell_type": "code",
   "execution_count": 48,
   "id": "41ffc40f",
   "metadata": {},
   "outputs": [
    {
     "name": "stdout",
     "output_type": "stream",
     "text": [
      "54\n",
      "32\n",
      "54+32=86\n",
      "54-32=22\n"
     ]
    }
   ],
   "source": [
    "a = 54\n",
    "b = 32\n",
    "print(a)\n",
    "print(b)\n",
    "print(\"{}+{}={}\".format(a, b, a + b))\n",
    "print(\"{}-{}={}\".format(a, b, a - b))"
   ]
  },
  {
   "cell_type": "markdown",
   "id": "b8b63eed",
   "metadata": {},
   "source": [
    "# 43"
   ]
  },
  {
   "cell_type": "code",
   "execution_count": 49,
   "id": "1f74417c",
   "metadata": {},
   "outputs": [
    {
     "name": "stdout",
     "output_type": "stream",
     "text": [
      "2\n",
      "2\n",
      "4\n",
      "6\n",
      "8\n",
      "10\n",
      "12\n",
      "14\n",
      "16\n",
      "18\n"
     ]
    }
   ],
   "source": [
    "n = int(input())\n",
    "\n",
    "for i in range(1, 10) :\n",
    "    print(n * i)\n"
   ]
  },
  {
   "cell_type": "markdown",
   "id": "617777e7",
   "metadata": {},
   "source": [
    "# 44"
   ]
  },
  {
   "cell_type": "code",
   "execution_count": 50,
   "id": "58883d2c",
   "metadata": {},
   "outputs": [
    {
     "name": "stdout",
     "output_type": "stream",
     "text": [
      "6 3 2\n",
      "11\n",
      "1\n",
      "36\n",
      "1.0\n"
     ]
    }
   ],
   "source": [
    "a, b, c = input().split()\n",
    "a, b, c = int(a), int(b), int(c)\n",
    "\n",
    "\n",
    "print(a + b + c)\n",
    "print(a - b - c)\n",
    "print(a * b * c)\n",
    "print(a / b / c)"
   ]
  },
  {
   "cell_type": "markdown",
   "id": "8c861e2b",
   "metadata": {},
   "source": [
    "# 45"
   ]
  },
  {
   "cell_type": "code",
   "execution_count": 51,
   "id": "e44985d5",
   "metadata": {},
   "outputs": [
    {
     "name": "stdout",
     "output_type": "stream",
     "text": [
      "A Z\n",
      "A:65\n",
      "Z:90\n"
     ]
    }
   ],
   "source": [
    "a, b = input().split()\n",
    "\n",
    "\n",
    "print(\"{}:{}\".format(a, ord(a)))\n",
    "print(\"{}:{}\".format(b, ord(b)))"
   ]
  },
  {
   "cell_type": "markdown",
   "id": "b9a06a09",
   "metadata": {},
   "source": [
    "# 46"
   ]
  },
  {
   "cell_type": "code",
   "execution_count": 52,
   "id": "01ee9a46",
   "metadata": {},
   "outputs": [
    {
     "name": "stdout",
     "output_type": "stream",
     "text": [
      "5\n",
      "8\n",
      "7\n",
      "8\n",
      "11\n",
      "5\n",
      "13\n",
      "20\n",
      "28\n",
      "39\n"
     ]
    }
   ],
   "source": [
    "lst = []\n",
    "\n",
    "for i in range(5) :\n",
    "    x = int(input())\n",
    "    lst.append(x)\n",
    "\n",
    "s = 0\n",
    "for i in lst :\n",
    "    s += i\n",
    "    print(s)"
   ]
  },
  {
   "cell_type": "markdown",
   "id": "6e52cc06",
   "metadata": {},
   "source": [
    "# 47"
   ]
  },
  {
   "cell_type": "code",
   "execution_count": 53,
   "id": "5421f3aa",
   "metadata": {},
   "outputs": [
    {
     "name": "stdout",
     "output_type": "stream",
     "text": [
      "4 3\n",
      "2\n"
     ]
    }
   ],
   "source": [
    "R1, S = input().split()\n",
    "R1 = int(R1)\n",
    "S = int(S)\n",
    "R2 = 2 * S - R1\n",
    "\n",
    "print(R2)"
   ]
  },
  {
   "cell_type": "markdown",
   "id": "ebf9bdaa",
   "metadata": {},
   "source": [
    "# 48"
   ]
  },
  {
   "cell_type": "code",
   "execution_count": 54,
   "id": "3568d977",
   "metadata": {},
   "outputs": [
    {
     "name": "stdout",
     "output_type": "stream",
     "text": [
      "23 58\n",
      "22\n",
      "0 20\n"
     ]
    }
   ],
   "source": [
    "hour, minute = input().split()\n",
    "hour, minute = int(hour), int(minute)\n",
    "mission = int(input())\n",
    "s_minute = hour * 60 + mission + minute\n",
    "total_hour = s_minute // 60\n",
    "total_minute = s_minute % 60\n",
    "\n",
    "if total_hour > 23 :\n",
    "    total_hour -= 24\n",
    "print(total_hour, total_minute)"
   ]
  },
  {
   "cell_type": "markdown",
   "id": "b195b61a",
   "metadata": {},
   "source": [
    "# 49"
   ]
  },
  {
   "cell_type": "code",
   "execution_count": 55,
   "id": "b6817c8e",
   "metadata": {},
   "outputs": [
    {
     "name": "stdout",
     "output_type": "stream",
     "text": [
      "3\n",
      "6\n"
     ]
    }
   ],
   "source": []
  },
  {
   "cell_type": "markdown",
   "id": "444ab0b8",
   "metadata": {},
   "source": [
    "# 50"
   ]
  },
  {
   "cell_type": "code",
   "execution_count": 56,
   "id": "d834dd59",
   "metadata": {},
   "outputs": [
    {
     "name": "stdout",
     "output_type": "stream",
     "text": [
      "8\n",
      "even\n"
     ]
    }
   ],
   "source": [
    "n = int(input())\n",
    "if n % 2 == 0 :\n",
    "    print('even')\n",
    "else :\n",
    "    print('odd')"
   ]
  },
  {
   "cell_type": "markdown",
   "id": "cd24e4e4",
   "metadata": {},
   "source": [
    "# 51"
   ]
  },
  {
   "cell_type": "code",
   "execution_count": 57,
   "id": "326bd28d",
   "metadata": {},
   "outputs": [
    {
     "name": "stdout",
     "output_type": "stream",
     "text": [
      "20000 20000\n",
      "=\n"
     ]
    }
   ],
   "source": [
    "a, b = input().split()\n",
    "a, b = int(a), int(b)\n",
    "\n",
    "if a == b :\n",
    "    print('=')\n",
    "elif a > b :\n",
    "    print('>')\n",
    "elif a < b :\n",
    "    print('<')\n",
    "    "
   ]
  },
  {
   "cell_type": "markdown",
   "id": "11318c34",
   "metadata": {},
   "source": [
    "# 52"
   ]
  },
  {
   "cell_type": "code",
   "execution_count": 58,
   "id": "42b4c3fb",
   "metadata": {},
   "outputs": [
    {
     "name": "stdout",
     "output_type": "stream",
     "text": [
      "1 2\n",
      "odd\n"
     ]
    }
   ],
   "source": [
    "a, b = input().split()\n",
    "a, b = int(a), int(b)\n",
    "\n",
    "if (a + b) % 2 == 0 :\n",
    "    print('even')\n",
    "else :\n",
    "    print('odd')"
   ]
  },
  {
   "cell_type": "markdown",
   "id": "fd0d847d",
   "metadata": {},
   "source": [
    "# 53"
   ]
  },
  {
   "cell_type": "code",
   "execution_count": 59,
   "id": "542d3f16",
   "metadata": {},
   "outputs": [
    {
     "name": "stdout",
     "output_type": "stream",
     "text": [
      "-4 3\n",
      "0 or Negative Number\n"
     ]
    }
   ],
   "source": [
    "a, b = input().split()\n",
    "a, b = int(a), int(b)\n",
    "\n",
    "if (a + b) > 0 :\n",
    "    print('Natural number')\n",
    "else :\n",
    "    print('0 or Negative number')"
   ]
  },
  {
   "cell_type": "markdown",
   "id": "57b2a802",
   "metadata": {},
   "source": [
    "# 54"
   ]
  },
  {
   "cell_type": "code",
   "execution_count": 60,
   "id": "b4d418bb",
   "metadata": {},
   "outputs": [
    {
     "name": "stdout",
     "output_type": "stream",
     "text": [
      "500 7 2500\n",
      "1000\n"
     ]
    }
   ],
   "source": [
    "P, N, M = input().split()\n",
    "P, N, M = int(P), int(N), int(M)\n",
    "\n",
    "rq_money = M - P * N\n",
    "\n",
    "if rq_money > 0 :\n",
    "    print('0')\n",
    "elif rq_money < 0 :\n",
    "    print(abs(rq_money))"
   ]
  },
  {
   "cell_type": "markdown",
   "id": "a7b85dd4",
   "metadata": {},
   "source": [
    "# 55"
   ]
  },
  {
   "cell_type": "code",
   "execution_count": 61,
   "id": "65932068",
   "metadata": {},
   "outputs": [
    {
     "name": "stdout",
     "output_type": "stream",
     "text": [
      "91 78 87 100\n",
      "88 100 89 73\n",
      "356\n"
     ]
    }
   ],
   "source": [
    "euler = input().split()\n",
    "euclid = input().split()\n",
    "\n",
    "list_euler = []\n",
    "list_euclid = []\n",
    "\n",
    "for i in euler :\n",
    "    list_euler.append(int(i))\n",
    "for i in euclid :\n",
    "    list_euclid.append(int(i))\n",
    "\n",
    "total_euler = sum(list_euler)\n",
    "total_euclid = sum(list_euclid)\n",
    "\n",
    "if total_euler > total_euclid :\n",
    "    print(total_euler)\n",
    "else :\n",
    "    print(total_euclid)"
   ]
  },
  {
   "cell_type": "markdown",
   "id": "bada49b0",
   "metadata": {},
   "source": [
    "# 56"
   ]
  },
  {
   "cell_type": "code",
   "execution_count": 62,
   "id": "82b0838d",
   "metadata": {},
   "outputs": [
    {
     "name": "stdout",
     "output_type": "stream",
     "text": [
      "0\n",
      "less than 1 or greater than 10\n"
     ]
    }
   ],
   "source": [
    "a = int(input())\n",
    "\n",
    "if a > 1 and a <= 10 :\n",
    "    print('1 or more 10 or less')\n",
    "else :\n",
    "    print('less than 1 or greater than 10')"
   ]
  },
  {
   "cell_type": "markdown",
   "id": "902f6c8c",
   "metadata": {},
   "source": [
    "# 57"
   ]
  },
  {
   "cell_type": "code",
   "execution_count": 63,
   "id": "2a1248c8",
   "metadata": {},
   "outputs": [
    {
     "name": "stdout",
     "output_type": "stream",
     "text": [
      "0 0\n",
      "both a and b are zero or more\n"
     ]
    }
   ],
   "source": [
    "a, b = input().split()\n",
    "a, b = int(a), int(b)\n",
    "\n",
    "if a < 0 or b < 0 :\n",
    "    print('One of a or b is negative number')\n",
    "else :\n",
    "    print('both a and b are zero or more')"
   ]
  },
  {
   "cell_type": "markdown",
   "id": "7f820066",
   "metadata": {},
   "source": [
    "# 58"
   ]
  },
  {
   "cell_type": "code",
   "execution_count": 64,
   "id": "fd65f8d2",
   "metadata": {},
   "outputs": [
    {
     "name": "stdout",
     "output_type": "stream",
     "text": [
      "8\n",
      "YES\n"
     ]
    }
   ],
   "source": [
    "W = int(input())\n",
    "\n",
    "if W % 2 == 0 :\n",
    "    print('YES')\n",
    "else :\n",
    "    print('NO')"
   ]
  },
  {
   "cell_type": "markdown",
   "id": "65c55cca",
   "metadata": {},
   "source": [
    "# 59 🔥"
   ]
  },
  {
   "cell_type": "code",
   "execution_count": 66,
   "id": "ed755960",
   "metadata": {},
   "outputs": [
    {
     "name": "stdout",
     "output_type": "stream",
     "text": [
      "0002\n",
      "0001\n",
      "1\n"
     ]
    }
   ],
   "source": [
    "a = input()\n",
    "b = input()\n",
    "lock = a\n",
    "g = '0000'\n",
    "for _ in range(10000):\n",
    "    g = '{:0>4}'.format(_)\n",
    "    if _ % 2 == 0 :\n",
    "        lock = b\n",
    "    else :\n",
    "        lock = a\n",
    "        \n",
    "    if g == lock :\n",
    "        print(0)\n",
    "        break\n",
    "        \n",
    "    if _ == 9999 :\n",
    "        print(1)"
   ]
  },
  {
   "cell_type": "markdown",
   "id": "afe2c331",
   "metadata": {},
   "source": [
    "# 60"
   ]
  },
  {
   "cell_type": "code",
   "execution_count": 67,
   "id": "9ab8aba6",
   "metadata": {},
   "outputs": [
    {
     "name": "stdout",
     "output_type": "stream",
     "text": [
      "59\n",
      "F\n"
     ]
    }
   ],
   "source": [
    "S = int(input())\n",
    "if S >= 90 and S <= 100 :\n",
    "    print(\"A\")\n",
    "elif S >= 80 and S < 90 :\n",
    "    print(\"B\")\n",
    "elif S >= 70 and S < 80 :\n",
    "    print(\"C\")\n",
    "elif S >= 60 and S < 70 :\n",
    "    print(\"D\")\n",
    "else :\n",
    "    print(\"F\")"
   ]
  },
  {
   "cell_type": "markdown",
   "id": "62c4c10e",
   "metadata": {},
   "source": [
    "# 61"
   ]
  },
  {
   "cell_type": "code",
   "execution_count": 68,
   "id": "254b84b0",
   "metadata": {},
   "outputs": [
    {
     "name": "stdout",
     "output_type": "stream",
     "text": [
      "3 7\n",
      "neither\n"
     ]
    }
   ],
   "source": [
    "a, b = input().split()\n",
    "a, b = int(a), int(b)\n",
    "\n",
    "if (a == 1 and b == 1) or (a == 0 and b == 0)  :\n",
    "    print('both')\n",
    "elif (a == 1 and b > 1) or (a > 1 and b == 1) :\n",
    "    print(\"either\")\n",
    "else :\n",
    "    print(\"neither\")"
   ]
  },
  {
   "cell_type": "markdown",
   "id": "372fc730",
   "metadata": {},
   "source": [
    "# 62"
   ]
  },
  {
   "cell_type": "code",
   "execution_count": 69,
   "id": "4fcaba1b",
   "metadata": {},
   "outputs": [
    {
     "name": "stdout",
     "output_type": "stream",
     "text": [
      "5 15 3\n",
      "5 = 15 / 3\n"
     ]
    }
   ],
   "source": []
  },
  {
   "cell_type": "markdown",
   "id": "80e67ad4",
   "metadata": {},
   "source": [
    "# 63"
   ]
  },
  {
   "cell_type": "code",
   "execution_count": 70,
   "id": "7c835be7",
   "metadata": {},
   "outputs": [
    {
     "name": "stdout",
     "output_type": "stream",
     "text": [
      "3 3 5\n",
      "1300\n"
     ]
    }
   ],
   "source": []
  },
  {
   "cell_type": "markdown",
   "id": "fb7251e0",
   "metadata": {},
   "source": [
    "# 64"
   ]
  },
  {
   "cell_type": "code",
   "execution_count": 71,
   "id": "c5e839fd",
   "metadata": {},
   "outputs": [
    {
     "name": "stdout",
     "output_type": "stream",
     "text": [
      "3 2\n",
      "3\n"
     ]
    }
   ],
   "source": []
  },
  {
   "cell_type": "markdown",
   "id": "3d12ac55",
   "metadata": {},
   "source": [
    "# 65"
   ]
  },
  {
   "cell_type": "code",
   "execution_count": 72,
   "id": "b6eaf43f",
   "metadata": {},
   "outputs": [
    {
     "name": "stdout",
     "output_type": "stream",
     "text": [
      "13\n",
      "1 2 3 4 5 6 7 8 9 10 11 12 13 "
     ]
    }
   ],
   "source": []
  },
  {
   "cell_type": "markdown",
   "id": "5c736584",
   "metadata": {},
   "source": [
    "# 66"
   ]
  },
  {
   "cell_type": "code",
   "execution_count": 73,
   "id": "2d0812ec",
   "metadata": {},
   "outputs": [
    {
     "name": "stdout",
     "output_type": "stream",
     "text": [
      "10\n",
      "1 2 7\n",
      "1 3 6\n",
      "1 4 5\n",
      "2 3 5\n",
      "4\n"
     ]
    }
   ],
   "source": []
  },
  {
   "cell_type": "markdown",
   "id": "aa7bb1e9",
   "metadata": {},
   "source": [
    "# 67"
   ]
  },
  {
   "cell_type": "code",
   "execution_count": 74,
   "id": "6a0209a9",
   "metadata": {},
   "outputs": [
    {
     "name": "stdout",
     "output_type": "stream",
     "text": [
      "3 8\n",
      "3 4 5 6 7 8 "
     ]
    }
   ],
   "source": []
  },
  {
   "cell_type": "markdown",
   "id": "15a9c63a",
   "metadata": {},
   "source": [
    "# 68"
   ]
  },
  {
   "cell_type": "code",
   "execution_count": 75,
   "id": "57aec984",
   "metadata": {},
   "outputs": [
    {
     "name": "stdout",
     "output_type": "stream",
     "text": [
      "3 8\n",
      "8 7 6 5 4 3 "
     ]
    }
   ],
   "source": []
  },
  {
   "cell_type": "markdown",
   "id": "45343b01",
   "metadata": {},
   "source": [
    "# 69"
   ]
  },
  {
   "cell_type": "code",
   "execution_count": 76,
   "id": "82ff826f",
   "metadata": {},
   "outputs": [
    {
     "name": "stdout",
     "output_type": "stream",
     "text": [
      "10\n",
      "220\n"
     ]
    }
   ],
   "source": []
  },
  {
   "cell_type": "markdown",
   "id": "d50fcc77",
   "metadata": {},
   "source": [
    "# 70"
   ]
  },
  {
   "cell_type": "code",
   "execution_count": 77,
   "id": "1c76aab9",
   "metadata": {},
   "outputs": [
    {
     "name": "stdout",
     "output_type": "stream",
     "text": [
      "100\n",
      "5050\n"
     ]
    }
   ],
   "source": []
  },
  {
   "cell_type": "markdown",
   "id": "c3dc8719",
   "metadata": {},
   "source": [
    "# 71"
   ]
  },
  {
   "cell_type": "code",
   "execution_count": 78,
   "id": "fde441d4",
   "metadata": {},
   "outputs": [
    {
     "name": "stdout",
     "output_type": "stream",
     "text": [
      "51 100\n",
      "3775\n"
     ]
    }
   ],
   "source": []
  },
  {
   "cell_type": "markdown",
   "id": "172711fa",
   "metadata": {},
   "source": [
    "# 72"
   ]
  },
  {
   "cell_type": "code",
   "execution_count": 79,
   "id": "efb29d93",
   "metadata": {},
   "outputs": [
    {
     "name": "stdout",
     "output_type": "stream",
     "text": [
      "11\n",
      "1 3 5 7 9 11 "
     ]
    }
   ],
   "source": []
  },
  {
   "cell_type": "markdown",
   "id": "159423b4",
   "metadata": {},
   "source": [
    "# 73"
   ]
  },
  {
   "cell_type": "code",
   "execution_count": 80,
   "id": "47603920",
   "metadata": {},
   "outputs": [
    {
     "name": "stdout",
     "output_type": "stream",
     "text": [
      "12\n",
      "6\n"
     ]
    }
   ],
   "source": []
  },
  {
   "cell_type": "markdown",
   "id": "ef96c8d1",
   "metadata": {},
   "source": [
    "# 74"
   ]
  },
  {
   "cell_type": "code",
   "execution_count": 81,
   "id": "a593b8d9",
   "metadata": {},
   "outputs": [
    {
     "name": "stdout",
     "output_type": "stream",
     "text": [
      "10\n",
      "23\n"
     ]
    }
   ],
   "source": []
  },
  {
   "cell_type": "markdown",
   "id": "2e3345c1",
   "metadata": {},
   "source": [
    "# 75"
   ]
  },
  {
   "cell_type": "code",
   "execution_count": 82,
   "id": "27da39b6",
   "metadata": {},
   "outputs": [
    {
     "name": "stdout",
     "output_type": "stream",
     "text": [
      "12\n",
      "28\n"
     ]
    }
   ],
   "source": []
  },
  {
   "cell_type": "markdown",
   "id": "4ae0a9f3",
   "metadata": {},
   "source": [
    "# 76"
   ]
  },
  {
   "cell_type": "code",
   "execution_count": 83,
   "id": "0ce2d2ab",
   "metadata": {},
   "outputs": [
    {
     "name": "stdout",
     "output_type": "stream",
     "text": [
      "10\n",
      "2\n"
     ]
    }
   ],
   "source": []
  },
  {
   "cell_type": "markdown",
   "id": "611811b1",
   "metadata": {},
   "source": [
    "# 77"
   ]
  },
  {
   "cell_type": "code",
   "execution_count": 84,
   "id": "4338c798",
   "metadata": {},
   "outputs": [
    {
     "name": "stdout",
     "output_type": "stream",
     "text": [
      "10\n",
      "DEFICIENT\n"
     ]
    }
   ],
   "source": []
  },
  {
   "cell_type": "markdown",
   "id": "9fd39691",
   "metadata": {},
   "source": [
    "# 78"
   ]
  },
  {
   "cell_type": "code",
   "execution_count": 85,
   "id": "d442c1e8",
   "metadata": {},
   "outputs": [
    {
     "name": "stdout",
     "output_type": "stream",
     "text": [
      "#\n",
      "##\n",
      "###\n",
      "####\n",
      "#####\n"
     ]
    }
   ],
   "source": []
  },
  {
   "cell_type": "markdown",
   "id": "b5b10b85",
   "metadata": {},
   "source": [
    "# 79"
   ]
  },
  {
   "cell_type": "code",
   "execution_count": 86,
   "id": "de1c0534",
   "metadata": {},
   "outputs": [
    {
     "name": "stdout",
     "output_type": "stream",
     "text": [
      "#####\n",
      "####\n",
      "###\n",
      "##\n",
      "#\n"
     ]
    }
   ],
   "source": []
  },
  {
   "cell_type": "markdown",
   "id": "6335e77e",
   "metadata": {},
   "source": [
    "# 80"
   ]
  },
  {
   "cell_type": "code",
   "execution_count": 87,
   "id": "f6fdb368",
   "metadata": {},
   "outputs": [
    {
     "name": "stdout",
     "output_type": "stream",
     "text": [
      "    #\n",
      "   ##\n",
      "  ###\n",
      " ####\n",
      "#####\n"
     ]
    }
   ],
   "source": []
  },
  {
   "cell_type": "markdown",
   "id": "ac2b668e",
   "metadata": {},
   "source": [
    "# 81"
   ]
  },
  {
   "cell_type": "code",
   "execution_count": 88,
   "id": "0aa17461",
   "metadata": {},
   "outputs": [
    {
     "name": "stdout",
     "output_type": "stream",
     "text": [
      "#####\n",
      " ####\n",
      "  ###\n",
      "   ##\n",
      "    #\n"
     ]
    }
   ],
   "source": []
  },
  {
   "cell_type": "markdown",
   "id": "d4d35435",
   "metadata": {},
   "source": [
    "# 82"
   ]
  },
  {
   "cell_type": "code",
   "execution_count": 89,
   "id": "4a697769",
   "metadata": {},
   "outputs": [
    {
     "name": "stdout",
     "output_type": "stream",
     "text": [
      "    #\n",
      "   ###\n",
      "  #####\n",
      " #######\n",
      "#########\n"
     ]
    }
   ],
   "source": []
  },
  {
   "cell_type": "markdown",
   "id": "a613fe68",
   "metadata": {},
   "source": [
    "# 83"
   ]
  },
  {
   "cell_type": "code",
   "execution_count": 90,
   "id": "983478af",
   "metadata": {},
   "outputs": [
    {
     "name": "stdout",
     "output_type": "stream",
     "text": [
      "#########\n",
      " #######\n",
      "  #####\n",
      "   ###\n",
      "    #\n"
     ]
    }
   ],
   "source": []
  },
  {
   "cell_type": "markdown",
   "id": "bc3e77c3",
   "metadata": {},
   "source": [
    "# 84"
   ]
  },
  {
   "cell_type": "code",
   "execution_count": 91,
   "id": "394147b3",
   "metadata": {},
   "outputs": [
    {
     "name": "stdout",
     "output_type": "stream",
     "text": [
      "20\n",
      "1 1 3\n",
      "2 2 2\n",
      "3 3 1\n",
      "6 1 1\n",
      "4\n"
     ]
    }
   ],
   "source": []
  },
  {
   "cell_type": "markdown",
   "id": "e9c29551",
   "metadata": {},
   "source": [
    "# 85"
   ]
  },
  {
   "cell_type": "code",
   "execution_count": 92,
   "id": "0924364a",
   "metadata": {},
   "outputs": [
    {
     "name": "stdout",
     "output_type": "stream",
     "text": [
      "5\n",
      "1       1\n",
      "12     21\n",
      "123   321\n",
      "1234 4321\n",
      "123454321\n",
      "1234 4321\n",
      "123   321\n",
      "12     21\n",
      "1       1\n"
     ]
    }
   ],
   "source": []
  },
  {
   "cell_type": "markdown",
   "id": "da9a71a3",
   "metadata": {},
   "source": [
    "# 86"
   ]
  },
  {
   "cell_type": "code",
   "execution_count": 93,
   "id": "501bf9f8",
   "metadata": {},
   "outputs": [
    {
     "name": "stdout",
     "output_type": "stream",
     "text": [
      "1250\n",
      "8750\n",
      "7500\n",
      "6250\n",
      "5000\n",
      "3750\n",
      "2500\n",
      "1250\n",
      "0\n",
      "8\n"
     ]
    }
   ],
   "source": []
  },
  {
   "cell_type": "markdown",
   "id": "58364bf0",
   "metadata": {},
   "source": [
    "# 87"
   ]
  },
  {
   "cell_type": "code",
   "execution_count": 94,
   "id": "911c72bf",
   "metadata": {},
   "outputs": [
    {
     "name": "stdout",
     "output_type": "stream",
     "text": [
      "150 50 1000 100\n",
      "450\n"
     ]
    }
   ],
   "source": []
  },
  {
   "cell_type": "markdown",
   "id": "0e422664",
   "metadata": {},
   "source": [
    "# 88"
   ]
  },
  {
   "cell_type": "code",
   "execution_count": 95,
   "id": "e1e67747",
   "metadata": {},
   "outputs": [
    {
     "name": "stdout",
     "output_type": "stream",
     "text": [
      "10 3\n",
      "14\n"
     ]
    }
   ],
   "source": []
  },
  {
   "cell_type": "markdown",
   "id": "41bd860d",
   "metadata": {},
   "source": [
    "# 89"
   ]
  },
  {
   "cell_type": "code",
   "execution_count": 96,
   "id": "9962ba28",
   "metadata": {},
   "outputs": [
    {
     "name": "stdout",
     "output_type": "stream",
     "text": [
      "10\n",
      "30\n"
     ]
    }
   ],
   "source": []
  },
  {
   "cell_type": "markdown",
   "id": "75777cb1",
   "metadata": {},
   "source": [
    "# 90"
   ]
  },
  {
   "cell_type": "code",
   "execution_count": 97,
   "id": "77037927",
   "metadata": {},
   "outputs": [
    {
     "name": "stdout",
     "output_type": "stream",
     "text": [
      "4\n",
      "30\n"
     ]
    }
   ],
   "source": []
  },
  {
   "cell_type": "markdown",
   "id": "f7f08ab7",
   "metadata": {},
   "source": [
    "# 91"
   ]
  },
  {
   "cell_type": "code",
   "execution_count": 98,
   "id": "ebb9e972",
   "metadata": {},
   "outputs": [
    {
     "name": "stdout",
     "output_type": "stream",
     "text": [
      "3\n",
      "14\n"
     ]
    }
   ],
   "source": []
  },
  {
   "cell_type": "markdown",
   "id": "a6d44fad",
   "metadata": {},
   "source": [
    "# 92"
   ]
  },
  {
   "cell_type": "code",
   "execution_count": 100,
   "id": "7e749ed5",
   "metadata": {},
   "outputs": [
    {
     "name": "stdout",
     "output_type": "stream",
     "text": [
      "50 60\n",
      "-1\n"
     ]
    }
   ],
   "source": []
  },
  {
   "cell_type": "markdown",
   "id": "48d1c9b9",
   "metadata": {},
   "source": [
    "# 93"
   ]
  },
  {
   "cell_type": "code",
   "execution_count": 101,
   "id": "31a6c42d",
   "metadata": {},
   "outputs": [
    {
     "name": "stdout",
     "output_type": "stream",
     "text": [
      "5\n",
      "2\n"
     ]
    }
   ],
   "source": []
  },
  {
   "cell_type": "markdown",
   "id": "0a2822f3",
   "metadata": {},
   "source": [
    "# 94"
   ]
  },
  {
   "cell_type": "code",
   "execution_count": 102,
   "id": "aa51272b",
   "metadata": {},
   "outputs": [
    {
     "name": "stdout",
     "output_type": "stream",
     "text": [
      "25\n",
      "5\n"
     ]
    }
   ],
   "source": []
  },
  {
   "cell_type": "markdown",
   "id": "27032b42",
   "metadata": {},
   "source": [
    "# 95"
   ]
  },
  {
   "cell_type": "code",
   "execution_count": 103,
   "id": "dedc66b7",
   "metadata": {},
   "outputs": [
    {
     "name": "stdout",
     "output_type": "stream",
     "text": [
      "120\n",
      "Normal Number\n"
     ]
    }
   ],
   "source": []
  },
  {
   "cell_type": "markdown",
   "id": "661572ab",
   "metadata": {},
   "source": [
    "# 96"
   ]
  },
  {
   "cell_type": "code",
   "execution_count": 104,
   "id": "dff807e3",
   "metadata": {},
   "outputs": [
    {
     "name": "stdout",
     "output_type": "stream",
     "text": [
      "2 3 5 7 11 \n",
      "13 17 19 23 29 \n",
      "31 37 41 43 47 \n",
      "53 59 61 67 71 \n",
      "73 79 83 89 97 \n"
     ]
    }
   ],
   "source": []
  },
  {
   "cell_type": "markdown",
   "id": "5030a1ad",
   "metadata": {},
   "source": [
    "# 97"
   ]
  },
  {
   "cell_type": "code",
   "execution_count": 105,
   "id": "8e30ca8a",
   "metadata": {},
   "outputs": [
    {
     "name": "stdout",
     "output_type": "stream",
     "text": [
      "2 4 6 8 10 12 14 \n",
      "56\n"
     ]
    }
   ],
   "source": []
  },
  {
   "cell_type": "markdown",
   "id": "f3627f86",
   "metadata": {},
   "source": [
    "# 98"
   ]
  },
  {
   "cell_type": "code",
   "execution_count": 106,
   "id": "70e035f6",
   "metadata": {},
   "outputs": [
    {
     "name": "stdout",
     "output_type": "stream",
     "text": [
      "1 2\n",
      "2 3\n",
      "3 4\n",
      "4 5\n",
      "0 0\n",
      "9\n"
     ]
    }
   ],
   "source": []
  },
  {
   "cell_type": "markdown",
   "id": "ccd9a577",
   "metadata": {},
   "source": [
    "# 99"
   ]
  },
  {
   "cell_type": "code",
   "execution_count": 107,
   "id": "cf96d096",
   "metadata": {},
   "outputs": [
    {
     "name": "stdout",
     "output_type": "stream",
     "text": [
      "1 5 7 11 13 17 19 23 25 29 \n",
      "31 35 37 41 43 47 49 53 55 59 \n",
      "61 65 67 71 73 77 79 83 85 89 \n",
      "91 95 97 "
     ]
    }
   ],
   "source": []
  },
  {
   "cell_type": "markdown",
   "id": "f25dba3c",
   "metadata": {},
   "source": [
    "# 100"
   ]
  },
  {
   "cell_type": "code",
   "execution_count": 108,
   "id": "93ee88d1",
   "metadata": {},
   "outputs": [
    {
     "name": "stdout",
     "output_type": "stream",
     "text": [
      "5 3\n",
      "6 2\n",
      "7 2\n",
      "5 3\n",
      "5 4\n",
      "0 4\n",
      "0 6\n",
      "0 0\n",
      "3\n"
     ]
    }
   ],
   "source": []
  },
  {
   "cell_type": "markdown",
   "id": "4f629f0b",
   "metadata": {},
   "source": [
    "# 101"
   ]
  },
  {
   "cell_type": "code",
   "execution_count": 109,
   "id": "04cceac1",
   "metadata": {},
   "outputs": [
    {
     "name": "stdout",
     "output_type": "stream",
     "text": [
      "70\n"
     ]
    }
   ],
   "source": []
  },
  {
   "cell_type": "markdown",
   "id": "cb2e683e",
   "metadata": {},
   "source": [
    "# 102"
   ]
  },
  {
   "cell_type": "code",
   "execution_count": 110,
   "id": "a7da8d78",
   "metadata": {},
   "outputs": [
    {
     "name": "stdout",
     "output_type": "stream",
     "text": [
      "20\n"
     ]
    }
   ],
   "source": []
  },
  {
   "cell_type": "markdown",
   "id": "837f6947",
   "metadata": {},
   "source": [
    "# 103"
   ]
  },
  {
   "cell_type": "code",
   "execution_count": 1,
   "id": "85da4282",
   "metadata": {},
   "outputs": [
    {
     "name": "stdout",
     "output_type": "stream",
     "text": [
      "2 1 2 1 2 1\n",
      "-1 0 0 1 0 7 "
     ]
    }
   ],
   "source": []
  },
  {
   "cell_type": "markdown",
   "id": "da7e5b1e",
   "metadata": {},
   "source": [
    "# 104"
   ]
  },
  {
   "cell_type": "code",
   "execution_count": 117,
   "id": "24aac15e",
   "metadata": {},
   "outputs": [
    {
     "name": "stdout",
     "output_type": "stream",
     "text": [
      "123 234 345\n",
      "1\n",
      "0\n",
      "1\n",
      "0\n",
      "0\n",
      "0\n",
      "0\n",
      "1\n",
      "0\n",
      "4\n"
     ]
    }
   ],
   "source": []
  },
  {
   "cell_type": "markdown",
   "id": "1f0a21cf",
   "metadata": {},
   "source": [
    "# 105"
   ]
  },
  {
   "cell_type": "code",
   "execution_count": 118,
   "id": "63fbc758",
   "metadata": {},
   "outputs": [
    {
     "name": "stdout",
     "output_type": "stream",
     "text": [
      "2500\n"
     ]
    }
   ],
   "source": []
  },
  {
   "cell_type": "markdown",
   "id": "76669ec0",
   "metadata": {},
   "source": [
    "# 106"
   ]
  },
  {
   "cell_type": "code",
   "execution_count": 119,
   "id": "c0c97a43",
   "metadata": {},
   "outputs": [
    {
     "name": "stdout",
     "output_type": "stream",
     "text": [
      "[2, 3, 4, 5, 6, 7, 8, 9, 10, 1]\n"
     ]
    }
   ],
   "source": []
  },
  {
   "cell_type": "markdown",
   "id": "fc08fe2f",
   "metadata": {},
   "source": [
    "# 107"
   ]
  },
  {
   "cell_type": "code",
   "execution_count": 120,
   "id": "753bbf7c",
   "metadata": {},
   "outputs": [
    {
     "name": "stdout",
     "output_type": "stream",
     "text": [
      "[10, 1, 2, 3, 4, 5, 6, 7, 8, 9]\n"
     ]
    }
   ],
   "source": []
  },
  {
   "cell_type": "markdown",
   "id": "054c0d25",
   "metadata": {},
   "source": [
    "# 108"
   ]
  },
  {
   "cell_type": "code",
   "execution_count": 2,
   "id": "eaf506a7",
   "metadata": {},
   "outputs": [
    {
     "name": "stdout",
     "output_type": "stream",
     "text": [
      "20211224\n",
      "2021Y 12M 24D\n"
     ]
    }
   ],
   "source": []
  },
  {
   "cell_type": "markdown",
   "id": "4b0d5535",
   "metadata": {},
   "source": [
    "# 109"
   ]
  },
  {
   "cell_type": "code",
   "execution_count": 3,
   "id": "fbb525c9",
   "metadata": {},
   "outputs": [
    {
     "name": "stdout",
     "output_type": "stream",
     "text": [
      "4 2\n",
      "0 0 0 0\n",
      "0\n"
     ]
    }
   ],
   "source": []
  },
  {
   "cell_type": "markdown",
   "id": "da3f8836",
   "metadata": {},
   "source": [
    "# 110"
   ]
  },
  {
   "cell_type": "code",
   "execution_count": 4,
   "id": "1f677bf0",
   "metadata": {},
   "outputs": [
    {
     "name": "stdout",
     "output_type": "stream",
     "text": [
      "10\n",
      "3\n",
      "4\n",
      "6\n",
      "2\n",
      "28\n"
     ]
    }
   ],
   "source": []
  },
  {
   "cell_type": "markdown",
   "id": "bbe84a36",
   "metadata": {},
   "source": [
    "# 111"
   ]
  },
  {
   "cell_type": "code",
   "execution_count": 5,
   "id": "da4df274",
   "metadata": {},
   "outputs": [
    {
     "name": "stdout",
     "output_type": "stream",
     "text": [
      "6\n",
      "5 2 4 1 7 5\n",
      "5\n"
     ]
    }
   ],
   "source": []
  },
  {
   "cell_type": "markdown",
   "id": "7e170400",
   "metadata": {},
   "source": [
    "# 112"
   ]
  },
  {
   "cell_type": "code",
   "execution_count": 6,
   "id": "8292d996",
   "metadata": {},
   "outputs": [
    {
     "name": "stdout",
     "output_type": "stream",
     "text": [
      "5\n",
      "1 3 3 4 5\n",
      "1 5 3 7 9 "
     ]
    }
   ],
   "source": []
  },
  {
   "cell_type": "markdown",
   "id": "bc4cd327",
   "metadata": {},
   "source": [
    "# 113"
   ]
  },
  {
   "cell_type": "code",
   "execution_count": 7,
   "id": "c1671a92",
   "metadata": {},
   "outputs": [
    {
     "name": "stdout",
     "output_type": "stream",
     "text": [
      "1 4 3 2 9 7 18 22 0\n",
      "3\n"
     ]
    }
   ],
   "source": []
  },
  {
   "cell_type": "markdown",
   "id": "d0cc2e2d",
   "metadata": {},
   "source": [
    "# 114"
   ]
  },
  {
   "cell_type": "code",
   "execution_count": 8,
   "id": "6d6960c1",
   "metadata": {},
   "outputs": [
    {
     "name": "stdout",
     "output_type": "stream",
     "text": [
      "24 2\n",
      "1 1\n",
      "1 2\n",
      "2 1\n",
      "2 2\n",
      "3 1\n",
      "3 2\n",
      "4 1\n",
      "4 2\n",
      "6 1\n",
      "6 2\n",
      "8 1\n",
      "8 2\n",
      "12 1\n",
      "12 2\n",
      "24 1\n",
      "24 2\n"
     ]
    }
   ],
   "source": []
  },
  {
   "cell_type": "markdown",
   "id": "f84decb2",
   "metadata": {},
   "source": [
    "# 115"
   ]
  },
  {
   "cell_type": "code",
   "execution_count": 9,
   "id": "fec3d2bc",
   "metadata": {},
   "outputs": [
    {
     "name": "stdout",
     "output_type": "stream",
     "text": [
      "123 45\n",
      "54\n"
     ]
    }
   ],
   "source": []
  },
  {
   "cell_type": "markdown",
   "id": "07e45c11",
   "metadata": {},
   "source": [
    "# 116"
   ]
  },
  {
   "cell_type": "code",
   "execution_count": 10,
   "id": "5674ae51",
   "metadata": {},
   "outputs": [
    {
     "name": "stdout",
     "output_type": "stream",
     "text": [
      "77\n",
      "-99\n",
      "98\n"
     ]
    }
   ],
   "source": []
  },
  {
   "cell_type": "markdown",
   "id": "2b082f78",
   "metadata": {},
   "source": [
    "# 117"
   ]
  },
  {
   "cell_type": "code",
   "execution_count": 11,
   "id": "cf7647d9",
   "metadata": {},
   "outputs": [
    {
     "name": "stdout",
     "output_type": "stream",
     "text": [
      "10\n",
      "20\n",
      "30\n",
      "40\n",
      "50\n",
      "60\n",
      "70\n",
      "80\n",
      "90\n",
      "90\n",
      "9\n"
     ]
    }
   ],
   "source": []
  },
  {
   "cell_type": "markdown",
   "id": "b9ba696b",
   "metadata": {},
   "source": [
    "# 118"
   ]
  },
  {
   "cell_type": "code",
   "execution_count": 12,
   "id": "a85c5dcf",
   "metadata": {},
   "outputs": [
    {
     "name": "stdout",
     "output_type": "stream",
     "text": [
      "4 4 3 3\n",
      "5 4 3 5\n",
      "5 5 2 4\n",
      "5 5 5 1\n",
      "4 4 4 4\n",
      "2 17\n"
     ]
    }
   ],
   "source": []
  },
  {
   "cell_type": "markdown",
   "id": "709d72d9",
   "metadata": {},
   "source": [
    "# 119"
   ]
  },
  {
   "cell_type": "code",
   "execution_count": 13,
   "id": "2862801e",
   "metadata": {},
   "outputs": [
    {
     "name": "stdout",
     "output_type": "stream",
     "text": [
      "5\n",
      "512\n",
      "532\n",
      "532\n",
      "585\n",
      "599\n",
      "532\n"
     ]
    }
   ],
   "source": []
  },
  {
   "cell_type": "markdown",
   "id": "958804b1",
   "metadata": {},
   "source": [
    "# 120"
   ]
  },
  {
   "cell_type": "code",
   "execution_count": 14,
   "id": "d0a11526",
   "metadata": {},
   "outputs": [
    {
     "name": "stdout",
     "output_type": "stream",
     "text": [
      "3\n",
      "3\n",
      "2 -1 1\n",
      "9\n"
     ]
    }
   ],
   "source": []
  },
  {
   "cell_type": "markdown",
   "id": "16509d22",
   "metadata": {},
   "source": [
    "# 121"
   ]
  },
  {
   "cell_type": "code",
   "execution_count": 15,
   "id": "6df311ae",
   "metadata": {},
   "outputs": [
    {
     "name": "stdout",
     "output_type": "stream",
     "text": [
      "3 2 3\n",
      "5\n"
     ]
    }
   ],
   "source": []
  },
  {
   "cell_type": "markdown",
   "id": "c0b29afa",
   "metadata": {},
   "source": [
    "# 122"
   ]
  },
  {
   "cell_type": "code",
   "execution_count": 16,
   "id": "427706e2",
   "metadata": {},
   "outputs": [
    {
     "name": "stdout",
     "output_type": "stream",
     "text": [
      "100\n",
      "3\n",
      "5 75 25\n",
      "2 3\n"
     ]
    }
   ],
   "source": []
  },
  {
   "cell_type": "markdown",
   "id": "74997182",
   "metadata": {},
   "source": [
    "# 123"
   ]
  },
  {
   "cell_type": "code",
   "execution_count": 17,
   "id": "68d17ae9",
   "metadata": {},
   "outputs": [
    {
     "name": "stdout",
     "output_type": "stream",
     "text": [
      "2\n",
      "60 1\n",
      "30 5\n",
      "180\n"
     ]
    }
   ],
   "source": []
  },
  {
   "cell_type": "markdown",
   "id": "3f4f815b",
   "metadata": {},
   "source": [
    "# 124"
   ]
  },
  {
   "cell_type": "code",
   "execution_count": 18,
   "id": "07778bb5",
   "metadata": {
    "scrolled": false
   },
   "outputs": [
    {
     "name": "stdout",
     "output_type": "stream",
     "text": [
      "3\n",
      "1\n",
      "4\n",
      "5\n",
      "7\n",
      "9\n",
      "6\n",
      "10\n",
      "11\n",
      "12\n",
      "13\n",
      "14\n",
      "15\n",
      "16\n",
      "17\n",
      "18\n",
      "19\n",
      "20\n",
      "21\n",
      "22\n",
      "23\n",
      "24\n",
      "25\n",
      "26\n",
      "27\n",
      "28\n",
      "29\n",
      "30\n",
      "2\n",
      "8\n"
     ]
    }
   ],
   "source": []
  },
  {
   "cell_type": "markdown",
   "id": "7ccf6ae2",
   "metadata": {},
   "source": [
    "# 125"
   ]
  },
  {
   "cell_type": "code",
   "execution_count": 19,
   "id": "761922bc",
   "metadata": {},
   "outputs": [
    {
     "name": "stdout",
     "output_type": "stream",
     "text": [
      "42\n",
      "84\n",
      "252\n",
      "420\n",
      "840\n",
      "126\n",
      "42\n",
      "84\n",
      "420\n",
      "126\n",
      "1\n"
     ]
    }
   ],
   "source": []
  },
  {
   "cell_type": "markdown",
   "id": "187ef710",
   "metadata": {},
   "source": [
    "# 126"
   ]
  },
  {
   "cell_type": "code",
   "execution_count": 20,
   "id": "b087c2a3",
   "metadata": {},
   "outputs": [
    {
     "name": "stdout",
     "output_type": "stream",
     "text": [
      "30 3\n",
      "1 3\n",
      "3 7\n",
      "1 4\n",
      "13\n"
     ]
    }
   ],
   "source": []
  },
  {
   "cell_type": "markdown",
   "id": "6b78fd03",
   "metadata": {},
   "source": [
    "# 127"
   ]
  },
  {
   "cell_type": "code",
   "execution_count": 21,
   "id": "9e9eac0e",
   "metadata": {},
   "outputs": [
    {
     "name": "stdout",
     "output_type": "stream",
     "text": [
      "4 5\n",
      "0 1 2\n",
      "0 2 4\n",
      "1 2 3\n",
      "1\n",
      "0 2 4\n",
      "1 1 4\n",
      "2\n"
     ]
    }
   ],
   "source": []
  },
  {
   "cell_type": "markdown",
   "id": "66316569",
   "metadata": {},
   "source": [
    "# 128"
   ]
  },
  {
   "cell_type": "code",
   "execution_count": 22,
   "id": "b50355ed",
   "metadata": {},
   "outputs": [
    {
     "name": "stdout",
     "output_type": "stream",
     "text": [
      "13\n",
      "2\n",
      "10\n",
      "1\n",
      "2\n",
      "1\n"
     ]
    }
   ],
   "source": []
  },
  {
   "cell_type": "markdown",
   "id": "91369459",
   "metadata": {},
   "source": [
    "# 129"
   ]
  },
  {
   "cell_type": "code",
   "execution_count": 23,
   "id": "a42ec326",
   "metadata": {},
   "outputs": [
    {
     "name": "stdout",
     "output_type": "stream",
     "text": [
      "5 2\n",
      "1 2\n",
      "4 5\n",
      "2\n"
     ]
    }
   ],
   "source": []
  },
  {
   "cell_type": "markdown",
   "id": "af2b1528",
   "metadata": {},
   "source": [
    "# 130"
   ]
  },
  {
   "cell_type": "code",
   "execution_count": 25,
   "id": "e9c1b63e",
   "metadata": {},
   "outputs": [
    {
     "name": "stdout",
     "output_type": "stream",
     "text": [
      "10 8 6\n",
      "15 30\n",
      "25 50\n",
      "70 80\n",
      "480\n"
     ]
    }
   ],
   "source": []
  },
  {
   "cell_type": "markdown",
   "id": "ffa55afd",
   "metadata": {},
   "source": [
    "# 131"
   ]
  },
  {
   "cell_type": "code",
   "execution_count": 26,
   "id": "1f86d41f",
   "metadata": {},
   "outputs": [
    {
     "name": "stdout",
     "output_type": "stream",
     "text": [
      "3\n",
      "5 9\n",
      "1 10\n",
      "3 8\n",
      "350\n",
      "550\n",
      "330\n"
     ]
    }
   ],
   "source": []
  },
  {
   "cell_type": "markdown",
   "id": "99cb710d",
   "metadata": {},
   "source": [
    "# 132"
   ]
  },
  {
   "cell_type": "code",
   "execution_count": 27,
   "id": "ad4836ee",
   "metadata": {},
   "outputs": [
    {
     "name": "stdout",
     "output_type": "stream",
     "text": [
      "4 2\n",
      "5\n",
      "8\n",
      "12\n",
      "6\n",
      "1 3\n",
      "2 4\n",
      "25\n",
      "26\n"
     ]
    }
   ],
   "source": []
  },
  {
   "cell_type": "markdown",
   "id": "2894b775",
   "metadata": {},
   "source": [
    "# 133"
   ]
  },
  {
   "cell_type": "code",
   "execution_count": 28,
   "id": "bae15f2f",
   "metadata": {},
   "outputs": [
    {
     "name": "stdout",
     "output_type": "stream",
     "text": [
      "5 3\n",
      "2\n",
      "5\n",
      "-4\n",
      "10\n",
      "3\n",
      "11\n"
     ]
    }
   ],
   "source": []
  },
  {
   "cell_type": "markdown",
   "id": "a676fe09",
   "metadata": {},
   "source": [
    "# 134"
   ]
  },
  {
   "cell_type": "code",
   "execution_count": 29,
   "id": "6eca9836",
   "metadata": {},
   "outputs": [
    {
     "name": "stdout",
     "output_type": "stream",
     "text": [
      "4\n",
      "+\n",
      "5\n",
      "*\n",
      "9\n",
      "81\n"
     ]
    }
   ],
   "source": []
  },
  {
   "cell_type": "markdown",
   "id": "ad85236f",
   "metadata": {},
   "source": [
    "# 135"
   ]
  },
  {
   "cell_type": "code",
   "execution_count": 30,
   "id": "48b4a2d9",
   "metadata": {},
   "outputs": [
    {
     "name": "stdout",
     "output_type": "stream",
     "text": [
      "13 5 3 2 1\n",
      "u\n",
      "f\n",
      "u\n",
      "d\n",
      "f\n",
      "3\n"
     ]
    }
   ],
   "source": []
  },
  {
   "cell_type": "markdown",
   "id": "203d52fe",
   "metadata": {},
   "source": [
    "# 136"
   ]
  },
  {
   "cell_type": "code",
   "execution_count": 31,
   "id": "e464f94e",
   "metadata": {},
   "outputs": [
    {
     "name": "stdout",
     "output_type": "stream",
     "text": [
      "1 3 3 1 1 1 7 7 7 7\n",
      "7\n",
      "4\n"
     ]
    }
   ],
   "source": []
  },
  {
   "cell_type": "markdown",
   "id": "7b16dd5d",
   "metadata": {},
   "source": [
    "# 137"
   ]
  },
  {
   "cell_type": "code",
   "execution_count": 32,
   "id": "da988e85",
   "metadata": {},
   "outputs": [
    {
     "name": "stdout",
     "output_type": "stream",
     "text": [
      "6\n",
      "1 0 0 1 1 1\n",
      "2\n"
     ]
    }
   ],
   "source": []
  },
  {
   "cell_type": "markdown",
   "id": "0c5528c9",
   "metadata": {},
   "source": [
    "# 138"
   ]
  },
  {
   "cell_type": "code",
   "execution_count": 33,
   "id": "8e7c1fa4",
   "metadata": {},
   "outputs": [
    {
     "name": "stdout",
     "output_type": "stream",
     "text": [
      "8 1 7 2 6 3 5 4\n",
      "mixed\n"
     ]
    }
   ],
   "source": []
  },
  {
   "cell_type": "markdown",
   "id": "40a7d7ca",
   "metadata": {},
   "source": [
    "# 139"
   ]
  },
  {
   "cell_type": "code",
   "execution_count": 34,
   "id": "4f3b4145",
   "metadata": {},
   "outputs": [
    {
     "name": "stdout",
     "output_type": "stream",
     "text": [
      "6\n",
      "C\n",
      "C\n",
      "P\n",
      "C\n",
      "Z\n",
      "Z\n",
      "5\n"
     ]
    }
   ],
   "source": []
  },
  {
   "cell_type": "markdown",
   "id": "00d3e469",
   "metadata": {},
   "source": [
    "# 140"
   ]
  },
  {
   "cell_type": "code",
   "execution_count": 35,
   "id": "c1dab4ff",
   "metadata": {},
   "outputs": [
    {
     "name": "stdout",
     "output_type": "stream",
     "text": [
      "7\n",
      "0 0\n",
      "1 0\n",
      "1 1\n",
      "0 0\n",
      "0 0\n",
      "0 0\n",
      "0 1\n",
      "6\n"
     ]
    }
   ],
   "source": []
  }
 ],
 "metadata": {
  "kernelspec": {
   "display_name": "Python 3 (ipykernel)",
   "language": "python",
   "name": "python3"
  },
  "language_info": {
   "codemirror_mode": {
    "name": "ipython",
    "version": 3
   },
   "file_extension": ".py",
   "mimetype": "text/x-python",
   "name": "python",
   "nbconvert_exporter": "python",
   "pygments_lexer": "ipython3",
   "version": "3.10.9"
  }
 },
 "nbformat": 4,
 "nbformat_minor": 5
}
