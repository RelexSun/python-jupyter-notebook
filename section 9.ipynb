{
 "cells": [
  {
   "cell_type": "code",
   "execution_count": 2,
   "id": "2f75fc6b",
   "metadata": {},
   "outputs": [
    {
     "name": "stdout",
     "output_type": "stream",
     "text": [
      "welcome\n",
      "welcome again\n"
     ]
    },
    {
     "data": {
      "text/plain": [
       "1"
      ]
     },
     "execution_count": 2,
     "metadata": {},
     "output_type": "execute_result"
    }
   ],
   "source": [
    "i = 0\n",
    "while i < 3 :\n",
    "    i += 1\n",
    "    print('welcome')\n",
    "    if i == 1 :\n",
    "        break\n",
    "print('welcome again')\n",
    "i"
   ]
  },
  {
   "cell_type": "code",
   "execution_count": 5,
   "id": "a78970a9",
   "metadata": {},
   "outputs": [
    {
     "name": "stdout",
     "output_type": "stream",
     "text": [
      "welcome\n",
      "welcome again\n"
     ]
    },
    {
     "data": {
      "text/plain": [
       "3"
      ]
     },
     "execution_count": 5,
     "metadata": {},
     "output_type": "execute_result"
    }
   ],
   "source": [
    "i = 0\n",
    "while i < 3 :\n",
    "    i += 1\n",
    "    if i > 1 :\n",
    "        continue\n",
    "    print('welcome')\n",
    "print('welcome again')\n",
    "\n",
    "i"
   ]
  },
  {
   "cell_type": "code",
   "execution_count": 7,
   "id": "9186d239",
   "metadata": {},
   "outputs": [
    {
     "name": "stdout",
     "output_type": "stream",
     "text": [
      "welcome to\n",
      "we glad\n"
     ]
    },
    {
     "data": {
      "text/plain": [
       "0"
      ]
     },
     "execution_count": 7,
     "metadata": {},
     "output_type": "execute_result"
    }
   ],
   "source": [
    "for i in range(3) :\n",
    "    print('welcome to')\n",
    "    break\n",
    "print('we glad')\n",
    "i"
   ]
  },
  {
   "cell_type": "code",
   "execution_count": 9,
   "id": "f0f569fb",
   "metadata": {},
   "outputs": [
    {
     "name": "stdout",
     "output_type": "stream",
     "text": [
      "welcome\n",
      "we glad\n"
     ]
    },
    {
     "data": {
      "text/plain": [
       "1"
      ]
     },
     "execution_count": 9,
     "metadata": {},
     "output_type": "execute_result"
    }
   ],
   "source": [
    "i = 0\n",
    "while i < 3 :\n",
    "    i += 1\n",
    "    print('welcome')\n",
    "    break\n",
    "print('we glad')\n",
    "i"
   ]
  },
  {
   "cell_type": "code",
   "execution_count": 11,
   "id": "ec51d611",
   "metadata": {},
   "outputs": [
    {
     "name": "stdout",
     "output_type": "stream",
     "text": [
      "6 *  1 = 6\n",
      "6 *  2 = 12\n",
      "6 *  3 = 18\n",
      "6 *  4 = 24\n",
      "6 *  5 = 30\n"
     ]
    }
   ],
   "source": [
    "i = 1\n",
    "\n",
    "while i <= 10:\n",
    "    print('6 * ',(i), '=',6 * i)\n",
    "\n",
    "    if i >= 5:\n",
    "        break\n",
    "    \n",
    "    i = i + 1"
   ]
  },
  {
   "cell_type": "code",
   "execution_count": 13,
   "id": "71ba7579",
   "metadata": {},
   "outputs": [
    {
     "name": "stdout",
     "output_type": "stream",
     "text": [
      "0\n",
      "1\n",
      "2\n"
     ]
    }
   ],
   "source": [
    "for i in range(5):\n",
    "    if i == 3:\n",
    "        break\n",
    "    print(i)\n",
    "\n",
    "# break statement is used for ending -\n",
    "# - the loop right after the condition is met"
   ]
  },
  {
   "cell_type": "code",
   "execution_count": 15,
   "id": "1665b33c",
   "metadata": {},
   "outputs": [
    {
     "name": "stdout",
     "output_type": "stream",
     "text": [
      "0\n",
      "1\n",
      "2\n",
      "4\n"
     ]
    }
   ],
   "source": [
    "for i in range(5):\n",
    "    if i == 3:\n",
    "        continue\n",
    "    print(i)\n",
    "    \n",
    "# continue statement is used for skipping the current iteration when the \n",
    "# condition is met and the control of the program goes to the next."
   ]
  },
  {
   "cell_type": "code",
   "execution_count": 21,
   "id": "f9966ab0",
   "metadata": {},
   "outputs": [
    {
     "name": "stdout",
     "output_type": "stream",
     "text": [
      "1\n",
      "3\n",
      "5\n",
      "7\n",
      "9\n"
     ]
    }
   ],
   "source": [
    "num = 0\n",
    "while num < 10:\n",
    "    num += 1\n",
    "    if (num % 2) == 0:\n",
    "        continue\n",
    "    print(num)"
   ]
  },
  {
   "cell_type": "code",
   "execution_count": 23,
   "id": "0335bad5",
   "metadata": {},
   "outputs": [
    {
     "name": "stdout",
     "output_type": "stream",
     "text": [
      "enter a positive integer to sum: -1\n",
      "enter a positive integer to sum: -2\n",
      "enter a positive integer to sum: 5\n",
      "the sum from 1 to 5 is 15\n"
     ]
    }
   ],
   "source": [
    "n = -1\n",
    "while n <= 0 :\n",
    "    n = int(input('enter a positive integer to sum: '))\n",
    "# if the input doesn't meet the condition it will always ask for re-input\n",
    "s = 0\n",
    "for i in range(1, n + 1) :\n",
    "    s = s + i\n",
    "    \n",
    "print('the sum from 1 to {} is {}'.format(n, s))"
   ]
  },
  {
   "cell_type": "code",
   "execution_count": 27,
   "id": "19c7296a",
   "metadata": {},
   "outputs": [
    {
     "name": "stdout",
     "output_type": "stream",
     "text": [
      "choose between Rock, Paper, Scisors> rock\n",
      "choose between Rock, Paper, Scisors> Rock\n",
      "The selected value is :  Rock\n"
     ]
    }
   ],
   "source": [
    "selected = None\n",
    "while selected not in ['Rock', 'Paper', 'Scissors'] :\n",
    "    selected = input('choose between Rock, Paper, Scisors> ')\n",
    "print('The selected value is : ', selected)"
   ]
  },
  {
   "cell_type": "code",
   "execution_count": 30,
   "id": "9861669a",
   "metadata": {},
   "outputs": [
    {
     "name": "stdout",
     "output_type": "stream",
     "text": [
      "Has the contruction been completed? > haha\n",
      "Has the contruction been completed? > yes\n",
      "You have escapse the loop\n"
     ]
    }
   ],
   "source": [
    "under_construction = True\n",
    "while under_construction :\n",
    "    response = input('Has the contruction been completed? > ')\n",
    "    if response == 'yes' :\n",
    "        under_construction = False\n",
    "print('You have escapse the loop')"
   ]
  },
  {
   "cell_type": "code",
   "execution_count": 3,
   "id": "8c9d1d17",
   "metadata": {},
   "outputs": [
    {
     "name": "stdout",
     "output_type": "stream",
     "text": [
      "Enter the password: > no\n",
      "wrong password\n",
      "Enter the password: > no\n",
      "wrong password\n",
      "Enter the password: > sun\n",
      "I Love You\n"
     ]
    }
   ],
   "source": [
    "password = \"\"\n",
    "while password != 'sun' :\n",
    "    password = input('Enter the password: > ')\n",
    "    if password != 'sun' :\n",
    "        print('wrong password')\n",
    "    elif password == 'sun' :\n",
    "        print('I Love You')"
   ]
  },
  {
   "cell_type": "code",
   "execution_count": 2,
   "id": "12e434a2",
   "metadata": {},
   "outputs": [
    {
     "name": "stdout",
     "output_type": "stream",
     "text": [
      "Enter integer: 5\n",
      "Continue? > yes\n",
      "Enter integer: 6\n",
      "Continue? > no\n",
      "the sum is 11\n"
     ]
    }
   ],
   "source": [
    "total = 0\n",
    "answer = 'yes'\n",
    "while answer == 'yes' :\n",
    "    number = int(input('Enter integer: '))\n",
    "    total = total + number\n",
    "    answer = input('Continue? > ')\n",
    "print('the sum is', total)"
   ]
  },
  {
   "cell_type": "code",
   "execution_count": 10,
   "id": "adb00d35",
   "metadata": {},
   "outputs": [
    {
     "name": "stdout",
     "output_type": "stream",
     "text": [
      "p\n",
      "r\n",
      "g\n",
      "r\n",
      "m\n",
      "m\n",
      "n\n",
      "g\n"
     ]
    }
   ],
   "source": [
    "st = 'programming'\n",
    "for ch in st :\n",
    "    if ch in ['a', 'e', 'i', 'o', 'u'] :\n",
    "        continue\n",
    "    print(ch)\n",
    "    \n",
    "print('the end')"
   ]
  },
  {
   "cell_type": "code",
   "execution_count": null,
   "id": "661b5088",
   "metadata": {},
   "outputs": [],
   "source": [
    "st = 'programming'\n",
    "for ch in st :\n",
    "    if ch in ['a', 'e', 'i', 'o', 'u'] :\n",
    "        break\n",
    "    print(ch)\n",
    "\n",
    "print('the end')"
   ]
  },
  {
   "cell_type": "code",
   "execution_count": 1,
   "id": "c4b4de13",
   "metadata": {},
   "outputs": [
    {
     "name": "stdout",
     "output_type": "stream",
     "text": [
      "2 * 1 = 2\n",
      "2 * 2 = 4\n",
      "2 * 3 = 6\n",
      "2 * 4 = 8\n",
      "2 * 5 = 10\n",
      "2 * 6 = 12\n",
      "2 * 7 = 14\n",
      "2 * 8 = 16\n",
      "2 * 9 = 18\n"
     ]
    }
   ],
   "source": [
    "i = 1\n",
    "while i < 10 :\n",
    "    print('{} * {} = {}'.format(2, i, i * 2))\n",
    "    if i == 10 :\n",
    "        break\n",
    "    i += 1"
   ]
  },
  {
   "cell_type": "code",
   "execution_count": 2,
   "id": "fa3e7c87",
   "metadata": {},
   "outputs": [
    {
     "name": "stdout",
     "output_type": "stream",
     "text": [
      "1 * 1 = 1\n",
      "1 * 2 = 2\n",
      "1 * 3 = 3\n",
      "1 * 4 = 4\n",
      "1 * 5 = 5\n",
      "1 * 6 = 6\n",
      "1 * 7 = 7\n",
      "1 * 8 = 8\n",
      "1 * 9 = 9\n",
      "\n",
      "2 * 1 = 2\n",
      "2 * 2 = 4\n",
      "2 * 3 = 6\n",
      "2 * 4 = 8\n",
      "2 * 5 = 10\n",
      "2 * 6 = 12\n",
      "2 * 7 = 14\n",
      "2 * 8 = 16\n",
      "2 * 9 = 18\n",
      "\n",
      "3 * 1 = 3\n",
      "3 * 2 = 6\n",
      "3 * 3 = 9\n",
      "3 * 4 = 12\n",
      "3 * 5 = 15\n",
      "3 * 6 = 18\n",
      "3 * 7 = 21\n",
      "3 * 8 = 24\n",
      "3 * 9 = 27\n",
      "\n",
      "4 * 1 = 4\n",
      "4 * 2 = 8\n",
      "4 * 3 = 12\n",
      "4 * 4 = 16\n",
      "4 * 5 = 20\n",
      "4 * 6 = 24\n",
      "4 * 7 = 28\n",
      "4 * 8 = 32\n",
      "4 * 9 = 36\n",
      "\n",
      "5 * 1 = 5\n",
      "5 * 2 = 10\n",
      "5 * 3 = 15\n",
      "5 * 4 = 20\n",
      "5 * 5 = 25\n",
      "5 * 6 = 30\n",
      "5 * 7 = 35\n",
      "5 * 8 = 40\n",
      "5 * 9 = 45\n",
      "\n",
      "6 * 1 = 6\n",
      "6 * 2 = 12\n",
      "6 * 3 = 18\n",
      "6 * 4 = 24\n",
      "6 * 5 = 30\n",
      "6 * 6 = 36\n",
      "6 * 7 = 42\n",
      "6 * 8 = 48\n",
      "6 * 9 = 54\n",
      "\n",
      "7 * 1 = 7\n",
      "7 * 2 = 14\n",
      "7 * 3 = 21\n",
      "7 * 4 = 28\n",
      "7 * 5 = 35\n",
      "7 * 6 = 42\n",
      "7 * 7 = 49\n",
      "7 * 8 = 56\n",
      "7 * 9 = 63\n",
      "\n",
      "8 * 1 = 8\n",
      "8 * 2 = 16\n",
      "8 * 3 = 24\n",
      "8 * 4 = 32\n",
      "8 * 5 = 40\n",
      "8 * 6 = 48\n",
      "8 * 7 = 56\n",
      "8 * 8 = 64\n",
      "8 * 9 = 72\n",
      "\n",
      "9 * 1 = 9\n",
      "9 * 2 = 18\n",
      "9 * 3 = 27\n",
      "9 * 4 = 36\n",
      "9 * 5 = 45\n",
      "9 * 6 = 54\n",
      "9 * 7 = 63\n",
      "9 * 8 = 72\n",
      "9 * 9 = 81\n",
      "\n"
     ]
    }
   ],
   "source": [
    "# for i in range(1, 3) :\n",
    "#     for j in range(1, 10) :\n",
    "#       print('{} * {} = {}'.format(i, j, i * j)) \n",
    "\n",
    "i = 1\n",
    "j = 1\n",
    "while i < 10 :\n",
    "    for j in range(1, 10) :\n",
    "        print('{} * {} = {}'.format(i, j, i * j)) \n",
    "    i += 1\n",
    "    print()"
   ]
  },
  {
   "cell_type": "code",
   "execution_count": 1,
   "id": "9bcbaced",
   "metadata": {},
   "outputs": [
    {
     "name": "stdout",
     "output_type": "stream",
     "text": [
      "2 1\n",
      "3 2\n",
      "4 3\n",
      "5 4\n",
      "6 5\n",
      "7 6\n",
      "8 7\n",
      "9 8\n",
      "10 9\n",
      "11 10\n",
      "12 11\n",
      "13 12\n",
      "14 13\n",
      "15 14\n",
      "16 15\n",
      "17 16\n",
      "18 17\n",
      "19 18\n",
      "20 19\n",
      "21 20\n",
      "22 21\n",
      "23 22\n",
      "24 23\n",
      "25 24\n",
      "26 25\n",
      "27 26\n",
      "28 27\n",
      "\n",
      "it took 29 days to escape the snail :\n"
     ]
    }
   ],
   "source": [
    "current_pos = 0\n",
    "days = 1\n",
    "destination = 30\n",
    "move_up = 3\n",
    "move_down = 2\n",
    "\n",
    "while True :\n",
    "    current_pos += move_up\n",
    "    days += 1\n",
    "    if current_pos >= destination :\n",
    "        break\n",
    "    current_pos -= move_down\n",
    "    print(days, current_pos)\n",
    "    \n",
    "print()\n",
    "print('it took {} days to escape the snail :'.format(days))\n"
   ]
  },
  {
   "cell_type": "code",
   "execution_count": 1,
   "id": "02ee4610",
   "metadata": {},
   "outputs": [
    {
     "name": "stdout",
     "output_type": "stream",
     "text": [
      "Enter an integer: 55\n",
      "55 is a palindrome number\n"
     ]
    }
   ],
   "source": [
    "n = input('Enter an integer: ')\n",
    "\n",
    "reverse = n[::-1]\n",
    "if reverse == n :\n",
    "    print(n, 'is a palindrome number')\n",
    "else :\n",
    "    print(n, 'is not a palindrome number')"
   ]
  },
  {
   "cell_type": "code",
   "execution_count": 1,
   "id": "9769b060",
   "metadata": {
    "scrolled": false
   },
   "outputs": [
    {
     "name": "stdout",
     "output_type": "stream",
     "text": [
      "enter an integer: 500\n",
      "error\n",
      "enter an integer: 40\n",
      "go higher\n",
      "enter an integer:  6\n",
      "go higher\n",
      "enter an integer: 60\n",
      "go lower\n",
      "enter an integer: 50\n",
      "congrate! \n",
      "4 attempts\n"
     ]
    }
   ],
   "source": [
    "num = 50\n",
    "i = 0\n",
    "while True :  \n",
    "    i += 1\n",
    "    \n",
    "    while True :\n",
    "        n = int(input('enter an integer: '))\n",
    "        if n <= 100 and n >= 0 :\n",
    "            break\n",
    "        else: \n",
    "            print('error')\n",
    "    \n",
    "    if n < num :\n",
    "        print ('go higher')\n",
    "    elif n > num :\n",
    "        print('go lower')\n",
    "    elif n == num :\n",
    "        print(f'congrate! \\n{i} attempts')\n",
    "        break\n",
    "    \n",
    "     \n"
   ]
  },
  {
   "cell_type": "markdown",
   "id": "7c3f1bf9",
   "metadata": {},
   "source": [
    "# From AI"
   ]
  },
  {
   "cell_type": "code",
   "execution_count": 2,
   "id": "e80c4149",
   "metadata": {},
   "outputs": [
    {
     "name": "stdout",
     "output_type": "stream",
     "text": [
      "Guess a number between 1 and 100: 40\n",
      "Too low! Guess higher.\n",
      "Guess a number between 1 and 100: 50\n",
      "Too low! Guess higher.\n",
      "Guess a number between 1 and 100: 60\n",
      "Too low! Guess higher.\n",
      "Guess a number between 1 and 100: 70\n",
      "Too low! Guess higher.\n",
      "Guess a number between 1 and 100: 90\n",
      "Too low! Guess higher.\n",
      "Guess a number between 1 and 100: 100\n",
      "Too high! Guess lower.\n",
      "Guess a number between 1 and 100: 95\n",
      "Too high! Guess lower.\n",
      "Guess a number between 1 and 100: 93\n",
      "Too high! Guess lower.\n",
      "Guess a number between 1 and 100: 91\n",
      "Too low! Guess higher.\n",
      "Guess a number between 1 and 100: 92\n",
      "Congratulations, you guessed the correct number! \n",
      "attempt:  10\n"
     ]
    }
   ],
   "source": [
    "import random # We'll need to use the random module for this program\n",
    "\n",
    "# Generate a random number between 1 and 100 (inclusive)\n",
    "correct_number = random.randint(1, 100)\n",
    "\n",
    "i = 0\n",
    "\n",
    "# Ask the user to guess until they guess correctly\n",
    "while True:\n",
    "    guess = int(input(\"Guess a number between 1 and 100: \"))\n",
    "    i += 1\n",
    "    # Check if the guess is correct\n",
    "    if guess == correct_number:\n",
    "        print(\"Congratulations, you guessed the correct number! \\nattempt: \", i)\n",
    "        break # Exit the loop\n",
    "     \n",
    "    # If the guess is not correct, give the user a hint to go higher or lower\n",
    "    elif guess < correct_number:\n",
    "        print(\"Too low! Guess higher.\")\n",
    "    else: # guess > correct_number\n",
    "        print(\"Too high! Guess lower.\")"
   ]
  }
 ],
 "metadata": {
  "kernelspec": {
   "display_name": "Python 3 (ipykernel)",
   "language": "python",
   "name": "python3"
  },
  "language_info": {
   "codemirror_mode": {
    "name": "ipython",
    "version": 3
   },
   "file_extension": ".py",
   "mimetype": "text/x-python",
   "name": "python",
   "nbconvert_exporter": "python",
   "pygments_lexer": "ipython3",
   "version": "3.10.9"
  }
 },
 "nbformat": 4,
 "nbformat_minor": 5
}
