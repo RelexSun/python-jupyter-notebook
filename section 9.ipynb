{
 "cells": [
  {
   "cell_type": "code",
   "execution_count": 2,
   "id": "2f75fc6b",
   "metadata": {},
   "outputs": [
    {
     "name": "stdout",
     "output_type": "stream",
     "text": [
      "welcome\n",
      "welcome again\n"
     ]
    },
    {
     "data": {
      "text/plain": [
       "1"
      ]
     },
     "execution_count": 2,
     "metadata": {},
     "output_type": "execute_result"
    }
   ],
   "source": [
    "i = 0\n",
    "while i < 3 :\n",
    "    i += 1\n",
    "    print('welcome')\n",
    "    if i == 1 :\n",
    "        break\n",
    "print('welcome again')\n",
    "i"
   ]
  },
  {
   "cell_type": "code",
   "execution_count": 5,
   "id": "a78970a9",
   "metadata": {},
   "outputs": [
    {
     "name": "stdout",
     "output_type": "stream",
     "text": [
      "welcome\n",
      "welcome again\n"
     ]
    },
    {
     "data": {
      "text/plain": [
       "3"
      ]
     },
     "execution_count": 5,
     "metadata": {},
     "output_type": "execute_result"
    }
   ],
   "source": [
    "i = 0\n",
    "while i < 3 :\n",
    "    i += 1\n",
    "    if i > 1 :\n",
    "        continue\n",
    "    print('welcome')\n",
    "print('welcome again')\n",
    "\n",
    "i"
   ]
  },
  {
   "cell_type": "code",
   "execution_count": 7,
   "id": "9186d239",
   "metadata": {},
   "outputs": [
    {
     "name": "stdout",
     "output_type": "stream",
     "text": [
      "welcome to\n",
      "we glad\n"
     ]
    },
    {
     "data": {
      "text/plain": [
       "0"
      ]
     },
     "execution_count": 7,
     "metadata": {},
     "output_type": "execute_result"
    }
   ],
   "source": [
    "for i in range(3) :\n",
    "    print('welcome to')\n",
    "    break\n",
    "print('we glad')\n",
    "i"
   ]
  },
  {
   "cell_type": "code",
   "execution_count": 9,
   "id": "f0f569fb",
   "metadata": {},
   "outputs": [
    {
     "name": "stdout",
     "output_type": "stream",
     "text": [
      "welcome\n",
      "we glad\n"
     ]
    },
    {
     "data": {
      "text/plain": [
       "1"
      ]
     },
     "execution_count": 9,
     "metadata": {},
     "output_type": "execute_result"
    }
   ],
   "source": [
    "i = 0\n",
    "while i < 3 :\n",
    "    i += 1\n",
    "    print('welcome')\n",
    "    break\n",
    "print('we glad')\n",
    "i"
   ]
  },
  {
   "cell_type": "code",
   "execution_count": 11,
   "id": "ec51d611",
   "metadata": {},
   "outputs": [
    {
     "name": "stdout",
     "output_type": "stream",
     "text": [
      "6 *  1 = 6\n",
      "6 *  2 = 12\n",
      "6 *  3 = 18\n",
      "6 *  4 = 24\n",
      "6 *  5 = 30\n"
     ]
    }
   ],
   "source": [
    "i = 1\n",
    "\n",
    "while i <= 10:\n",
    "    print('6 * ',(i), '=',6 * i)\n",
    "\n",
    "    if i >= 5:\n",
    "        break\n",
    "    \n",
    "    i = i + 1"
   ]
  },
  {
   "cell_type": "code",
   "execution_count": 13,
   "id": "71ba7579",
   "metadata": {},
   "outputs": [
    {
     "name": "stdout",
     "output_type": "stream",
     "text": [
      "0\n",
      "1\n",
      "2\n"
     ]
    }
   ],
   "source": [
    "for i in range(5):\n",
    "    if i == 3:\n",
    "        break\n",
    "    print(i)\n",
    "\n",
    "# break statement is used for ending -\n",
    "# - the loop right after the condition is met"
   ]
  },
  {
   "cell_type": "code",
   "execution_count": 15,
   "id": "1665b33c",
   "metadata": {},
   "outputs": [
    {
     "name": "stdout",
     "output_type": "stream",
     "text": [
      "0\n",
      "1\n",
      "2\n",
      "4\n"
     ]
    }
   ],
   "source": [
    "for i in range(5):\n",
    "    if i == 3:\n",
    "        continue\n",
    "    print(i)\n",
    "    \n",
    "# continue statement is used for skipping the current iteration when the \n",
    "# condition is met and the control of the program goes to the next."
   ]
  },
  {
   "cell_type": "code",
   "execution_count": 21,
   "id": "f9966ab0",
   "metadata": {},
   "outputs": [
    {
     "name": "stdout",
     "output_type": "stream",
     "text": [
      "1\n",
      "3\n",
      "5\n",
      "7\n",
      "9\n"
     ]
    }
   ],
   "source": [
    "num = 0\n",
    "while num < 10:\n",
    "    num += 1\n",
    "    if (num % 2) == 0:\n",
    "        continue\n",
    "    print(num)"
   ]
  },
  {
   "cell_type": "code",
   "execution_count": 23,
   "id": "0335bad5",
   "metadata": {},
   "outputs": [
    {
     "name": "stdout",
     "output_type": "stream",
     "text": [
      "enter a positive integer to sum: -1\n",
      "enter a positive integer to sum: -2\n",
      "enter a positive integer to sum: 5\n",
      "the sum from 1 to 5 is 15\n"
     ]
    }
   ],
   "source": [
    "n = -1\n",
    "while n <= 0 :\n",
    "    n = int(input('enter a positive integer to sum: '))\n",
    "# if the input doesn't meet the condition it will always ask for re-input\n",
    "s = 0\n",
    "for i in range(1, n + 1) :\n",
    "    s = s + i\n",
    "    \n",
    "print('the sum from 1 to {} is {}'.format(n, s))"
   ]
  },
  {
   "cell_type": "code",
   "execution_count": 27,
   "id": "19c7296a",
   "metadata": {},
   "outputs": [
    {
     "name": "stdout",
     "output_type": "stream",
     "text": [
      "choose between Rock, Paper, Scisors> rock\n",
      "choose between Rock, Paper, Scisors> Rock\n",
      "The selected value is :  Rock\n"
     ]
    }
   ],
   "source": [
    "selected = None\n",
    "while selected not in ['Rock', 'Paper', 'Scissors'] :\n",
    "    selected = input('choose between Rock, Paper, Scisors> ')\n",
    "print('The selected value is : ', selected)"
   ]
  },
  {
   "cell_type": "code",
   "execution_count": 30,
   "id": "9861669a",
   "metadata": {},
   "outputs": [
    {
     "name": "stdout",
     "output_type": "stream",
     "text": [
      "Has the contruction been completed? > haha\n",
      "Has the contruction been completed? > yes\n",
      "You have escapse the loop\n"
     ]
    }
   ],
   "source": [
    "under_construction = True\n",
    "while under_construction :\n",
    "    response = input('Has the contruction been completed? > ')\n",
    "    if response == 'yes' :\n",
    "        under_construction = False\n",
    "print('You have escapse the loop')"
   ]
  },
  {
   "cell_type": "code",
   "execution_count": 3,
   "id": "8c9d1d17",
   "metadata": {},
   "outputs": [
    {
     "name": "stdout",
     "output_type": "stream",
     "text": [
      "Enter the password: > no\n",
      "wrong password\n",
      "Enter the password: > no\n",
      "wrong password\n",
      "Enter the password: > sun\n",
      "I Love You\n"
     ]
    }
   ],
   "source": [
    "password = \"\"\n",
    "while password != 'sun' :\n",
    "    password = input('Enter the password: > ')\n",
    "    if password != 'sun' :\n",
    "        print('wrong password')\n",
    "    elif password == 'sun' :\n",
    "        print('I Love You')"
   ]
  },
  {
   "cell_type": "code",
   "execution_count": 2,
   "id": "12e434a2",
   "metadata": {},
   "outputs": [
    {
     "name": "stdout",
     "output_type": "stream",
     "text": [
      "Enter integer: 5\n",
      "Continue? > yes\n",
      "Enter integer: 6\n",
      "Continue? > no\n",
      "the sum is 11\n"
     ]
    }
   ],
   "source": [
    "total = 0\n",
    "answer = 'yes'\n",
    "while answer == 'yes' :\n",
    "    number = int(input('Enter integer: '))\n",
    "    total = total + number\n",
    "    answer = input('Continue? > ')\n",
    "print('the sum is', total)"
   ]
  },
  {
   "cell_type": "code",
   "execution_count": 10,
   "id": "adb00d35",
   "metadata": {},
   "outputs": [
    {
     "name": "stdout",
     "output_type": "stream",
     "text": [
      "p\n",
      "r\n",
      "g\n",
      "r\n",
      "m\n",
      "m\n",
      "n\n",
      "g\n"
     ]
    }
   ],
   "source": [
    "st = 'programming'\n",
    "for ch in st :\n",
    "    if ch in ['a', 'e', 'i', 'o', 'u'] :\n",
    "        continue\n",
    "    print(ch)\n",
    "    \n",
    "print('the end')"
   ]
  },
  {
   "cell_type": "code",
   "execution_count": null,
   "id": "661b5088",
   "metadata": {},
   "outputs": [],
   "source": [
    "st = 'programming'\n",
    "for ch in st :\n",
    "    if ch in ['a', 'e', 'i', 'o', 'u'] :\n",
    "        break\n",
    "    print(ch)\n",
    "\n",
    "print('the end')"
   ]
  },
  {
   "cell_type": "code",
   "execution_count": 1,
   "id": "c4b4de13",
   "metadata": {},
   "outputs": [
    {
     "name": "stdout",
     "output_type": "stream",
     "text": [
      "2 * 1 = 2\n",
      "2 * 2 = 4\n",
      "2 * 3 = 6\n",
      "2 * 4 = 8\n",
      "2 * 5 = 10\n",
      "2 * 6 = 12\n",
      "2 * 7 = 14\n",
      "2 * 8 = 16\n",
      "2 * 9 = 18\n"
     ]
    }
   ],
   "source": [
    "i = 1\n",
    "while i < 10 :\n",
    "    print('{} * {} = {}'.format(2, i, i * 2))\n",
    "    if i == 10 :\n",
    "        break\n",
    "    i += 1"
   ]
  },
  {
   "cell_type": "code",
   "execution_count": null,
   "id": "fa3e7c87",
   "metadata": {},
   "outputs": [],
   "source": [
    "# for i in range(1, 3) :\n",
    "#     for j in range(1, 10) :\n",
    "#       print('{} * {} = {}'.format(i, j, i * j)) \n",
    "\n",
    "i = 1\n",
    "j = 1\n",
    "while i < 10 :\n",
    "    for j in range(1, 10) :\n",
    "       print('{} * {} = {}'.format(i, j, i * j)) \n",
    "    i += 1\n",
    "    print()"
   ]
  },
  {
   "cell_type": "code",
   "execution_count": 1,
   "id": "9bcbaced",
   "metadata": {},
   "outputs": [
    {
     "name": "stdout",
     "output_type": "stream",
     "text": [
      "2 1\n",
      "3 2\n",
      "4 3\n",
      "5 4\n",
      "6 5\n",
      "7 6\n",
      "8 7\n",
      "9 8\n",
      "10 9\n",
      "11 10\n",
      "12 11\n",
      "13 12\n",
      "14 13\n",
      "15 14\n",
      "16 15\n",
      "17 16\n",
      "18 17\n",
      "19 18\n",
      "20 19\n",
      "21 20\n",
      "22 21\n",
      "23 22\n",
      "24 23\n",
      "25 24\n",
      "26 25\n",
      "27 26\n",
      "28 27\n",
      "\n",
      "it took 29 days to escape the snail :\n"
     ]
    }
   ],
   "source": [
    "current_pos = 0\n",
    "days = 1\n",
    "destination = 30\n",
    "move_up = 3\n",
    "move_down = 2\n",
    "\n",
    "while True :\n",
    "    current_pos += move_up\n",
    "    days += 1\n",
    "    if current_pos >= destination :\n",
    "        break\n",
    "    current_pos -= move_down\n",
    "    print(days, current_pos)\n",
    "    \n",
    "print()\n",
    "print('it took {} days to escape the snail :'.format(days))\n"
   ]
  },
  {
   "cell_type": "code",
   "execution_count": 7,
   "id": "02ee4610",
   "metadata": {},
   "outputs": [
    {
     "name": "stdout",
     "output_type": "stream",
     "text": [
      "Enter an integer: 123\n",
      "123 is not a palindrome number\n"
     ]
    }
   ],
   "source": [
    "n = input('Enter an integer: ')\n",
    "\n",
    "reverse = n[::-1]\n",
    "if reverse == n :\n",
    "    print(n, 'is a palindrome number')\n",
    "else :\n",
    "    print(n, 'is not a palindrome number')"
   ]
  }
 ],
 "metadata": {
  "kernelspec": {
   "display_name": "Python 3 (ipykernel)",
   "language": "python",
   "name": "python3"
  },
  "language_info": {
   "codemirror_mode": {
    "name": "ipython",
    "version": 3
   },
   "file_extension": ".py",
   "mimetype": "text/x-python",
   "name": "python",
   "nbconvert_exporter": "python",
   "pygments_lexer": "ipython3",
   "version": "3.10.9"
  }
 },
 "nbformat": 4,
 "nbformat_minor": 5
}
