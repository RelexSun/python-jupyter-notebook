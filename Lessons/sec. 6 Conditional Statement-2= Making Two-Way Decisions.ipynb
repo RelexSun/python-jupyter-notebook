{
 "cells": [
  {
   "cell_type": "code",
   "execution_count": 4,
   "id": "1d11fa65",
   "metadata": {},
   "outputs": [
    {
     "name": "stdout",
     "output_type": "stream",
     "text": [
      "Enter your id: IHateYou\n",
      "GET OUT!!!\n"
     ]
    }
   ],
   "source": [
    "n = input('Enter your id: ')\n",
    "id = 'ILoveYou'\n",
    "if id == n:\n",
    "    print('Welcome')\n",
    "else:\n",
    "    print('GET OUT!!!')"
   ]
  },
  {
   "cell_type": "code",
   "execution_count": 6,
   "id": "c2ee9bca",
   "metadata": {},
   "outputs": [
    {
     "name": "stdout",
     "output_type": "stream",
     "text": [
      "Enter your name: IHateYou\n",
      "Enter your password: 123456\n",
      "User not found?!?!?!\n"
     ]
    }
   ],
   "source": [
    "my_id = 'ILoveYou'\n",
    "password = '123456'\n",
    "input1 = input('Enter your name: ')\n",
    "input2 = input('Enter your password: ')\n",
    "if my_id == input1 and password == input2:\n",
    "    print('Hello, welcome!!!')\n",
    "elif my_id != input1 :\n",
    "    print('User not found?!?!?!')\n",
    "elif password != input2:\n",
    "    print('GET OUT!!!')"
   ]
  },
  {
   "cell_type": "code",
   "execution_count": 12,
   "id": "5226bdc3",
   "metadata": {},
   "outputs": [
    {
     "name": "stdout",
     "output_type": "stream",
     "text": [
      "Enter your grade: 999\n",
      "You got A\n"
     ]
    }
   ],
   "source": [
    "score = int(input('Enter your grade: '))\n",
    "if score >= 90:\n",
    "    print('You got A')\n",
    "elif score >= 80:\n",
    "    print('you got B')\n",
    "elif score >= 70:\n",
    "    print('you got c')\n",
    "elif score >= 60:\n",
    "    print('you got d')\n",
    "else:\n",
    "    print('you failed')"
   ]
  },
  {
   "cell_type": "code",
   "execution_count": 15,
   "id": "b567376a",
   "metadata": {
    "scrolled": true
   },
   "outputs": [
    {
     "name": "stdout",
     "output_type": "stream",
     "text": [
      "Enter the integer: 100\n",
      "Enter another integer: 27\n",
      "not\n"
     ]
    }
   ],
   "source": [
    "a = int(input('Enter the integer: '))\n",
    "b = int(input('Enter another integer: '))\n",
    "if a % b == 0:\n",
    "    print(f\"{a} is a multiple of {b}\")\n",
    "else:\n",
    "    print('not')"
   ]
  },
  {
   "cell_type": "code",
   "execution_count": 52,
   "id": "530d5906",
   "metadata": {},
   "outputs": [
    {
     "name": "stdout",
     "output_type": "stream",
     "text": [
      "Place your shot: left\n",
      "bro is ronaldo\n"
     ]
    }
   ],
   "source": [
    "import random as r\n",
    "n = r.randint(1, 3)\n",
    "if n == 1:\n",
    "    computer_choice = 'left'\n",
    "elif n == 2:\n",
    "    computer_choice = 'center'\n",
    "else:\n",
    "    computer_choice = 'right'\n",
    "\n",
    "user_choice = input('Place your shot: ')\n",
    "if computer_choice == user_choice:\n",
    "    print(\"bro is maguire\")\n",
    "else:\n",
    "    print(\"bro is ronaldo\")"
   ]
  },
  {
   "cell_type": "code",
   "execution_count": 1,
   "id": "b5081add",
   "metadata": {},
   "outputs": [
    {
     "name": "stdout",
     "output_type": "stream",
     "text": [
      "sun calculator\n",
      "enter two integer and an operator in the middle \n",
      "seperate by space : 5 + 5\n",
      "10\n"
     ]
    }
   ],
   "source": [
    "print('sun calculator')\n",
    "\n",
    "a, b, c = input('enter two integer and an operator in the middle \\\n",
    "\\nseperate by space : ').split()\n",
    "a = int(a)\n",
    "c = int(c)\n",
    "if b == '+' :\n",
    "    print(a + c)\n",
    "elif b == '-' :\n",
    "    print(a - c)\n",
    "elif b == '*' :\n",
    "    print(a * c)\n",
    "elif b == '/' :\n",
    "    print(a / c)\n",
    "else :\n",
    "    print('wth r u doing bro')"
   ]
  },
  {
   "cell_type": "markdown",
   "id": "a4655562",
   "metadata": {},
   "source": [
    "x, y = input('enter coordinates: ').split()\n",
    "x = int(x)\n",
    "y = int(y)\n",
    "if x >= 0 and y >= 0 :\n",
    "    print('1st quadrant')\n",
    "elif x < 0 :\n",
    "    print('2nd quadrant')\n",
    "elif y < 0 :\n",
    "    print('4th quadrant')\n",
    "elif :\n",
    "    print('3rd quadrant')"
   ]
  },
  {
   "cell_type": "code",
   "execution_count": 14,
   "id": "10ffd006",
   "metadata": {},
   "outputs": [
    {
     "name": "stdout",
     "output_type": "stream",
     "text": [
      "enter coordinates: 2 -2\n",
      "4th quadrant\n"
     ]
    }
   ],
   "source": [
    "x, y = input('enter coordinates: ').split() \n",
    "x = int(x) \n",
    "y = int(y) \n",
    "if x >= 0 and y >= 0 : \n",
    "    print('1st quadrant') \n",
    "elif x < 0 and y < 0: \n",
    "    print('3rd quadrant') \n",
    "elif x < 0 and y >= 0:\n",
    "    print('2nd quadrant')\n",
    "elif x >= 0 and y < 0 :\n",
    "    print('4th quadrant')\n"
   ]
  },
  {
   "cell_type": "code",
   "execution_count": 25,
   "id": "97d61360",
   "metadata": {},
   "outputs": [
    {
     "name": "stdout",
     "output_type": "stream",
     "text": [
      "welcome to restaurant. Here is the menu\n",
      "For Burger (enter: b)\n",
      "For Pizza (enter: p)\n",
      "For Chicken (enter: c)\n",
      "b = 'Burger'\n",
      "c = 'Chicken'\n",
      "p = 'Pizza'\n",
      "Choose a menu (press b,p,c): b\n",
      "##################################################\n",
      "you chose Burger\n"
     ]
    }
   ],
   "source": [
    "print('welcome to restaurant. Here is the menu\\nFor Burger (enter: b)\\nFor Pizza (enter: p)\\nFor Chicken (enter: c)')\n",
    "print(\"b = 'Burger'\\nc = 'Chicken'\\np = 'Pizza'\")\n",
    "user_choice = input('Choose a menu (press b,p,c): ')\n",
    "\n",
    "print('#' * 50)\n",
    "if user_choice == 'b' :\n",
    "    print('you chose Burger')\n",
    "elif user_choice == 'p' :\n",
    "    print('you chose Pizza')\n",
    "elif user_choice == 'c' :\n",
    "    print('you chose Chicken')\n"
   ]
  },
  {
   "cell_type": "code",
   "execution_count": 7,
   "id": "ba1a63a9",
   "metadata": {},
   "outputs": [
    {
     "name": "stdout",
     "output_type": "stream",
     "text": [
      "input: a\n",
      "its a vowel\n"
     ]
    }
   ],
   "source": [
    "vowel = ['a', 'e', 'i', 'o', 'u']\n",
    "alphabet = input('input: ')\n",
    "if alphabet in vowel :\n",
    "    print('its a vowel')\n",
    "elif alphabet.isdigit() :\n",
    "    print('error')\n",
    "else:\n",
    "    print('its a constant')"
   ]
  }
 ],
 "metadata": {
  "kernelspec": {
   "display_name": "Python 3 (ipykernel)",
   "language": "python",
   "name": "python3"
  },
  "language_info": {
   "codemirror_mode": {
    "name": "ipython",
    "version": 3
   },
   "file_extension": ".py",
   "mimetype": "text/x-python",
   "name": "python",
   "nbconvert_exporter": "python",
   "pygments_lexer": "ipython3",
   "version": "3.10.9"
  }
 },
 "nbformat": 4,
 "nbformat_minor": 5
}
