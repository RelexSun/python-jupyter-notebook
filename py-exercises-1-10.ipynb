{
 "cells": [
  {
   "cell_type": "markdown",
   "id": "623198d9",
   "metadata": {},
   "source": [
    "# 1. Sequential Programming Plan\n",
    "## 1.1. Output a self-introduction letter"
   ]
  },
  {
   "cell_type": "code",
   "execution_count": null,
   "id": "0531d62c",
   "metadata": {},
   "outputs": [],
   "source": []
  },
  {
   "cell_type": "markdown",
   "id": "860e40af",
   "metadata": {},
   "source": [
    "## 1.2. Flowchart of Finding Accomodation"
   ]
  },
  {
   "cell_type": "code",
   "execution_count": null,
   "id": "72dffa7e",
   "metadata": {},
   "outputs": [],
   "source": []
  },
  {
   "cell_type": "markdown",
   "id": "60469afc",
   "metadata": {},
   "source": [
    "## 1.3. Code 7 `print` statement to product the following output:\n",
    "```\n",
    "    *\n",
    "   ***\n",
    "  *****\n",
    "*********\n",
    "  *****\n",
    "   ***\n",
    "    *\n",
    "```"
   ]
  },
  {
   "cell_type": "code",
   "execution_count": null,
   "id": "52342d52",
   "metadata": {},
   "outputs": [],
   "source": []
  },
  {
   "cell_type": "markdown",
   "id": "7f7b4a64",
   "metadata": {},
   "source": [
    "## 1.4.🔥 Create a flowchart to factorize 18, 39, 63, 126, 792"
   ]
  },
  {
   "cell_type": "code",
   "execution_count": null,
   "id": "d5786505",
   "metadata": {},
   "outputs": [],
   "source": []
  },
  {
   "cell_type": "markdown",
   "id": "50e408c2",
   "metadata": {},
   "source": [
    "# 2. Variables, Data Types, Operators\n",
    "## 2.1. Use `int` to add string '50' with number 50 to output 100.\n",
    "Then use `str` to output '5050'"
   ]
  },
  {
   "cell_type": "code",
   "execution_count": null,
   "id": "12af6c77",
   "metadata": {},
   "outputs": [],
   "source": []
  },
  {
   "cell_type": "markdown",
   "id": "fe904edf",
   "metadata": {},
   "source": [
    "## 2.2. You have one instance of '1' and three instances of '0'. Output number 1000.\n",
    "Use `int` only once"
   ]
  },
  {
   "cell_type": "code",
   "execution_count": null,
   "id": "2c4dfedc",
   "metadata": {},
   "outputs": [],
   "source": []
  },
  {
   "cell_type": "markdown",
   "id": "7d88d676",
   "metadata": {},
   "source": [
    "## 2.3. Print the circumference and area of circle"
   ]
  },
  {
   "cell_type": "code",
   "execution_count": null,
   "id": "f57d2ee8",
   "metadata": {},
   "outputs": [],
   "source": []
  },
  {
   "cell_type": "markdown",
   "id": "8089bebd",
   "metadata": {},
   "source": [
    "## 2.4. Using integer and * operator to output factorial of 5 and 10 like below\n",
    "Output:   \n",
    "Calculate the factorial.   \n",
    "5! = 120\n",
    "\n",
    "Calculate the factorial.   \n",
    "10! = 3628800"
   ]
  },
  {
   "cell_type": "markdown",
   "id": "038fba76",
   "metadata": {},
   "source": [
    "# 3. String input output, Built-in Functions, Module"
   ]
  },
  {
   "cell_type": "markdown",
   "id": "8f011278",
   "metadata": {},
   "source": [
    "## 3.1. Assign 30 and 60 to variable `width` and `height` respectively. Calculate area of rectangle then output\n",
    "Area of the rectangle: 1800"
   ]
  },
  {
   "cell_type": "code",
   "execution_count": null,
   "id": "11581f96",
   "metadata": {},
   "outputs": [],
   "source": []
  },
  {
   "cell_type": "markdown",
   "id": "a6d4002c",
   "metadata": {},
   "source": [
    "## 3.2. Calculate the length of hypotenuse\n",
    "- First line should prompt for the base.  \n",
    "- Second line should prompt for the height.   \n",
    "- 3rd line is the output\n"
   ]
  },
  {
   "cell_type": "code",
   "execution_count": null,
   "id": "95bf7a2c",
   "metadata": {},
   "outputs": [],
   "source": []
  },
  {
   "cell_type": "markdown",
   "id": "fb54d291",
   "metadata": {},
   "source": [
    "## 3.3. BMI Calculator\n",
    "- Obtain user's name, height and weight\n",
    "- Unit of BMI is Kg/m^2"
   ]
  },
  {
   "cell_type": "code",
   "execution_count": null,
   "id": "44a292ac",
   "metadata": {},
   "outputs": [],
   "source": []
  },
  {
   "cell_type": "markdown",
   "id": "e08b8e8c",
   "metadata": {},
   "source": [
    "## 3.4.🔥 Change calculator\n",
    "- The coins for change are only 500 and 100\n",
    "- Input the money\n",
    "- Input the price of goods\n",
    "- Calculate the changes"
   ]
  },
  {
   "cell_type": "code",
   "execution_count": null,
   "id": "45954a7e",
   "metadata": {},
   "outputs": [],
   "source": []
  },
  {
   "cell_type": "markdown",
   "id": "49133f40",
   "metadata": {},
   "source": [
    "## 3.5. Get radius from user and calculate the circumference and area of a circle\n",
    "- use PI = 3.141592\n",
    "- Output Sample:\n",
    "    - Enter the radius of a circle: 11\n",
    "    - Circumference of the circle:....., Area:...."
   ]
  },
  {
   "cell_type": "code",
   "execution_count": null,
   "id": "c5bd4673",
   "metadata": {},
   "outputs": [],
   "source": []
  },
  {
   "cell_type": "markdown",
   "id": "cb3e8e40",
   "metadata": {},
   "source": [
    "## 3.6. Display squared result in table of the value from 2 to 6\n",
    "Output:   \n",
    "```\n",
    "a    n    a**n\n",
    "2    2    4\n",
    "3    2    9\n",
    "4    2    16\n",
    "5    2    25\n",
    "6    2    36\n",
    "```"
   ]
  },
  {
   "cell_type": "markdown",
   "id": "41642919",
   "metadata": {},
   "source": [
    "# 4. Boolean Expression\n",
    "## 4.1. Leap Year\n",
    "Output Sample:\n",
    "```\n",
    "Enter the year: 2023\n",
    "False\n",
    "```"
   ]
  },
  {
   "cell_type": "code",
   "execution_count": null,
   "id": "07d291bb",
   "metadata": {},
   "outputs": [],
   "source": []
  },
  {
   "cell_type": "markdown",
   "id": "29fe9aba",
   "metadata": {},
   "source": [
    "## 4.2. Input from users, print True if input is odd and False otherwise\n",
    "Output:\n",
    "```\n",
    "Enter an integer: 20\n",
    "Is this number odd? False\n",
    "```"
   ]
  },
  {
   "cell_type": "code",
   "execution_count": null,
   "id": "b7e3b49c",
   "metadata": {},
   "outputs": [],
   "source": []
  },
  {
   "cell_type": "markdown",
   "id": "14aa93b5",
   "metadata": {},
   "source": [
    "## 4.3. Input from users, print True is input is even number within range 0 to 10\n",
    "Output:\n",
    "```\n",
    "Enter an integer: 12\n",
    "Is the entered integer an even number within the range 0 to 10? False\n",
    "```"
   ]
  },
  {
   "cell_type": "code",
   "execution_count": null,
   "id": "45d104b4",
   "metadata": {},
   "outputs": [],
   "source": []
  },
  {
   "cell_type": "markdown",
   "id": "a07ee4d7",
   "metadata": {},
   "source": [
    "## 4.4. Get input of 3digit integer from user. If the hundreds digit is 3, print True\n",
    "Output:\n",
    "```\n",
    "Please enter a three-digit integer: 321\n",
    "True\n",
    "```"
   ]
  },
  {
   "cell_type": "code",
   "execution_count": null,
   "id": "4a06b4e6",
   "metadata": {},
   "outputs": [],
   "source": []
  },
  {
   "cell_type": "markdown",
   "id": "0e71cd54",
   "metadata": {},
   "source": [
    "## 4.5. Input an integer, print True if it is a multiple of 5\n",
    "Output:\n",
    "```\n",
    "Enter an integer: 125\n",
    "True\n",
    "```"
   ]
  },
  {
   "cell_type": "code",
   "execution_count": null,
   "id": "2af29f66",
   "metadata": {},
   "outputs": [],
   "source": []
  },
  {
   "cell_type": "markdown",
   "id": "02ed51c1",
   "metadata": {},
   "source": [
    "# 5. Conditional-1"
   ]
  },
  {
   "cell_type": "markdown",
   "id": "cc96dc58",
   "metadata": {},
   "source": [
    "## 5.1. Lottery simulation with 3 integers\n",
    "- Winning numbers are 2, 3, 9\n",
    "- User's input is 3 digit separated by spaces\n",
    "- Print 'You won the lottery' if user correctly guesses the 3 numbers in any order\n",
    "\n",
    "Output:\n",
    "```\n",
    "Please enter 3 lottery numbers : 2 9 3\n",
    "You won the lottery\n",
    "```"
   ]
  },
  {
   "cell_type": "code",
   "execution_count": null,
   "id": "1da62e0f",
   "metadata": {},
   "outputs": [],
   "source": []
  },
  {
   "cell_type": "markdown",
   "id": "4288ce2b",
   "metadata": {},
   "source": [
    "## 5.2. Get input from user and check if it is a multiple of both 3 and 5\n",
    "Output:\n",
    "```\n",
    "Enter integer: 30\n",
    "True\n",
    "```"
   ]
  },
  {
   "cell_type": "code",
   "execution_count": null,
   "id": "bfcd29b4",
   "metadata": {},
   "outputs": [],
   "source": []
  },
  {
   "cell_type": "markdown",
   "id": "40998318",
   "metadata": {},
   "source": [
    "## 5.3. print 'You are a pro.' if game_score input is 1000 or more\n",
    "Output:\n",
    "```\n",
    "Enter game score: 1500\n",
    "You are a pro.\n",
    "```"
   ]
  },
  {
   "cell_type": "code",
   "execution_count": null,
   "id": "2c0e5ea2",
   "metadata": {},
   "outputs": [],
   "source": []
  },
  {
   "cell_type": "markdown",
   "id": "76cf47fa",
   "metadata": {},
   "source": [
    "## 5.4. Get an integer input x between -100 and 100 and then:\n",
    "1. Print x on screen\n",
    "2. If x is a positive integer, print '... is a natural number' Otherwise, only print x as it is.\n",
    "\n",
    "Output:\n",
    "```\n",
    "Enter integer: 50\n",
    "\n",
    "x = 50\n",
    "50 is a natural number.\n",
    "```"
   ]
  },
  {
   "cell_type": "code",
   "execution_count": null,
   "id": "43ffc563",
   "metadata": {},
   "outputs": [],
   "source": []
  },
  {
   "cell_type": "markdown",
   "id": "4fa339b5",
   "metadata": {},
   "source": [
    "## 5.5. Get age input from user and:\n",
    "- print 'Adult' if the age is 20 or above\n",
    "- print 'Youth' if the age is 10 or above but less than 20\n",
    "- print 'Kid' if the age is below 10\n",
    "**Note**: Use `if` only."
   ]
  },
  {
   "cell_type": "code",
   "execution_count": null,
   "id": "a7ad035b",
   "metadata": {},
   "outputs": [],
   "source": []
  },
  {
   "cell_type": "markdown",
   "id": "8d5e88d9",
   "metadata": {},
   "source": [
    "## 5.6. Get age and height inputs from user\n",
    "Print 'You can enter.' if the age is 65 years old or younger and height is 110 cm or above.\n",
    "\n",
    "Output:\n",
    "```\n",
    "Enter your age: 20\n",
    "Enter your height (in cm): 180\n",
    "\n",
    "You can enter.\n",
    "```"
   ]
  },
  {
   "cell_type": "code",
   "execution_count": null,
   "id": "dcb17920",
   "metadata": {},
   "outputs": [],
   "source": []
  },
  {
   "cell_type": "markdown",
   "id": "c06435ee",
   "metadata": {},
   "source": [
    "# 6. Conditional-2\n",
    "## 6.1. Odd or even number\n",
    "- Get user input as integer\n",
    "- If the number is negative. print '...is a negative number'\n",
    "- If the number is not negative. print '...is not a negative number'. Then decide if it is 'odd' or 'even'\n",
    "\n",
    "Output:\n",
    "```\n",
    "Enter an int: 100\n",
    "100 is not a negative number.\n",
    "Even\n",
    "```"
   ]
  },
  {
   "cell_type": "code",
   "execution_count": null,
   "id": "ab601e8f",
   "metadata": {},
   "outputs": [],
   "source": []
  },
  {
   "cell_type": "markdown",
   "id": "73db7b66",
   "metadata": {},
   "source": [
    "## 6.2. Get input and determine of it is positive, negative or zero\n",
    "Output:\n",
    "```\n",
    "Enter a number: 0\n",
    "It is zero\n",
    "```"
   ]
  },
  {
   "cell_type": "code",
   "execution_count": null,
   "id": "9aeecb0e",
   "metadata": {},
   "outputs": [],
   "source": []
  },
  {
   "cell_type": "markdown",
   "id": "17b57fb6",
   "metadata": {},
   "source": [
    "## 6.3.🔥 Automatic menu ordering system\n",
    "- Print the menu\n",
    "- Let user choose an item\n",
    "- Let user input number of the chosen item\n",
    "- Print total amount\n",
    "- Let user input money\n",
    "- If money is not enough, print 'Not enough money'\n",
    "- Otherwise, print the input money and the change\n",
    "\n",
    "Output:\n",
    "```\n",
    "##############################\n",
    "It's David's fruit shop.\n",
    "1: Apple( Price: 5,000 won)\n",
    "2: Grape( Price: 6,000 won)\n",
    "3: Melon( Price: 8,000 won)\n",
    "4: Orange( Price: 2,000 won)\n",
    "##############################\n",
    "Enter number of the items (1 to 4): 1\n",
    "Enter the number of items: 2\n",
    "\n",
    "The fruit you chose is: Apple\n",
    "The price of: 5000\n",
    "Total price: 10000\n",
    "\n",
    "Please input the money: 12000\n",
    "Got 12000 won. The change is 2000 won.\n",
    "```"
   ]
  },
  {
   "cell_type": "code",
   "execution_count": null,
   "id": "684003d6",
   "metadata": {},
   "outputs": [],
   "source": []
  },
  {
   "cell_type": "markdown",
   "id": "6c62ecf9",
   "metadata": {},
   "source": [
    "## 6.4.🔥 GPA calculator\n",
    "- Get user input score and print their grade accordingly\n",
    "- if 90 and above, print 'A'\n",
    "- if below 90 and above 80, print 'B'\n",
    "- if below 80 and above 70, print 'C'\n",
    "- if below 70 and above 60, print 'D'\n",
    "- if below 60, print 'F'\n",
    "\n",
    "Output:\n",
    "```\n",
    "Enter your grade: 88\n",
    "Grade: B\n",
    "```"
   ]
  },
  {
   "cell_type": "code",
   "execution_count": null,
   "id": "31016e6e",
   "metadata": {},
   "outputs": [],
   "source": []
  },
  {
   "cell_type": "markdown",
   "id": "d6e7db95",
   "metadata": {},
   "source": [
    "## 6.5. Get user input as single alphabet character\n",
    "- if input is 'a, e, i, o or u' print 'It is a vowel'\n",
    "- Otherwise, print 'It is a consonant.'\n",
    "\n",
    "Output:\n",
    "```\n",
    "Enter the alphabet: k\n",
    "k is a consonant\n",
    "```"
   ]
  },
  {
   "cell_type": "code",
   "execution_count": null,
   "id": "3ae1ce47",
   "metadata": {},
   "outputs": [],
   "source": []
  },
  {
   "cell_type": "markdown",
   "id": "4f08cabb",
   "metadata": {},
   "source": [
    "## 6.6. check if a is a multiple of b\n",
    "Get user inputs as `a` and `b` (separated by space)\n",
    "\n",
    "Output:\n",
    "```\n",
    "Write 2 integers: 30 3\n",
    "\n",
    "30 is a multiple of 3\n",
    "```"
   ]
  },
  {
   "cell_type": "code",
   "execution_count": null,
   "id": "79964886",
   "metadata": {},
   "outputs": [],
   "source": []
  },
  {
   "cell_type": "markdown",
   "id": "d4510163",
   "metadata": {},
   "source": [
    "## 6.7. Penalty shootout:\n",
    "- Draw the flowchart FIRST 🔥\n",
    "- Cannot use `list` data type\n",
    "- Computer will be the goal keeper\n",
    "- Print 'GOAL!' if user score the goal\n",
    "- Else, print 'No goal'\n",
    "\n",
    "Output:\n",
    "```\n",
    "Where do you want to shoot? (left, center, right): right\n",
    "\n",
    "No goal\n",
    "Defense position of computer: right\n",
    "```"
   ]
  },
  {
   "cell_type": "code",
   "execution_count": null,
   "id": "74b8070c",
   "metadata": {},
   "outputs": [],
   "source": []
  },
  {
   "cell_type": "markdown",
   "id": "851a6378",
   "metadata": {},
   "source": [
    "## 6.8. Perform addition, subtraction, multiplication and division\n",
    "Output1:\n",
    "```\n",
    "1) addition, 2) subtraction, 3) multiplicatio, 4) division\n",
    "Please enter the number corresponding to the operation: 1\n",
    "please enter two numbers for the operation:\n",
    "10\n",
    "20\n",
    "\n",
    "10 + 20 = 30\n",
    "```\n",
    "\n",
    "Output2:\n",
    "```\n",
    "1) addition, 2) subtraction, 3) multiplicatio, 4) division\n",
    "Please enter the number corresponding to the operation: 5\n",
    "\n",
    "Invalid input.\n",
    "```"
   ]
  },
  {
   "cell_type": "code",
   "execution_count": null,
   "id": "9756f733",
   "metadata": {},
   "outputs": [],
   "source": []
  },
  {
   "cell_type": "markdown",
   "id": "2fc04f74",
   "metadata": {},
   "source": [
    "## 6.9. Determine which quadrant the point belongs to\n",
    "The quadrants are defined as below:\n",
    "```\n",
    "            y\n",
    "2 quadrant  | 1 quadrant\n",
    "____________|____________x\n",
    "            |\n",
    "3 quadrant  | 4 quadrant\n",
    "```\n",
    "\n",
    "Output:\n",
    "```\n",
    "Enter x,y coordinates: -5 6\n",
    "\n",
    "In the 2nd quadrant\n",
    "```"
   ]
  },
  {
   "cell_type": "code",
   "execution_count": null,
   "id": "ea897b56",
   "metadata": {},
   "outputs": [],
   "source": []
  },
  {
   "cell_type": "markdown",
   "id": "1d1e1a89",
   "metadata": {},
   "source": [
    "## 6.10. Menu ordering program\n",
    "- Present the user with menu options and let them choose one\n",
    "- If an alphabet that's not in the menu is entered, output 'Please enter the menu again.' and prompt for input again.\n",
    "\n",
    "Output:\n",
    "```\n",
    "Welcome to Yummy restaurant. Here is the menu.\n",
    "- Burger(enter 'b')\n",
    "- Chicken(enter 'c')\n",
    "- Pizza(enter 'p')\n",
    "\n",
    "Choose a menu : p\n",
    "\n",
    "You chose pizza.\n",
    "```"
   ]
  },
  {
   "cell_type": "code",
   "execution_count": null,
   "id": "b5e64b18",
   "metadata": {},
   "outputs": [],
   "source": []
  },
  {
   "cell_type": "markdown",
   "id": "c53a68ea",
   "metadata": {},
   "source": [
    "# 7. List data type"
   ]
  },
  {
   "cell_type": "code",
   "execution_count": null,
   "id": "1c86591b",
   "metadata": {},
   "outputs": [],
   "source": []
  },
  {
   "cell_type": "markdown",
   "id": "3635e220",
   "metadata": {},
   "source": [
    "## 7.1. Create a list called prime_list that contains prime numbers from 2 to 10.\n",
    "Print the first element of this list using list indexing.   \n",
    "Output:\n",
    "```\n",
    "1st element of prime_list: 2\n",
    "```"
   ]
  },
  {
   "cell_type": "code",
   "execution_count": null,
   "id": "9e5bd1c4",
   "metadata": {},
   "outputs": [],
   "source": []
  },
  {
   "cell_type": "markdown",
   "id": "44dd31e0",
   "metadata": {},
   "source": [
    "## 7.2. Create prime_list again.\n",
    "Use `append` method to add 11. Print the list before and after adding.   \n",
    "Output:\n",
    "```\n",
    "Prime numbers: [2,3,5,7]\n",
    "prime numbers after addition: [2,3,5,7,11]\n",
    "```"
   ]
  },
  {
   "cell_type": "code",
   "execution_count": null,
   "id": "91ed18e8",
   "metadata": {},
   "outputs": [],
   "source": []
  },
  {
   "cell_type": "markdown",
   "id": "ea35f42f",
   "metadata": {},
   "source": [
    "## 7.3. Use nested for loop to multiply each element of list1 with each of list2\n",
    "Output:\n",
    "```\n",
    "list1 = [3,5,7]\n",
    "list2 = [2,3,4,5,6]\n",
    "\n",
    "3 * 2 = 6\n",
    "3 * 3 = 9\n",
    "3 * 4 = 12\n",
    "3 * 5 = 15\n",
    "3 * 6 = 18\n",
    "\n",
    "5 * 2 = 10\n",
    "5 * 3 = 15\n",
    "5 * 4 = 20\n",
    "5 * 5 = 25\n",
    "5 * 6 = 30\n",
    "\n",
    "7 * 2 = 14\n",
    "7 * 3 = 21\n",
    "7 * 4 = 28\n",
    "7 * 5 = 35\n",
    "7 * 6 = 42\n",
    "```"
   ]
  },
  {
   "cell_type": "code",
   "execution_count": null,
   "id": "de0d065a",
   "metadata": {},
   "outputs": [],
   "source": []
  },
  {
   "attachments": {},
   "cell_type": "markdown",
   "id": "eebeda34",
   "metadata": {},
   "source": [
    "## 7.4. Average age of 4 people\n",
    "- Draw flow chart first 🔥\n",
    "- Create a list containing info of a person in the order of name, age, gender, height and weight:\n",
    "![Screenshot%202023-07-27%20at%205.26.23%20PM.png](attachment:Screenshot%202023-07-27%20at%205.26.23%20PM.png)\n",
    "\n",
    "Output:\n",
    "```\n",
    "Average age is 26.75.\n",
    "```\n"
   ]
  },
  {
   "cell_type": "markdown",
   "id": "7f24a301",
   "metadata": {},
   "source": [
    "## 7.5. Find the shortest string\n",
    "- Define s_list = ['abc', 'bcd', 'bcdefg', 'abba', 'cddc', 'opq']\n",
    "- Without using `min` or `sort` method, output the shortest string.\n",
    "- Use loop.\n",
    "\n",
    "Output:\n",
    "```\n",
    "The shortest string: abc\n",
    "```"
   ]
  },
  {
   "cell_type": "code",
   "execution_count": null,
   "id": "dd39e240",
   "metadata": {},
   "outputs": [],
   "source": []
  },
  {
   "cell_type": "markdown",
   "id": "5b5f6147",
   "metadata": {},
   "source": [
    "## 7.6. Now output the longest string\n",
    "Output:\n",
    "```\n",
    "The longest string: bcdefg\n",
    "```"
   ]
  },
  {
   "cell_type": "code",
   "execution_count": null,
   "id": "adcc32c0",
   "metadata": {},
   "outputs": [],
   "source": []
  },
  {
   "cell_type": "markdown",
   "id": "6cfb40b9",
   "metadata": {},
   "source": [
    "## 7.7. Now output 3 shortest strings\n",
    "- Hint: use `sort(key=len)` method\n",
    "\n",
    "Output:\n",
    "```\n",
    "The shortest strings: 'abc', 'bcd', 'opq'\n",
    "```"
   ]
  },
  {
   "cell_type": "code",
   "execution_count": null,
   "id": "a0348726",
   "metadata": {},
   "outputs": [],
   "source": []
  },
  {
   "cell_type": "markdown",
   "id": "ce4ea1bf",
   "metadata": {},
   "source": [
    "# 8. loop-1: `for` loop\n",
    "## 8.1. Calculate the factorial based on user input\n",
    "Output:\n",
    "```\n",
    "Enter a number: 5\n",
    "5! = 120\n",
    "```"
   ]
  },
  {
   "cell_type": "code",
   "execution_count": null,
   "id": "68f6b5fb",
   "metadata": {},
   "outputs": [],
   "source": []
  },
  {
   "cell_type": "markdown",
   "id": "59d72f06",
   "metadata": {},
   "source": [
    "## 8.2. Print all bts members using `for` loop\n",
    "- Create a list bts = ['V', 'J-Hope', 'RM', 'Jungkook', 'Jin', 'Jimin', 'Suga']\n",
    "- Use for loop and print all of them\n",
    "\n"
   ]
  },
  {
   "cell_type": "code",
   "execution_count": null,
   "id": "8e971976",
   "metadata": {},
   "outputs": [],
   "source": []
  },
  {
   "cell_type": "markdown",
   "id": "3c3888f8",
   "metadata": {},
   "source": [
    "## 8.3. Sum of number from 1 to 100\n",
    "- DO NOT use `sum` function\n",
    "- Use `for` loop\n",
    "\n",
    "Output:\n",
    "```\n",
    "Sum of integers from 1 to 100: 5050\n",
    "```"
   ]
  },
  {
   "cell_type": "code",
   "execution_count": null,
   "id": "aebcc95a",
   "metadata": {},
   "outputs": [],
   "source": []
  },
  {
   "cell_type": "markdown",
   "id": "1755fb31",
   "metadata": {},
   "source": [
    "## 8.4. Print sum of even numbers from 1 to 100\n",
    "- Use `range` function\n",
    "\n",
    "Output:\n",
    "```\n",
    "Sum of even numbers from 1 to 100: 2550\n",
    "```"
   ]
  },
  {
   "cell_type": "code",
   "execution_count": null,
   "id": "10606e17",
   "metadata": {},
   "outputs": [],
   "source": []
  },
  {
   "cell_type": "markdown",
   "id": "182ec4c0",
   "metadata": {},
   "source": [
    "## 8.5. Print sum of odd numbers from 1 to 100\n",
    "Output:\n",
    "```\n",
    "Sum of odd numbers from 1 to 100: 2500\n",
    "```"
   ]
  },
  {
   "cell_type": "code",
   "execution_count": null,
   "id": "c2406a7d",
   "metadata": {},
   "outputs": [],
   "source": []
  },
  {
   "attachments": {},
   "cell_type": "markdown",
   "id": "dd0dee34",
   "metadata": {},
   "source": [
    "## 8.6. Sandwich combination\n",
    "- Draw the flow chart 🔥\n",
    "- The available data are as follow:\n",
    "![Screenshot%202023-07-27%20at%205.28.03%20PM.png](attachment:Screenshot%202023-07-27%20at%205.28.03%20PM.png)\n",
    "\n",
    "Output:\n",
    "```\n",
    "Possible combinations of David's sandwich shop:\n",
    "Rye bread + Meatball + Lettuce + Mayonnaise\n",
    "Rye bread + Meatball + Lettuce + Honey mustard\n",
    ".....\n",
    "```"
   ]
  },
  {
   "cell_type": "code",
   "execution_count": null,
   "id": "e3e1e161",
   "metadata": {},
   "outputs": [],
   "source": []
  },
  {
   "cell_type": "markdown",
   "id": "74bf0557",
   "metadata": {},
   "source": [
    "## 8.7.🔥 Snake matrix hehe\n",
    "Output:\n",
    "```\n",
    "Enter n: 4\n",
    "\n",
    "1  2  3  4\n",
    "8  7  6  5\n",
    "9  10 11 12\n",
    "16 15 14 13\n",
    "```"
   ]
  },
  {
   "cell_type": "code",
   "execution_count": null,
   "id": "de5ba385",
   "metadata": {},
   "outputs": [],
   "source": []
  },
  {
   "cell_type": "markdown",
   "id": "91a75909",
   "metadata": {},
   "source": [
    "# 9. Loop-2: `while` loop\n",
    "## 9.1. Prompt user input again and again until the condition is satisfied:\n",
    "- Given a list of ['rock', 'paper', 'scissors']\n",
    "- If the user input something different from these elements in the list, ask them to prompt again\n",
    "- If the user input correctly, exit the program\n",
    "\n",
    "Output:\n",
    "```\n",
    "Choose between rock, paper, scissors: ggwp\n",
    "Choose between rock, paper, scissors: blah\n",
    "Choose between rock, paper, scissors: rock\n",
    "Ok good. Bye!\n",
    "```"
   ]
  },
  {
   "cell_type": "code",
   "execution_count": null,
   "id": "5dbc222d",
   "metadata": {},
   "outputs": [],
   "source": []
  },
  {
   "cell_type": "markdown",
   "id": "e04804ea",
   "metadata": {},
   "source": [
    "## 9.2. Use `while` to create a multiplication table of 2\n",
    "Output:\n",
    "```\n",
    "2 * 1 = 2\n",
    "2 * 2 = 4\n",
    "2 * 3 = 6\n",
    "2 * 4 = 8\n",
    "2 * 5 = 10\n",
    "2 * 6 = 12\n",
    "2 * 7 = 14\n",
    "2 * 8 = 16\n",
    "2 * 9 = 18\n",
    "```"
   ]
  },
  {
   "cell_type": "code",
   "execution_count": null,
   "id": "96f31b0a",
   "metadata": {},
   "outputs": [],
   "source": []
  },
  {
   "cell_type": "markdown",
   "id": "63bd3fb6",
   "metadata": {},
   "source": [
    "## 9.3. Create multiplication table of 1 to 9\n",
    "Output:\n",
    "```\n",
    "1 * 1 = 1\n",
    "1 * 2 = 2\n",
    "1 * 3 = 3\n",
    "1 * 4 = 4\n",
    "1 * 5 = 5\n",
    "1 * 6 = 6\n",
    "1 * 7 = 7\n",
    "1 * 8 = 8\n",
    "1 * 9 = 9\n",
    "\n",
    "2 * 1 = 2\n",
    "2 * 2 = 4\n",
    "2 * 3 = 6\n",
    "2 * 4 = 8\n",
    "2 * 5 = 10\n",
    "...\n",
    "```"
   ]
  },
  {
   "cell_type": "code",
   "execution_count": null,
   "id": "2d915e8e",
   "metadata": {},
   "outputs": [],
   "source": []
  },
  {
   "cell_type": "markdown",
   "id": "409afa03",
   "metadata": {},
   "source": [
    "## 9.4. Snail in the well\n",
    "- Draw flow chart first 🔥\n",
    "- How many days can the snail get out of the well?\n",
    "- The well is 30 deep\n",
    "- In one day, snail can climb up 3 in the morning and slide down 2 in the afternoon\n",
    "\n",
    "Output:\n",
    "```\n",
    "day : 1 position of snail: 3m\n",
    "day : 2 position of snail: 4m\n",
    "....\n",
    "day : 28 position of snail: 30m\n",
    "\n",
    "It took 28 days to escape the well\n",
    "```"
   ]
  },
  {
   "cell_type": "code",
   "execution_count": null,
   "id": "43fe3d3f",
   "metadata": {},
   "outputs": [],
   "source": []
  },
  {
   "cell_type": "markdown",
   "id": "bbbb6ff2",
   "metadata": {},
   "source": [
    "## 9.5.🔥 Check if a number is palindrome\n",
    "Use only `while` loop\n",
    "\n",
    "Output:\n",
    "```\n",
    "Enter an integer: 135\n",
    "\n",
    "135 is not a palindrome number.\n",
    "```"
   ]
  },
  {
   "cell_type": "code",
   "execution_count": 26,
   "id": "f7439107",
   "metadata": {},
   "outputs": [
    {
     "name": "stdout",
     "output_type": "stream",
     "text": [
      "Enter an integer: 11\n",
      "11 is a palindrome number.\n"
     ]
    }
   ],
   "source": [
    "n = input(\"Enter an integer: \")\n",
    "a = n[::-1]\n",
    "while True :\n",
    "    if n == a :\n",
    "        print(n, \"is a palindrome number.\")\n",
    "        break\n",
    "    else :\n",
    "        print(n, \"is not a palindrome number.\")\n",
    "        break\n",
    "        "
   ]
  },
  {
   "cell_type": "markdown",
   "id": "ea82ec93",
   "metadata": {},
   "source": [
    "## 9.6. Guess a number between 1 to 100\n",
    "- Create a random number\n",
    "- Get user input until they guess the right number.\n",
    "- Print the number of attempts\n",
    "\n",
    "Output:\n",
    "```\n",
    "Guess a number between 1 to 100.\n",
    "Enter a num: 20\n",
    "Higher\n",
    "\n",
    "Enter a num: 30\n",
    "Lower\n",
    "\n",
    "Enter a num: 22\n",
    "Congrats!\n",
    "Number of attemps = 3\n",
    "```"
   ]
  },
  {
   "cell_type": "code",
   "execution_count": 8,
   "id": "3ee1f461",
   "metadata": {},
   "outputs": [
    {
     "name": "stdout",
     "output_type": "stream",
     "text": [
      "enter a num: 102\n",
      "error\n",
      "enter a num: 100\n",
      "Go lower\n",
      "enter a num: 17\n",
      "Go higher\n",
      "enter a num: 20\n",
      "Go higher\n",
      "enter a num: 30\n",
      "Go higher\n",
      "enter a num: 40\n",
      "Go higher\n",
      "enter a num: 50\n",
      "Go higher\n",
      "enter a num: 60\n",
      "congrats!\n",
      "number of attemps =  7\n"
     ]
    }
   ],
   "source": [
    "import random as r\n",
    "random_num = r.randint(1, 101)\n",
    "\n",
    "\n",
    "i = 0\n",
    "while True :\n",
    "    n = int(input(\"enter a num: \"))\n",
    "    i += 1\n",
    "    while True :\n",
    "        if n not in range(1, 101) :\n",
    "            print(\"error\")\n",
    "            n = int(input(\"enter a num: \"))\n",
    "        elif n in range(1, 101) :\n",
    "            break\n",
    "    \n",
    "    \n",
    "    \n",
    "    if n > random_num :\n",
    "        print(\"Go lower\")\n",
    "    elif n < random_num :\n",
    "        print(\"Go higher\")\n",
    "    elif n == random_num :\n",
    "        print(\"congrats!\")\n",
    "        print(\"number of attemps = \", i)\n",
    "        break"
   ]
  },
  {
   "cell_type": "markdown",
   "id": "ee99b78c",
   "metadata": {},
   "source": [
    "# 10. Tuple and Sequence\n",
    "## 10.1. "
   ]
  },
  {
   "cell_type": "code",
   "execution_count": 4,
   "id": "e56e1ba0",
   "metadata": {},
   "outputs": [
    {
     "name": "stdout",
     "output_type": "stream",
     "text": [
      "9\n",
      "3\n"
     ]
    }
   ],
   "source": [
    "my_tuple = (1,2,2,3,3,3,4,4,5,6,7,8,8,8,9,9,9)\n",
    "element = my_tuple[0]\n",
    "\n",
    "for i in my_tuple :\n",
    "    if i > element and (my_tuple.count(element) <= my_tuple.count(i)) :\n",
    "        element = i\n",
    "\n",
    "print(element)\n",
    "print(my_tuple.count(element))\n",
    "    \n",
    "    \n",
    "    \n",
    "    "
   ]
  },
  {
   "cell_type": "markdown",
   "id": "8147ba50",
   "metadata": {},
   "source": [
    "## 10... Aging ratio calculator\n",
    "Draw flowchart first 🔥\n",
    "\n",
    "Output:\n",
    "```\n",
    "Villages A aging degree is 0.165\n",
    "Villages B aging degree is 0.003\n",
    "```"
   ]
  },
  {
   "cell_type": "code",
   "execution_count": null,
   "id": "7c45f289",
   "metadata": {},
   "outputs": [],
   "source": []
  }
 ],
 "metadata": {
  "kernelspec": {
   "display_name": "Python 3 (ipykernel)",
   "language": "python",
   "name": "python3"
  },
  "language_info": {
   "codemirror_mode": {
    "name": "ipython",
    "version": 3
   },
   "file_extension": ".py",
   "mimetype": "text/x-python",
   "name": "python",
   "nbconvert_exporter": "python",
   "pygments_lexer": "ipython3",
   "version": "3.10.9"
  }
 },
 "nbformat": 4,
 "nbformat_minor": 5
}
