{
 "cells": [
  {
   "cell_type": "code",
   "execution_count": 25,
   "id": "dd6d0326-bfd2-4211-8a80-4704243179b0",
   "metadata": {},
   "outputs": [],
   "source": [
    "class Solution(object):\n",
    "    #1.twosum\n",
    "    def twoSum(self, nums, target):\n",
    "        seen = {}\n",
    "        for i in range(len(nums)):\n",
    "            diff = target - nums[i]\n",
    "            if diff in seen:\n",
    "                return [seen[diff], i]\n",
    "            else:\n",
    "                seen[nums[i]] = i\n",
    "    #2.Palindrome\n",
    "    def isPalindrome(self, x):\n",
    "        if x < 0:\n",
    "            return False\n",
    "\n",
    "        reverse = 0\n",
    "        xcopy = x\n",
    "\n",
    "        while x > 0:\n",
    "            reverse = (reverse * 10) + (x % 10)\n",
    "            x //= 10\n",
    "        \n",
    "        return reverse == xcopy"
   ]
  },
  {
   "cell_type": "markdown",
   "id": "0b8212c1-42ae-4bae-b764-a8aea962c502",
   "metadata": {},
   "source": [
    "# 1. Two Sum\n",
    "### Explanation:\n",
    "1. Hash Map (Dictionary): num_to_index keeps track of the numbers and their indices.\n",
    "2. Single Pass: The list is traversed once. For each number, the complement (the number needed to reach the target when added to the current number) is checked in the dictionary.\n",
    "3. Constant Time Lookup: Checking for the complement in the dictionary and inserting the current number are both \n",
    "𝑂(1)operations.\n",
    "### Steps:\n",
    "1. Iterate Over List: For each number, calculate its complement with respect to the target.\n",
    "2. Check Complement: If the complement is found in the dictionary, return the indices of the complement and the current number.\n",
    "3. Update Dictionary: If the complement is not found, add the current number and its index to the dictionary."
   ]
  },
  {
   "cell_type": "code",
   "execution_count": 23,
   "id": "44216ca4-7045-441d-a983-f9e3ae7c2a53",
   "metadata": {},
   "outputs": [
    {
     "name": "stdin",
     "output_type": "stream",
     "text": [
      "Enter numbers:  3 2 4\n",
      "Enter target:  6\n"
     ]
    },
    {
     "name": "stdout",
     "output_type": "stream",
     "text": [
      "[1, 2]\n"
     ]
    }
   ],
   "source": [
    " def twoSum(self, nums, target):\n",
    "        seen = {}\n",
    "        for i in range(len(nums)):\n",
    "            diff = target - nums[i]\n",
    "            if diff in seen:\n",
    "                return [seen[diff], i]\n",
    "            else:\n",
    "                seen[nums[i]] = i\n",
    "nums = [int(i) for i in input(\"Enter numbers: \").split()]\n",
    "target = int(input(\"Enter target: \"))\n",
    "\n",
    "solution = Solution()\n",
    "print(solution.twoSum(nums, target))"
   ]
  },
  {
   "cell_type": "markdown",
   "id": "f3d073db-07ad-4c38-9582-09a51b2ae837",
   "metadata": {},
   "source": [
    "# 2. \n",
    "### Example\n",
    "Let's go through an example with x = 121:\n",
    "\n",
    "1. Initial Values:\n",
    "\n",
    "    - x = 121\n",
    "    - reverse = 0\n",
    "    - xcopy = 121\n",
    "\n",
    "2. First Iteration:\n",
    "\n",
    "    - reverse = (0 * 10) + (121 % 10) = 1\n",
    "    - x = 121 // 10 = 12\n",
    "\n",
    "3. Second Iteration:\n",
    "\n",
    "    - reverse = (1 * 10) + (12 % 10) = 12\n",
    "    - x = 12 // 10 = 1\n",
    "\n",
    "4. Third Iteration:\n",
    "\n",
    "    - reverse = (12 * 10) + (1 % 10) = 121\n",
    "    - x = 1 // 10 = 0\n",
    "    - End of Loop: The loop ends because x is now 0.\n",
    "\n",
    "5. Comparison:\n",
    "\n",
    "    - reverse (121) is compared with xcopy (121).\n",
    "    - Since they are equal, the function returns True."
   ]
  },
  {
   "cell_type": "code",
   "execution_count": 27,
   "id": "6398661b-0d4e-4c11-9e59-6b310a47ccce",
   "metadata": {},
   "outputs": [
    {
     "name": "stdin",
     "output_type": "stream",
     "text": [
      " 10\n"
     ]
    },
    {
     "name": "stdout",
     "output_type": "stream",
     "text": [
      "False\n"
     ]
    }
   ],
   "source": [
    "def isPalindrome(self, x):\n",
    "        if x < 0:\n",
    "            return False\n",
    "\n",
    "        reverse = 0\n",
    "        xcopy = x\n",
    "\n",
    "        while x > 0:\n",
    "            reverse = (reverse * 10) + (x % 10)\n",
    "            x //= 10\n",
    "        \n",
    "        return reverse == xcopy\n",
    "n = int(input())\n",
    "solution = Solution()\n",
    "print(solution.isPalindrome(n))"
   ]
  },
  {
   "cell_type": "code",
   "execution_count": null,
   "id": "4f587043-8903-4fc1-8e8d-75c184f48f9f",
   "metadata": {},
   "outputs": [],
   "source": []
  }
 ],
 "metadata": {
  "kernelspec": {
   "display_name": "Python 3 (ipykernel)",
   "language": "python",
   "name": "python3"
  },
  "language_info": {
   "codemirror_mode": {
    "name": "ipython",
    "version": 3
   },
   "file_extension": ".py",
   "mimetype": "text/x-python",
   "name": "python",
   "nbconvert_exporter": "python",
   "pygments_lexer": "ipython3",
   "version": "3.11.5"
  }
 },
 "nbformat": 4,
 "nbformat_minor": 5
}
