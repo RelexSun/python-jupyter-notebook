{
 "cells": [
  {
   "cell_type": "code",
   "execution_count": 29,
   "id": "dd6d0326-bfd2-4211-8a80-4704243179b0",
   "metadata": {},
   "outputs": [],
   "source": [
    "class Solution(object):\n",
    "    #1.twosum\n",
    "    def twoSum(self, nums, target):\n",
    "        seen = {}\n",
    "        for i in range(len(nums)):\n",
    "            diff = target - nums[i]\n",
    "            if diff in seen:\n",
    "                return [seen[diff], i]\n",
    "            else:\n",
    "                seen[nums[i]] = i\n",
    "    #2.Palindrome\n",
    "    def isPalindrome(self, x):\n",
    "        if x < 0:\n",
    "            return False\n",
    "\n",
    "        reverse = 0\n",
    "        xcopy = x\n",
    "\n",
    "        while x > 0:\n",
    "            reverse = (reverse * 10) + (x % 10)\n",
    "            x //= 10\n",
    "        \n",
    "        return reverse == xcopy\n",
    "\n",
    "    #3. Roman to integer\n",
    "    def romanToInt(self, s):\n",
    "        translations = {\n",
    "            \"I\": 1,\n",
    "            \"V\": 5,\n",
    "            \"X\": 10,\n",
    "            \"L\": 50,\n",
    "            \"C\": 100,\n",
    "            \"D\": 500,\n",
    "            \"M\": 1000\n",
    "        }\n",
    "        number = 0\n",
    "        # IV should = 5-1 but just replace it with IIII so that its easier by sum\n",
    "        s = s.replace(\"IV\", \"IIII\").replace(\"IX\", \"VIIII\") \n",
    "        s = s.replace(\"XL\", \"XXXX\").replace(\"XC\", \"LXXXX\")\n",
    "        s = s.replace(\"CD\", \"CCCC\").replace(\"CM\", \"DCCCC\")\n",
    "        for char in s:\n",
    "            number += translations[char]\n",
    "        return number"
   ]
  },
  {
   "cell_type": "code",
   "execution_count": 27,
   "id": "1c9642b5-ed18-4bcf-8aa5-c732cc0668f9",
   "metadata": {},
   "outputs": [],
   "source": [
    "solution = Solution()"
   ]
  },
  {
   "cell_type": "markdown",
   "id": "28122d2f-84ac-42eb-802a-3100de6ecea4",
   "metadata": {},
   "source": [
    "---"
   ]
  },
  {
   "cell_type": "markdown",
   "id": "0b8212c1-42ae-4bae-b764-a8aea962c502",
   "metadata": {},
   "source": [
    "# 1. Two Sum\n",
    "### Explanation:\n",
    "1. Hash Map (Dictionary): num_to_index keeps track of the numbers and their indices.\n",
    "2. Single Pass: The list is traversed once. For each number, the complement (the number needed to reach the target when added to the current number) is checked in the dictionary.\n",
    "3. Constant Time Lookup: Checking for the complement in the dictionary and inserting the current number are both \n",
    "𝑂(1)operations.\n",
    "### Steps:\n",
    "1. Iterate Over List: For each number, calculate its complement with respect to the target.\n",
    "2. Check Complement: If the complement is found in the dictionary, return the indices of the complement and the current number.\n",
    "3. Update Dictionary: If the complement is not found, add the current number and its index to the dictionary."
   ]
  },
  {
   "cell_type": "code",
   "execution_count": 20,
   "id": "44216ca4-7045-441d-a983-f9e3ae7c2a53",
   "metadata": {},
   "outputs": [
    {
     "name": "stdin",
     "output_type": "stream",
     "text": [
      "Enter numbers:  3 2 4\n",
      "Enter target:  7\n"
     ]
    },
    {
     "name": "stdout",
     "output_type": "stream",
     "text": [
      "[0, 2]\n"
     ]
    }
   ],
   "source": [
    " # def twoSum(nums, target):\n",
    " #        seen = {}\n",
    " #        for i in range(len(nums)):\n",
    " #            diff = target - nums[i]\n",
    " #            if diff in seen:\n",
    " #                return [seen[diff], i]\n",
    " #            else:\n",
    " #                seen[nums[i]] = i\n",
    "nums = [int(i) for i in input(\"Enter numbers: \").split()]\n",
    "target = int(input(\"Enter target: \"))\n",
    "\n",
    "print(solution.twoSum(nums, target))"
   ]
  },
  {
   "cell_type": "markdown",
   "id": "f3d073db-07ad-4c38-9582-09a51b2ae837",
   "metadata": {},
   "source": [
    "# 2. Palindrome number\n",
    "### Example\n",
    "Let's go through an example with x = 121:\n",
    "\n",
    "1. Initial Values:\n",
    "\n",
    "    - x = 121\n",
    "    - reverse = 0\n",
    "    - xcopy = 121\n",
    "\n",
    "2. First Iteration:\n",
    "\n",
    "    - reverse = (0 * 10) + (121 % 10) = 1\n",
    "    - x = 121 // 10 = 12\n",
    "\n",
    "3. Second Iteration:\n",
    "\n",
    "    - reverse = (1 * 10) + (12 % 10) = 12\n",
    "    - x = 12 // 10 = 1\n",
    "\n",
    "4. Third Iteration:\n",
    "\n",
    "    - reverse = (12 * 10) + (1 % 10) = 121\n",
    "    - x = 1 // 10 = 0\n",
    "    - End of Loop: The loop ends because x is now 0.\n",
    "\n",
    "5. Comparison:\n",
    "\n",
    "    - reverse (121) is compared with xcopy (121).\n",
    "    - Since they are equal, the function returns True."
   ]
  },
  {
   "cell_type": "code",
   "execution_count": 33,
   "id": "6398661b-0d4e-4c11-9e59-6b310a47ccce",
   "metadata": {},
   "outputs": [
    {
     "name": "stdin",
     "output_type": "stream",
     "text": [
      " 121\n"
     ]
    },
    {
     "name": "stdout",
     "output_type": "stream",
     "text": [
      "True\n",
      "True\n"
     ]
    }
   ],
   "source": [
    "# def isPalindrome(x):\n",
    "#         if x < 0:\n",
    "#             return False\n",
    "\n",
    "#         reverse = 0\n",
    "#         xcopy = x\n",
    "\n",
    "#         while x > 0:\n",
    "#             reverse = (reverse * 10) + (x % 10)\n",
    "#             x //= 10\n",
    "        \n",
    "#         return reverse == xcopy\n",
    "n = int(input())\n",
    "x = str(n)\n",
    "print(solution.isPalindrome(n))\n",
    "\n",
    "def isPalindrome2(s):\n",
    "    s = ''.join(filter(str.isalnum, s)).lower()\n",
    "    return s == s[::-1]\n",
    "print(isPalindrome2(x))"
   ]
  },
  {
   "cell_type": "markdown",
   "id": "996bdef2-f8f0-4cbd-ba73-58e075763ef4",
   "metadata": {},
   "source": [
    "# 3. Roman to Integer\n",
    "\n",
    "- MCMXCIV (before replacing)\n",
    "- MDCCCCLXXXXIIII (after) = 1000 + 500 + 100 + 100 + 100 + 100 + 50 + 10 + 10 + 10 + 10 + 1 + 1 + 1 + 1 = 1994\n",
    "    - M = 1000\n",
    "    - D = 500\n",
    "    - C = 100\n",
    "    - C = 100\n",
    "    - C = 100\n",
    "    - C = 100\n",
    "    - L = 50\n",
    "    - X = 10\n",
    "    - X = 10\n",
    "    - X = 10\n",
    "    - X = 10\n",
    "    - I = 1\n",
    "    - I = 1\n",
    "    - I = 1\n",
    "    - I = 1"
   ]
  },
  {
   "cell_type": "code",
   "execution_count": 22,
   "id": "eaf49891-5736-403f-8454-291aeb682879",
   "metadata": {},
   "outputs": [
    {
     "name": "stdin",
     "output_type": "stream",
     "text": [
      " MCMXCIV\n"
     ]
    },
    {
     "data": {
      "text/plain": [
       "1994"
      ]
     },
     "execution_count": 22,
     "metadata": {},
     "output_type": "execute_result"
    }
   ],
   "source": [
    "# def romanToInt(s):\n",
    "#     translations = {\n",
    "#         \"I\": 1,\n",
    "#         \"V\": 5,\n",
    "#         \"X\": 10,\n",
    "#         \"L\": 50,\n",
    "#         \"C\": 100,\n",
    "#         \"D\": 500,\n",
    "#         \"M\": 1000\n",
    "#     }\n",
    "#     number = 0\n",
    "#     # IV should = 5-1 but just replace it with IIII so that its easier by sum\n",
    "#     s = s.replace(\"IV\", \"IIII\").replace(\"IX\", \"VIIII\") \n",
    "#     s = s.replace(\"XL\", \"XXXX\").replace(\"XC\", \"LXXXX\")\n",
    "#     s = s.replace(\"CD\", \"CCCC\").replace(\"CM\", \"DCCCC\")\n",
    "#     for char in s:\n",
    "#         number += translations[char]\n",
    "#     return number\n",
    "\n",
    "s = input()\n",
    "solution.romanToInt(s)"
   ]
  },
  {
   "cell_type": "markdown",
   "id": "77f8faad-c956-49d4-bd0f-d9b9c16f6614",
   "metadata": {},
   "source": [
    "# 4. Longest Common Prefix"
   ]
  },
  {
   "cell_type": "code",
   "execution_count": 43,
   "id": "6aedfb0e-385f-4df8-a20b-c0cdb3df872c",
   "metadata": {},
   "outputs": [],
   "source": [
    "def longestCommonPrefix(str):\n",
    "    for i in range(len(str)-1):\n",
    "        if str[i][:2] == str[i+1][:2]:\n",
    "            return str[i][:2]\n",
    "        else:\n",
    "            return\n",
    "\n",
    "str = [\"dog\",\"flow\",\"dog\"]\n",
    "longestCommonPrefix(str)"
   ]
  },
  {
   "cell_type": "code",
   "execution_count": null,
   "id": "06b6b0f4-7da3-48b3-8c67-4ec520159c6e",
   "metadata": {},
   "outputs": [],
   "source": []
  },
  {
   "cell_type": "code",
   "execution_count": null,
   "id": "8a9bc317-15f0-4fef-a8f3-b8db9dbe4751",
   "metadata": {},
   "outputs": [],
   "source": []
  },
  {
   "cell_type": "code",
   "execution_count": null,
   "id": "43c7a859-8a7f-43c2-93c9-5aa90932ba09",
   "metadata": {},
   "outputs": [],
   "source": []
  },
  {
   "cell_type": "code",
   "execution_count": null,
   "id": "fb6ebe8c-1ece-4cc6-b3f4-b7ac098c04e5",
   "metadata": {},
   "outputs": [],
   "source": []
  },
  {
   "cell_type": "code",
   "execution_count": null,
   "id": "9616769f-137b-4d6b-a039-1ea314c08ba9",
   "metadata": {},
   "outputs": [],
   "source": []
  },
  {
   "cell_type": "code",
   "execution_count": null,
   "id": "341f70a2-5660-4e0f-a738-f8c206187172",
   "metadata": {},
   "outputs": [],
   "source": []
  },
  {
   "cell_type": "code",
   "execution_count": null,
   "id": "21d87c23-ce89-4ca0-b293-a75a92b19379",
   "metadata": {},
   "outputs": [],
   "source": []
  }
 ],
 "metadata": {
  "kernelspec": {
   "display_name": "Python 3 (ipykernel)",
   "language": "python",
   "name": "python3"
  },
  "language_info": {
   "codemirror_mode": {
    "name": "ipython",
    "version": 3
   },
   "file_extension": ".py",
   "mimetype": "text/x-python",
   "name": "python",
   "nbconvert_exporter": "python",
   "pygments_lexer": "ipython3",
   "version": "3.11.5"
  }
 },
 "nbformat": 4,
 "nbformat_minor": 5
}
