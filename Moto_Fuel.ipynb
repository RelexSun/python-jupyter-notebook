{
 "cells": [
  {
   "cell_type": "code",
   "execution_count": 9,
   "id": "943602f5-eb6b-4841-95ba-c0f93e4ea67d",
   "metadata": {},
   "outputs": [
    {
     "name": "stdin",
     "output_type": "stream",
     "text": [
      "Enter mainTank:  1\n",
      "Enter secondaryTank:  2\n"
     ]
    },
    {
     "name": "stdout",
     "output_type": "stream",
     "text": [
      "Distance: 10\n"
     ]
    }
   ],
   "source": [
    "\n",
    "mainTank = int(input(\"Enter mainTank: \"))\n",
    "secondaryTank = int(input(\"Enter secondaryTank: \"))\n",
    "\n",
    "def howFar(mainTank, secondaryTank) :\n",
    "    distance = 0\n",
    "    while mainTank > 0 :\n",
    "        if mainTank >= 5 :\n",
    "            mainTank -= 5\n",
    "            distance += 50\n",
    "            \n",
    "            if secondaryTank > 0 :\n",
    "                mainTank += 1\n",
    "                secondaryTank -= 1\n",
    "        else :\n",
    "            distance += mainTank * 10\n",
    "            mainTank = 0\n",
    "            \n",
    "    return distance\n",
    "        \n",
    "print(\"Distance:\", howFar(mainTank, secondaryTank))\n",
    "        \n",
    "    "
   ]
  },
  {
   "cell_type": "code",
   "execution_count": null,
   "id": "eec3ec4e-6bd9-4cfa-bf14-8a0bdb9698c4",
   "metadata": {},
   "outputs": [],
   "source": []
  }
 ],
 "metadata": {
  "kernelspec": {
   "display_name": "Python 3 (ipykernel)",
   "language": "python",
   "name": "python3"
  },
  "language_info": {
   "codemirror_mode": {
    "name": "ipython",
    "version": 3
   },
   "file_extension": ".py",
   "mimetype": "text/x-python",
   "name": "python",
   "nbconvert_exporter": "python",
   "pygments_lexer": "ipython3",
   "version": "3.11.5"
  }
 },
 "nbformat": 4,
 "nbformat_minor": 5
}
