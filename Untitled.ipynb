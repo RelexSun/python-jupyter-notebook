{
 "cells": [
  {
   "cell_type": "code",
   "execution_count": 2,
   "id": "5b3c9693",
   "metadata": {},
   "outputs": [
    {
     "name": "stdout",
     "output_type": "stream",
     "text": [
      "\n",
      "*\n",
      "**\n",
      "***\n",
      "****\n",
      "*****\n"
     ]
    }
   ],
   "source": [
    "for i in range(6) :\n",
    "    print('*' * i)"
   ]
  },
  {
   "cell_type": "code",
   "execution_count": 41,
   "id": "273f0ff8",
   "metadata": {},
   "outputs": [
    {
     "name": "stdout",
     "output_type": "stream",
     "text": [
      "     *\n",
      "    ***\n",
      "   *****\n",
      "  *******\n",
      " *********\n"
     ]
    }
   ],
   "source": [
    "for i in range(1, 6) :\n",
    "    k = \" \" * (6 - i)\n",
    "    j = \"*\" * (2 * i - 1)\n",
    "    \n",
    "    print(k + j)"
   ]
  },
  {
   "cell_type": "code",
   "execution_count": 51,
   "id": "78c9ef87",
   "metadata": {},
   "outputs": [
    {
     "name": "stdout",
     "output_type": "stream",
     "text": [
      "     *\n",
      "    ***\n",
      "   *****\n",
      "  *******\n",
      " *********\n",
      "***********\n",
      " *********\n",
      "  *******\n",
      "   *****\n",
      "    ***\n",
      "     *\n",
      "      \n"
     ]
    }
   ],
   "source": [
    "for i in range(1, 6) :\n",
    "    k = \" \" * (6 - i)\n",
    "    j = \"*\" * (2 * i - 1)\n",
    "    print(k + j)\n",
    "for i in range(6, -1, -1) :\n",
    "    k = \" \" * (6 - i)\n",
    "    j = \"*\" * (2 * i - 1)\n",
    "    print(k + j)"
   ]
  },
  {
   "cell_type": "code",
   "execution_count": 55,
   "id": "7fa7ec36",
   "metadata": {},
   "outputs": [
    {
     "name": "stdout",
     "output_type": "stream",
     "text": [
      "Enter number: 5\n",
      "######\n",
      "######\n",
      "######\n",
      "######\n",
      "######\n"
     ]
    }
   ],
   "source": [
    "n = int(input('Enter number: '))\n",
    "for i in range(n) :\n",
    "    for j in range(n + 1) :\n",
    "        print('#', end=\"\")\n",
    "    print()   "
   ]
  },
  {
   "cell_type": "code",
   "execution_count": 59,
   "id": "a5ac6364",
   "metadata": {},
   "outputs": [
    {
     "name": "stdout",
     "output_type": "stream",
     "text": [
      "Enter number: 5\n",
      "$$$$$$\n",
      "######\n",
      "$$$$$$\n",
      "######\n",
      "$$$$$$\n"
     ]
    }
   ],
   "source": [
    "n = int(input('Enter number: '))\n",
    "for i in range(n) :\n",
    "    if i % 2 == 1 :\n",
    "        for j in range(n + 1) :\n",
    "            print('#', end=\"\")\n",
    "    else :\n",
    "        for j in range(n + 1, 0, -1) :\n",
    "            print('$', end=\"\") \n",
    "    \n",
    "    print()   "
   ]
  },
  {
   "cell_type": "code",
   "execution_count": 54,
   "id": "b973233d",
   "metadata": {
    "scrolled": true
   },
   "outputs": [
    {
     "name": "stdout",
     "output_type": "stream",
     "text": [
      "Enter number of rows: 5\n",
      "Enter number of column: 5\n",
      "Enter the symbol: #\n",
      "#####\n",
      "#####\n",
      "#####\n",
      "#####\n",
      "#####\n"
     ]
    }
   ],
   "source": [
    "rows = int(input('Enter number of rows: '))\n",
    "column = int(input('Enter number of column: '))\n",
    "symbol = input('Enter the symbol: ')\n",
    "\n",
    "for i in range(rows) :\n",
    "    for j in range(column) :\n",
    "        print(symbol, end=\"\")\n",
    "    print()"
   ]
  }
 ],
 "metadata": {
  "kernelspec": {
   "display_name": "Python 3 (ipykernel)",
   "language": "python",
   "name": "python3"
  },
  "language_info": {
   "codemirror_mode": {
    "name": "ipython",
    "version": 3
   },
   "file_extension": ".py",
   "mimetype": "text/x-python",
   "name": "python",
   "nbconvert_exporter": "python",
   "pygments_lexer": "ipython3",
   "version": "3.10.9"
  }
 },
 "nbformat": 4,
 "nbformat_minor": 5
}
