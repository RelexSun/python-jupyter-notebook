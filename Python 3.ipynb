{
 "cells": [
  {
   "cell_type": "code",
   "execution_count": 14,
   "id": "61dcfa5e",
   "metadata": {},
   "outputs": [
    {
     "name": "stdout",
     "output_type": "stream",
     "text": [
      "10! = 3628800\n"
     ]
    }
   ],
   "source": [
    "n = 10\n",
    "factorial = 1 * 2 * n * (n-1) * (n-2) * (n-3) * (n-4) * (n-5) * (n-6) * (n-7)\n",
    "print(str(n) + '! = ' + str(factorial))"
   ]
  },
  {
   "cell_type": "code",
   "execution_count": 20,
   "id": "8204488c",
   "metadata": {},
   "outputs": [
    {
     "name": "stdout",
     "output_type": "stream",
     "text": [
      "The Result of 10! = 3628800\n"
     ]
    }
   ],
   "source": [
    "n = 10 \n",
    "factorial = 1 * 2 * n * (n-1) * (n-2) * (n-3) * (n-4) * (n-5) * (n-6) * (n-7)\n",
    "print(f\"The Result of {n}! = {factorial}\")"
   ]
  },
  {
   "cell_type": "code",
   "execution_count": 25,
   "id": "e5b41e58",
   "metadata": {},
   "outputs": [
    {
     "name": "stdout",
     "output_type": "stream",
     "text": [
      "1\n",
      "2\n",
      "3\n",
      "6\n"
     ]
    }
   ],
   "source": [
    "n = 18\n",
    "if (18%1 == 0) :\n",
    "    print(1)\n",
    "if (18%2 == 0) :\n",
    "    print(2)\n",
    "if (18%3 == 0) :\n",
    "    print(3)\n",
    "if (18%4 == 0) :\n",
    "    print(4)\n",
    "if (18%5 == 0) :\n",
    "    print(5)\n",
    "if (18%6 == 0) :\n",
    "    print(6)"
   ]
  },
  {
   "cell_type": "code",
   "execution_count": 2,
   "id": "003b830f",
   "metadata": {},
   "outputs": [
    {
     "name": "stdout",
     "output_type": "stream",
     "text": [
      "Enter a num: 18\n",
      "1\n",
      "2\n",
      "3\n",
      "6\n",
      "9\n",
      "18\n"
     ]
    }
   ],
   "source": [
    "n = int(input(\"Enter a num: \"))\n",
    "for i in range(1, n+1):\n",
    "    if (n%i == 0) :\n",
    "        print(i)"
   ]
  },
  {
   "cell_type": "code",
   "execution_count": 53,
   "id": "0d2b1398",
   "metadata": {},
   "outputs": [
    {
     "name": "stdout",
     "output_type": "stream",
     "text": [
      "Enter your name: sdf\n",
      "Enter your height in cm: 123\n",
      "Enter your weight: 32\n",
      "\n",
      "Name: sdf\n",
      "BMI: 21.2\n"
     ]
    }
   ],
   "source": [
    "name = input('Enter your name: ')\n",
    "height_cm = int(input('Enter your height in cm: '))\n",
    "weight = int(input('Enter your weight: '))\n",
    "height_m = int(height_cm)/100\n",
    "BMI = weight/ (height_m ** 2)\n",
    "print(f\"\\nName: {name}\\nBMI: {BMI:.1f}\")"
   ]
  },
  {
   "cell_type": "code",
   "execution_count": 15,
   "id": "354e1b01",
   "metadata": {},
   "outputs": [
    {
     "data": {
      "text/plain": [
       "'h'"
      ]
     },
     "execution_count": 15,
     "metadata": {},
     "output_type": "execute_result"
    }
   ],
   "source": [
    "'hello'[0]"
   ]
  },
  {
   "cell_type": "code",
   "execution_count": 16,
   "id": "f241af1e",
   "metadata": {},
   "outputs": [
    {
     "ename": "IndexError",
     "evalue": "string index out of range",
     "output_type": "error",
     "traceback": [
      "\u001b[0;31m---------------------------------------------------------------------------\u001b[0m",
      "\u001b[0;31mIndexError\u001b[0m                                Traceback (most recent call last)",
      "Cell \u001b[0;32mIn[16], line 1\u001b[0m\n\u001b[0;32m----> 1\u001b[0m \u001b[38;5;124;43m'\u001b[39;49m\u001b[38;5;124;43mhello\u001b[39;49m\u001b[38;5;124;43m'\u001b[39;49m\u001b[43m[\u001b[49m\u001b[38;5;241;43m5\u001b[39;49m\u001b[43m]\u001b[49m\n",
      "\u001b[0;31mIndexError\u001b[0m: string index out of range"
     ]
    }
   ],
   "source": [
    "'hello'[5]"
   ]
  },
  {
   "cell_type": "code",
   "execution_count": 17,
   "id": "068446a2",
   "metadata": {},
   "outputs": [
    {
     "data": {
      "text/plain": [
       "'o'"
      ]
     },
     "execution_count": 17,
     "metadata": {},
     "output_type": "execute_result"
    }
   ],
   "source": [
    "'hello'[-1]"
   ]
  },
  {
   "cell_type": "code",
   "execution_count": 18,
   "id": "ecf3639e",
   "metadata": {},
   "outputs": [
    {
     "data": {
      "text/plain": [
       "'h'"
      ]
     },
     "execution_count": 18,
     "metadata": {},
     "output_type": "execute_result"
    }
   ],
   "source": [
    "'hello'[-5]"
   ]
  },
  {
   "cell_type": "code",
   "execution_count": 20,
   "id": "e1426848",
   "metadata": {},
   "outputs": [
    {
     "name": "stdout",
     "output_type": "stream",
     "text": [
      "\"hello\"\n"
     ]
    }
   ],
   "source": [
    "text = '\"hello\"'\n",
    "print(text)"
   ]
  },
  {
   "cell_type": "code",
   "execution_count": 22,
   "id": "035a151d",
   "metadata": {},
   "outputs": [
    {
     "name": "stdout",
     "output_type": "stream",
     "text": [
      "'hello'\n"
     ]
    }
   ],
   "source": [
    "text = \"'hello'\"\n",
    "print(text)"
   ]
  },
  {
   "cell_type": "code",
   "execution_count": 23,
   "id": "fb40850a",
   "metadata": {},
   "outputs": [
    {
     "name": "stdout",
     "output_type": "stream",
     "text": [
      "'hello'\n"
     ]
    }
   ],
   "source": [
    "text = '\\'hello\\''\n",
    "print(text)"
   ]
  },
  {
   "cell_type": "code",
   "execution_count": 24,
   "id": "eb5e85df",
   "metadata": {},
   "outputs": [
    {
     "name": "stdout",
     "output_type": "stream",
     "text": [
      "\"hello\"\n"
     ]
    }
   ],
   "source": [
    "text = \"\\\"hello\\\"\"\n",
    "print(text)"
   ]
  },
  {
   "cell_type": "code",
   "execution_count": 25,
   "id": "7b5ef518",
   "metadata": {},
   "outputs": [
    {
     "name": "stdout",
     "output_type": "stream",
     "text": [
      "using tab \tescape sequence\n"
     ]
    }
   ],
   "source": [
    "print('using tab \\tescape sequence')"
   ]
  },
  {
   "cell_type": "code",
   "execution_count": 27,
   "id": "274eefa1",
   "metadata": {},
   "outputs": [
    {
     "data": {
      "text/plain": [
       "'first value 1 and second value 2'"
      ]
     },
     "execution_count": 27,
     "metadata": {},
     "output_type": "execute_result"
    }
   ],
   "source": [
    "value1 = 1\n",
    "value2 = 2\n",
    "'first value {} and second value {}'.format(value1,value2)"
   ]
  },
  {
   "cell_type": "code",
   "execution_count": 30,
   "id": "2ee071cf",
   "metadata": {},
   "outputs": [
    {
     "data": {
      "text/plain": [
       "'hello python!'"
      ]
     },
     "execution_count": 30,
     "metadata": {},
     "output_type": "execute_result"
    }
   ],
   "source": [
    "'hello {}!'.format('python')"
   ]
  },
  {
   "cell_type": "code",
   "execution_count": 32,
   "id": "07af51c3",
   "metadata": {},
   "outputs": [
    {
     "data": {
      "text/plain": [
       "'1 + 2 = 3'"
      ]
     },
     "execution_count": 32,
     "metadata": {},
     "output_type": "execute_result"
    }
   ],
   "source": [
    "'{} + {} = {}'.format(1,2, 1 + 2)"
   ]
  },
  {
   "cell_type": "code",
   "execution_count": 35,
   "id": "3f96ec58",
   "metadata": {},
   "outputs": [
    {
     "data": {
      "text/plain": [
       "'i love you and your Mum'"
      ]
     },
     "execution_count": 35,
     "metadata": {},
     "output_type": "execute_result"
    }
   ],
   "source": [
    "'i love {} and your {}'.format('you', 'Mum')"
   ]
  },
  {
   "cell_type": "code",
   "execution_count": 36,
   "id": "d750746b",
   "metadata": {},
   "outputs": [
    {
     "data": {
      "text/plain": [
       "'i love Mum and your you'"
      ]
     },
     "execution_count": 36,
     "metadata": {},
     "output_type": "execute_result"
    }
   ],
   "source": [
    "'i love {1} and your {0}'.format('you', 'Mum')"
   ]
  },
  {
   "cell_type": "code",
   "execution_count": 40,
   "id": "097ced2b",
   "metadata": {},
   "outputs": [
    {
     "data": {
      "text/plain": [
       "'hello, hello, hello! python'"
      ]
     },
     "execution_count": 40,
     "metadata": {},
     "output_type": "execute_result"
    }
   ],
   "source": [
    "'{0}, {0}, {0}! python'.format('hello')"
   ]
  },
  {
   "cell_type": "code",
   "execution_count": 41,
   "id": "6de65e71",
   "metadata": {},
   "outputs": [
    {
     "data": {
      "text/plain": [
       "'hello, ho, hello! python'"
      ]
     },
     "execution_count": 41,
     "metadata": {},
     "output_type": "execute_result"
    }
   ],
   "source": [
    "'{0}, {1}, {0}! python'.format('hello', 'ho')"
   ]
  },
  {
   "cell_type": "code",
   "execution_count": 42,
   "id": "5da14b14",
   "metadata": {},
   "outputs": [
    {
     "data": {
      "text/plain": [
       "'hello, python, hello! python, python'"
      ]
     },
     "execution_count": 42,
     "metadata": {},
     "output_type": "execute_result"
    }
   ],
   "source": [
    "'{0}, {1}, {0}! python, {1}'.format('hello', 'python')"
   ]
  },
  {
   "cell_type": "code",
   "execution_count": 43,
   "id": "85806f6f",
   "metadata": {},
   "outputs": [
    {
     "data": {
      "text/plain": [
       "'100, 2000, 100! python'"
      ]
     },
     "execution_count": 43,
     "metadata": {},
     "output_type": "execute_result"
    }
   ],
   "source": [
    "'{0}, {1}, {0}! python'.format(100, 2000)"
   ]
  },
  {
   "cell_type": "code",
   "execution_count": 44,
   "id": "0bcc0305",
   "metadata": {},
   "outputs": [
    {
     "data": {
      "text/plain": [
       "'       123'"
      ]
     },
     "execution_count": 44,
     "metadata": {},
     "output_type": "execute_result"
    }
   ],
   "source": [
    "'{:10}'.format(123)"
   ]
  },
  {
   "cell_type": "code",
   "execution_count": 45,
   "id": "50ad7863",
   "metadata": {},
   "outputs": [
    {
     "data": {
      "text/plain": [
       "'hello     '"
      ]
     },
     "execution_count": 45,
     "metadata": {},
     "output_type": "execute_result"
    }
   ],
   "source": [
    "'{:10}'.format('hello')"
   ]
  },
  {
   "cell_type": "code",
   "execution_count": 46,
   "id": "421352f2",
   "metadata": {},
   "outputs": [
    {
     "name": "stdout",
     "output_type": "stream",
     "text": [
      "   sun    \n"
     ]
    }
   ],
   "source": [
    "string = 'sun'\n",
    "formatted_value = '{:^10}'.format(string)\n",
    "print(formatted_value)"
   ]
  },
  {
   "cell_type": "code",
   "execution_count": 49,
   "id": "43a37dff",
   "metadata": {},
   "outputs": [
    {
     "name": "stdout",
     "output_type": "stream",
     "text": [
      "   sun    \n",
      "       sun\n",
      "sun       \n",
      "       sun\n",
      "sun       \n"
     ]
    }
   ],
   "source": [
    "string = 'sun'\n",
    "formatted_value = '{:^10}'.format(string)\n",
    "print(formatted_value)\n",
    "\n",
    "string = 'sun'\n",
    "formatted_value = '{:>10}'.format(string)\n",
    "print(formatted_value)\n",
    "\n",
    "string = 'sun'\n",
    "formatted_value = '{:<10}'.format(string)\n",
    "print(formatted_value)\n",
    "\n",
    "string = 'sun'\n",
    "formatted_value = '{:>10}'.format(string)\n",
    "print(formatted_value)\n",
    "\n",
    "string = 'sun'\n",
    "formatted_value = '{:10}'.format(string)\n",
    "print(formatted_value)"
   ]
  },
  {
   "cell_type": "code",
   "execution_count": 50,
   "id": "2b841e3b",
   "metadata": {},
   "outputs": [
    {
     "data": {
      "text/plain": [
       "'       123'"
      ]
     },
     "execution_count": 50,
     "metadata": {},
     "output_type": "execute_result"
    }
   ],
   "source": [
    "'{:10d}'.format(123)"
   ]
  },
  {
   "cell_type": "code",
   "execution_count": 51,
   "id": "d74fea58",
   "metadata": {},
   "outputs": [
    {
     "data": {
      "text/plain": [
       "'123.000000'"
      ]
     },
     "execution_count": 51,
     "metadata": {},
     "output_type": "execute_result"
    }
   ],
   "source": [
    "'{:10f}'.format(123)"
   ]
  },
  {
   "cell_type": "code",
   "execution_count": 54,
   "id": "16511c58",
   "metadata": {},
   "outputs": [
    {
     "data": {
      "text/plain": [
       "'    3.1416'"
      ]
     },
     "execution_count": 54,
     "metadata": {},
     "output_type": "execute_result"
    }
   ],
   "source": [
    "'{:10.4f}'.format(3.14159226)"
   ]
  },
  {
   "cell_type": "code",
   "execution_count": 55,
   "id": "c5a34733",
   "metadata": {},
   "outputs": [
    {
     "data": {
      "text/plain": [
       "'      3.14'"
      ]
     },
     "execution_count": 55,
     "metadata": {},
     "output_type": "execute_result"
    }
   ],
   "source": [
    "'{:10.2f}'.format(3.14159226)"
   ]
  },
  {
   "cell_type": "code",
   "execution_count": 58,
   "id": "fc43dde7",
   "metadata": {},
   "outputs": [
    {
     "name": "stdout",
     "output_type": "stream",
     "text": [
      "True\n",
      "False\n",
      "False\n",
      "False\n",
      "True\n"
     ]
    }
   ],
   "source": [
    "string1 = '12345'\n",
    "print(string1.isdigit())\n",
    "\n",
    "string2 = 'hello'\n",
    "print(string2.isdigit())\n",
    "\n",
    "string3 = '3.14'\n",
    "print(string3.isdigit())\n",
    "\n",
    "string4 = '-42'\n",
    "print(string4.isdigit())\n",
    "\n",
    "string5 = '0'\n",
    "print(string5.isdigit())"
   ]
  },
  {
   "cell_type": "code",
   "execution_count": 60,
   "id": "15de7522",
   "metadata": {},
   "outputs": [
    {
     "name": "stdout",
     "output_type": "stream",
     "text": [
      "sun\n",
      "enter name: \n",
      "sun\n"
     ]
    }
   ],
   "source": [
    "name = input()\n",
    "print('enter name: ')\n",
    "print(name)\n"
   ]
  },
  {
   "cell_type": "code",
   "execution_count": 61,
   "id": "778b1267",
   "metadata": {},
   "outputs": [
    {
     "name": "stdout",
     "output_type": "stream",
     "text": [
      "enter name: sun\n",
      "hello sun\n"
     ]
    }
   ],
   "source": [
    "name = input('enter name: ')\n",
    "print('hello', name)"
   ]
  },
  {
   "cell_type": "code",
   "execution_count": 63,
   "id": "68248294",
   "metadata": {},
   "outputs": [
    {
     "name": "stdout",
     "output_type": "stream",
     "text": [
      "enter name:sun\n"
     ]
    }
   ],
   "source": [
    "name = input('enter name:')"
   ]
  },
  {
   "cell_type": "code",
   "execution_count": 64,
   "id": "1e91e1e1",
   "metadata": {},
   "outputs": [
    {
     "name": "stdout",
     "output_type": "stream",
     "text": [
      "enter name:sun\n",
      "sun\n"
     ]
    }
   ],
   "source": [
    "name = input('enter name:')\n",
    "print(name)"
   ]
  },
  {
   "cell_type": "code",
   "execution_count": 65,
   "id": "93bf5494",
   "metadata": {},
   "outputs": [
    {
     "name": "stdout",
     "output_type": "stream",
     "text": [
      "enter the first integer: 100\n",
      "enter the second integer: 10209393\n",
      "100 and 10209393 sum up to 10209493 .\n"
     ]
    }
   ],
   "source": [
    "x = int(input(\"enter the first integer: \"))\n",
    "y = int(input(\"enter the second integer: \"))\n",
    "s = x + y\n",
    "print(x, \"and\", y, \"sum up to\", s, \".\")"
   ]
  },
  {
   "cell_type": "code",
   "execution_count": 69,
   "id": "dac64fda",
   "metadata": {},
   "outputs": [
    {
     "name": "stdout",
     "output_type": "stream",
     "text": [
      "enter your num: 1.2\n",
      "enter another: 2.2\n",
      "1.2 and 2.2 sum up to 3.4000000000000004\n"
     ]
    }
   ],
   "source": [
    "x = float(input(\"enter your num: \"))\n",
    "y = float(input(\"enter another: \"))\n",
    "s = x + y\n",
    "print(x, \"and\", y, \"sum up to\", s)"
   ]
  },
  {
   "cell_type": "code",
   "execution_count": 71,
   "id": "5cc05fca",
   "metadata": {},
   "outputs": [
    {
     "name": "stdout",
     "output_type": "stream",
     "text": [
      "enter to make space: 1 2 3\n",
      "1 2 3\n"
     ]
    }
   ],
   "source": [
    "num1, num2, num3 = input('enter to make space: ').split()\n",
    "print(num1,num2,num3)"
   ]
  },
  {
   "cell_type": "code",
   "execution_count": 1,
   "id": "d55f7ae0",
   "metadata": {},
   "outputs": [
    {
     "name": "stdout",
     "output_type": "stream",
     "text": [
      "Q1 are you stupid ?\n"
     ]
    }
   ],
   "source": [
    "print(\"Q{} are you stupid {}\".format(1,'?'))"
   ]
  },
  {
   "cell_type": "code",
   "execution_count": 1,
   "id": "c877e210",
   "metadata": {},
   "outputs": [
    {
     "data": {
      "text/plain": [
       "time.struct_time(tm_year=2023, tm_mon=7, tm_mday=11, tm_hour=9, tm_min=22, tm_sec=41, tm_wday=1, tm_yday=192, tm_isdst=0)"
      ]
     },
     "execution_count": 1,
     "metadata": {},
     "output_type": "execute_result"
    }
   ],
   "source": [
    "import time\n",
    "unix_timestamp = time.time()\n",
    "local_time = time.localtime(unix_timestamp)\n",
    "local_time"
   ]
  },
  {
   "cell_type": "code",
   "execution_count": 2,
   "id": "7f2ed49d",
   "metadata": {},
   "outputs": [
    {
     "name": "stdout",
     "output_type": "stream",
     "text": [
      "area of rectangle:  1800\n"
     ]
    }
   ],
   "source": [
    "width = 30\n",
    "height = 60\n",
    "rectangle = width * height\n",
    "print('area of rectangle: ', rectangle)"
   ]
  },
  {
   "cell_type": "code",
   "execution_count": 4,
   "id": "edaa29cc",
   "metadata": {},
   "outputs": [
    {
     "name": "stdout",
     "output_type": "stream",
     "text": [
      "enter base: 3\n",
      "enter height: 4\n",
      "5.0\n"
     ]
    }
   ],
   "source": [
    "import math as m\n",
    "b = int(input('enter base: '))\n",
    "a = int(input('enter height: '))\n",
    "c = m.sqrt(a**2 + pow(b,2))\n",
    "print(c)"
   ]
  },
  {
   "cell_type": "code",
   "execution_count": 8,
   "id": "87c0cf7f",
   "metadata": {},
   "outputs": [
    {
     "name": "stdout",
     "output_type": "stream",
     "text": [
      "enter radius: 11\n",
      "circumference of the circle = 69.12, Area of the circle = 380.132711084365\n"
     ]
    }
   ],
   "source": [
    "import math as m\n",
    "radius = int(input('enter radius: '))\n",
    "circum = 2 * m.pi * radius\n",
    "area = m.pi * pow(radius, 2)\n",
    "print(f\"circumference of the circle = {circum:.2f}, Area of the circle = {area}\")"
   ]
  },
  {
   "cell_type": "code",
   "execution_count": 18,
   "id": "a98cb69f",
   "metadata": {},
   "outputs": [
    {
     "name": "stdout",
     "output_type": "stream",
     "text": [
      "4\n",
      "9\n",
      "16\n",
      "25\n",
      "36\n"
     ]
    }
   ],
   "source": [
    "import math as m\n",
    "a = [2,3,4,5,6]\n",
    "for i in range(len(a)):\n",
    "    c = pow(a[i], 2)\n",
    "    print(c)"
   ]
  },
  {
   "cell_type": "code",
   "execution_count": null,
   "id": "5934618c",
   "metadata": {},
   "outputs": [],
   "source": []
  }
 ],
 "metadata": {
  "kernelspec": {
   "display_name": "Python 3 (ipykernel)",
   "language": "python",
   "name": "python3"
  },
  "language_info": {
   "codemirror_mode": {
    "name": "ipython",
    "version": 3
   },
   "file_extension": ".py",
   "mimetype": "text/x-python",
   "name": "python",
   "nbconvert_exporter": "python",
   "pygments_lexer": "ipython3",
   "version": "3.10.9"
  }
 },
 "nbformat": 4,
 "nbformat_minor": 5
}
