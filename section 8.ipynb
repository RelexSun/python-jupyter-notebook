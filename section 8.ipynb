{
 "cells": [
  {
   "cell_type": "code",
   "execution_count": 1,
   "id": "d30a9223",
   "metadata": {},
   "outputs": [
    {
     "name": "stdout",
     "output_type": "stream",
     "text": [
      "hello world\n",
      "hello world\n",
      "hello world\n",
      "hello world\n",
      "hello world\n"
     ]
    }
   ],
   "source": [
    "for i in range(5):\n",
    "    print('hello world')"
   ]
  },
  {
   "cell_type": "code",
   "execution_count": 2,
   "id": "7866e711",
   "metadata": {},
   "outputs": [
    {
     "name": "stdout",
     "output_type": "stream",
     "text": [
      "hello world\n",
      "hello world\n",
      "hello world\n",
      "hello world\n",
      "hello world\n"
     ]
    }
   ],
   "source": [
    "for _ in range(5):\n",
    "    print('hello world')"
   ]
  },
  {
   "cell_type": "code",
   "execution_count": 3,
   "id": "be83b95c",
   "metadata": {},
   "outputs": [
    {
     "name": "stdout",
     "output_type": "stream",
     "text": [
      "hello world\n",
      "hello world\n",
      "hello world\n",
      "hello world\n",
      "hello world\n"
     ]
    }
   ],
   "source": [
    "for _ in [1, 2, 3, 4, 5]:\n",
    "    print(\"hello world\")"
   ]
  },
  {
   "cell_type": "code",
   "execution_count": 5,
   "id": "02b97ed0",
   "metadata": {
    "scrolled": true
   },
   "outputs": [
    {
     "name": "stdout",
     "output_type": "stream",
     "text": [
      "[0, 1, 2, 3, 4, 5, 6, 7, 8, 9, 10, 11, 12, 13, 14, 15, 16, 17, 18, 19, 20, 21, 22, 23, 24, 25, 26, 27, 28, 29]\n"
     ]
    }
   ],
   "source": [
    "print(list(range(30)))"
   ]
  },
  {
   "cell_type": "code",
   "execution_count": 3,
   "id": "b1a9b994",
   "metadata": {},
   "outputs": [
    {
     "name": "stdout",
     "output_type": "stream",
     "text": [
      "Sum of list item values : 150\n"
     ]
    }
   ],
   "source": [
    "numbers = [10, 20, 30, 40, 50]\n",
    "s = 0\n",
    "for n in numbers :\n",
    "    s = s + n\n",
    "print('Sum of list item values :', s)"
   ]
  },
  {
   "cell_type": "code",
   "execution_count": 6,
   "id": "1c60422d",
   "metadata": {},
   "outputs": [
    {
     "name": "stdout",
     "output_type": "stream",
     "text": [
      "150\n"
     ]
    }
   ],
   "source": [
    "numbers = [10, 20, 30, 40, 50]\n",
    "print(sum(numbers))"
   ]
  },
  {
   "cell_type": "code",
   "execution_count": 8,
   "id": "104fbd06",
   "metadata": {},
   "outputs": [
    {
     "name": "stdout",
     "output_type": "stream",
     "text": [
      "[0, 1, 2, 3, 4]\n"
     ]
    }
   ],
   "source": [
    "print(list(range(5)))\n",
    "# in range(n) is a case where start and step are used as default values,\n",
    "# and only the stop value is specific."
   ]
  },
  {
   "cell_type": "code",
   "execution_count": 10,
   "id": "ac90798b",
   "metadata": {},
   "outputs": [
    {
     "name": "stdout",
     "output_type": "stream",
     "text": [
      "[0, 1, 2, 3, 4]\n"
     ]
    }
   ],
   "source": [
    "print(list(range(0, 5)))"
   ]
  },
  {
   "cell_type": "code",
   "execution_count": 12,
   "id": "2a8a41e0",
   "metadata": {},
   "outputs": [
    {
     "name": "stdout",
     "output_type": "stream",
     "text": [
      "[0, 1, 2, 3, 4]\n"
     ]
    }
   ],
   "source": [
    "# range build-in function have start, stop, step\n",
    "print(list(range(0, 5, 1))) \n",
    "\n",
    "# start at 0, stop at 5, step up 1 or increasing by 1 "
   ]
  },
  {
   "cell_type": "code",
   "execution_count": 14,
   "id": "f36d6fcd",
   "metadata": {},
   "outputs": [
    {
     "name": "stdout",
     "output_type": "stream",
     "text": [
      "[0, 2, 4]\n"
     ]
    }
   ],
   "source": [
    "print(list(range(0, 5, 2)))"
   ]
  },
  {
   "cell_type": "code",
   "execution_count": 17,
   "id": "63576fb5",
   "metadata": {},
   "outputs": [
    {
     "name": "stdout",
     "output_type": "stream",
     "text": [
      "[5, 3, 1]\n"
     ]
    }
   ],
   "source": [
    "print(list(range(5, 0, -2)))\n",
    "# start at 5, stop at 0, step down -2 or decreasing by 2"
   ]
  },
  {
   "cell_type": "code",
   "execution_count": 53,
   "id": "29511bfc",
   "metadata": {},
   "outputs": [
    {
     "name": "stdout",
     "output_type": "stream",
     "text": [
      "the sum of 1 to 10: 55\n",
      "55\n"
     ]
    }
   ],
   "source": [
    "s = 0\n",
    "for i in range(1, 11) :\n",
    "    s += i\n",
    "print('the sum of 1 to 10:', s)\n",
    "print(sum(range(1, 11)))"
   ]
  },
  {
   "cell_type": "code",
   "execution_count": 24,
   "id": "1fbea379",
   "metadata": {},
   "outputs": [
    {
     "name": "stdout",
     "output_type": "stream",
     "text": [
      "55\n"
     ]
    }
   ],
   "source": [
    "print(sum(range(1, 11)))"
   ]
  },
  {
   "cell_type": "code",
   "execution_count": 37,
   "id": "e4c78829",
   "metadata": {},
   "outputs": [
    {
     "name": "stdout",
     "output_type": "stream",
     "text": [
      "enter a number: 5\n",
      "1\n",
      "2\n",
      "3\n",
      "4\n",
      "5\n",
      "5i = 120\n"
     ]
    }
   ],
   "source": [
    "n = int(input('enter a number: '))\n",
    "fact = 1\n",
    "for i in range(1, n + 1) :\n",
    "    fact = fact * i\n",
    "    print(i)\n",
    "print(str(n) + 'i =', fact)"
   ]
  },
  {
   "cell_type": "code",
   "execution_count": 3,
   "id": "cdfef86a",
   "metadata": {},
   "outputs": [
    {
     "name": "stdout",
     "output_type": "stream",
     "text": [
      "v\n",
      "jimin\n",
      "suga\n"
     ]
    }
   ],
   "source": [
    "bts = ['v', 'jimin', 'suga']\n",
    "for i in bts :\n",
    "    print(i)"
   ]
  },
  {
   "cell_type": "code",
   "execution_count": 21,
   "id": "fd4e76cc",
   "metadata": {},
   "outputs": [
    {
     "name": "stdout",
     "output_type": "stream",
     "text": [
      "2500\n"
     ]
    }
   ],
   "source": [
    "print(sum(range(1, 101, 2)))"
   ]
  },
  {
   "cell_type": "code",
   "execution_count": 20,
   "id": "85200624",
   "metadata": {},
   "outputs": [
    {
     "name": "stdout",
     "output_type": "stream",
     "text": [
      "2550\n"
     ]
    }
   ],
   "source": [
    "# for i in range(0, 100, 2) :\n",
    "#     print(i)\n",
    "print(sum(range(0, 101, 2)))"
   ]
  },
  {
   "cell_type": "code",
   "execution_count": 22,
   "id": "b46450e9",
   "metadata": {},
   "outputs": [
    {
     "name": "stdout",
     "output_type": "stream",
     "text": [
      "5050\n"
     ]
    }
   ],
   "source": [
    "print(sum(range(1, 101, 1)))\n"
   ]
  },
  {
   "cell_type": "code",
   "execution_count": 40,
   "id": "f48ff149",
   "metadata": {},
   "outputs": [
    {
     "name": "stdout",
     "output_type": "stream",
     "text": [
      "Rye bread + Meatball + Lettuce + Mayonaise\n",
      "Rye bread + Meatball + Lettuce + Honey mustard\n",
      "Rye bread + Meatball + Lettuce + Chilli sauce\n",
      "Rye bread + Meatball + Tomato + Mayonaise\n",
      "Rye bread + Meatball + Tomato + Honey mustard\n",
      "Rye bread + Meatball + Tomato + Chilli sauce\n",
      "Rye bread + Meatball + Cucumber + Mayonaise\n",
      "Rye bread + Meatball + Cucumber + Honey mustard\n",
      "Rye bread + Meatball + Cucumber + Chilli sauce\n",
      "Rye bread + Sausage + Lettuce + Mayonaise\n",
      "Rye bread + Sausage + Lettuce + Honey mustard\n",
      "Rye bread + Sausage + Lettuce + Chilli sauce\n",
      "Rye bread + Sausage + Tomato + Mayonaise\n",
      "Rye bread + Sausage + Tomato + Honey mustard\n",
      "Rye bread + Sausage + Tomato + Chilli sauce\n",
      "Rye bread + Sausage + Cucumber + Mayonaise\n",
      "Rye bread + Sausage + Cucumber + Honey mustard\n",
      "Rye bread + Sausage + Cucumber + Chilli sauce\n",
      "Rye bread + Chicken breast + Lettuce + Mayonaise\n",
      "Rye bread + Chicken breast + Lettuce + Honey mustard\n",
      "Rye bread + Chicken breast + Lettuce + Chilli sauce\n",
      "Rye bread + Chicken breast + Tomato + Mayonaise\n",
      "Rye bread + Chicken breast + Tomato + Honey mustard\n",
      "Rye bread + Chicken breast + Tomato + Chilli sauce\n",
      "Rye bread + Chicken breast + Cucumber + Mayonaise\n",
      "Rye bread + Chicken breast + Cucumber + Honey mustard\n",
      "Rye bread + Chicken breast + Cucumber + Chilli sauce\n",
      "Wheat + Meatball + Lettuce + Mayonaise\n",
      "Wheat + Meatball + Lettuce + Honey mustard\n",
      "Wheat + Meatball + Lettuce + Chilli sauce\n",
      "Wheat + Meatball + Tomato + Mayonaise\n",
      "Wheat + Meatball + Tomato + Honey mustard\n",
      "Wheat + Meatball + Tomato + Chilli sauce\n",
      "Wheat + Meatball + Cucumber + Mayonaise\n",
      "Wheat + Meatball + Cucumber + Honey mustard\n",
      "Wheat + Meatball + Cucumber + Chilli sauce\n",
      "Wheat + Sausage + Lettuce + Mayonaise\n",
      "Wheat + Sausage + Lettuce + Honey mustard\n",
      "Wheat + Sausage + Lettuce + Chilli sauce\n",
      "Wheat + Sausage + Tomato + Mayonaise\n",
      "Wheat + Sausage + Tomato + Honey mustard\n",
      "Wheat + Sausage + Tomato + Chilli sauce\n",
      "Wheat + Sausage + Cucumber + Mayonaise\n",
      "Wheat + Sausage + Cucumber + Honey mustard\n",
      "Wheat + Sausage + Cucumber + Chilli sauce\n",
      "Wheat + Chicken breast + Lettuce + Mayonaise\n",
      "Wheat + Chicken breast + Lettuce + Honey mustard\n",
      "Wheat + Chicken breast + Lettuce + Chilli sauce\n",
      "Wheat + Chicken breast + Tomato + Mayonaise\n",
      "Wheat + Chicken breast + Tomato + Honey mustard\n",
      "Wheat + Chicken breast + Tomato + Chilli sauce\n",
      "Wheat + Chicken breast + Cucumber + Mayonaise\n",
      "Wheat + Chicken breast + Cucumber + Honey mustard\n",
      "Wheat + Chicken breast + Cucumber + Chilli sauce\n",
      "White + Meatball + Lettuce + Mayonaise\n",
      "White + Meatball + Lettuce + Honey mustard\n",
      "White + Meatball + Lettuce + Chilli sauce\n",
      "White + Meatball + Tomato + Mayonaise\n",
      "White + Meatball + Tomato + Honey mustard\n",
      "White + Meatball + Tomato + Chilli sauce\n",
      "White + Meatball + Cucumber + Mayonaise\n",
      "White + Meatball + Cucumber + Honey mustard\n",
      "White + Meatball + Cucumber + Chilli sauce\n",
      "White + Sausage + Lettuce + Mayonaise\n",
      "White + Sausage + Lettuce + Honey mustard\n",
      "White + Sausage + Lettuce + Chilli sauce\n",
      "White + Sausage + Tomato + Mayonaise\n",
      "White + Sausage + Tomato + Honey mustard\n",
      "White + Sausage + Tomato + Chilli sauce\n",
      "White + Sausage + Cucumber + Mayonaise\n",
      "White + Sausage + Cucumber + Honey mustard\n",
      "White + Sausage + Cucumber + Chilli sauce\n",
      "White + Chicken breast + Lettuce + Mayonaise\n",
      "White + Chicken breast + Lettuce + Honey mustard\n",
      "White + Chicken breast + Lettuce + Chilli sauce\n",
      "White + Chicken breast + Tomato + Mayonaise\n",
      "White + Chicken breast + Tomato + Honey mustard\n",
      "White + Chicken breast + Tomato + Chilli sauce\n",
      "White + Chicken breast + Cucumber + Mayonaise\n",
      "White + Chicken breast + Cucumber + Honey mustard\n",
      "White + Chicken breast + Cucumber + Chilli sauce\n",
      "81\n"
     ]
    }
   ],
   "source": [
    "breads = ['Rye bread', 'Wheat', 'White']\n",
    "meats = ['Meatball', 'Sausage', 'Chicken breast']\n",
    "vegetables = ['Lettuce', 'Tomato', 'Cucumber']\n",
    "sauces = ['Mayonaise', 'Honey mustard', 'Chilli sauce']\n",
    "\n",
    "count = 0\n",
    "for i in breads :\n",
    "    for j in meats :\n",
    "        for k in vegetables :\n",
    "            for l in sauces :\n",
    "                print(i, '+', j, '+', k, '+', l)\n",
    "                count +=1\n",
    "print(count) "
   ]
  },
  {
   "cell_type": "code",
   "execution_count": 1,
   "id": "d4e55382",
   "metadata": {},
   "outputs": [
    {
     "name": "stdout",
     "output_type": "stream",
     "text": [
      "enter integer: 5\n",
      "1\t2\t3\t4\t5\t\n",
      "10\t9\t8\t7\t6\t\n",
      "11\t12\t13\t14\t15\t\n",
      "20\t19\t18\t17\t16\t\n",
      "21\t22\t23\t24\t25\t\n"
     ]
    }
   ],
   "source": [
    "n = int(input('enter integer: '))\n",
    "count = 1\n",
    "for i in range(1, n + 1) :\n",
    "    if i % 2 == 1 :\n",
    "        for j in range(1, n + 1) :\n",
    "            print(count, end = '\\t')\n",
    "            count += 1\n",
    "    else:\n",
    "        for j in range(n, 0, -1) :\n",
    "            print(count + j -1, end = '\\t')\n",
    "        count += n\n",
    "    print()"
   ]
  },
  {
   "cell_type": "code",
   "execution_count": 7,
   "id": "b48eb32f",
   "metadata": {},
   "outputs": [
    {
     "name": "stdout",
     "output_type": "stream",
     "text": [
      "1\t2\t3\t4\t5\t\n",
      "6\t7\t8\t9\t10\t\n",
      "11\t12\t13\t14\t15\t\n",
      "16\t17\t18\t19\t20\t\n",
      "21\t22\t23\t24\t25\t\n"
     ]
    }
   ],
   "source": [
    "n=5\n",
    "count = 1\n",
    "for i in range(1, n + 1) :\n",
    "    for j in range(1, n + 1) :\n",
    "        print(count, end = '\\t')\n",
    "        count += 1\n",
    "    print()"
   ]
  },
  {
   "cell_type": "code",
   "execution_count": 12,
   "id": "b34aee0d",
   "metadata": {
    "scrolled": true
   },
   "outputs": [
    {
     "name": "stdout",
     "output_type": "stream",
     "text": [
      "(0, 0) (0, 1) (0, 2) (0, 3) (0, 4) \n",
      "(1, 0) (1, 1) (1, 2) (1, 3) (1, 4) \n",
      "(2, 0) (2, 1) (2, 2) (2, 3) (2, 4) \n",
      "(3, 0) (3, 1) (3, 2) (3, 3) (3, 4) \n",
      "(4, 0) (4, 1) (4, 2) (4, 3) (4, 4) \n"
     ]
    }
   ],
   "source": [
    "n = 5\n",
    "for i in range(n):\n",
    "    for j in range(n):\n",
    "        print(f'({i}, {j})', end=\" \")\n",
    "    print()"
   ]
  },
  {
   "cell_type": "code",
   "execution_count": 25,
   "id": "6ce4a8a6",
   "metadata": {},
   "outputs": [
    {
     "name": "stdout",
     "output_type": "stream",
     "text": [
      "enter table: 5\n",
      "1\t2\t3\t4\t5\t\n",
      "10\t9\t8\t7\t6\t\n",
      "11\t12\t13\t14\t15\t\n",
      "20\t19\t18\t17\t16\t\n",
      "21\t22\t23\t24\t25\t\n"
     ]
    }
   ],
   "source": [
    "n = int(input('enter table: '))\n",
    "count = 1\n",
    "for i in range(1, n + 1) :\n",
    "    if i % 2 == 1 :\n",
    "        for j in range(1, n + 1) :\n",
    "            print(count, end = '\\t')\n",
    "            count += 1\n",
    "    else :\n",
    "        for j in range(n, 0, -1) :\n",
    "            print(count + j -1, end = '\\t')\n",
    "        count += n\n",
    "    print()\n",
    "    \n",
    "#priority is from bottom to the top"
   ]
  }
 ],
 "metadata": {
  "kernelspec": {
   "display_name": "Python 3 (ipykernel)",
   "language": "python",
   "name": "python3"
  },
  "language_info": {
   "codemirror_mode": {
    "name": "ipython",
    "version": 3
   },
   "file_extension": ".py",
   "mimetype": "text/x-python",
   "name": "python",
   "nbconvert_exporter": "python",
   "pygments_lexer": "ipython3",
   "version": "3.10.9"
  }
 },
 "nbformat": 4,
 "nbformat_minor": 5
}
