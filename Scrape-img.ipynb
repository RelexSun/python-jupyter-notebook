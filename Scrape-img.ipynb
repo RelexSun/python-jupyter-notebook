{
 "cells": [
  {
   "cell_type": "code",
   "execution_count": 9,
   "id": "9e2fe67b-6ffe-467d-9ec2-1d6d1dfa0ae0",
   "metadata": {},
   "outputs": [
    {
     "name": "stdout",
     "output_type": "stream",
     "text": [
      "Downloaded: /Users/relexsun/Developer/SCHOOL/KFC_Clone/public/working/image_1.jpg\n",
      "Downloaded: /Users/relexsun/Developer/SCHOOL/KFC_Clone/public/working/image_2.jpg\n",
      "Downloaded: /Users/relexsun/Developer/SCHOOL/KFC_Clone/public/working/image_3.jpg\n",
      "Downloaded: /Users/relexsun/Developer/SCHOOL/KFC_Clone/public/working/image_4.jpg\n",
      "Downloaded: /Users/relexsun/Developer/SCHOOL/KFC_Clone/public/working/image_5.jpg\n",
      "Downloaded: /Users/relexsun/Developer/SCHOOL/KFC_Clone/public/working/image_6.jpg\n",
      "Downloaded: /Users/relexsun/Developer/SCHOOL/KFC_Clone/public/working/image_7.jpg\n",
      "Downloaded: /Users/relexsun/Developer/SCHOOL/KFC_Clone/public/working/image_8.jpg\n",
      "Downloaded: /Users/relexsun/Developer/SCHOOL/KFC_Clone/public/working/image_9.jpg\n",
      "Downloaded: /Users/relexsun/Developer/SCHOOL/KFC_Clone/public/working/image_10.jpg\n",
      "Downloaded: /Users/relexsun/Developer/SCHOOL/KFC_Clone/public/working/image_11.jpg\n",
      "Downloaded: /Users/relexsun/Developer/SCHOOL/KFC_Clone/public/working/image_12.jpg\n"
     ]
    }
   ],
   "source": [
    "import os\n",
    "import requests\n",
    "from bs4 import BeautifulSoup\n",
    "from urllib.parse import urljoin\n",
    "\n",
    "# Function to scrape and download images\n",
    "def scrape_images(url, folder=\"images\"):\n",
    "    try:\n",
    "        # Ensure the directory exists or create it\n",
    "        os.makedirs(folder, exist_ok=True)\n",
    "\n",
    "        # Send a GET request to the website\n",
    "        response = requests.get(url)\n",
    "        response.raise_for_status()\n",
    "\n",
    "        # Parse the HTML content\n",
    "        soup = BeautifulSoup(response.text, 'html.parser')\n",
    "\n",
    "        # Find all image tags\n",
    "        img_tags = soup.find_all('img')\n",
    "\n",
    "        for i, img in enumerate(img_tags, start=1):  # Enumerate for naming\n",
    "            img_url = img.get('src')\n",
    "            if img_url:\n",
    "                # Handle relative URLs\n",
    "                img_url = urljoin(url, img_url)\n",
    "\n",
    "                # Save image with sequential naming\n",
    "                filename = os.path.join(folder, f\"image_{i}.jpg\")\n",
    "\n",
    "                # Download the image\n",
    "                img_data = requests.get(img_url).content\n",
    "                with open(filename, 'wb') as f:\n",
    "                    f.write(img_data)\n",
    "                    print(f\"Downloaded: {filename}\")\n",
    "\n",
    "    except requests.exceptions.RequestException as e:\n",
    "        print(f\"An error occurred: {e}\")\n",
    "\n",
    "# Example usage\n",
    "target_url = \"https://careers.global.kfc.com/working-here\"  # Replace with the actual URL\n",
    "output_directory = \"/Users/relexsun/Developer/SCHOOL/KFC_Clone/public/working\"  # Specify your custom directory here\n",
    "scrape_images(target_url, output_directory)\n"
   ]
  }
 ],
 "metadata": {
  "kernelspec": {
   "display_name": "Python 3 (ipykernel)",
   "language": "python",
   "name": "python3"
  },
  "language_info": {
   "codemirror_mode": {
    "name": "ipython",
    "version": 3
   },
   "file_extension": ".py",
   "mimetype": "text/x-python",
   "name": "python",
   "nbconvert_exporter": "python",
   "pygments_lexer": "ipython3",
   "version": "3.11.5"
  }
 },
 "nbformat": 4,
 "nbformat_minor": 5
}
