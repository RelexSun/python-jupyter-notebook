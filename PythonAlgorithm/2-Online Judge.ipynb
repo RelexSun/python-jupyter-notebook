{
 "cells": [
  {
   "cell_type": "markdown",
   "id": "7517b655",
   "metadata": {},
   "source": [
    "# 1. Select an element from a set\n"
   ]
  },
  {
   "cell_type": "code",
   "execution_count": 12,
   "id": "1323767f",
   "metadata": {},
   "outputs": [
    {
     "name": "stdout",
     "output_type": "stream",
     "text": [
      "77 11\n",
      "266711567621704128000\n"
     ]
    }
   ],
   "source": [
    "# def fact(n) :\n",
    "#     if n <= 1 :\n",
    "#         return n\n",
    "#     else :\n",
    "#         return n * fact(n - 1)\n",
    "\n",
    "\n",
    "def fact(n) :\n",
    "    cnt = 1\n",
    "    while n != 0 :\n",
    "        cnt *= n\n",
    "        n -= 1\n",
    "    return cnt\n",
    "\n",
    "def perm(n, r) :\n",
    "        return fact(n) // fact(n-r)\n",
    "\n",
    "N, M = map(int, input().split())\n",
    "print(perm(N, M))"
   ]
  },
  {
   "cell_type": "markdown",
   "id": "dc03e45a",
   "metadata": {},
   "source": [
    "---"
   ]
  },
  {
   "cell_type": "markdown",
   "id": "c1e9d7ee",
   "metadata": {},
   "source": [
    "# 2. Least common multiple of multiple numbers"
   ]
  },
  {
   "cell_type": "code",
   "execution_count": 12,
   "id": "8d61b9f0",
   "metadata": {},
   "outputs": [
    {
     "name": "stdout",
     "output_type": "stream",
     "text": [
      "14549535\n"
     ]
    }
   ],
   "source": [
    "import math as m\n",
    "\n",
    "def lcm(n) :\n",
    "    if len(n) < 2 :\n",
    "        return n[0] if n == 1 else none\n",
    "    a = n[0]\n",
    "    for i in n[1:] :\n",
    "        a = (a * i) // m.gcd(a, i)\n",
    "    return a \n",
    "x = [1, 3, 5, 7, 9, 11, 13, 15, 17, 19]\n",
    "y = lcm(x)\n",
    "print(y)"
   ]
  },
  {
   "cell_type": "markdown",
   "id": "f1818269",
   "metadata": {},
   "source": [
    "---"
   ]
  },
  {
   "cell_type": "markdown",
   "id": "2b32082a",
   "metadata": {},
   "source": [
    "# 3. Collatz sequence"
   ]
  },
  {
   "cell_type": "code",
   "execution_count": 47,
   "id": "afd6d899",
   "metadata": {},
   "outputs": [
    {
     "name": "stdout",
     "output_type": "stream",
     "text": [
      "313\n",
      "131\n"
     ]
    }
   ],
   "source": [
    "def collatz(n) :\n",
    "    if n == 1 :\n",
    "        return [1]\n",
    "    elif n % 2 == 0 :\n",
    "        return [n] + collatz(n//2)\n",
    "    elif n % 2 == 1 :\n",
    "        return [n] + collatz(3*n+1)\n",
    "\n",
    "N, M = 123, 321\n",
    "c = 0\n",
    "for i in range(N, M+1) :\n",
    "    a = len(collatz(i))\n",
    "    if a > c :\n",
    "        c = a\n",
    "        lnum = i\n",
    "    \n",
    "# N, M = map(int, input().split())\n",
    "print(lnum)\n",
    "print(c)"
   ]
  },
  {
   "cell_type": "markdown",
   "id": "668865e5",
   "metadata": {},
   "source": [
    "---"
   ]
  },
  {
   "cell_type": "markdown",
   "id": "8e9e2b97",
   "metadata": {},
   "source": [
    "# 4. Triple Fibonacci sequence"
   ]
  },
  {
   "cell_type": "code",
   "execution_count": 21,
   "id": "08091159",
   "metadata": {},
   "outputs": [
    {
     "name": "stdout",
     "output_type": "stream",
     "text": [
      "20\n"
     ]
    }
   ],
   "source": [
    "def modified_fibonacci(n):\n",
    "    if n == 1:\n",
    "        return 1\n",
    "    elif n == 2:\n",
    "        return 2\n",
    "    elif n == 3:\n",
    "        return 3\n",
    "    \n",
    "    f_n_minus_1, f_n_minus_2, f_n_minus_3 = 3, 2, 1\n",
    "    \n",
    "    for i in range(4, n + 1):\n",
    "        f_n = (f_n_minus_1 + f_n_minus_2 + f_n_minus_3) % (2**32 - 1)\n",
    "        f_n_minus_3, f_n_minus_2, f_n_minus_1 = f_n_minus_2, f_n_minus_1, f_n\n",
    "    \n",
    "    return f_n\n",
    "\n",
    "n = 6\n",
    "result = modified_fibonacci(n)\n",
    "print(result)\n"
   ]
  },
  {
   "cell_type": "markdown",
   "id": "080f27bc",
   "metadata": {},
   "source": [
    "---"
   ]
  },
  {
   "cell_type": "markdown",
   "id": "1c8b590b",
   "metadata": {},
   "source": [
    "# 5. Ackermann function"
   ]
  },
  {
   "cell_type": "code",
   "execution_count": 44,
   "id": "9f143bd3",
   "metadata": {},
   "outputs": [
    {
     "name": "stdout",
     "output_type": "stream",
     "text": [
      "61\n",
      "2432\n"
     ]
    }
   ],
   "source": [
    "def A(n, m, cnt = 0) :\n",
    "    \n",
    "    if n == 0 :\n",
    "        cnt += 1\n",
    "        result, cnt = m + 1, cnt\n",
    "        return result, cnt\n",
    "    \n",
    "    elif n > 0 and m == 0 :\n",
    "        cnt += 1\n",
    "        result, cnt = A(n - 1, 1, cnt) \n",
    "        return result, cnt\n",
    "    \n",
    "    elif n > 0 and m > 0 :\n",
    "        cnt += 1\n",
    "        result, cnt = A(n, m - 1, cnt)\n",
    "        result, cnt = A(n - 1, result, cnt) \n",
    "        return result, cnt\n",
    "    \n",
    "        \n",
    "a, cnt = A(3, 3)\n",
    "print(a)\n",
    "print(cnt)"
   ]
  },
  {
   "cell_type": "markdown",
   "id": "7a1d6007",
   "metadata": {},
   "source": [
    "----"
   ]
  },
  {
   "cell_type": "markdown",
   "id": "4d960f16",
   "metadata": {},
   "source": [
    "# 6.  Operation process of Factorial"
   ]
  },
  {
   "cell_type": "code",
   "execution_count": 87,
   "id": "42351d10",
   "metadata": {},
   "outputs": [
    {
     "name": "stdout",
     "output_type": "stream",
     "text": [
      "1*2*3*4\n"
     ]
    }
   ],
   "source": [
    "def fact(n):\n",
    "    if n <= 1:\n",
    "        return str(n)\n",
    "    else:\n",
    "        b = str(n) + '*' + fact(n - 1)\n",
    "        return b\n",
    "\n",
    "result = fact(4)\n",
    "print(result[::-1])"
   ]
  },
  {
   "cell_type": "markdown",
   "id": "49eb9f89",
   "metadata": {},
   "source": [
    "---"
   ]
  },
  {
   "cell_type": "markdown",
   "id": "2ac010c9",
   "metadata": {},
   "source": [
    "# 7-8. Factorial"
   ]
  },
  {
   "cell_type": "code",
   "execution_count": 90,
   "id": "de8e88c5",
   "metadata": {},
   "outputs": [
    {
     "name": "stdout",
     "output_type": "stream",
     "text": [
      "6!=(1*2*3*4*5*6)=720\n"
     ]
    }
   ],
   "source": [
    "def fact7(n):\n",
    "    if n <= 1:\n",
    "        return str(n)\n",
    "    else:\n",
    "        b = str(n) + '*' + fact7(n - 1)\n",
    "        return b\n",
    "    \n",
    "def factin(n):\n",
    "    if n <= 1:\n",
    "        return n\n",
    "    else:\n",
    "        return n * factin(n - 1)\n",
    "\n",
    "    \n",
    "print(f\"{6}!=({fact7(6)[::-1]})={factin(6)}\")"
   ]
  },
  {
   "cell_type": "markdown",
   "id": "34921c6a",
   "metadata": {},
   "source": [
    "---"
   ]
  },
  {
   "cell_type": "markdown",
   "id": "f88800d8",
   "metadata": {},
   "source": [
    "# 9. Collatz sequence(2)\n"
   ]
  },
  {
   "cell_type": "code",
   "execution_count": 2,
   "id": "ac5d61c0",
   "metadata": {},
   "outputs": [
    {
     "name": "stdout",
     "output_type": "stream",
     "text": [
      "4\n"
     ]
    }
   ],
   "source": [
    "def collatz(n) :\n",
    "    if n == 1 :\n",
    "        return [1]\n",
    "    elif n % 2 == 0 :\n",
    "        return [n] + collatz(n//2)\n",
    "    elif n % 2 == 1 :\n",
    "        return [n] + collatz((n//2)+1)\n",
    "    \n",
    "print(len(collatz(10))-1)"
   ]
  },
  {
   "cell_type": "markdown",
   "id": "ff01f2fe",
   "metadata": {},
   "source": [
    "---"
   ]
  },
  {
   "cell_type": "markdown",
   "id": "f265cc1b",
   "metadata": {},
   "source": [
    "# 10. Hailstone Sequence"
   ]
  },
  {
   "cell_type": "code",
   "execution_count": 8,
   "id": "48a9222c",
   "metadata": {},
   "outputs": [
    {
     "name": "stdout",
     "output_type": "stream",
     "text": [
      "16\n"
     ]
    }
   ],
   "source": [
    "def collat(n) :\n",
    "    if n == 1 :\n",
    "        return [1]\n",
    "    elif n % 2 == 0 :\n",
    "        return [n] + collat(n//2)\n",
    "    elif n % 2 == 1 :\n",
    "        return [n] + collat(3*n+1)\n",
    "print(max(collat(3)))"
   ]
  },
  {
   "cell_type": "markdown",
   "id": "ab9185ea",
   "metadata": {},
   "source": [
    "---"
   ]
  },
  {
   "cell_type": "markdown",
   "id": "398316d3",
   "metadata": {},
   "source": [
    "# 11. Fibonacci numbers"
   ]
  },
  {
   "cell_type": "code",
   "execution_count": 13,
   "id": "038adf61",
   "metadata": {},
   "outputs": [
    {
     "data": {
      "text/plain": [
       "8"
      ]
     },
     "execution_count": 13,
     "metadata": {},
     "output_type": "execute_result"
    }
   ],
   "source": [
    "def fib11(n) :\n",
    "    if n == 1 or n == 2 :\n",
    "        return 1\n",
    "    else :\n",
    "        return fib11(n -1) + fib11(n-2)\n",
    "print(fib11(6))"
   ]
  },
  {
   "cell_type": "markdown",
   "id": "42756fa0",
   "metadata": {},
   "source": [
    "---"
   ]
  },
  {
   "cell_type": "markdown",
   "id": "785f372a",
   "metadata": {},
   "source": [
    "# 12. A magical box and gold coins"
   ]
  },
  {
   "cell_type": "code",
   "execution_count": 27,
   "id": "b41e6829",
   "metadata": {},
   "outputs": [
    {
     "data": {
      "text/plain": [
       "1"
      ]
     },
     "execution_count": 27,
     "metadata": {},
     "output_type": "execute_result"
    }
   ],
   "source": [
    "def coin(n) :\n",
    "    if n == 1 or n == 2 :\n",
    "        return 1\n",
    "    elif n % 2 == 0 :\n",
    "        return n "
   ]
  },
  {
   "cell_type": "markdown",
   "id": "6caa0df5",
   "metadata": {},
   "source": [
    "---"
   ]
  },
  {
   "cell_type": "markdown",
   "id": "a18b9db9",
   "metadata": {},
   "source": [
    "---"
   ]
  },
  {
   "cell_type": "markdown",
   "id": "eb7917f5",
   "metadata": {},
   "source": [
    "# 13. The sum from 0 to n using a loop\n"
   ]
  },
  {
   "cell_type": "code",
   "execution_count": 29,
   "id": "a127a513",
   "metadata": {},
   "outputs": [
    {
     "name": "stdout",
     "output_type": "stream",
     "text": [
      "100\n",
      "5050\n"
     ]
    }
   ],
   "source": [
    "n = int(input())\n",
    "summ = 0\n",
    "for i in range(1, n + 1) :\n",
    "    summ += i\n",
    "print(summ)"
   ]
  },
  {
   "cell_type": "code",
   "execution_count": 31,
   "id": "3036500c",
   "metadata": {},
   "outputs": [
    {
     "name": "stdout",
     "output_type": "stream",
     "text": [
      "5050\n"
     ]
    }
   ],
   "source": [
    "def loop(n) :\n",
    "    summ = 0\n",
    "    for i in range(1, n + 1) :\n",
    "        summ += i\n",
    "    return summ\n",
    "print(loop(100))"
   ]
  },
  {
   "cell_type": "markdown",
   "id": "fb6b96ad",
   "metadata": {},
   "source": [
    "---"
   ]
  },
  {
   "cell_type": "markdown",
   "id": "95edeea1",
   "metadata": {},
   "source": [
    "# 14. Print from 0 to n using a recursive call\n",
    " "
   ]
  },
  {
   "cell_type": "code",
   "execution_count": 39,
   "id": "a38c98cb",
   "metadata": {},
   "outputs": [
    {
     "name": "stdout",
     "output_type": "stream",
     "text": [
      "0\n",
      "1\n",
      "2\n",
      "3\n",
      "4\n",
      "5\n",
      "6\n",
      "7\n",
      "8\n",
      "9\n",
      "10\n",
      "11\n",
      "12\n",
      "13\n",
      "14\n",
      "15\n",
      "16\n",
      "17\n",
      "18\n",
      "19\n",
      "20\n"
     ]
    }
   ],
   "source": [
    "def count(n, m = 0) :\n",
    "    if n >= m :\n",
    "        print(m)\n",
    "        count(n, m + 1)\n",
    "        \n",
    "count(20)"
   ]
  },
  {
   "cell_type": "markdown",
   "id": "18e78892",
   "metadata": {},
   "source": [
    "---"
   ]
  },
  {
   "cell_type": "markdown",
   "id": "e34f2d00",
   "metadata": {},
   "source": [
    "# 15. Print from 0 to n using a loop\n"
   ]
  },
  {
   "cell_type": "code",
   "execution_count": 40,
   "id": "dcf5e8d7",
   "metadata": {},
   "outputs": [
    {
     "name": "stdout",
     "output_type": "stream",
     "text": [
      "1\n",
      "2\n",
      "3\n",
      "4\n",
      "5\n",
      "6\n",
      "7\n",
      "8\n",
      "9\n",
      "10\n",
      "11\n",
      "12\n",
      "13\n",
      "14\n",
      "15\n",
      "16\n",
      "17\n",
      "18\n",
      "19\n",
      "20\n"
     ]
    }
   ],
   "source": [
    "for i in range(1, 21) :\n",
    "    print(i)"
   ]
  },
  {
   "cell_type": "code",
   "execution_count": 48,
   "id": "a488e672",
   "metadata": {},
   "outputs": [
    {
     "name": "stdout",
     "output_type": "stream",
     "text": [
      "1\n",
      "2\n",
      "3\n",
      "4\n",
      "5\n",
      "6\n",
      "7\n",
      "8\n",
      "9\n",
      "10\n",
      "11\n",
      "12\n",
      "13\n",
      "14\n",
      "15\n",
      "16\n",
      "17\n",
      "18\n",
      "19\n",
      "20\n"
     ]
    }
   ],
   "source": [
    "n = 20\n",
    "a = 20\n",
    "while n != 0:\n",
    "    print(a - (n - 1))\n",
    "    n -= 1"
   ]
  },
  {
   "cell_type": "markdown",
   "id": "aa8e2f17",
   "metadata": {},
   "source": [
    "---"
   ]
  },
  {
   "cell_type": "markdown",
   "id": "42feed32",
   "metadata": {},
   "source": [
    "# 16. Print from n to 1 using recursive calls"
   ]
  },
  {
   "cell_type": "code",
   "execution_count": 68,
   "id": "4947a011",
   "metadata": {},
   "outputs": [
    {
     "name": "stdout",
     "output_type": "stream",
     "text": [
      "10 9 8 7 6 5 4 3 2 1 "
     ]
    }
   ],
   "source": [
    "def haha(n, m = 10) :\n",
    "    if n >= m and m != 0:\n",
    "        print(m, end=\" \")\n",
    "        haha(n, m - 1)\n",
    "        \n",
    "haha(10)"
   ]
  },
  {
   "cell_type": "markdown",
   "id": "813c9870",
   "metadata": {},
   "source": [
    "---"
   ]
  },
  {
   "cell_type": "markdown",
   "id": "48535420",
   "metadata": {},
   "source": [
    "# 17. Use loops to calculate and output factorials"
   ]
  },
  {
   "cell_type": "code",
   "execution_count": 150,
   "id": "2fbb7472",
   "metadata": {},
   "outputs": [
    {
     "name": "stdout",
     "output_type": "stream",
     "text": [
      "1! =                    1\n",
      "2! =                    2\n",
      "3! =                    6\n",
      "4! =                   24\n",
      "5! =                  120\n",
      "6! =                  720\n",
      "7! =                 5040\n",
      "8! =                40320\n",
      "9! =               362880\n",
      "10! =             3628800\n",
      "11! =            39916800\n",
      "12! =           479001600\n",
      "13! =          6227020800\n",
      "14! =         87178291200\n",
      "15! =       1307674368000\n",
      "16! =      20922789888000\n",
      "17! =     355687428096000\n",
      "18! =    6402373705728000\n",
      "19! =  121645100408832000\n",
      "20! = 2432902008176640000\n"
     ]
    }
   ],
   "source": [
    "n = 20\n",
    "a = 1\n",
    "for i in range(1, n + 1) :\n",
    "    a *= i\n",
    "    if i < 10 : \n",
    "        s = \" \" * ((n) - len(str(a)))\n",
    "    else :\n",
    "        s = \" \" * (n - len(str(a))-1)\n",
    "    \n",
    "    print(f\"{i}! = {s}{a}\")"
   ]
  },
  {
   "cell_type": "markdown",
   "id": "64022e16",
   "metadata": {},
   "source": [
    "---"
   ]
  },
  {
   "cell_type": "markdown",
   "id": "6d721bf7",
   "metadata": {},
   "source": [
    "# 18. "
   ]
  },
  {
   "cell_type": "code",
   "execution_count": 140,
   "id": "bf2cb341",
   "metadata": {},
   "outputs": [
    {
     "name": "stdout",
     "output_type": "stream",
     "text": [
      "-------------------*\n",
      "------------------***\n",
      "-----------------*****\n",
      "----------------*******\n",
      "---------------*********\n",
      "--------------***********\n",
      "-------------*************\n",
      "------------***************\n",
      "-----------*****************\n",
      "----------*******************\n",
      "---------*********************\n",
      "--------***********************\n",
      "-------*************************\n",
      "------***************************\n",
      "-----*****************************\n",
      "----*******************************\n",
      "---*********************************\n",
      "--***********************************\n",
      "-*************************************\n",
      "***************************************\n",
      "                   |\n"
     ]
    }
   ],
   "source": [
    "def print_christmas_tree(height):\n",
    "    for i in range(1, height + 1):\n",
    "        spaces = \"-\" * (height - i)\n",
    "        stars = \"*\" * (2 * i - 1)\n",
    "        print(spaces + stars)\n",
    "    \n",
    "    trunk_space = \" \" * (height - 1)\n",
    "    print(trunk_space + \"|\")\n",
    "\n",
    "\n",
    "height = 20\n",
    "\n",
    "print_christmas_tree(height)\n"
   ]
  },
  {
   "cell_type": "markdown",
   "id": "a9452086",
   "metadata": {},
   "source": [
    "---"
   ]
  },
  {
   "cell_type": "markdown",
   "id": "c36ee48c",
   "metadata": {},
   "source": [
    "# 19. Print the alphabet using a loop\n"
   ]
  },
  {
   "cell_type": "code",
   "execution_count": 5,
   "id": "0d7a9465",
   "metadata": {
    "scrolled": true
   },
   "outputs": [
    {
     "name": "stdout",
     "output_type": "stream",
     "text": [
      "A B C D E F G H I J K L M N O P Q R S T U V W X Y Z\n",
      "A B C D E F G H I J K L M N O P Q R S T U V W X Y\n",
      "A B C D E F G H I J K L M N O P Q R S T U V W X\n",
      "A B C D E F G H I J K L M N O P Q R S T U V W\n",
      "A B C D E F G H I J K L M N O P Q R S T U V\n",
      "A B C D E F G H I J K L M N O P Q R S T U\n",
      "A B C D E F G H I J K L M N O P Q R S T\n",
      "A B C D E F G H I J K L M N O P Q R S\n",
      "A B C D E F G H I J K L M N O P Q R\n",
      "A B C D E F G H I J K L M N O P Q\n",
      "A B C D E F G H I J K L M N O P\n",
      "A B C D E F G H I J K L M N O\n",
      "A B C D E F G H I J K L M N\n",
      "A B C D E F G H I J K L M\n",
      "A B C D E F G H I J K L\n",
      "A B C D E F G H I J K\n",
      "A B C D E F G H I J\n",
      "A B C D E F G H I\n",
      "A B C D E F G H\n",
      "A B C D E F G\n",
      "A B C D E F\n",
      "A B C D E\n",
      "A B C D\n",
      "A B C\n",
      "A B\n",
      "A\n"
     ]
    }
   ],
   "source": [
    "lst = []\n",
    "for i in range(97, 123) :\n",
    "    lst.append(chr(i).upper())\n",
    "    \n",
    "def alpha(n) :\n",
    "    for i in range(len(n), 0, -1) :\n",
    "        print(*n[:i])\n",
    "\n",
    "alpha(lst)"
   ]
  },
  {
   "cell_type": "markdown",
   "id": "84dabbd9",
   "metadata": {},
   "source": [
    "---"
   ]
  },
  {
   "cell_type": "markdown",
   "id": "2d60a2c8",
   "metadata": {},
   "source": [
    "# 21. Program that reverses the numbers"
   ]
  },
  {
   "cell_type": "code",
   "execution_count": 196,
   "id": "3649b3db",
   "metadata": {},
   "outputs": [
    {
     "name": "stdout",
     "output_type": "stream",
     "text": [
      "9 7 2 4 8 4 3\n"
     ]
    }
   ],
   "source": [
    "n = 3484279\n",
    "a = \" \".join(str(n))\n",
    "print(a[::-1])"
   ]
  },
  {
   "cell_type": "markdown",
   "id": "c97a4445",
   "metadata": {},
   "source": [
    "---"
   ]
  },
  {
   "cell_type": "markdown",
   "id": "126ec633",
   "metadata": {},
   "source": [
    "# 22. The Euclidean algorithm"
   ]
  },
  {
   "cell_type": "code",
   "execution_count": 208,
   "id": "ba79c31e",
   "metadata": {},
   "outputs": [
    {
     "name": "stdout",
     "output_type": "stream",
     "text": [
      "8\n"
     ]
    }
   ],
   "source": [
    "a, b = 24, 64\n",
    "\n",
    "while b != 0 :\n",
    "    a, b = b, a % b\n",
    "    \n",
    "print(a)\n",
    "    \n",
    "    "
   ]
  },
  {
   "cell_type": "code",
   "execution_count": 201,
   "id": "505c0f58",
   "metadata": {},
   "outputs": [
    {
     "data": {
      "text/plain": [
       "8"
      ]
     },
     "execution_count": 201,
     "metadata": {},
     "output_type": "execute_result"
    }
   ],
   "source": [
    "def gcd(n, m) :\n",
    "    if m == 0 :\n",
    "        return n\n",
    "    else :\n",
    "        return gcd(m, n % m)\n",
    "    \n",
    "gcd(24, 64)"
   ]
  },
  {
   "cell_type": "markdown",
   "id": "76c0a6ef",
   "metadata": {},
   "source": [
    "---\n"
   ]
  },
  {
   "cell_type": "markdown",
   "id": "9a2e8f2f",
   "metadata": {},
   "source": [
    "# 23. Find the number of triangles"
   ]
  },
  {
   "cell_type": "code",
   "execution_count": 209,
   "id": "daaae341",
   "metadata": {},
   "outputs": [
    {
     "name": "stdout",
     "output_type": "stream",
     "text": [
      "1\n",
      "2\n",
      "3\n",
      "4\n",
      "5\n",
      "6\n",
      "7\n",
      "8\n",
      "9\n",
      "10\n"
     ]
    }
   ],
   "source": [
    "n = 10 \n",
    "for i in range(1, n + 1) :\n",
    "    print(i)"
   ]
  },
  {
   "cell_type": "markdown",
   "id": "6e39045d",
   "metadata": {},
   "source": [
    "---"
   ]
  },
  {
   "cell_type": "markdown",
   "id": "3bd57bff",
   "metadata": {},
   "source": [
    "# 24. The Euclidean algorithm(2)"
   ]
  },
  {
   "cell_type": "code",
   "execution_count": 8,
   "id": "d2340dc2",
   "metadata": {},
   "outputs": [
    {
     "name": "stdout",
     "output_type": "stream",
     "text": [
      "84 and 60: 12\n"
     ]
    }
   ],
   "source": [
    "def gcd24(n, m) :\n",
    "    if m == 0 :\n",
    "        return n\n",
    "    else :\n",
    "        return gcd24(m, n % m)\n",
    "    \n",
    "print(\"84 and 60:\", gcd24(84, 60))"
   ]
  },
  {
   "cell_type": "markdown",
   "id": "23ee3f3c",
   "metadata": {},
   "source": [
    "---"
   ]
  },
  {
   "cell_type": "markdown",
   "id": "7dee6c39",
   "metadata": {},
   "source": [
    "# 25. Ax + By = C\n"
   ]
  },
  {
   "cell_type": "code",
   "execution_count": 12,
   "id": "38fc95f7",
   "metadata": {},
   "outputs": [
    {
     "name": "stdout",
     "output_type": "stream",
     "text": [
      "1 2 3\n",
      "3 0\n"
     ]
    }
   ],
   "source": [
    "a, b, c = input().split()\n",
    "a, b, c = int(a), int(b), int(c)\n",
    "\n",
    "if a + b == c :\n",
    "    print(c, 0)\n",
    "else :\n",
    "    print(-1)\n",
    "    "
   ]
  },
  {
   "cell_type": "markdown",
   "id": "205e4f1c",
   "metadata": {},
   "source": [
    "---"
   ]
  },
  {
   "cell_type": "markdown",
   "id": "da4cec89",
   "metadata": {},
   "source": [
    "# 26. Greatest common divisor of A and B"
   ]
  },
  {
   "cell_type": "code",
   "execution_count": 22,
   "id": "91e32d2e",
   "metadata": {},
   "outputs": [
    {
     "name": "stdout",
     "output_type": "stream",
     "text": [
      "111\n"
     ]
    }
   ],
   "source": [
    "def gcd24(n, m) :\n",
    "    if m == 0 :\n",
    "        return n\n",
    "    else :\n",
    "        return gcd24(m, n % m)\n",
    "    \n",
    "print(\"1\" * gcd24(3, 6))\n"
   ]
  },
  {
   "cell_type": "code",
   "execution_count": null,
   "id": "a4ea60fd",
   "metadata": {},
   "outputs": [],
   "source": []
  },
  {
   "cell_type": "code",
   "execution_count": null,
   "id": "b6516d71",
   "metadata": {},
   "outputs": [],
   "source": []
  },
  {
   "cell_type": "code",
   "execution_count": null,
   "id": "13965f75",
   "metadata": {},
   "outputs": [],
   "source": []
  },
  {
   "cell_type": "code",
   "execution_count": null,
   "id": "bf0e776c",
   "metadata": {},
   "outputs": [],
   "source": []
  },
  {
   "cell_type": "code",
   "execution_count": null,
   "id": "35e40796",
   "metadata": {},
   "outputs": [],
   "source": []
  }
 ],
 "metadata": {
  "kernelspec": {
   "display_name": "Python 3 (ipykernel)",
   "language": "python",
   "name": "python3"
  },
  "language_info": {
   "codemirror_mode": {
    "name": "ipython",
    "version": 3
   },
   "file_extension": ".py",
   "mimetype": "text/x-python",
   "name": "python",
   "nbconvert_exporter": "python",
   "pygments_lexer": "ipython3",
   "version": "3.10.9"
  }
 },
 "nbformat": 4,
 "nbformat_minor": 5
}
