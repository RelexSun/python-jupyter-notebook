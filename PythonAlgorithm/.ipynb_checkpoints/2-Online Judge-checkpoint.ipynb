{
 "cells": [
  {
   "cell_type": "markdown",
   "id": "7517b655",
   "metadata": {},
   "source": [
    "# 1. Select an element from a set\n"
   ]
  },
  {
   "cell_type": "code",
   "execution_count": 12,
   "id": "1323767f",
   "metadata": {},
   "outputs": [
    {
     "name": "stdout",
     "output_type": "stream",
     "text": [
      "77 11\n",
      "266711567621704128000\n"
     ]
    }
   ],
   "source": [
    "# def fact(n) :\n",
    "#     if n <= 1 :\n",
    "#         return n\n",
    "#     else :\n",
    "#         return n * fact(n - 1)\n",
    "\n",
    "\n",
    "def fact(n) :\n",
    "    cnt = 1\n",
    "    while n != 0 :\n",
    "        cnt *= n\n",
    "        n -= 1\n",
    "    return cnt\n",
    "\n",
    "def perm(n, r) :\n",
    "        return fact(n) // fact(n-r)\n",
    "\n",
    "N, M = map(int, input().split())\n",
    "print(perm(N, M))"
   ]
  },
  {
   "cell_type": "markdown",
   "id": "dc03e45a",
   "metadata": {},
   "source": [
    "---"
   ]
  },
  {
   "cell_type": "markdown",
   "id": "c1e9d7ee",
   "metadata": {},
   "source": [
    "# 2. Least common multiple of multiple numbers"
   ]
  },
  {
   "cell_type": "code",
   "execution_count": 12,
   "id": "8d61b9f0",
   "metadata": {},
   "outputs": [
    {
     "name": "stdout",
     "output_type": "stream",
     "text": [
      "14549535\n"
     ]
    }
   ],
   "source": [
    "import math as m\n",
    "\n",
    "def lcm(n) :\n",
    "    if len(n) < 2 :\n",
    "        return n[0] if n == 1 else none\n",
    "    a = n[0]\n",
    "    for i in n[1:] :\n",
    "        a = (a * i) // m.gcd(a, i)\n",
    "    return a \n",
    "x = [1, 3, 5, 7, 9, 11, 13, 15, 17, 19]\n",
    "y = lcm(x)\n",
    "print(y)"
   ]
  },
  {
   "cell_type": "markdown",
   "id": "f1818269",
   "metadata": {},
   "source": [
    "---"
   ]
  },
  {
   "cell_type": "markdown",
   "id": "2b32082a",
   "metadata": {},
   "source": [
    "# 3. Collatz sequence"
   ]
  },
  {
   "cell_type": "code",
   "execution_count": 47,
   "id": "afd6d899",
   "metadata": {},
   "outputs": [
    {
     "name": "stdout",
     "output_type": "stream",
     "text": [
      "313\n",
      "131\n"
     ]
    }
   ],
   "source": [
    "def collatz(n) :\n",
    "    if n == 1 :\n",
    "        return [1]\n",
    "    elif n % 2 == 0 :\n",
    "        return [n] + collatz(n//2)\n",
    "    elif n % 2 == 1 :\n",
    "        return [n] + collatz(3*n+1)\n",
    "\n",
    "N, M = 123, 321\n",
    "c = 0\n",
    "for i in range(N, M+1) :\n",
    "    a = len(collatz(i))\n",
    "    if a > c :\n",
    "        c = a\n",
    "        lnum = i\n",
    "    \n",
    "# N, M = map(int, input().split())\n",
    "print(lnum)\n",
    "print(c)"
   ]
  },
  {
   "cell_type": "markdown",
   "id": "668865e5",
   "metadata": {},
   "source": [
    "---"
   ]
  },
  {
   "cell_type": "markdown",
   "id": "8e9e2b97",
   "metadata": {},
   "source": [
    "# 4. Triple Fibonacci sequence"
   ]
  },
  {
   "cell_type": "code",
   "execution_count": 21,
   "id": "08091159",
   "metadata": {},
   "outputs": [
    {
     "name": "stdout",
     "output_type": "stream",
     "text": [
      "20\n"
     ]
    }
   ],
   "source": [
    "def modified_fibonacci(n):\n",
    "    if n == 1:\n",
    "        return 1\n",
    "    elif n == 2:\n",
    "        return 2\n",
    "    elif n == 3:\n",
    "        return 3\n",
    "    \n",
    "    f_n_minus_1, f_n_minus_2, f_n_minus_3 = 3, 2, 1\n",
    "    \n",
    "    for i in range(4, n + 1):\n",
    "        f_n = (f_n_minus_1 + f_n_minus_2 + f_n_minus_3) % (2**32 - 1)\n",
    "        f_n_minus_3, f_n_minus_2, f_n_minus_1 = f_n_minus_2, f_n_minus_1, f_n\n",
    "    \n",
    "    return f_n\n",
    "\n",
    "n = 6\n",
    "result = modified_fibonacci(n)\n",
    "print(result)\n"
   ]
  },
  {
   "cell_type": "markdown",
   "id": "080f27bc",
   "metadata": {},
   "source": [
    "---"
   ]
  },
  {
   "cell_type": "markdown",
   "id": "1c8b590b",
   "metadata": {},
   "source": [
    "# 5. Ackermann function"
   ]
  },
  {
   "cell_type": "code",
   "execution_count": 44,
   "id": "9f143bd3",
   "metadata": {},
   "outputs": [
    {
     "name": "stdout",
     "output_type": "stream",
     "text": [
      "61\n",
      "2432\n"
     ]
    }
   ],
   "source": [
    "def A(n, m, cnt = 0) :\n",
    "    \n",
    "    if n == 0 :\n",
    "        cnt += 1\n",
    "        result, cnt = m + 1, cnt\n",
    "        return result, cnt\n",
    "    \n",
    "    elif n > 0 and m == 0 :\n",
    "        cnt += 1\n",
    "        result, cnt = A(n - 1, 1, cnt) \n",
    "        return result, cnt\n",
    "    \n",
    "    elif n > 0 and m > 0 :\n",
    "        cnt += 1\n",
    "        result, cnt = A(n, m - 1, cnt)\n",
    "        result, cnt = A(n - 1, result, cnt) \n",
    "        return result, cnt\n",
    "    \n",
    "        \n",
    "a, cnt = A(3, 3)\n",
    "print(a)\n",
    "print(cnt)"
   ]
  },
  {
   "cell_type": "markdown",
   "id": "7a1d6007",
   "metadata": {},
   "source": [
    "----"
   ]
  },
  {
   "cell_type": "markdown",
   "id": "4d960f16",
   "metadata": {},
   "source": [
    "# 6.  Operation process of Factorial"
   ]
  },
  {
   "cell_type": "code",
   "execution_count": 87,
   "id": "42351d10",
   "metadata": {},
   "outputs": [
    {
     "name": "stdout",
     "output_type": "stream",
     "text": [
      "1*2*3*4\n"
     ]
    }
   ],
   "source": [
    "def fact(n):\n",
    "    if n <= 1:\n",
    "        return str(n)\n",
    "    else:\n",
    "        b = str(n) + '*' + fact(n - 1)\n",
    "        return b\n",
    "\n",
    "result = fact(4)\n",
    "print(result[::-1])"
   ]
  },
  {
   "cell_type": "markdown",
   "id": "49eb9f89",
   "metadata": {},
   "source": [
    "---"
   ]
  },
  {
   "cell_type": "markdown",
   "id": "2ac010c9",
   "metadata": {},
   "source": [
    "# 7. Factorial"
   ]
  },
  {
   "cell_type": "code",
   "execution_count": 90,
   "id": "de8e88c5",
   "metadata": {},
   "outputs": [
    {
     "name": "stdout",
     "output_type": "stream",
     "text": [
      "6!=(1*2*3*4*5*6)=720\n"
     ]
    }
   ],
   "source": [
    "def fact7(n):\n",
    "    if n <= 1:\n",
    "        return str(n)\n",
    "    else:\n",
    "        b = str(n) + '*' + fact7(n - 1)\n",
    "        return b\n",
    "    \n",
    "def factin(n):\n",
    "    if n <= 1:\n",
    "        return n\n",
    "    else:\n",
    "        return n * factin(n - 1)\n",
    "\n",
    "    \n",
    "print(f\"{6}!=({fact7(6)[::-1]})={factin(6)}\")"
   ]
  },
  {
   "cell_type": "markdown",
   "id": "34921c6a",
   "metadata": {},
   "source": [
    "---"
   ]
  },
  {
   "cell_type": "markdown",
   "id": "f88800d8",
   "metadata": {},
   "source": [
    "# 8. Collatz sequence(2)\n"
   ]
  },
  {
   "cell_type": "code",
   "execution_count": 115,
   "id": "091bbc98",
   "metadata": {},
   "outputs": [
    {
     "name": "stdout",
     "output_type": "stream",
     "text": [
      "6\n"
     ]
    }
   ],
   "source": [
    "def collatz8(n) :\n",
    "    cnt = 0\n",
    "    while n != 1 :\n",
    "        if n % 2 == 0 :\n",
    "            n = n//2\n",
    "        else :\n",
    "            n =(3*n)+1\n",
    "        cnt += 1\n",
    "    return cnt\n",
    "    \n",
    "print(collatz8(10))"
   ]
  },
  {
   "cell_type": "code",
   "execution_count": 116,
   "id": "a867549d",
   "metadata": {},
   "outputs": [
    {
     "name": "stdout",
     "output_type": "stream",
     "text": [
      "6\n"
     ]
    }
   ],
   "source": [
    "def collatz_sequence(n):\n",
    "    count = 0\n",
    "    while True:\n",
    "        if n % 2 == 0:\n",
    "            n = n // 2\n",
    "        else:\n",
    "            n = (n * 3) + 1\n",
    "        count += 1\n",
    "    return count\n",
    "\n",
    "# Example usage\n",
    "n = 10\n",
    "operations = collatz_sequence(n)\n",
    "print(operations)\n"
   ]
  },
  {
   "cell_type": "code",
   "execution_count": 118,
   "id": "ac5d61c0",
   "metadata": {},
   "outputs": [
    {
     "data": {
      "text/plain": [
       "[10, 5, 16, 8, 4, 2, 1]"
      ]
     },
     "execution_count": 118,
     "metadata": {},
     "output_type": "execute_result"
    }
   ],
   "source": [
    "def collatz(n) :\n",
    "    if n == 1 :\n",
    "        return [1]\n",
    "    elif n % 2 == 0 :\n",
    "        return [n] + collatz(n//2)\n",
    "    elif n % 2 == 1 :\n",
    "        return [n] + collatz(3*n+1)\n",
    "collatz(10)"
   ]
  },
  {
   "cell_type": "code",
   "execution_count": null,
   "id": "2dbc6ca4",
   "metadata": {},
   "outputs": [],
   "source": []
  },
  {
   "cell_type": "code",
   "execution_count": null,
   "id": "10aa38bc",
   "metadata": {},
   "outputs": [],
   "source": []
  },
  {
   "cell_type": "code",
   "execution_count": null,
   "id": "8edaadd5",
   "metadata": {},
   "outputs": [],
   "source": []
  },
  {
   "cell_type": "code",
   "execution_count": null,
   "id": "0a33f45d",
   "metadata": {},
   "outputs": [],
   "source": []
  },
  {
   "cell_type": "code",
   "execution_count": null,
   "id": "e0f4af64",
   "metadata": {},
   "outputs": [],
   "source": []
  },
  {
   "cell_type": "code",
   "execution_count": null,
   "id": "038adf61",
   "metadata": {},
   "outputs": [],
   "source": []
  },
  {
   "cell_type": "code",
   "execution_count": null,
   "id": "78cef391",
   "metadata": {},
   "outputs": [],
   "source": []
  },
  {
   "cell_type": "code",
   "execution_count": null,
   "id": "85731f11",
   "metadata": {},
   "outputs": [],
   "source": []
  },
  {
   "cell_type": "code",
   "execution_count": null,
   "id": "1cbf7669",
   "metadata": {},
   "outputs": [],
   "source": []
  },
  {
   "cell_type": "code",
   "execution_count": null,
   "id": "24bfa56a",
   "metadata": {},
   "outputs": [],
   "source": []
  },
  {
   "cell_type": "code",
   "execution_count": null,
   "id": "405cbda8",
   "metadata": {},
   "outputs": [],
   "source": []
  },
  {
   "cell_type": "code",
   "execution_count": null,
   "id": "22561c76",
   "metadata": {},
   "outputs": [],
   "source": []
  },
  {
   "cell_type": "code",
   "execution_count": null,
   "id": "d693b2c5",
   "metadata": {},
   "outputs": [],
   "source": []
  },
  {
   "cell_type": "code",
   "execution_count": null,
   "id": "fb398023",
   "metadata": {},
   "outputs": [],
   "source": []
  },
  {
   "cell_type": "code",
   "execution_count": null,
   "id": "cc809abf",
   "metadata": {},
   "outputs": [],
   "source": []
  },
  {
   "cell_type": "code",
   "execution_count": null,
   "id": "a127a513",
   "metadata": {},
   "outputs": [],
   "source": []
  },
  {
   "cell_type": "code",
   "execution_count": null,
   "id": "32fdc334",
   "metadata": {},
   "outputs": [],
   "source": []
  },
  {
   "cell_type": "code",
   "execution_count": null,
   "id": "2fbb7472",
   "metadata": {},
   "outputs": [],
   "source": []
  },
  {
   "cell_type": "code",
   "execution_count": null,
   "id": "c774e6e6",
   "metadata": {},
   "outputs": [],
   "source": []
  },
  {
   "cell_type": "code",
   "execution_count": null,
   "id": "97cd2d15",
   "metadata": {},
   "outputs": [],
   "source": []
  }
 ],
 "metadata": {
  "kernelspec": {
   "display_name": "Python 3 (ipykernel)",
   "language": "python",
   "name": "python3"
  },
  "language_info": {
   "codemirror_mode": {
    "name": "ipython",
    "version": 3
   },
   "file_extension": ".py",
   "mimetype": "text/x-python",
   "name": "python",
   "nbconvert_exporter": "python",
   "pygments_lexer": "ipython3",
   "version": "3.10.9"
  }
 },
 "nbformat": 4,
 "nbformat_minor": 5
}
