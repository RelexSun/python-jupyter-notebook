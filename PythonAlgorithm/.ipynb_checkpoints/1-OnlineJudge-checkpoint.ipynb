{
 "cells": [
  {
   "cell_type": "markdown",
   "id": "09d52de7",
   "metadata": {},
   "source": [
    "# 1. Sum of all natural numbers"
   ]
  },
  {
   "cell_type": "code",
   "execution_count": 12,
   "id": "f2ae7294",
   "metadata": {
    "scrolled": true
   },
   "outputs": [
    {
     "name": "stdout",
     "output_type": "stream",
     "text": [
      "1 100\n"
     ]
    },
    {
     "data": {
      "text/plain": [
       "5049.0"
      ]
     },
     "execution_count": 12,
     "metadata": {},
     "output_type": "execute_result"
    }
   ],
   "source": [
    "def suum(n, m) :\n",
    "    return ((m - n)*(m + n + 1))/2\n",
    "\n",
    "a, b = map(int, input().split())\n",
    "\n",
    "suum(a, b)       "
   ]
  },
  {
   "cell_type": "code",
   "execution_count": 7,
   "id": "0b259ba6",
   "metadata": {},
   "outputs": [
    {
     "data": {
      "text/plain": [
       "5050"
      ]
     },
     "execution_count": 7,
     "metadata": {},
     "output_type": "execute_result"
    }
   ],
   "source": [
    "sum(range(1, 101))"
   ]
  },
  {
   "cell_type": "markdown",
   "id": "52a5f3c5",
   "metadata": {},
   "source": [
    "---"
   ]
  },
  {
   "cell_type": "markdown",
   "id": "bdf4cea3",
   "metadata": {},
   "source": [
    "# 2. Find minimum value"
   ]
  },
  {
   "cell_type": "code",
   "execution_count": 21,
   "id": "051973ee",
   "metadata": {},
   "outputs": [
    {
     "name": "stdout",
     "output_type": "stream",
     "text": [
      "1987 123 4567 89\n",
      "141 16\n"
     ]
    }
   ],
   "source": [
    "import random\n",
    "SEED, MIN, MAX, N = map(int, input().split())\n",
    "random.seed(SEED)\n",
    "S = random.sample(range(MIN, MAX), N)\n",
    "\n",
    "def solve(n, s) :\n",
    "    minn, minI = s[0], 0\n",
    "    for i in range(1, n) :\n",
    "        if minn > s[i] :\n",
    "            minn, minI = s[i], i\n",
    "    return minn, minI\n",
    "\n",
    "# N = int(input())\n",
    "# S = list(map(int, input().split()))\n",
    "minn, minI = solve(N, S)\n",
    "print(minn, minI)"
   ]
  },
  {
   "cell_type": "markdown",
   "id": "35f02bf3",
   "metadata": {},
   "source": [
    "---"
   ]
  },
  {
   "cell_type": "markdown",
   "id": "e92fa582",
   "metadata": {},
   "source": [
    "# 3. Sum of all divisors of N"
   ]
  },
  {
   "cell_type": "code",
   "execution_count": 32,
   "id": "a8bade24",
   "metadata": {},
   "outputs": [
    {
     "name": "stdout",
     "output_type": "stream",
     "text": [
      "8\n",
      "15\n"
     ]
    }
   ],
   "source": [
    "def sum1(n) :\n",
    "    a = int(n**0.5)\n",
    "    cnt = 0\n",
    "    for i in range(1, a + 1) :\n",
    "        if n % i == 0 :\n",
    "            cnt += i + n // i\n",
    "    return cnt\n",
    "\n",
    "N = int(input())\n",
    "print(sum1(N))"
   ]
  },
  {
   "cell_type": "markdown",
   "id": "545190ef",
   "metadata": {},
   "source": [
    "---"
   ]
  },
  {
   "cell_type": "markdown",
   "id": "c49c8a27",
   "metadata": {},
   "source": [
    "# 4. Find Prime numbers"
   ]
  },
  {
   "cell_type": "code",
   "execution_count": 37,
   "id": "8ea63a8e",
   "metadata": {},
   "outputs": [
    {
     "name": "stdout",
     "output_type": "stream",
     "text": [
      "2147483647 4294967295\n",
      "4294967291 4294967279 4294967231 4294967197 4294967189\n"
     ]
    }
   ],
   "source": [
    "def prime(n) :\n",
    "    if n < 2 :\n",
    "        return False\n",
    "    if n == 2 :\n",
    "        return True\n",
    "    if n % 2 == 0 :\n",
    "        return False\n",
    "    for i in range(2, int(n**0.5) + 1) :\n",
    "        if n % i == 0 :\n",
    "            return False\n",
    "    return True\n",
    "    \n",
    "def All_prime(n, m) :\n",
    "    lst = []\n",
    "    for i in range(m, n - 1, -1) :\n",
    "        if prime(i) :\n",
    "            lst.append(i)\n",
    "        if len(lst) == 5 :\n",
    "            break\n",
    "    return lst\n",
    "\n",
    "N, M = map(int, input().split())\n",
    "a = All_prime(N, M)\n",
    "\n",
    "print(*a)"
   ]
  },
  {
   "cell_type": "markdown",
   "id": "8b79b836",
   "metadata": {},
   "source": [
    "---"
   ]
  },
  {
   "cell_type": "markdown",
   "id": "d57d8d97",
   "metadata": {},
   "source": [
    "# 5. Odd Pyramid"
   ]
  },
  {
   "cell_type": "code",
   "execution_count": 58,
   "id": "e3064229",
   "metadata": {},
   "outputs": [
    {
     "name": "stdout",
     "output_type": "stream",
     "text": [
      "1234567\n",
      "580763573142020329536784\n"
     ]
    }
   ],
   "source": [
    "n = int(input())\n",
    "cnt = 0\n",
    "for i in range(1, n + 1) :\n",
    "    cnt += i**3\n",
    "print(cnt)"
   ]
  },
  {
   "cell_type": "markdown",
   "id": "fbe9d41f",
   "metadata": {},
   "source": [
    "---"
   ]
  },
  {
   "cell_type": "markdown",
   "id": "420038da",
   "metadata": {},
   "source": [
    "# 6. Find the sum of all divisors"
   ]
  },
  {
   "cell_type": "code",
   "execution_count": 34,
   "id": "5b82e276",
   "metadata": {},
   "outputs": [
    {
     "name": "stdout",
     "output_type": "stream",
     "text": [
      "20\n",
      "42\n"
     ]
    }
   ],
   "source": [
    "def sum1(n) :\n",
    "    cnt = 0\n",
    "    for i in range(1, int(n**0.5) + 1) :\n",
    "        if n % i == 0 :\n",
    "            cnt += i + n // i\n",
    "    return cnt\n",
    "\n",
    "N = int(input())\n",
    "print(sum1(N))   "
   ]
  },
  {
   "cell_type": "markdown",
   "id": "da556b2a",
   "metadata": {},
   "source": [
    "---"
   ]
  },
  {
   "cell_type": "markdown",
   "id": "6d8c46d2",
   "metadata": {},
   "source": [
    "# 7. Find the Kth smallest prime number"
   ]
  },
  {
   "cell_type": "code",
   "execution_count": 1,
   "id": "656bc50b",
   "metadata": {},
   "outputs": [
    {
     "name": "stdout",
     "output_type": "stream",
     "text": [
      "1 10 3\n",
      "10\n",
      "5\n"
     ]
    }
   ],
   "source": []
  },
  {
   "cell_type": "markdown",
   "id": "4f1c70b0",
   "metadata": {},
   "source": [
    "---"
   ]
  },
  {
   "cell_type": "markdown",
   "id": "b505e1b4",
   "metadata": {},
   "source": [
    "# 8. Twin Primes"
   ]
  },
  {
   "cell_type": "code",
   "execution_count": 79,
   "id": "30efad97",
   "metadata": {},
   "outputs": [
    {
     "name": "stdout",
     "output_type": "stream",
     "text": [
      "3 5\n",
      "5 7\n",
      "2\n"
     ]
    }
   ],
   "source": [
    "n = 10\n",
    "lst = []\n",
    "\n",
    "for i in range(1, n + 1):\n",
    "    cnt = 0\n",
    "    for j in range(1, i + 1):\n",
    "        if i % j == 0:\n",
    "            cnt += 1\n",
    "    if cnt == 2:\n",
    "        lst.append(i)\n",
    "\n",
    "def twin_prime(param):\n",
    "    cnt = 0\n",
    "\n",
    "    for i in range(len(param) - 1):\n",
    "        if param[i + 1] - param[i] == 2:\n",
    "            print(param[i], param[i + 1])\n",
    "            cnt += 1\n",
    "\n",
    "    print(cnt)\n",
    "\n",
    "twin_prime(lst)\n"
   ]
  },
  {
   "cell_type": "markdown",
   "id": "6f194844",
   "metadata": {},
   "source": [
    "---"
   ]
  },
  {
   "cell_type": "markdown",
   "id": "2f7905fc",
   "metadata": {},
   "source": [
    "# 9. Mersenne number"
   ]
  },
  {
   "cell_type": "code",
   "execution_count": 85,
   "id": "22dbaa16",
   "metadata": {},
   "outputs": [
    {
     "name": "stdout",
     "output_type": "stream",
     "text": [
      "3\n",
      "7\n",
      "31\n"
     ]
    }
   ],
   "source": [
    "n = int(input())\n",
    "for i in range(1, n + 1):\n",
    "    cnt = 0\n",
    "    for j in range(1, i + 1):\n",
    "        if i % j == 0:\n",
    "            cnt += 1\n",
    "    if cnt == 2:\n",
    "        a = 2**i - 1\n",
    "        if a < n :\n",
    "            print(a)\n",
    "        "
   ]
  },
  {
   "cell_type": "markdown",
   "id": "d5f1eb96",
   "metadata": {},
   "source": [
    "---"
   ]
  },
  {
   "cell_type": "markdown",
   "id": "deda1d45",
   "metadata": {},
   "source": [
    "# 10. Check whether natural number 'n' or not"
   ]
  },
  {
   "cell_type": "code",
   "execution_count": 31,
   "id": "6bb82697",
   "metadata": {},
   "outputs": [
    {
     "name": "stdout",
     "output_type": "stream",
     "text": [
      "12 is a composite number.\n",
      "\n",
      "710 is a composite number.\n",
      "\n",
      "7 is prime number.\n",
      "\n",
      "257 is prime number.\n",
      "\n",
      "319 is a composite number.\n",
      "\n"
     ]
    }
   ],
   "source": [
    "def prime10(n) :\n",
    "    if n <= 1 :\n",
    "        return False\n",
    "    for i in range(2, int(n**0.5) + 1) :\n",
    "        if n % i == 0 :\n",
    "            return False\n",
    "    return True\n",
    "\n",
    "def solve(n) :\n",
    "    for i in n :\n",
    "        if prime10(i) :\n",
    "            print(i, 'is prime number.')\n",
    "        else :\n",
    "            print(i, 'is a composite number.')\n",
    "        print()\n",
    "            \n",
    "lst2 = [int(input()) for _ in range(5)]\n",
    "# lst2 = [12, 710, 7, 257, 319]\n",
    "solve(lst)"
   ]
  },
  {
   "cell_type": "markdown",
   "id": "18a4af01",
   "metadata": {},
   "source": [
    "---"
   ]
  },
  {
   "cell_type": "markdown",
   "id": "29b06c70",
   "metadata": {},
   "source": [
    "# 11. Find divisors of number 'n'"
   ]
  },
  {
   "cell_type": "code",
   "execution_count": 43,
   "id": "2650619b",
   "metadata": {},
   "outputs": [
    {
     "name": "stdout",
     "output_type": "stream",
     "text": [
      "211224\n",
      "1\n",
      "2\n",
      "3\n",
      "4\n",
      "6\n",
      "8\n",
      "12\n",
      "13\n",
      "24\n",
      "26\n",
      "39\n",
      "52\n",
      "78\n",
      "104\n",
      "156\n",
      "312\n",
      "677\n",
      "1354\n",
      "2031\n",
      "2708\n",
      "4062\n",
      "5416\n",
      "8124\n",
      "8801\n",
      "16248\n",
      "17602\n",
      "26403\n",
      "35204\n",
      "52806\n",
      "70408\n",
      "105612\n",
      "211224\n"
     ]
    }
   ],
   "source": [
    "\n",
    "def prime10(n) :\n",
    "    if n <= 1 :\n",
    "        return False\n",
    "    for i in range(2, int(n**0.5) + 1) :\n",
    "        if n % i == 0 :\n",
    "            return False\n",
    "    return True\n",
    "def div(n) :\n",
    "    for i in range(1, s11 + 1) :\n",
    "        if n % i == 0 :\n",
    "            print(i)\n",
    "            \n",
    "s11 = int(input()) \n",
    "# s11 = 211224\n",
    "\n",
    "a = div(s11)\n",
    "if prime10(s11) :\n",
    "    print(a)"
   ]
  },
  {
   "cell_type": "markdown",
   "id": "5666d92b",
   "metadata": {},
   "source": [
    "---"
   ]
  },
  {
   "cell_type": "markdown",
   "id": "c701620e",
   "metadata": {},
   "source": [
    "# 12. Sort numbers in ascending order"
   ]
  },
  {
   "cell_type": "code",
   "execution_count": 49,
   "id": "9d8be89d",
   "metadata": {},
   "outputs": [
    {
     "name": "stdout",
     "output_type": "stream",
     "text": [
      "10\n",
      "Numbers of operations 1\n",
      "Numbers of operations 2\n",
      "Numbers of operations 3\n",
      "Numbers of operations 4\n",
      "Numbers of operations 5\n",
      "Numbers of operations 6\n",
      "Numbers of operations 7\n",
      "Numbers of operations 8\n",
      "Numbers of operations 9\n",
      "Numbers of operations 10\n"
     ]
    }
   ],
   "source": [
    "\n",
    "# n = 10\n",
    "def hmm(n) :\n",
    "    for i in range(1, n+1) :\n",
    "        print(\"Numbers of operations\", i)\n",
    "\n",
    "N = int(input())\n",
    "hmm(N)"
   ]
  },
  {
   "cell_type": "markdown",
   "id": "a4f3f931",
   "metadata": {},
   "source": [
    "---"
   ]
  },
  {
   "cell_type": "markdown",
   "id": "ca24e181",
   "metadata": {},
   "source": [
    "# 13. All prime numbers between two numbers"
   ]
  },
  {
   "cell_type": "code",
   "execution_count": 54,
   "id": "37bba392",
   "metadata": {},
   "outputs": [
    {
     "name": "stdout",
     "output_type": "stream",
     "text": [
      "12 24\n",
      "13\n",
      "17\n",
      "19\n",
      "23\n"
     ]
    }
   ],
   "source": [
    "def prime13(n) :\n",
    "    if n <= 1 :\n",
    "        return False\n",
    "    for i in range(2, n) :\n",
    "        if n % i == 0 :\n",
    "            return False\n",
    "    return True\n",
    "\n",
    "def haha(n, m) :\n",
    "    for i in range(n, m + 1) :\n",
    "        if prime13(i) :\n",
    "            print(i)\n",
    "N, M = input().split()\n",
    "\n",
    "haha(int(N), int(M))"
   ]
  },
  {
   "cell_type": "markdown",
   "id": "5d5e3efd",
   "metadata": {},
   "source": [
    "---"
   ]
  },
  {
   "cell_type": "markdown",
   "id": "c00fd786",
   "metadata": {},
   "source": [
    "# 14. Find 'almost prime'"
   ]
  },
  {
   "cell_type": "code",
   "execution_count": 62,
   "id": "528fb1df",
   "metadata": {},
   "outputs": [
    {
     "name": "stdout",
     "output_type": "stream",
     "text": [
      "[0]\n"
     ]
    }
   ],
   "source": [
    "def prime14(n) :\n",
    "    if n <= 1 :\n",
    "        return False\n",
    "    for i in range(2, n) :\n",
    "        if n % i == 0 :\n",
    "            return False\n",
    "    return True\n",
    "\n",
    "\n",
    "def lol(n, m) :\n",
    "    lst = []\n",
    "    for i in range(n, m + 1) :\n",
    "        if prime14(i) :\n",
    "            lst.append(i)\n",
    "    return lst\n",
    "\n",
    "xD = lol(1, 1000)\n",
    "a = []\n",
    "for i in range(len(xD) - 1) :\n",
    "    if xD[i + 1] - xD[i] == 1 :\n",
    "        a.append(i)\n",
    "        \n",
    "print(a)"
   ]
  },
  {
   "cell_type": "code",
   "execution_count": null,
   "id": "f9bb717b",
   "metadata": {},
   "outputs": [],
   "source": []
  },
  {
   "cell_type": "code",
   "execution_count": null,
   "id": "ef74e4d2",
   "metadata": {},
   "outputs": [],
   "source": []
  }
 ],
 "metadata": {
  "kernelspec": {
   "display_name": "Python 3 (ipykernel)",
   "language": "python",
   "name": "python3"
  },
  "language_info": {
   "codemirror_mode": {
    "name": "ipython",
    "version": 3
   },
   "file_extension": ".py",
   "mimetype": "text/x-python",
   "name": "python",
   "nbconvert_exporter": "python",
   "pygments_lexer": "ipython3",
   "version": "3.10.9"
  }
 },
 "nbformat": 4,
 "nbformat_minor": 5
}
