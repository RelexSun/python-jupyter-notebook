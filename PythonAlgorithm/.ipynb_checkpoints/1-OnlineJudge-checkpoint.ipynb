{
 "cells": [
  {
   "cell_type": "markdown",
   "id": "09d52de7",
   "metadata": {},
   "source": [
    "# 1. Sum of all natural numbers"
   ]
  },
  {
   "cell_type": "code",
   "execution_count": 12,
   "id": "f2ae7294",
   "metadata": {
    "scrolled": true
   },
   "outputs": [
    {
     "name": "stdout",
     "output_type": "stream",
     "text": [
      "1 100\n"
     ]
    },
    {
     "data": {
      "text/plain": [
       "5049.0"
      ]
     },
     "execution_count": 12,
     "metadata": {},
     "output_type": "execute_result"
    }
   ],
   "source": [
    "def suum(n, m) :\n",
    "    return ((m - n)*(m + n + 1))/2\n",
    "\n",
    "a, b = map(int, input().split())\n",
    "\n",
    "suum(a, b)       "
   ]
  },
  {
   "cell_type": "code",
   "execution_count": 7,
   "id": "0b259ba6",
   "metadata": {},
   "outputs": [
    {
     "data": {
      "text/plain": [
       "5050"
      ]
     },
     "execution_count": 7,
     "metadata": {},
     "output_type": "execute_result"
    }
   ],
   "source": [
    "sum(range(1, 101))"
   ]
  },
  {
   "cell_type": "markdown",
   "id": "52a5f3c5",
   "metadata": {},
   "source": [
    "---"
   ]
  },
  {
   "cell_type": "markdown",
   "id": "bdf4cea3",
   "metadata": {},
   "source": [
    "# 2. Find minimum value"
   ]
  },
  {
   "cell_type": "code",
   "execution_count": 21,
   "id": "051973ee",
   "metadata": {},
   "outputs": [
    {
     "name": "stdout",
     "output_type": "stream",
     "text": [
      "1987 123 4567 89\n",
      "141 16\n"
     ]
    }
   ],
   "source": [
    "import random\n",
    "SEED, MIN, MAX, N = map(int, input().split())\n",
    "random.seed(SEED)\n",
    "S = random.sample(range(MIN, MAX), N)\n",
    "\n",
    "def solve(n, s) :\n",
    "    minn, minI = s[0], 0\n",
    "    for i in range(1, n) :\n",
    "        if minn > s[i] :\n",
    "            minn, minI = s[i], i\n",
    "    return minn, minI\n",
    "\n",
    "# N = int(input())\n",
    "# S = list(map(int, input().split()))\n",
    "minn, minI = solve(N, S)\n",
    "print(minn, minI)"
   ]
  },
  {
   "cell_type": "markdown",
   "id": "35f02bf3",
   "metadata": {},
   "source": [
    "---"
   ]
  },
  {
   "cell_type": "markdown",
   "id": "e92fa582",
   "metadata": {},
   "source": [
    "# 3. Sum of all divisors of N"
   ]
  },
  {
   "cell_type": "code",
   "execution_count": null,
   "id": "a8bade24",
   "metadata": {},
   "outputs": [],
   "source": [
    "def sum1(n) :\n",
    "    a = int(n**0.5)\n",
    "    cnt = 0\n",
    "    for i in range(1, a + 1) :\n",
    "        if n % i == 0 :\n",
    "            cnt += i + n // i\n",
    "    return cnt\n",
    "\n",
    "N = int(input())\n",
    "print(sum1(N))"
   ]
  },
  {
   "cell_type": "markdown",
   "id": "545190ef",
   "metadata": {},
   "source": [
    "---"
   ]
  },
  {
   "cell_type": "markdown",
   "id": "c49c8a27",
   "metadata": {},
   "source": [
    "# 4. Find Prime numbers"
   ]
  },
  {
   "cell_type": "code",
   "execution_count": 37,
   "id": "8ea63a8e",
   "metadata": {},
   "outputs": [
    {
     "name": "stdout",
     "output_type": "stream",
     "text": [
      "2147483647 4294967295\n",
      "4294967291 4294967279 4294967231 4294967197 4294967189\n"
     ]
    }
   ],
   "source": [
    "def prime(n) :\n",
    "    if n < 2 :\n",
    "        return False\n",
    "    if n == 2 :\n",
    "        return True\n",
    "    if n % 2 == 0 :\n",
    "        return False\n",
    "    for i in range(2, int(n**0.5) + 1) :\n",
    "        if n % i == 0 :\n",
    "            return False\n",
    "    return True\n",
    "    \n",
    "def All_prime(n, m) :\n",
    "    lst = []\n",
    "    for i in range(m, n - 1, -1) :\n",
    "        if prime(i) :\n",
    "            lst.append(i)\n",
    "        if len(lst) == 5 :\n",
    "            break\n",
    "    return lst\n",
    "\n",
    "N, M = map(int, input().split())\n",
    "a = All_prime(N, M)\n",
    "\n",
    "print(*a)"
   ]
  },
  {
   "cell_type": "markdown",
   "id": "8b79b836",
   "metadata": {},
   "source": [
    "---"
   ]
  },
  {
   "cell_type": "markdown",
   "id": "d57d8d97",
   "metadata": {},
   "source": [
    "# 5. Odd Pyramid"
   ]
  },
  {
   "cell_type": "code",
   "execution_count": 58,
   "id": "e3064229",
   "metadata": {},
   "outputs": [
    {
     "name": "stdout",
     "output_type": "stream",
     "text": [
      "1234567\n",
      "580763573142020329536784\n"
     ]
    }
   ],
   "source": [
    "n = int(input())\n",
    "cnt = 0\n",
    "for i in range(1, n + 1) :\n",
    "    cnt += i**3\n",
    "print(cnt)"
   ]
  },
  {
   "cell_type": "markdown",
   "id": "fbe9d41f",
   "metadata": {},
   "source": [
    "---"
   ]
  },
  {
   "cell_type": "markdown",
   "id": "420038da",
   "metadata": {},
   "source": [
    "# 6. Find the sum of all divisors"
   ]
  },
  {
   "cell_type": "code",
   "execution_count": 95,
   "id": "5b82e276",
   "metadata": {},
   "outputs": [
    {
     "name": "stdout",
     "output_type": "stream",
     "text": [
      "20\n",
      "42\n"
     ]
    }
   ],
   "source": [
    "def sum1(n) :\n",
    "    a = int(n**0.5)\n",
    "    cnt = 0\n",
    "    for i in range(1, a + 1) :\n",
    "        if n % i == 0 :\n",
    "            cnt += i + n // i\n",
    "    return cnt\n",
    "\n",
    "N = int(input())\n",
    "print(sum1(N))   "
   ]
  },
  {
   "cell_type": "markdown",
   "id": "da556b2a",
   "metadata": {},
   "source": [
    "---"
   ]
  },
  {
   "cell_type": "markdown",
   "id": "6d8c46d2",
   "metadata": {},
   "source": [
    "# 7. Find the Kth smallest prime number"
   ]
  },
  {
   "cell_type": "code",
   "execution_count": 1,
   "id": "656bc50b",
   "metadata": {},
   "outputs": [
    {
     "name": "stdout",
     "output_type": "stream",
     "text": [
      "1 10 3\n",
      "10\n",
      "5\n"
     ]
    }
   ],
   "source": []
  },
  {
   "cell_type": "markdown",
   "id": "cca8e5fc",
   "metadata": {},
   "source": [
    "---"
   ]
  },
  {
   "cell_type": "markdown",
   "id": "55c49282",
   "metadata": {},
   "source": [
    "# 8 Twin Primes"
   ]
  },
  {
   "cell_type": "code",
   "execution_count": 23,
   "id": "6e03c43e",
   "metadata": {},
   "outputs": [
    {
     "data": {
      "text/plain": [
       "True"
      ]
     },
     "execution_count": 23,
     "metadata": {},
     "output_type": "execute_result"
    }
   ],
   "source": [
    "def prime(n) :\n",
    "    if n == 2 :\n",
    "        return True\n",
    "    \n",
    "    if n % 2 == 0 :\n",
    "        return False\n",
    "    \n",
    "    if n < 2 :\n",
    "        return False \n",
    "    for i in range(2, int(n**0.5) + 1) :\n",
    "        if n % i == 0 :\n",
    "            return False\n",
    "    return True\n",
    "\n",
    "def twin_prime(n) :\n",
    "    \n",
    "    \n",
    "    "
   ]
  },
  {
   "cell_type": "code",
   "execution_count": 70,
   "id": "30efad97",
   "metadata": {},
   "outputs": [
    {
     "name": "stdout",
     "output_type": "stream",
     "text": [
      "[3, 5] [5, 7] [11, 13] [17, 19] [29, 31] [41, 43] [59, 61] [71, 73] [101, 103] [107, 109] [137, 139] [149, 151] [179, 181] [191, 193] [197, 199] [227, 229] [239, 241] [269, 271] [281, 283] [311, 313] [347, 349] [419, 421] [431, 433] [461, 463] [521, 523] [569, 571] [599, 601] [617, 619] [641, 643] [659, 661] [809, 811] [821, 823] [827, 829] [857, 859] [881, 883]\n",
      "(None, 35)\n"
     ]
    }
   ],
   "source": [
    "n = 1000\n",
    "lst = []\n",
    "for i in range(1, n + 1) :\n",
    "    cnt = 0\n",
    "    for j in range(1, i + 1) :\n",
    "        if i % j == 0 :\n",
    "            cnt += 1\n",
    "    if cnt == 2 :\n",
    "        lst.append(i)\n",
    "        \n",
    "def twin_prime(param) :\n",
    "    cnt = 0\n",
    "    lst = []\n",
    "    \n",
    "    while True :\n",
    "        for i in range(len(param) - 1) :\n",
    "            if param[i+1] - param[i] == 2 :\n",
    "                cnt += 1\n",
    "                a = [param[i], param[i + 1]]\n",
    "                lst.append(a)\n",
    "        break\n",
    "    \n",
    "    return print(*lst), cnt\n",
    "    \n",
    "a = twin_prime(lst)\n",
    "print(a)"
   ]
  },
  {
   "cell_type": "code",
   "execution_count": 25,
   "id": "f7247d25",
   "metadata": {},
   "outputs": [
    {
     "data": {
      "text/plain": [
       "2"
      ]
     },
     "execution_count": 25,
     "metadata": {},
     "output_type": "execute_result"
    }
   ],
   "source": [
    "lst = [2, 3, 5, 7]\n",
    "\n",
    "lst[0]"
   ]
  },
  {
   "cell_type": "code",
   "execution_count": 36,
   "id": "40cdb3a8",
   "metadata": {},
   "outputs": [
    {
     "name": "stdout",
     "output_type": "stream",
     "text": [
      "range(0, 3)\n"
     ]
    }
   ],
   "source": [
    "print(range(len(lst) - 1))"
   ]
  },
  {
   "cell_type": "code",
   "execution_count": null,
   "id": "6a62bda2",
   "metadata": {},
   "outputs": [],
   "source": []
  },
  {
   "cell_type": "code",
   "execution_count": null,
   "id": "b3289e39",
   "metadata": {},
   "outputs": [],
   "source": []
  },
  {
   "cell_type": "code",
   "execution_count": null,
   "id": "6bb82697",
   "metadata": {},
   "outputs": [],
   "source": []
  },
  {
   "cell_type": "code",
   "execution_count": null,
   "id": "528fb1df",
   "metadata": {},
   "outputs": [],
   "source": []
  },
  {
   "cell_type": "code",
   "execution_count": null,
   "id": "f9bb717b",
   "metadata": {},
   "outputs": [],
   "source": []
  },
  {
   "cell_type": "code",
   "execution_count": null,
   "id": "ef74e4d2",
   "metadata": {},
   "outputs": [],
   "source": []
  }
 ],
 "metadata": {
  "kernelspec": {
   "display_name": "Python 3 (ipykernel)",
   "language": "python",
   "name": "python3"
  },
  "language_info": {
   "codemirror_mode": {
    "name": "ipython",
    "version": 3
   },
   "file_extension": ".py",
   "mimetype": "text/x-python",
   "name": "python",
   "nbconvert_exporter": "python",
   "pygments_lexer": "ipython3",
   "version": "3.10.9"
  }
 },
 "nbformat": 4,
 "nbformat_minor": 5
}
