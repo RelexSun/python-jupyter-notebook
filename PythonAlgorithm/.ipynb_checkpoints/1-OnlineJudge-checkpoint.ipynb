{
 "cells": [
  {
   "cell_type": "markdown",
   "id": "09d52de7",
   "metadata": {},
   "source": [
    "# 1. Sum of all natural numbers"
   ]
  },
  {
   "cell_type": "code",
   "execution_count": 12,
   "id": "f2ae7294",
   "metadata": {
    "scrolled": true
   },
   "outputs": [
    {
     "name": "stdout",
     "output_type": "stream",
     "text": [
      "1 100\n"
     ]
    },
    {
     "data": {
      "text/plain": [
       "5049.0"
      ]
     },
     "execution_count": 12,
     "metadata": {},
     "output_type": "execute_result"
    }
   ],
   "source": [
    "def suum(n, m) :\n",
    "    return ((m - n)*(m + n + 1))/2\n",
    "\n",
    "a, b = map(int, input().split())\n",
    "\n",
    "suum(a, b)       "
   ]
  },
  {
   "cell_type": "code",
   "execution_count": 7,
   "id": "0b259ba6",
   "metadata": {},
   "outputs": [
    {
     "data": {
      "text/plain": [
       "5050"
      ]
     },
     "execution_count": 7,
     "metadata": {},
     "output_type": "execute_result"
    }
   ],
   "source": [
    "sum(range(1, 101))"
   ]
  },
  {
   "cell_type": "code",
   "execution_count": null,
   "id": "d9831e10",
   "metadata": {},
   "outputs": [],
   "source": []
  },
  {
   "cell_type": "markdown",
   "id": "a9000013",
   "metadata": {},
   "source": [
    "# 2. Find minimum value"
   ]
  },
  {
   "cell_type": "code",
   "execution_count": null,
   "id": "240aa784",
   "metadata": {},
   "outputs": [],
   "source": [
    "\n",
    "import random\n",
    "SEED, MIN, MAX, N = 1987, 123, 4567, 89\n",
    "random.seed(SEED)\n",
    "S = random.sample(range(MIN, MAX), N)\n",
    "\n",
    "'''\n",
    "the generator creates a random number \n",
    "based on the seed value, so if the seed value is 10, \n",
    "you will always get 0.5714025946899135 as the first random number.\n",
    "'''\n"
   ]
  },
  {
   "cell_type": "code",
   "execution_count": 20,
   "id": "2e5873d2",
   "metadata": {},
   "outputs": [
    {
     "name": "stdout",
     "output_type": "stream",
     "text": [
      "141 16\n"
     ]
    }
   ],
   "source": [
    "def solve(n, s) :\n",
    "    minn, minI = s[0], 0\n",
    "    for i in range(1, n) :\n",
    "        if minn > s[i] :\n",
    "            minn, minI = s[i], i\n",
    "    return minn, minI\n",
    "\n",
    "# N = int(input())\n",
    "# S = list(map(int, input().split()))\n",
    "minn, minI = solve(N, S)\n",
    "print(minn, minI)"
   ]
  },
  {
   "cell_type": "code",
   "execution_count": 21,
   "id": "051973ee",
   "metadata": {},
   "outputs": [
    {
     "name": "stdout",
     "output_type": "stream",
     "text": [
      "1987 123 4567 89\n",
      "141 16\n"
     ]
    }
   ],
   "source": [
    "import random\n",
    "SEED, MIN, MAX, N = map(int, input().split())\n",
    "random.seed(SEED)\n",
    "S = random.sample(range(MIN, MAX), N)\n",
    "\n",
    "def solve(n, s) :\n",
    "    minn, minI = s[0], 0\n",
    "    for i in range(1, n) :\n",
    "        if minn > s[i] :\n",
    "            minn, minI = s[i], i\n",
    "    return minn, minI\n",
    "\n",
    "# N = int(input())\n",
    "# S = list(map(int, input().split()))\n",
    "minn, minI = solve(N, S)\n",
    "print(minn, minI)"
   ]
  },
  {
   "cell_type": "code",
   "execution_count": null,
   "id": "4c7c8fef",
   "metadata": {},
   "outputs": [],
   "source": []
  },
  {
   "cell_type": "markdown",
   "id": "954db6ee",
   "metadata": {},
   "source": [
    "# 3. Sum of all divisors of N"
   ]
  },
  {
   "cell_type": "code",
   "execution_count": null,
   "id": "a8bade24",
   "metadata": {},
   "outputs": [],
   "source": [
    "def sum1(n) :\n",
    "    a = int(n**0.5)\n",
    "    cnt = 0\n",
    "    for i in range(1, a + 1) :\n",
    "        if n % i == 0 :\n",
    "            cnt += i + n // i\n",
    "    return cnt\n",
    "\n",
    "N = int(input())\n",
    "print(sum1(N))"
   ]
  },
  {
   "cell_type": "code",
   "execution_count": null,
   "id": "4b0edd3d",
   "metadata": {},
   "outputs": [],
   "source": []
  },
  {
   "cell_type": "code",
   "execution_count": null,
   "id": "65f0ae19",
   "metadata": {},
   "outputs": [],
   "source": [
    "m"
   ]
  },
  {
   "cell_type": "code",
   "execution_count": null,
   "id": "40293da3",
   "metadata": {},
   "outputs": [],
   "source": []
  },
  {
   "cell_type": "code",
   "execution_count": null,
   "id": "8ea63a8e",
   "metadata": {},
   "outputs": [],
   "source": []
  },
  {
   "cell_type": "code",
   "execution_count": null,
   "id": "a3fe9819",
   "metadata": {},
   "outputs": [],
   "source": []
  },
  {
   "cell_type": "code",
   "execution_count": null,
   "id": "7eda7667",
   "metadata": {},
   "outputs": [],
   "source": []
  },
  {
   "cell_type": "code",
   "execution_count": null,
   "id": "0d7b07e4",
   "metadata": {},
   "outputs": [],
   "source": []
  }
 ],
 "metadata": {
  "kernelspec": {
   "display_name": "Python 3 (ipykernel)",
   "language": "python",
   "name": "python3"
  },
  "language_info": {
   "codemirror_mode": {
    "name": "ipython",
    "version": 3
   },
   "file_extension": ".py",
   "mimetype": "text/x-python",
   "name": "python",
   "nbconvert_exporter": "python",
   "pygments_lexer": "ipython3",
   "version": "3.10.9"
  }
 },
 "nbformat": 4,
 "nbformat_minor": 5
}
