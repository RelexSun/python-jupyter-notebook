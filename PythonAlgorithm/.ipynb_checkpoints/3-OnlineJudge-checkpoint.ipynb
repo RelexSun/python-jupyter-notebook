{
 "cells": [
  {
   "cell_type": "markdown",
   "id": "bab20398",
   "metadata": {},
   "source": [
    "# 1. Sorting Characters"
   ]
  },
  {
   "cell_type": "code",
   "execution_count": 34,
   "id": "9a924db8",
   "metadata": {},
   "outputs": [
    {
     "name": "stdout",
     "output_type": "stream",
     "text": [
      "6  AaBbCc\n",
      "ABC cba\n"
     ]
    }
   ],
   "source": [
    "N, letters = input().split()\n",
    "N = int(N)\n",
    "\n",
    "up_let = \"\".join([i for i in letters if i.isupper()])\n",
    "low_let = \"\".join([i for i in letters if i.islower()])\n",
    "\n",
    "u = \"\".join(sorted(up_let))\n",
    "l = \"\".join(sorted(low_let, reverse = True))\n",
    "print(u, l)"
   ]
  },
  {
   "cell_type": "code",
   "execution_count": 35,
   "id": "bb130b7d",
   "metadata": {},
   "outputs": [
    {
     "name": "stdout",
     "output_type": "stream",
     "text": [
      "6  AaBbCc\n",
      "ABC cba\n"
     ]
    }
   ],
   "source": [
    "def sort_upper_and_lower_letters(N, letters):\n",
    "    up_let = \"\".join([i for i in letters if i.isupper()])\n",
    "    low_let = \"\".join([i for i in letters if i.islower()])\n",
    "    \n",
    "    u = \"\".join(sorted(up_let))\n",
    "    l = \"\".join(sorted(low_let, reverse=True))\n",
    "    \n",
    "    return u, l\n",
    "\n",
    "N, letters = input().split()\n",
    "N = int(N)\n",
    "\n",
    "upper_letters, lower_letters = sort_upper_and_lower_letters(N, letters)\n",
    "print(upper_letters, lower_letters)\n"
   ]
  },
  {
   "cell_type": "markdown",
   "id": "5f992d11",
   "metadata": {},
   "source": [
    "---"
   ]
  },
  {
   "cell_type": "markdown",
   "id": "f88d7025",
   "metadata": {},
   "source": [
    "# 2. Sorting String"
   ]
  },
  {
   "cell_type": "code",
   "execution_count": null,
   "id": "86784311",
   "metadata": {},
   "outputs": [],
   "source": []
  },
  {
   "cell_type": "markdown",
   "id": "939aa5d1",
   "metadata": {},
   "source": [
    "---"
   ]
  },
  {
   "cell_type": "markdown",
   "id": "e276d152",
   "metadata": {},
   "source": [
    "# 3."
   ]
  },
  {
   "cell_type": "code",
   "execution_count": null,
   "id": "8ffc9e20",
   "metadata": {},
   "outputs": [],
   "source": []
  },
  {
   "cell_type": "markdown",
   "id": "52813f4f",
   "metadata": {},
   "source": []
  },
  {
   "cell_type": "markdown",
   "id": "c5a7b805",
   "metadata": {},
   "source": []
  },
  {
   "cell_type": "code",
   "execution_count": null,
   "id": "ee904594",
   "metadata": {},
   "outputs": [],
   "source": []
  },
  {
   "cell_type": "markdown",
   "id": "18b4ec69",
   "metadata": {},
   "source": []
  },
  {
   "cell_type": "markdown",
   "id": "7471aad6",
   "metadata": {},
   "source": []
  },
  {
   "cell_type": "code",
   "execution_count": null,
   "id": "a2de090c",
   "metadata": {},
   "outputs": [],
   "source": []
  },
  {
   "cell_type": "markdown",
   "id": "9be2e399",
   "metadata": {},
   "source": []
  },
  {
   "cell_type": "markdown",
   "id": "f8fb2b7f",
   "metadata": {},
   "source": []
  },
  {
   "cell_type": "code",
   "execution_count": null,
   "id": "1e82d6ca",
   "metadata": {},
   "outputs": [],
   "source": []
  },
  {
   "cell_type": "markdown",
   "id": "044fb899",
   "metadata": {},
   "source": []
  },
  {
   "cell_type": "markdown",
   "id": "f781be47",
   "metadata": {},
   "source": []
  },
  {
   "cell_type": "code",
   "execution_count": null,
   "id": "fafa630d",
   "metadata": {},
   "outputs": [],
   "source": []
  }
 ],
 "metadata": {
  "kernelspec": {
   "display_name": "Python 3 (ipykernel)",
   "language": "python",
   "name": "python3"
  },
  "language_info": {
   "codemirror_mode": {
    "name": "ipython",
    "version": 3
   },
   "file_extension": ".py",
   "mimetype": "text/x-python",
   "name": "python",
   "nbconvert_exporter": "python",
   "pygments_lexer": "ipython3",
   "version": "3.10.9"
  }
 },
 "nbformat": 4,
 "nbformat_minor": 5
}
