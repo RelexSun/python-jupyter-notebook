{
 "cells": [
  {
   "cell_type": "markdown",
   "id": "bab20398",
   "metadata": {},
   "source": [
    "# 1. Sorting Characters"
   ]
  },
  {
   "cell_type": "code",
   "execution_count": 14,
   "id": "9a924db8",
   "metadata": {},
   "outputs": [
    {
     "name": "stdout",
     "output_type": "stream",
     "text": [
      "6  AaBbCc\n",
      "ABC  cba\n"
     ]
    }
   ],
   "source": [
    "N, letters = input().split()\n",
    "N = int(N)\n",
    "\n",
    "up_let = \"\".join([i for i in letters if i.isupper()])\n",
    "low_let = \"\".join([i for i in letters if i.islower()])\n",
    "\n",
    "u = \"\".join(sorted(up_let))\n",
    "l = \"\".join(sorted(low_let, reverse = True))\n",
    "\n",
    "print(u, \"\", l)"
   ]
  },
  {
   "cell_type": "code",
   "execution_count": 11,
   "id": "bb130b7d",
   "metadata": {},
   "outputs": [
    {
     "name": "stdout",
     "output_type": "stream",
     "text": [
      "6  AaBbCc\n",
      "ABC  cba\n"
     ]
    }
   ],
   "source": [
    "def sort_char(N, letters):\n",
    "    up_let = \"\".join([i for i in letters if i.isupper()])\n",
    "    low_let = \"\".join([i for i in letters if i.islower()])\n",
    "    \n",
    "    u = \"\".join(sorted(up_let))\n",
    "    l = \"\".join(sorted(low_let, reverse=True))\n",
    "    \n",
    "    return u, l\n",
    "\n",
    "N, letters = input().split()\n",
    "N = int(N)\n",
    "\n",
    "upper_let, lower_let = sort_char(N, letters)\n",
    "print(upper_let, \"\", lower_let)\n"
   ]
  },
  {
   "cell_type": "markdown",
   "id": "5f992d11",
   "metadata": {},
   "source": [
    "---"
   ]
  },
  {
   "cell_type": "markdown",
   "id": "f88d7025",
   "metadata": {},
   "source": [
    "# 2. Sorting String"
   ]
  },
  {
   "cell_type": "code",
   "execution_count": 9,
   "id": "9ae7288c",
   "metadata": {},
   "outputs": [
    {
     "name": "stdout",
     "output_type": "stream",
     "text": [
      "2022 10 5\n",
      "byljm\n"
     ]
    }
   ],
   "source": [
    "import random\n",
    "from string import ascii_lowercase\n",
    "\n",
    "def generate(SEED, N):\n",
    "    random.seed(SEED)\n",
    "    S = []\n",
    "    for _ in range(N):\n",
    "        length = random.randint(1, N-1)\n",
    "        s = random.sample(ascii_lowercase, length)\n",
    "        S.append(\"\".join(s))\n",
    "    return S\n",
    "\n",
    "def sort_strings(S, K):\n",
    "    S.sort(key=lambda x: (len(x), x))\n",
    "    return S[K]\n",
    "\n",
    "SEED, N, K = map(int, input().split())\n",
    "S = generate(SEED, N)\n",
    "\n",
    "result = sort_strings(S, K)\n",
    "print(result)\n"
   ]
  },
  {
   "cell_type": "markdown",
   "id": "939aa5d1",
   "metadata": {},
   "source": [
    "---"
   ]
  },
  {
   "cell_type": "markdown",
   "id": "e276d152",
   "metadata": {},
   "source": [
    "# 3. Deleting Median Value"
   ]
  },
  {
   "cell_type": "code",
   "execution_count": 39,
   "id": "67e51c04",
   "metadata": {},
   "outputs": [
    {
     "name": "stdout",
     "output_type": "stream",
     "text": [
      "[78, 46, 66, 79, 49, 84, 17, 76, 98, 62]\n",
      "49\n"
     ]
    }
   ],
   "source": [
    "import random\n",
    "\n",
    "def generate(SEED, MIN, MAX, N):\n",
    "    random.seed(SEED)\n",
    "    return random.sample(range(MIN, MAX), N)\n",
    "\n",
    "SEED, MIN, MAX, N, K = 2022, 10, 100, 10, 5\n",
    "\n",
    "def solve(s):\n",
    "    mid = (len(s)-1) // 2\n",
    "    print(s[mid])\n",
    "\n",
    "S = generate(SEED, MIN, MAX, N)\n",
    "solve(S)\n"
   ]
  },
  {
   "cell_type": "markdown",
   "id": "52813f4f",
   "metadata": {},
   "source": [
    "---"
   ]
  },
  {
   "cell_type": "markdown",
   "id": "c5a7b805",
   "metadata": {},
   "source": [
    "# 4. Anagram Counting"
   ]
  },
  {
   "cell_type": "code",
   "execution_count": 64,
   "id": "ee904594",
   "metadata": {
    "scrolled": false
   },
   "outputs": [
    {
     "name": "stdout",
     "output_type": "stream",
     "text": [
      "8  listen  santa  ant  satan  silent  tan  can  anats\n"
     ]
    },
    {
     "data": {
      "text/plain": [
       "[['listen'], [], [], [], ['silent'], [], [], []]"
      ]
     },
     "execution_count": 64,
     "metadata": {},
     "output_type": "execute_result"
    }
   ],
   "source": [
    "def anagram(m) :\n",
    "    s = m[0]\n",
    "    xl = []\n",
    "    \n",
    "    while True :\n",
    "        for i in range(len(m)) :\n",
    "        cnt = 0\n",
    "        l = []\n",
    "        if sorted(m[i]) == sorted(s) :\n",
    "            cnt += 1\n",
    "            s = m[i]\n",
    "            l.append(s)\n",
    "            \n",
    "        xl.append(l)\n",
    "        l = []\n",
    "    \n",
    "        \n",
    "N, *W = input().split()\n",
    "N = int(N)\n",
    "M = W[:N]\n",
    "anagram(M)"
   ]
  },
  {
   "cell_type": "code",
   "execution_count": 9,
   "id": "cd9b3f33",
   "metadata": {},
   "outputs": [
    {
     "name": "stdout",
     "output_type": "stream",
     "text": [
      "8  listen  santa  ant  satan  silent  tan  can  anats\n",
      "['listen', 'silent']\n",
      "['santa', 'satan', 'anats']\n",
      "['ant', 'tan']\n",
      "['can']\n",
      "['listen silent 2', 'santa satan anats 3', 'ant tan 2', 'can 1']\n",
      "ant tan 2 can 1 listen silent 2 santa satan anats 3\n"
     ]
    }
   ],
   "source": [
    "def count_anagrams(words):\n",
    "    anagram_count = {} \n",
    "\n",
    "    for word in words:\n",
    "        sorted_word = ''.join(sorted(word))\n",
    "        \n",
    "        if sorted_word in anagram_count:\n",
    "            anagram_count[sorted_word].append(word)\n",
    "        else:\n",
    "            anagram_count[sorted_word] = [word]\n",
    "\n",
    "    return anagram_count\n",
    "\n",
    "\n",
    "N, *W = input().split()\n",
    "N = int(N)\n",
    "M = W[:N]\n",
    "\n",
    "anagram_counts = count_anagrams(M)\n",
    "\n",
    "output = []\n",
    "\n",
    "for key, words in anagram_counts.items():\n",
    "    output.append(' '.join(words) + ' ' + str(len(words)))\n",
    "    print(words)\n",
    "    \n",
    "print(output)\n",
    "print(' '.join(sorted(output)))\n"
   ]
  },
  {
   "cell_type": "markdown",
   "id": "18b4ec69",
   "metadata": {},
   "source": [
    "---"
   ]
  },
  {
   "cell_type": "markdown",
   "id": "7471aad6",
   "metadata": {},
   "source": [
    "# 5. Bubble sort order\n"
   ]
  },
  {
   "cell_type": "code",
   "execution_count": 23,
   "id": "d8d3f947",
   "metadata": {
    "scrolled": true
   },
   "outputs": [
    {
     "name": "stdout",
     "output_type": "stream",
     "text": [
      "7 10\n",
      "50 40 70 10 30 20 60\n",
      "30 40\n"
     ]
    }
   ],
   "source": [
    "def bubblesort(n, s, k) :\n",
    "    cnt = 0\n",
    "    for i in range(n - 1) :\n",
    "        for j in range(n - 1 - i) : # index of element\n",
    "            if s[j] > s[j + 1] :\n",
    "                s[j], s[j + 1] = s[j + 1], s[j] \n",
    "                cnt += 1\n",
    "            if cnt == k :\n",
    "                print(s[j], s[j + 1])\n",
    "\n",
    "N, K = input().split()\n",
    "N, K = int(N), int(K)\n",
    "S = list(map(int, input().split()))\n",
    "bubblesort(N, S, K)"
   ]
  },
  {
   "cell_type": "markdown",
   "id": "9be2e399",
   "metadata": {},
   "source": [
    "---"
   ]
  },
  {
   "cell_type": "markdown",
   "id": "f8fb2b7f",
   "metadata": {},
   "source": [
    "# 6. Selection Sort Order"
   ]
  },
  {
   "cell_type": "code",
   "execution_count": 40,
   "id": "1e82d6ca",
   "metadata": {},
   "outputs": [
    {
     "name": "stdout",
     "output_type": "stream",
     "text": [
      "50 70\n"
     ]
    }
   ],
   "source": [
    "def selectionsort(n, s, k) :\n",
    "    cnt = 0\n",
    "    for i in range(n - 1) :\n",
    "        minv, minj = s[i], i\n",
    "        for j in range(i + 1, n) :\n",
    "            if s[j] < minv :\n",
    "                minv, minj = s[j], j\n",
    "                \n",
    "        if i != minj :\n",
    "            s[i], s[minj] = s[minj], s[i]\n",
    "            cnt += 1\n",
    "            \n",
    "        if cnt == k :\n",
    "            print(s[i], s[minj])\n",
    "\n",
    "# N, K = input().split()\n",
    "# N, K = int(N), int(K)\n",
    "N, K = 7, 5\n",
    "\n",
    "# S = list(map(int, input().split()))\n",
    "S = [50, 40, 70, 10, 30, 20, 60]\n",
    "\n",
    "selectionsort(N, S, K)"
   ]
  },
  {
   "cell_type": "markdown",
   "id": "044fb899",
   "metadata": {},
   "source": [
    "---"
   ]
  },
  {
   "cell_type": "markdown",
   "id": "f781be47",
   "metadata": {},
   "source": [
    "# 7. Insertion Sort Order"
   ]
  },
  {
   "cell_type": "code",
   "execution_count": null,
   "id": "fafa630d",
   "metadata": {},
   "outputs": [],
   "source": []
  }
 ],
 "metadata": {
  "kernelspec": {
   "display_name": "Python 3 (ipykernel)",
   "language": "python",
   "name": "python3"
  },
  "language_info": {
   "codemirror_mode": {
    "name": "ipython",
    "version": 3
   },
   "file_extension": ".py",
   "mimetype": "text/x-python",
   "name": "python",
   "nbconvert_exporter": "python",
   "pygments_lexer": "ipython3",
   "version": "3.10.9"
  }
 },
 "nbformat": 4,
 "nbformat_minor": 5
}
