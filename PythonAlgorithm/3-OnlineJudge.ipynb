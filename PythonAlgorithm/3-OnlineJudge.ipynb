{
 "cells": [
  {
   "cell_type": "markdown",
   "id": "bab20398",
   "metadata": {},
   "source": [
    "# 1. Sorting Characters"
   ]
  },
  {
   "cell_type": "code",
   "execution_count": null,
   "id": "9a924db8",
   "metadata": {},
   "outputs": [],
   "source": []
  },
  {
   "cell_type": "markdown",
   "id": "eb3bb44a",
   "metadata": {},
   "source": []
  },
  {
   "cell_type": "markdown",
   "id": "5f992d11",
   "metadata": {},
   "source": []
  },
  {
   "cell_type": "code",
   "execution_count": null,
   "id": "03f580cd",
   "metadata": {},
   "outputs": [],
   "source": []
  },
  {
   "cell_type": "markdown",
   "id": "e65d30b1",
   "metadata": {},
   "source": []
  },
  {
   "cell_type": "markdown",
   "id": "e276d152",
   "metadata": {},
   "source": []
  },
  {
   "cell_type": "code",
   "execution_count": null,
   "id": "8ffc9e20",
   "metadata": {},
   "outputs": [],
   "source": []
  },
  {
   "cell_type": "markdown",
   "id": "52813f4f",
   "metadata": {},
   "source": []
  },
  {
   "cell_type": "markdown",
   "id": "c5a7b805",
   "metadata": {},
   "source": []
  },
  {
   "cell_type": "code",
   "execution_count": null,
   "id": "ee904594",
   "metadata": {},
   "outputs": [],
   "source": []
  },
  {
   "cell_type": "markdown",
   "id": "18b4ec69",
   "metadata": {},
   "source": []
  },
  {
   "cell_type": "markdown",
   "id": "7471aad6",
   "metadata": {},
   "source": []
  },
  {
   "cell_type": "code",
   "execution_count": null,
   "id": "a2de090c",
   "metadata": {},
   "outputs": [],
   "source": []
  },
  {
   "cell_type": "markdown",
   "id": "9be2e399",
   "metadata": {},
   "source": []
  },
  {
   "cell_type": "markdown",
   "id": "f8fb2b7f",
   "metadata": {},
   "source": []
  },
  {
   "cell_type": "code",
   "execution_count": null,
   "id": "1e82d6ca",
   "metadata": {},
   "outputs": [],
   "source": []
  },
  {
   "cell_type": "markdown",
   "id": "044fb899",
   "metadata": {},
   "source": []
  },
  {
   "cell_type": "markdown",
   "id": "f781be47",
   "metadata": {},
   "source": []
  },
  {
   "cell_type": "code",
   "execution_count": null,
   "id": "fafa630d",
   "metadata": {},
   "outputs": [],
   "source": []
  }
 ],
 "metadata": {
  "kernelspec": {
   "display_name": "Python 3 (ipykernel)",
   "language": "python",
   "name": "python3"
  },
  "language_info": {
   "codemirror_mode": {
    "name": "ipython",
    "version": 3
   },
   "file_extension": ".py",
   "mimetype": "text/x-python",
   "name": "python",
   "nbconvert_exporter": "python",
   "pygments_lexer": "ipython3",
   "version": "3.10.9"
  }
 },
 "nbformat": 4,
 "nbformat_minor": 5
}
