{
 "cells": [
  {
   "cell_type": "markdown",
   "id": "bab20398",
   "metadata": {},
   "source": [
    "# 1. Sorting Characters"
   ]
  },
  {
   "cell_type": "code",
   "execution_count": 14,
   "id": "9a924db8",
   "metadata": {},
   "outputs": [
    {
     "name": "stdout",
     "output_type": "stream",
     "text": [
      "6  AaBbCc\n",
      "ABC  cba\n"
     ]
    }
   ],
   "source": [
    "N, letters = input().split()\n",
    "N = int(N)\n",
    "\n",
    "up_let = \"\".join([i for i in letters if i.isupper()])\n",
    "low_let = \"\".join([i for i in letters if i.islower()])\n",
    "\n",
    "u = \"\".join(sorted(up_let))\n",
    "l = \"\".join(sorted(low_let, reverse = True))\n",
    "\n",
    "print(u, \"\", l)"
   ]
  },
  {
   "cell_type": "code",
   "execution_count": 11,
   "id": "bb130b7d",
   "metadata": {},
   "outputs": [
    {
     "name": "stdout",
     "output_type": "stream",
     "text": [
      "6  AaBbCc\n",
      "ABC  cba\n"
     ]
    }
   ],
   "source": [
    "def sort_char(N, letters):\n",
    "    up_let = \"\".join([i for i in letters if i.isupper()])\n",
    "    low_let = \"\".join([i for i in letters if i.islower()])\n",
    "    \n",
    "    u = \"\".join(sorted(up_let))\n",
    "    l = \"\".join(sorted(low_let, reverse=True))\n",
    "    \n",
    "    return u, l\n",
    "\n",
    "N, letters = input().split()\n",
    "N = int(N)\n",
    "\n",
    "upper_let, lower_let = sort_char(N, letters)\n",
    "print(upper_let, \"\", lower_let)\n"
   ]
  },
  {
   "cell_type": "markdown",
   "id": "5f992d11",
   "metadata": {},
   "source": [
    "---"
   ]
  },
  {
   "cell_type": "markdown",
   "id": "f88d7025",
   "metadata": {},
   "source": [
    "# 2. Sorting String"
   ]
  },
  {
   "cell_type": "code",
   "execution_count": 9,
   "id": "9ae7288c",
   "metadata": {},
   "outputs": [
    {
     "name": "stdout",
     "output_type": "stream",
     "text": [
      "2022 10 5\n",
      "byljm\n"
     ]
    }
   ],
   "source": [
    "import random\n",
    "from string import ascii_lowercase\n",
    "\n",
    "def generate(SEED, N):\n",
    "    random.seed(SEED)\n",
    "    S = []\n",
    "    for _ in range(N):\n",
    "        length = random.randint(1, N-1)\n",
    "        s = random.sample(ascii_lowercase, length)\n",
    "        S.append(\"\".join(s))\n",
    "    return S\n",
    "\n",
    "def sort_strings(S, K):\n",
    "    S.sort(key=lambda x: (len(x), x))\n",
    "    return S[K]\n",
    "\n",
    "SEED, N, K = map(int, input().split())\n",
    "S = generate(SEED, N)\n",
    "\n",
    "result = sort_strings(S, K)\n",
    "print(result)\n"
   ]
  },
  {
   "cell_type": "markdown",
   "id": "939aa5d1",
   "metadata": {},
   "source": [
    "---"
   ]
  },
  {
   "cell_type": "markdown",
   "id": "e276d152",
   "metadata": {},
   "source": [
    "# 3. Deleting Median Value"
   ]
  },
  {
   "cell_type": "code",
   "execution_count": 39,
   "id": "67e51c04",
   "metadata": {},
   "outputs": [
    {
     "name": "stdout",
     "output_type": "stream",
     "text": [
      "[78, 46, 66, 79, 49, 84, 17, 76, 98, 62]\n",
      "49\n"
     ]
    }
   ],
   "source": [
    "import random\n",
    "\n",
    "def generate(SEED, MIN, MAX, N):\n",
    "    random.seed(SEED)\n",
    "    return random.sample(range(MIN, MAX), N)\n",
    "\n",
    "SEED, MIN, MAX, N, K = 2022, 10, 100, 10, 5\n",
    "\n",
    "def solve(s):\n",
    "    mid = (len(s)-1) // 2\n",
    "    print(s[mid])\n",
    "\n",
    "S = generate(SEED, MIN, MAX, N)\n",
    "solve(S)\n"
   ]
  },
  {
   "cell_type": "markdown",
   "id": "52813f4f",
   "metadata": {},
   "source": [
    "---"
   ]
  },
  {
   "cell_type": "markdown",
   "id": "c5a7b805",
   "metadata": {},
   "source": [
    "# 4. Anagram Counting"
   ]
  },
  {
   "cell_type": "code",
   "execution_count": 64,
   "id": "ee904594",
   "metadata": {},
   "outputs": [
    {
     "name": "stdout",
     "output_type": "stream",
     "text": [
      "8  listen  santa  ant  satan  silent  tan  can  anats\n"
     ]
    },
    {
     "data": {
      "text/plain": [
       "[['listen'], [], [], [], ['silent'], [], [], []]"
      ]
     },
     "execution_count": 64,
     "metadata": {},
     "output_type": "execute_result"
    }
   ],
   "source": [
    "def anagram(m) :\n",
    "    s = m[0]\n",
    "    xl = []\n",
    "    \n",
    "    while True :\n",
    "        for i in range(len(m)) :\n",
    "        cnt = 0\n",
    "        l = []\n",
    "        if sorted(m[i]) == sorted(s) :\n",
    "            cnt += 1\n",
    "            s = m[i]\n",
    "            l.append(s)\n",
    "            \n",
    "        xl.append(l)\n",
    "        l = []\n",
    "    \n",
    "        \n",
    "N, *W = input().split()\n",
    "N = int(N)\n",
    "M = W[:N]\n",
    "anagram(M)"
   ]
  },
  {
   "cell_type": "code",
   "execution_count": 9,
   "id": "cd9b3f33",
   "metadata": {},
   "outputs": [
    {
     "name": "stdout",
     "output_type": "stream",
     "text": [
      "8  listen  santa  ant  satan  silent  tan  can  anats\n",
      "['listen', 'silent']\n",
      "['santa', 'satan', 'anats']\n",
      "['ant', 'tan']\n",
      "['can']\n",
      "['listen silent 2', 'santa satan anats 3', 'ant tan 2', 'can 1']\n",
      "ant tan 2 can 1 listen silent 2 santa satan anats 3\n"
     ]
    }
   ],
   "source": [
    "def count_anagrams(words):\n",
    "    anagram_count = {} \n",
    "\n",
    "    for word in words:\n",
    "        sorted_word = ''.join(sorted(word))\n",
    "        \n",
    "        if sorted_word in anagram_count:\n",
    "            anagram_count[sorted_word].append(word)\n",
    "        else:\n",
    "            anagram_count[sorted_word] = [word]\n",
    "\n",
    "    return anagram_count\n",
    "\n",
    "\n",
    "N, *W = input().split()\n",
    "N = int(N)\n",
    "M = W[:N]\n",
    "\n",
    "anagram_counts = count_anagrams(M)\n",
    "\n",
    "output = []\n",
    "\n",
    "for key, words in anagram_counts.items():\n",
    "    output.append(' '.join(words) + ' ' + str(len(words)))\n",
    "    print(words)\n",
    "    \n",
    "print(output)\n",
    "print(' '.join(sorted(output)))\n"
   ]
  },
  {
   "cell_type": "markdown",
   "id": "18b4ec69",
   "metadata": {},
   "source": [
    "---"
   ]
  },
  {
   "cell_type": "markdown",
   "id": "7471aad6",
   "metadata": {},
   "source": [
    "# 5. Bubble sort order\n"
   ]
  },
  {
   "cell_type": "code",
   "execution_count": 23,
   "id": "d8d3f947",
   "metadata": {
    "scrolled": true
   },
   "outputs": [
    {
     "name": "stdout",
     "output_type": "stream",
     "text": [
      "7 10\n",
      "50 40 70 10 30 20 60\n",
      "30 40\n"
     ]
    }
   ],
   "source": [
    "def bubblesort(n, s, k) :\n",
    "    cnt = 0\n",
    "    for i in range(n - 1) :\n",
    "        for j in range(n - 1 - i) : # index of element\n",
    "            if s[j] > s[j + 1] :\n",
    "                s[j], s[j + 1] = s[j + 1], s[j] \n",
    "                cnt += 1\n",
    "            if cnt == k :\n",
    "                print(s[j], s[j + 1])\n",
    "\n",
    "N, K = input().split()\n",
    "N, K = int(N), int(K)\n",
    "S = list(map(int, input().split()))\n",
    "bubblesort(N, S, K)"
   ]
  },
  {
   "cell_type": "markdown",
   "id": "9be2e399",
   "metadata": {},
   "source": [
    "---"
   ]
  },
  {
   "cell_type": "markdown",
   "id": "f8fb2b7f",
   "metadata": {},
   "source": [
    "# 6. Selection Sort Order"
   ]
  },
  {
   "cell_type": "code",
   "execution_count": 40,
   "id": "1e82d6ca",
   "metadata": {},
   "outputs": [
    {
     "name": "stdout",
     "output_type": "stream",
     "text": [
      "50 70\n"
     ]
    }
   ],
   "source": [
    "def selectionsort(n, s, k) :\n",
    "    cnt = 0\n",
    "    for i in range(n - 1) :\n",
    "        minv, minj = s[i], i\n",
    "        for j in range(i + 1, n) :\n",
    "            if s[j] < minv :\n",
    "                minv, minj = s[j], j\n",
    "                \n",
    "        if i != minj :\n",
    "            s[i], s[minj] = s[minj], s[i]\n",
    "            cnt += 1\n",
    "            \n",
    "        if cnt == k :\n",
    "            print(s[i], s[minj])\n",
    "\n",
    "# N, K = input().split()\n",
    "# N, K = int(N), int(K)\n",
    "N, K = 7, 5\n",
    "\n",
    "# S = list(map(int, input().split()))\n",
    "S = [50, 40, 70, 10, 30, 20, 60]\n",
    "\n",
    "selectionsort(N, S, K)"
   ]
  },
  {
   "cell_type": "markdown",
   "id": "044fb899",
   "metadata": {},
   "source": [
    "---"
   ]
  },
  {
   "cell_type": "markdown",
   "id": "f781be47",
   "metadata": {},
   "source": [
    "# 7. Insertion Sort Order"
   ]
  },
  {
   "cell_type": "code",
   "execution_count": 24,
   "id": "fafa630d",
   "metadata": {},
   "outputs": [
    {
     "name": "stdout",
     "output_type": "stream",
     "text": [
      "50\n"
     ]
    }
   ],
   "source": [
    "def insertionsort(n, s, k) :\n",
    "#     cnt = 0\n",
    "    for i in range(1, n) :\n",
    "        j, val = i - 1, s[i]\n",
    "#         cnt += 1\n",
    "        while j >= 0 and s[j] > val :\n",
    "            s[j + 1] = s[j]\n",
    "            j -= 1\n",
    "#             cnt += 1\n",
    "        s[j + 1] = val\n",
    "        \n",
    "    return s[k]\n",
    "\n",
    "N, K = 7, 4\n",
    "S = [50, 40, 70, 10, 30, 20, 60]\n",
    "print(insertionsort(N, S, K))"
   ]
  },
  {
   "cell_type": "markdown",
   "id": "caf5cfa0",
   "metadata": {},
   "source": [
    "---"
   ]
  },
  {
   "cell_type": "markdown",
   "id": "a10c76b5",
   "metadata": {},
   "source": [
    "# 8. Selection Sort"
   ]
  },
  {
   "cell_type": "code",
   "execution_count": 10,
   "id": "d580299b",
   "metadata": {},
   "outputs": [
    {
     "name": "stdout",
     "output_type": "stream",
     "text": [
      "[10, 9, 8, 7, 6, 5, 4, 3, 2, 1]\n"
     ]
    }
   ],
   "source": [
    "def selectionsort(s) :\n",
    "    for i in range(0, len(s)-1) :\n",
    "        minv, minj = s[i], i\n",
    "        for j in range(i + 1, len(s)) :\n",
    "            if s[j] > minv :\n",
    "                minv, minj = s[j], j\n",
    "                \n",
    "        if i != minj :\n",
    "            s[i], s[minj] = s[minj], s[i]\n",
    "    return s\n",
    "\n",
    "\n",
    "S = [1, 2, 3, 4, 5, 6, 7, 8, 9, 10]\n",
    "\n",
    "print(selectionsort(S))"
   ]
  },
  {
   "cell_type": "markdown",
   "id": "e0e38010",
   "metadata": {},
   "source": [
    "---"
   ]
  },
  {
   "cell_type": "markdown",
   "id": "c4ea2f24",
   "metadata": {},
   "source": [
    "# 9. Sorting"
   ]
  },
  {
   "cell_type": "code",
   "execution_count": 23,
   "id": "66c3356d",
   "metadata": {},
   "outputs": [
    {
     "name": "stdout",
     "output_type": "stream",
     "text": [
      "9 6 5 4 3 0 2 1 1 7\n",
      "0 1 1 2 3 4 5 6 7 9\n"
     ]
    }
   ],
   "source": [
    "def selectionsort2(s) :\n",
    "    for i in range(0, len(s)-1) :\n",
    "        minv, minj = s[i], i\n",
    "        for j in range(i + 1, len(s)) :\n",
    "            if s[j] < minv :\n",
    "                minv, minj = s[j], j\n",
    "                \n",
    "        if i != minj :\n",
    "            s[i], s[minj] = s[minj], s[i]\n",
    "    return s\n",
    "\n",
    "N = 10\n",
    "S = [9, 6, 5, 4, 3, 0, 2, 1, 1, 7]\n",
    "print(*S)\n",
    "print(*selectionsort2(S))"
   ]
  },
  {
   "cell_type": "markdown",
   "id": "a71b07a0",
   "metadata": {},
   "source": [
    "---"
   ]
  },
  {
   "cell_type": "markdown",
   "id": "9b51890d",
   "metadata": {},
   "source": [
    "# 10. The Third Largest Value"
   ]
  },
  {
   "cell_type": "code",
   "execution_count": 27,
   "id": "71c30f19",
   "metadata": {},
   "outputs": [
    {
     "name": "stdout",
     "output_type": "stream",
     "text": [
      "8\n"
     ]
    }
   ],
   "source": [
    "S = [1, 2, 3, 4, 5, 6, 7, 8, 9, 1000]\n",
    "\n",
    "def solve(s) :\n",
    "    a = sorted(S)\n",
    "    return a[-3]\n",
    "\n",
    "print(solve(S))"
   ]
  },
  {
   "cell_type": "markdown",
   "id": "5a0fb5e5",
   "metadata": {},
   "source": [
    "---"
   ]
  },
  {
   "cell_type": "markdown",
   "id": "c6386de8",
   "metadata": {},
   "source": [
    "# 11. A Magic Wand"
   ]
  },
  {
   "cell_type": "code",
   "execution_count": 11,
   "id": "6aafc419",
   "metadata": {},
   "outputs": [],
   "source": [
    "def box(n, x, y) :\n",
    "    for i in range(n) :\n",
    "        if x[i] > y[i] :\n",
    "            return \"NO\"\n",
    "    return \"YES\""
   ]
  },
  {
   "cell_type": "code",
   "execution_count": 12,
   "id": "b5919b2d",
   "metadata": {},
   "outputs": [
    {
     "name": "stdout",
     "output_type": "stream",
     "text": [
      "4\n",
      "5 3 3 5\n",
      "10 2 10 10\n",
      "NO\n"
     ]
    }
   ],
   "source": [
    "def box(n, x, y) :\n",
    "    for i in range(n) :\n",
    "        if x[i] > y[i] :\n",
    "            return \"NO\"\n",
    "    return \"YES\"\n",
    "\n",
    "N = int(input())\n",
    "X = list(map(int, input().split()))\n",
    "Y = list(map(int, input().split()))\n",
    "print(box(N, X, Y))"
   ]
  },
  {
   "cell_type": "markdown",
   "id": "37036ace",
   "metadata": {},
   "source": [
    "---"
   ]
  },
  {
   "cell_type": "markdown",
   "id": "d30bad96",
   "metadata": {},
   "source": [
    "# 12. Kangaroo"
   ]
  },
  {
   "cell_type": "code",
   "execution_count": 10,
   "id": "a099510e",
   "metadata": {},
   "outputs": [
    {
     "name": "stdout",
     "output_type": "stream",
     "text": [
      "1\n"
     ]
    }
   ],
   "source": [
    "def solve_kangaroo(A, B, C):\n",
    "    if A >= B or B >= C:\n",
    "        return \"Invalid input. Please ensure A < B < C.\"\n",
    "\n",
    "    jumps = max((B - A), (C - B)) - 1\n",
    "    return jumps\n",
    "\n",
    "A = 2\n",
    "B = 3\n",
    "C = 5\n",
    "\n",
    "result = solve_kangaroo(A, B, C)\n",
    "print(result)\n"
   ]
  },
  {
   "cell_type": "markdown",
   "id": "e424d1c3",
   "metadata": {},
   "source": [
    "---"
   ]
  },
  {
   "cell_type": "markdown",
   "id": "e1f98771",
   "metadata": {},
   "source": [
    "# 13. Four Integers"
   ]
  },
  {
   "cell_type": "code",
   "execution_count": 60,
   "id": "372b557c",
   "metadata": {},
   "outputs": [
    {
     "name": "stdout",
     "output_type": "stream",
     "text": [
      "4 3 2\n",
      "1\n",
      "5\n"
     ]
    }
   ],
   "source": [
    "def solve_integers(s):\n",
    "    s.sort()\n",
    "    \n",
    "    diff = min(s[1] - s[0], s[2] - s[1])\n",
    "    n = 0\n",
    "    for i in range(1, 3):\n",
    "        if s[i] - s[i-1] != diff :\n",
    "            n = s[i-1] + diff\n",
    "        elif s[i] - s[i-1] == diff :\n",
    "            n = max(s) + diff \n",
    "    print(diff)\n",
    "    return n\n",
    "\n",
    "\n",
    "S = list(map(int, input().split()))\n",
    "print(solve_integers(S))\n"
   ]
  },
  {
   "cell_type": "markdown",
   "id": "ecf3e2c8",
   "metadata": {},
   "source": [
    "---"
   ]
  },
  {
   "cell_type": "markdown",
   "id": "061db9ed",
   "metadata": {},
   "source": [
    "# 14. Insertion sort"
   ]
  },
  {
   "cell_type": "code",
   "execution_count": 73,
   "id": "1605f4dc",
   "metadata": {},
   "outputs": [
    {
     "name": "stdout",
     "output_type": "stream",
     "text": [
      "[10, 9, 8, 7, 6, 5, 4, 3, 2, 1]\n",
      "[1, 2, 3, 4, 5, 6, 7, 8, 9, 10]\n"
     ]
    }
   ],
   "source": [
    "S = [1, 2, 3, 4, 5, 6, 7, 8, 9, 10]\n",
    "\n",
    "def insertion_sort(s) :\n",
    "    \n",
    "    for i in range(1, len(s)) :\n",
    "        j, val = i - 1, s[i]\n",
    "        while j >= 0 and s[j] > val :\n",
    "            s[j + 1] = s[j]\n",
    "            j -= 1\n",
    "\n",
    "        s[j + 1] = val\n",
    "    return s\n",
    "\n",
    "print(insertion_sort(S))"
   ]
  },
  {
   "cell_type": "code",
   "execution_count": 64,
   "id": "a5f7a83d",
   "metadata": {},
   "outputs": [
    {
     "name": "stdout",
     "output_type": "stream",
     "text": [
      "1\n",
      "2\n",
      "3\n",
      "4\n",
      "5\n",
      "6\n",
      "7\n",
      "8\n",
      "9\n",
      "10\n"
     ]
    }
   ],
   "source": [
    "s = [1, 2, 3, 4, 5, 6, 7, 8, 9, 10]\n",
    "for i in range(1, len(s)+1) :\n",
    "    j, val = i - 1, s[i]\n",
    "    while j >= 0 and s[j] > val :\n",
    "        s[j + 1] = s[j]\n",
    "        j -= 1\n",
    "        \n",
    "    s[j + 1] = val\n",
    "    return s"
   ]
  },
  {
   "cell_type": "markdown",
   "id": "f4c23dfe",
   "metadata": {},
   "source": [
    "---"
   ]
  },
  {
   "cell_type": "markdown",
   "id": "cc33975a",
   "metadata": {},
   "source": [
    "# 15. From top to bottom"
   ]
  },
  {
   "cell_type": "code",
   "execution_count": 79,
   "id": "60297a84",
   "metadata": {},
   "outputs": [
    {
     "name": "stdout",
     "output_type": "stream",
     "text": [
      "31 20 15 13 7 "
     ]
    }
   ],
   "source": [
    "lst = [5, 13, 7, 15, 20, 31]\n",
    "while len(lst) < 6 :\n",
    "    N = int(input())\n",
    "    lst.append(N)\n",
    "    \n",
    "def descending(s) :\n",
    "    a = sorted(s, reverse = True)\n",
    "    return a[:-1]\n",
    "\n",
    "print(*descending(lst), end=\" \")"
   ]
  },
  {
   "cell_type": "markdown",
   "id": "45e516d0",
   "metadata": {},
   "source": [
    "---"
   ]
  },
  {
   "cell_type": "markdown",
   "id": "a1c9bc26",
   "metadata": {},
   "source": [
    "# 16. Print students in grade order"
   ]
  },
  {
   "cell_type": "code",
   "execution_count": 94,
   "id": "28b235ab",
   "metadata": {},
   "outputs": [
    {
     "name": "stdout",
     "output_type": "stream",
     "text": [
      "3\n",
      "Tom 79\n",
      "James 91\n",
      "Luke 70\n",
      "James Tom Luke "
     ]
    }
   ],
   "source": [
    "N = int(input())\n",
    "dic = {}\n",
    "\n",
    "for _ in range(N):\n",
    "    X, Y = input().split()\n",
    "    dic[X] = int(Y)\n",
    "\n",
    "sorted_dict = dict(sorted(dic.items(), key=lambda item: item[1], reverse=True))\n",
    "\n",
    "for key, _ in sorted_dict.items() :\n",
    "    print(key, end=\" \")\n"
   ]
  },
  {
   "cell_type": "markdown",
   "id": "9761bce9",
   "metadata": {},
   "source": [
    "---"
   ]
  },
  {
   "cell_type": "markdown",
   "id": "9b15e8fb",
   "metadata": {},
   "source": [
    "# 17. Swap elements between two arrays\n"
   ]
  },
  {
   "cell_type": "code",
   "execution_count": null,
   "id": "aa756ed4",
   "metadata": {},
   "outputs": [],
   "source": [
    "a = int(input())\n",
    "b = int(input())\n",
    "print(a+b)"
   ]
  },
  {
   "cell_type": "markdown",
   "id": "db295f1f",
   "metadata": {},
   "source": [
    "---"
   ]
  },
  {
   "cell_type": "markdown",
   "id": "11056dd6",
   "metadata": {},
   "source": [
    "# 18."
   ]
  },
  {
   "cell_type": "code",
   "execution_count": null,
   "id": "b8a8599a",
   "metadata": {},
   "outputs": [],
   "source": []
  },
  {
   "cell_type": "markdown",
   "id": "7c873b7b",
   "metadata": {},
   "source": [
    "---"
   ]
  },
  {
   "cell_type": "markdown",
   "id": "d133fa17",
   "metadata": {},
   "source": [
    "# 19. "
   ]
  },
  {
   "cell_type": "code",
   "execution_count": null,
   "id": "ccc820f0",
   "metadata": {},
   "outputs": [],
   "source": []
  },
  {
   "cell_type": "code",
   "execution_count": null,
   "id": "b1e28709",
   "metadata": {},
   "outputs": [],
   "source": []
  }
 ],
 "metadata": {
  "kernelspec": {
   "display_name": "Python 3 (ipykernel)",
   "language": "python",
   "name": "python3"
  },
  "language_info": {
   "codemirror_mode": {
    "name": "ipython",
    "version": 3
   },
   "file_extension": ".py",
   "mimetype": "text/x-python",
   "name": "python",
   "nbconvert_exporter": "python",
   "pygments_lexer": "ipython3",
   "version": "3.10.9"
  }
 },
 "nbformat": 4,
 "nbformat_minor": 5
}
